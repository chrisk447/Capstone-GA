{
 "cells": [
  {
   "cell_type": "markdown",
   "metadata": {},
   "source": [
    "# Capstone Project - NEED TO COME UP WITH TITLE\n",
    "\n",
    "General Assembly passion project. Scrape or obtain data from resources online to develop a dataset to perform cleaning, EDA, and analysis on. Try to predict a model on common themes like: \n",
    "\n",
    "- Price\n",
    "- If item is in category A or B\n",
    "- Cluster and create groups\n",
    "\n",
    "- Predict lowest amount a shoe will sell for? So people know what price to wait for before buying?"
   ]
  },
  {
   "cell_type": "markdown",
   "metadata": {},
   "source": [
    "### Part 1 - Gathering the raw data"
   ]
  },
  {
   "cell_type": "code",
   "execution_count": 395,
   "metadata": {},
   "outputs": [
    {
     "name": "stdout",
     "output_type": "stream",
     "text": [
      "The autotime extension is already loaded. To reload it, use:\n",
      "  %reload_ext autotime\n",
      "time: 12 ms\n"
     ]
    }
   ],
   "source": [
    "# Import libraries\n",
    "import warnings\n",
    "import pandas as pd\n",
    "import numpy as np\n",
    "import urllib\n",
    "import seaborn as sns\n",
    "import matplotlib.pyplot as plt\n",
    "from bs4 import BeautifulSoup\n",
    "import requests\n",
    "from time import sleep, strftime\n",
    "import datetime\n",
    "import ast\n",
    "from os import listdir\n",
    "\n",
    "np.random.seed(42)\n",
    "\n",
    "pd.options.mode.chained_assignment = None\n",
    "\n",
    "%matplotlib inline\n",
    "%load_ext autotime"
   ]
  },
  {
   "cell_type": "code",
   "execution_count": 2,
   "metadata": {},
   "outputs": [
    {
     "name": "stdout",
     "output_type": "stream",
     "text": [
      "time: 929 ms\n"
     ]
    }
   ],
   "source": [
    "# Retrieving information from API in json format from StockX.com\n",
    "result = requests.get('https://stockx.com/api/browse?page=1&category=152')\n",
    "json_res = result.json()\n",
    "result = requests.get('https://stockx.com/api/browse?page=2&category=152')\n",
    "json_res = result.json()"
   ]
  },
  {
   "cell_type": "code",
   "execution_count": 3,
   "metadata": {},
   "outputs": [
    {
     "name": "stdout",
     "output_type": "stream",
     "text": [
      "time: 24 ms\n"
     ]
    }
   ],
   "source": [
    "# Functions to run for loop to scrape website.\n",
    "def shoe_scraper(pages=50):\n",
    "    '''Returns one dataframe of all results. And will save into a new file.'''\n",
    "        # Have to run requests first to get appropriate column names\n",
    "    req = requests.get('https://stockx.com/api/browse?page=1&category=152')\n",
    "    json_req = req.json()\n",
    "    df = pd.DataFrame([], columns=json_req['Products'][0].keys())\n",
    "\n",
    "    for i in range(1,pages):\n",
    "        try:\n",
    "            html = 'https://stockx.com/api/browse?page=' + str(int(i)) + '&category=152'\n",
    "            result = requests.get(html)\n",
    "            json_res = result.json()\n",
    "            df = pd.concat([df, pd.DataFrame(json_res['Products'])])\n",
    "            sleep(0.5)\n",
    "        except:\n",
    "            break\n",
    "    \n",
    "    # Drop row duplicates\n",
    "    df.drop_duplicates(['shortDescription', 'urlKey'], inplace=True) \n",
    "    \n",
    "    # Function to save as csv file under today's day as raw (before dropping)\n",
    "    def csv_maker(df):\n",
    "        filename = 'StockX_' + strftime(\"%m%d%H\")\n",
    "        df.to_csv(path_or_buf='C:\\\\Users\\\\Chris\\\\Desktop\\\\dsi-atl-3\\\\project\\\\Capstone\\\\datasets\\\\' + filename, encoding='utf-8')\n",
    "    csv_maker(df)    \n",
    "    return df"
   ]
  },
  {
   "cell_type": "code",
   "execution_count": 4,
   "metadata": {},
   "outputs": [
    {
     "name": "stdout",
     "output_type": "stream",
     "text": [
      "time: 20 ms\n"
     ]
    }
   ],
   "source": [
    "def clean_df(busy_dataframe):\n",
    "    '''Dropping columns that hold little to no information. Combining columns with relevant info.\n",
    "    Then reset the index since we are getting repeated indices'''\n",
    "    # Market DataFrame. If scraping, comes in ready form.\n",
    "    # If pulling from old data, dictionary comes in string form\n",
    "    if isinstance(busy_dataframe.market.reset_index(drop=True)[0], str):\n",
    "        # Change string to dictionary using ast library\n",
    "        market_df = pd.DataFrame([ast.literal_eval(row) for row in busy_dataframe['market']])\n",
    "    else:\n",
    "        market_df = pd.DataFrame([row for row in busy_dataframe['market']])\n",
    "        \n",
    "    # Same as above, but for including link for images\n",
    "    if isinstance(busy_dataframe.media.reset_index(drop=True)[0], str):\n",
    "        media_df = pd.DataFrame([ast.literal_eval(row) for row in busy_dataframe['media']])['thumbUrl']\n",
    "    else:\n",
    "        media_df = pd.DataFrame([row for row in busy_dataframe['media']])['imageUrl']\n",
    "    \n",
    "    # Combine dataframes and drop unnecessary columns\n",
    "    cleaner_dataframe = busy_dataframe.join(market_df)\n",
    "    cleaner_dataframe = cleaner_dataframe.join(media_df)    \n",
    "    cleanest_dataframe = cleaner_dataframe.drop(['breadcrumbs', 'childId', 'countryOfManufacture', 'type', \n",
    "        'uuid', 'dataType', 'doppelgangers', 'condition', 'description', 'hidden', 'ipoDate', 'productCategory', \n",
    "        'shoeSize', 'urlKey', 'charityCondition', 'releaseTime', 'shortDescription', 'media', '_highlightResult', \n",
    "        'market', '_tags', 'id', 'objectID', 'lastHighestBidTime', 'lastLowestAskTime', 'styleId', 'productId',\n",
    "        'productUuid', 'skuUuid', 'updatedAt', 'traits', 'tickerSymbol', 'salesLastPeriod',\n",
    "        'minimumBid', 'averageDeadstockPriceRank', 'deadstockSoldRank', 'pricePremium', 'pricePremiumRank',\n",
    "        'salesThisPeriod', 'createdAt', 'lastSaleDate'], axis=1)\n",
    "    \n",
    "    # Reset the index, since we are getting repeated indices\n",
    "    cleanest_dataframe.reset_index(drop=True, inplace=True)    \n",
    "    return cleanest_dataframe"
   ]
  },
  {
   "cell_type": "code",
   "execution_count": 5,
   "metadata": {},
   "outputs": [
    {
     "name": "stdout",
     "output_type": "stream",
     "text": [
      "time: 49.6 s\n"
     ]
    }
   ],
   "source": [
    "## Web Scraper code. Commented out to focus on an unchanging data set.\n",
    "# scraped_shoe = shoe_scraper()"
   ]
  },
  {
   "cell_type": "code",
   "execution_count": 6,
   "metadata": {},
   "outputs": [
    {
     "name": "stdout",
     "output_type": "stream",
     "text": [
      "time: 9 ms\n"
     ]
    }
   ],
   "source": [
    "def read_and_clean(path):\n",
    "    '''Read a file path where datasets are stored. Cleans the dataframe by removing duplicates,\n",
    "    removing first column (Unnamed: 0) to be ready for clean_df function.'''\n",
    "    file_list = listdir(path)\n",
    "    file_list.remove('dataio')\n",
    "    \n",
    "    # Make a list of all the dataframes\n",
    "    parts_df = [pd.read_csv('../datasets/' + files) for files in file_list]\n",
    "    \n",
    "    # Make one dataframe, take out first column and drop duplicates based on 'urlkey'\n",
    "    df = pd.concat(parts_df)\n",
    "    df = df.iloc[:,1:]\n",
    "    df.drop_duplicates(['uuid'], inplace=True)#, keep='last')\n",
    "    \n",
    "    # Clean Brand names\n",
    "    df.brand = df.brand.map(lambda x: x.title())\n",
    "    \n",
    "    # Lastly, change 'nan' to np.nan.\n",
    "    df = df.applymap(lambda x: np.nan if x=='nan' else x)\n",
    "    return df"
   ]
  },
  {
   "cell_type": "code",
   "execution_count": 7,
   "metadata": {},
   "outputs": [
    {
     "name": "stdout",
     "output_type": "stream",
     "text": [
      "time: 4.37 s\n"
     ]
    }
   ],
   "source": [
    "# Using functions defined above to read all previously downloaded data into one dataframe.\n",
    "path = '../datasets/'\n",
    "\n",
    "shoe = clean_df(read_and_clean(path))"
   ]
  },
  {
   "cell_type": "markdown",
   "metadata": {},
   "source": [
    "### Part 2 - Cleaning and Initial Analysis\n",
    "Some initial cleaning and EDA will need to be done.\n",
    "- Drop nulls\n",
    "- Change time series into datetime if possible\n",
    "- Check out the shape\n",
    "- Drop the error value for the high bid > $20,000\n",
    "\n",
    "**Make a metric for rarity: average Deadstock Price / retail Price**"
   ]
  },
  {
   "cell_type": "code",
   "execution_count": 8,
   "metadata": {},
   "outputs": [
    {
     "data": {
      "text/plain": [
       "(2050, 24)"
      ]
     },
     "execution_count": 8,
     "metadata": {},
     "output_type": "execute_result"
    },
    {
     "name": "stdout",
     "output_type": "stream",
     "text": [
      "time: 31 ms\n"
     ]
    }
   ],
   "source": [
    "# Some cleaning first. Take out null rows and change time data to date time\n",
    "shoe.dropna(inplace=True)\n",
    "shoe['releaseDate'] = pd.to_datetime(shoe.releaseDate).dt.date\n",
    "shoe['year'] = pd.to_datetime(shoe.year.map(lambda x: str(int(x)))).dt.year\n",
    "shoe.shape"
   ]
  },
  {
   "cell_type": "code",
   "execution_count": 9,
   "metadata": {},
   "outputs": [
    {
     "data": {
      "text/html": [
       "<div>\n",
       "<style>\n",
       "    .dataframe thead tr:only-child th {\n",
       "        text-align: right;\n",
       "    }\n",
       "\n",
       "    .dataframe thead th {\n",
       "        text-align: left;\n",
       "    }\n",
       "\n",
       "    .dataframe tbody tr th {\n",
       "        vertical-align: top;\n",
       "    }\n",
       "</style>\n",
       "<table border=\"1\" class=\"dataframe\">\n",
       "  <thead>\n",
       "    <tr style=\"text-align: right;\">\n",
       "      <th></th>\n",
       "      <th>title</th>\n",
       "      <th>year</th>\n",
       "      <th>retailPrice</th>\n",
       "      <th>averageDeadstockPrice</th>\n",
       "      <th>highestBid</th>\n",
       "      <th>rarity</th>\n",
       "    </tr>\n",
       "  </thead>\n",
       "  <tbody>\n",
       "    <tr>\n",
       "      <th>1740</th>\n",
       "      <td>Nike Dunk SB Low Supreme NY Black Cement (2002)</td>\n",
       "      <td>2002</td>\n",
       "      <td>65.0</td>\n",
       "      <td>1388</td>\n",
       "      <td>1000</td>\n",
       "      <td>21.353846</td>\n",
       "    </tr>\n",
       "    <tr>\n",
       "      <th>1861</th>\n",
       "      <td>Nike SB Dunk High Momofuku</td>\n",
       "      <td>2017</td>\n",
       "      <td>110.0</td>\n",
       "      <td>1706</td>\n",
       "      <td>1336</td>\n",
       "      <td>15.509091</td>\n",
       "    </tr>\n",
       "    <tr>\n",
       "      <th>1653</th>\n",
       "      <td>Jordan 1 Retro Low OG Ice Blue</td>\n",
       "      <td>2017</td>\n",
       "      <td>140.0</td>\n",
       "      <td>1936</td>\n",
       "      <td>3037</td>\n",
       "      <td>13.828571</td>\n",
       "    </tr>\n",
       "    <tr>\n",
       "      <th>1862</th>\n",
       "      <td>Air Max 1 Air Max Day 3.26</td>\n",
       "      <td>2014</td>\n",
       "      <td>125.0</td>\n",
       "      <td>1706</td>\n",
       "      <td>1336</td>\n",
       "      <td>13.648000</td>\n",
       "    </tr>\n",
       "    <tr>\n",
       "      <th>1322</th>\n",
       "      <td>Nike Dunk SB High Tie Dye Black</td>\n",
       "      <td>2014</td>\n",
       "      <td>108.0</td>\n",
       "      <td>1447</td>\n",
       "      <td>1000</td>\n",
       "      <td>13.398148</td>\n",
       "    </tr>\n",
       "  </tbody>\n",
       "</table>\n",
       "</div>"
      ],
      "text/plain": [
       "                                                title  year  retailPrice  \\\n",
       "1740  Nike Dunk SB Low Supreme NY Black Cement (2002)  2002         65.0   \n",
       "1861                       Nike SB Dunk High Momofuku  2017        110.0   \n",
       "1653                   Jordan 1 Retro Low OG Ice Blue  2017        140.0   \n",
       "1862                       Air Max 1 Air Max Day 3.26  2014        125.0   \n",
       "1322                  Nike Dunk SB High Tie Dye Black  2014        108.0   \n",
       "\n",
       "      averageDeadstockPrice  highestBid     rarity  \n",
       "1740                   1388        1000  21.353846  \n",
       "1861                   1706        1336  15.509091  \n",
       "1653                   1936        3037  13.828571  \n",
       "1862                   1706        1336  13.648000  \n",
       "1322                   1447        1000  13.398148  "
      ]
     },
     "execution_count": 9,
     "metadata": {},
     "output_type": "execute_result"
    },
    {
     "name": "stdout",
     "output_type": "stream",
     "text": [
      "time: 341 ms\n"
     ]
    }
   ],
   "source": [
    "# New metric for rarity of shoe & a boolean for those above median\n",
    "shoe['rarity'] = shoe.averageDeadstockPrice/shoe.retailPrice\n",
    "shoe['rarity_bool'] = shoe.rarity.map(lambda x: 1 if x >= shoe.rarity.median() else 0)\n",
    "\n",
    "# Since shoes retailed at $0 doesn't fit into the scope of the project, drop them.\n",
    "infinity_ind = shoe[shoe.retailPrice==0].index\n",
    "shoe.drop(infinity_ind, axis=0, inplace=True)\n",
    "shoe.reset_index(inplace=True, drop=True)\n",
    "\n",
    "# Most 'rare' shoes\n",
    "shoe[['title', 'year', 'retailPrice', 'averageDeadstockPrice', 'highestBid', 'rarity']].sort_values('rarity', ascending=False).head()"
   ]
  },
  {
   "cell_type": "code",
   "execution_count": 467,
   "metadata": {},
   "outputs": [
    {
     "data": {
      "text/plain": [
       "(-5, 1500)"
      ]
     },
     "execution_count": 467,
     "metadata": {},
     "output_type": "execute_result"
    },
    {
     "data": {
      "image/png": "[encoded data removed]",
      "text/plain": [
       "<matplotlib.figure.Figure at 0x107d8fd0>"
      ]
     },
     "metadata": {},
     "output_type": "display_data"
    },
    {
     "name": "stdout",
     "output_type": "stream",
     "text": [
      "time: 430 ms\n"
     ]
    }
   ],
   "source": [
    "# Plots for general overview\n",
    "fig = plt.figure(figsize=(8,6))\n",
    "shoe.retailPrice.plot(kind='hist', alpha=0.6)\n",
    "shoe.averageDeadstockPrice.plot(kind='hist', alpha=0.6)\n",
    "plt.title('Retail Price and Avg Deadstock Price')\n",
    "plt.legend(['Retail Price', 'Avg DeadStock Price'])\n",
    "plt.xlabel('($)')\n",
    "plt.xlim(-5, 1500)"
   ]
  },
  {
   "cell_type": "code",
   "execution_count": 464,
   "metadata": {},
   "outputs": [
    {
     "data": {
      "text/html": [
       "<div>\n",
       "<style>\n",
       "    .dataframe thead tr:only-child th {\n",
       "        text-align: right;\n",
       "    }\n",
       "\n",
       "    .dataframe thead th {\n",
       "        text-align: left;\n",
       "    }\n",
       "\n",
       "    .dataframe tbody tr th {\n",
       "        vertical-align: top;\n",
       "    }\n",
       "</style>\n",
       "<table border=\"1\" class=\"dataframe\">\n",
       "  <thead>\n",
       "    <tr style=\"text-align: right;\">\n",
       "      <th></th>\n",
       "      <th>shoe</th>\n",
       "      <th>colorway</th>\n",
       "      <th>lastSale</th>\n",
       "      <th>highestBid</th>\n",
       "      <th>averageDeadstockPrice</th>\n",
       "      <th>retailPrice</th>\n",
       "    </tr>\n",
       "  </thead>\n",
       "  <tbody>\n",
       "    <tr>\n",
       "      <th>1651</th>\n",
       "      <td>Adidas Ultra Boost</td>\n",
       "      <td>Adidas-Ultra-Boost-Miami-Hurricanes</td>\n",
       "      <td>2515</td>\n",
       "      <td>3037</td>\n",
       "      <td>1936</td>\n",
       "      <td>180.0</td>\n",
       "    </tr>\n",
       "    <tr>\n",
       "      <th>1652</th>\n",
       "      <td>Nike Air Max 90</td>\n",
       "      <td>White/White</td>\n",
       "      <td>2515</td>\n",
       "      <td>3037</td>\n",
       "      <td>1936</td>\n",
       "      <td>160.0</td>\n",
       "    </tr>\n",
       "    <tr>\n",
       "      <th>1653</th>\n",
       "      <td>Jordan 1 Retro Low OG</td>\n",
       "      <td>Ice Blue/Vachetta Tan-White</td>\n",
       "      <td>2515</td>\n",
       "      <td>3037</td>\n",
       "      <td>1936</td>\n",
       "      <td>140.0</td>\n",
       "    </tr>\n",
       "  </tbody>\n",
       "</table>\n",
       "</div>"
      ],
      "text/plain": [
       "                       shoe                             colorway  lastSale  \\\n",
       "1651     Adidas Ultra Boost  Adidas-Ultra-Boost-Miami-Hurricanes      2515   \n",
       "1652        Nike Air Max 90                          White/White      2515   \n",
       "1653  Jordan 1 Retro Low OG          Ice Blue/Vachetta Tan-White      2515   \n",
       "\n",
       "      highestBid  averageDeadstockPrice  retailPrice  \n",
       "1651        3037                   1936        180.0  \n",
       "1652        3037                   1936        160.0  \n",
       "1653        3037                   1936        140.0  "
      ]
     },
     "execution_count": 464,
     "metadata": {},
     "output_type": "execute_result"
    },
    {
     "name": "stdout",
     "output_type": "stream",
     "text": [
      "time: 18 ms\n"
     ]
    }
   ],
   "source": [
    "# A view of the most expensive bid on shoe.\n",
    "shoe[shoe.highestBid > 3000][['shoe', 'colorway', 'lastSale', 'highestBid', 'averageDeadstockPrice', 'retailPrice']].sort_values('highestBid', ascending=False)"
   ]
  },
  {
   "cell_type": "code",
   "execution_count": 466,
   "metadata": {},
   "outputs": [
    {
     "data": {
      "text/html": [
       "<div>\n",
       "<style>\n",
       "    .dataframe thead tr:only-child th {\n",
       "        text-align: right;\n",
       "    }\n",
       "\n",
       "    .dataframe thead th {\n",
       "        text-align: left;\n",
       "    }\n",
       "\n",
       "    .dataframe tbody tr th {\n",
       "        vertical-align: top;\n",
       "    }\n",
       "</style>\n",
       "<table border=\"1\" class=\"dataframe\">\n",
       "  <thead>\n",
       "    <tr style=\"text-align: right;\">\n",
       "      <th></th>\n",
       "      <th>shoe</th>\n",
       "      <th>colorway</th>\n",
       "      <th>name</th>\n",
       "      <th>retailPrice</th>\n",
       "      <th>year</th>\n",
       "      <th>averageDeadstockPrice</th>\n",
       "    </tr>\n",
       "  </thead>\n",
       "  <tbody>\n",
       "    <tr>\n",
       "      <th>1697</th>\n",
       "      <td>Air Yeezy 2</td>\n",
       "      <td>Gold/White</td>\n",
       "      <td>John Geiger x LASCO Golden Child</td>\n",
       "      <td>1850.0</td>\n",
       "      <td>2016</td>\n",
       "      <td>250</td>\n",
       "    </tr>\n",
       "  </tbody>\n",
       "</table>\n",
       "</div>"
      ],
      "text/plain": [
       "             shoe    colorway                              name  retailPrice  \\\n",
       "1697  Air Yeezy 2  Gold/White  John Geiger x LASCO Golden Child       1850.0   \n",
       "\n",
       "      year  averageDeadstockPrice  \n",
       "1697  2016                    250  "
      ]
     },
     "execution_count": 466,
     "metadata": {},
     "output_type": "execute_result"
    },
    {
     "name": "stdout",
     "output_type": "stream",
     "text": [
      "time: 15 ms\n"
     ]
    }
   ],
   "source": [
    "# A view at the most highest retailed shoe. Strangely enough, it is not in the top 7 highest bid.\n",
    "shoe[shoe.retailPrice == shoe.retailPrice.max()][['shoe', 'colorway', 'name', 'retailPrice', 'year', 'averageDeadstockPrice']]"
   ]
  },
  {
   "cell_type": "code",
   "execution_count": 13,
   "metadata": {},
   "outputs": [
    {
     "data": {
      "text/html": [
       "<div>\n",
       "<style>\n",
       "    .dataframe thead tr:only-child th {\n",
       "        text-align: right;\n",
       "    }\n",
       "\n",
       "    .dataframe thead th {\n",
       "        text-align: left;\n",
       "    }\n",
       "\n",
       "    .dataframe tbody tr th {\n",
       "        vertical-align: top;\n",
       "    }\n",
       "</style>\n",
       "<table border=\"1\" class=\"dataframe\">\n",
       "  <thead>\n",
       "    <tr style=\"text-align: right;\">\n",
       "      <th></th>\n",
       "      <th>shoe</th>\n",
       "      <th>colorway</th>\n",
       "      <th>name</th>\n",
       "      <th>retailPrice</th>\n",
       "      <th>year</th>\n",
       "      <th>averageDeadstockPrice</th>\n",
       "    </tr>\n",
       "  </thead>\n",
       "  <tbody>\n",
       "    <tr>\n",
       "      <th>629</th>\n",
       "      <td>Adidas Yeezy Boost 750</td>\n",
       "      <td>Brown/Carbon White-Light Brown</td>\n",
       "      <td>OG Light Brown</td>\n",
       "      <td>350.0</td>\n",
       "      <td>2015</td>\n",
       "      <td>3059</td>\n",
       "    </tr>\n",
       "  </tbody>\n",
       "</table>\n",
       "</div>"
      ],
      "text/plain": [
       "                       shoe                        colorway            name  \\\n",
       "629  Adidas Yeezy Boost 750  Brown/Carbon White-Light Brown  OG Light Brown   \n",
       "\n",
       "     retailPrice  year  averageDeadstockPrice  \n",
       "629        350.0  2015                   3059  "
      ]
     },
     "execution_count": 13,
     "metadata": {},
     "output_type": "execute_result"
    },
    {
     "name": "stdout",
     "output_type": "stream",
     "text": [
      "time: 13 ms\n"
     ]
    }
   ],
   "source": [
    "# A look at the highest average deadstock price\n",
    "shoe[shoe.averageDeadstockPrice == shoe.averageDeadstockPrice.max()][['shoe', 'colorway', 'name', 'retailPrice', 'year', 'averageDeadstockPrice']]"
   ]
  },
  {
   "cell_type": "markdown",
   "metadata": {},
   "source": [
    "### Part 3 - Subset data with top 3 brands and perform EDA\n",
    "Scale the dataframe down so that not too many outside brands are taking the focus away from the main goal of the project."
   ]
  },
  {
   "cell_type": "code",
   "execution_count": 15,
   "metadata": {},
   "outputs": [
    {
     "data": {
      "text/plain": [
       "(1893, 26)"
      ]
     },
     "execution_count": 15,
     "metadata": {},
     "output_type": "execute_result"
    },
    {
     "name": "stdout",
     "output_type": "stream",
     "text": [
      "time: 271 ms\n"
     ]
    }
   ],
   "source": [
    "# Concerned with only the top brands\n",
    "topshoes = shoe[(shoe.brand=='Adidas')|(shoe.brand=='Nike')|(shoe.brand=='Jordan')]\n",
    "topshoes.reset_index(drop=True, inplace=True)\n",
    "# Have to redefine the rarity cut-off\n",
    "topshoes['rarity_bool'] = topshoes.rarity.map(lambda x: 1 if x >= topshoes.rarity.median() else 0)\n",
    "topshoes.shape"
   ]
  },
  {
   "cell_type": "code",
   "execution_count": 16,
   "metadata": {},
   "outputs": [
    {
     "data": {
      "image/png": "[encoded data removed]",
      "text/plain": [
       "<matplotlib.figure.Figure at 0x113f35f8>"
      ]
     },
     "metadata": {},
     "output_type": "display_data"
    },
    {
     "name": "stdout",
     "output_type": "stream",
     "text": [
      "time: 410 ms\n"
     ]
    }
   ],
   "source": [
    "# See a 1-to-1 linear line for retail Price vs Aftermarket price\n",
    "sns.set(font_scale=1.5)\n",
    "sns.lmplot(x='retailPrice', y ='averageDeadstockPrice', data=topshoes, hue='brand', \n",
    "           fit_reg=True, size=6, scatter_kws={\"s\": 20}, ci=None)\n",
    "plt.plot(np.linspace(0,2000,2000), np.linspace(0,2000,2000), linestyle='--', \n",
    "         color='black', label='1-1 relationship')\n",
    "plt.xlim([0,1000])\n",
    "plt.title('Retail vs Average Aftermarket Price')\n",
    "plt.xlabel('Retail Price ($)')\n",
    "plt.ylabel('Aftermarket Price ($)')\n",
    "plt.legend()\n",
    "plt.show()"
   ]
  },
  {
   "cell_type": "code",
   "execution_count": 17,
   "metadata": {},
   "outputs": [
    {
     "name": "stderr",
     "output_type": "stream",
     "text": [
      "C:\\Users\\Chris\\Anaconda3\\envs\\python2\\lib\\site-packages\\statsmodels\\compat\\pandas.py:56: FutureWarning: The pandas.core.datetools module is deprecated and will be removed in a future version. Please use the pandas.tseries module instead.\n",
      "  from pandas.core import datetools\n"
     ]
    },
    {
     "data": {
      "text/html": [
       "<table class=\"simpletable\">\n",
       "<caption>OLS Regression Results</caption>\n",
       "<tr>\n",
       "  <th>Dep. Variable:</th>            <td>y</td>        <th>  R-squared:         </th> <td>   0.047</td>\n",
       "</tr>\n",
       "<tr>\n",
       "  <th>Model:</th>                   <td>OLS</td>       <th>  Adj. R-squared:    </th> <td>   0.045</td>\n",
       "</tr>\n",
       "<tr>\n",
       "  <th>Method:</th>             <td>Least Squares</td>  <th>  F-statistic:       </th> <td>   23.17</td>\n",
       "</tr>\n",
       "<tr>\n",
       "  <th>Date:</th>             <td>Wed, 12 Jul 2017</td> <th>  Prob (F-statistic):</th> <td>2.00e-06</td>\n",
       "</tr>\n",
       "<tr>\n",
       "  <th>Time:</th>                 <td>10:23:59</td>     <th>  Log-Likelihood:    </th> <td> -3327.9</td>\n",
       "</tr>\n",
       "<tr>\n",
       "  <th>No. Observations:</th>      <td>   474</td>      <th>  AIC:               </th> <td>   6660.</td>\n",
       "</tr>\n",
       "<tr>\n",
       "  <th>Df Residuals:</th>          <td>   472</td>      <th>  BIC:               </th> <td>   6668.</td>\n",
       "</tr>\n",
       "<tr>\n",
       "  <th>Df Model:</th>              <td>     1</td>      <th>                     </th>     <td> </td>   \n",
       "</tr>\n",
       "<tr>\n",
       "  <th>Covariance Type:</th>      <td>nonrobust</td>    <th>                     </th>     <td> </td>   \n",
       "</tr>\n",
       "</table>\n",
       "<table class=\"simpletable\">\n",
       "<tr>\n",
       "    <td></td>       <th>coef</th>     <th>std err</th>      <th>t</th>      <th>P>|t|</th>  <th>[0.025</th>    <th>0.975]</th>  \n",
       "</tr>\n",
       "<tr>\n",
       "  <th>const</th> <td>  110.0779</td> <td>   40.984</td> <td>    2.686</td> <td> 0.007</td> <td>   29.545</td> <td>  190.611</td>\n",
       "</tr>\n",
       "<tr>\n",
       "  <th>x1</th>    <td>    1.0819</td> <td>    0.225</td> <td>    4.814</td> <td> 0.000</td> <td>    0.640</td> <td>    1.523</td>\n",
       "</tr>\n",
       "</table>\n",
       "<table class=\"simpletable\">\n",
       "<tr>\n",
       "  <th>Omnibus:</th>       <td>489.308</td> <th>  Durbin-Watson:     </th> <td>   1.973</td> \n",
       "</tr>\n",
       "<tr>\n",
       "  <th>Prob(Omnibus):</th> <td> 0.000</td>  <th>  Jarque-Bera (JB):  </th> <td>18892.651</td>\n",
       "</tr>\n",
       "<tr>\n",
       "  <th>Skew:</th>          <td> 4.694</td>  <th>  Prob(JB):          </th> <td>    0.00</td> \n",
       "</tr>\n",
       "<tr>\n",
       "  <th>Kurtosis:</th>      <td>32.470</td>  <th>  Cond. No.          </th> <td>    599.</td> \n",
       "</tr>\n",
       "</table>"
      ],
      "text/plain": [
       "<class 'statsmodels.iolib.summary.Summary'>\n",
       "\"\"\"\n",
       "                            OLS Regression Results                            \n",
       "==============================================================================\n",
       "Dep. Variable:                      y   R-squared:                       0.047\n",
       "Model:                            OLS   Adj. R-squared:                  0.045\n",
       "Method:                 Least Squares   F-statistic:                     23.17\n",
       "Date:                Wed, 12 Jul 2017   Prob (F-statistic):           2.00e-06\n",
       "Time:                        10:23:59   Log-Likelihood:                -3327.9\n",
       "No. Observations:                 474   AIC:                             6660.\n",
       "Df Residuals:                     472   BIC:                             6668.\n",
       "Df Model:                           1                                         \n",
       "Covariance Type:            nonrobust                                         \n",
       "==============================================================================\n",
       "                 coef    std err          t      P>|t|      [0.025      0.975]\n",
       "------------------------------------------------------------------------------\n",
       "const        110.0779     40.984      2.686      0.007      29.545     190.611\n",
       "x1             1.0819      0.225      4.814      0.000       0.640       1.523\n",
       "==============================================================================\n",
       "Omnibus:                      489.308   Durbin-Watson:                   1.973\n",
       "Prob(Omnibus):                  0.000   Jarque-Bera (JB):            18892.651\n",
       "Skew:                           4.694   Prob(JB):                         0.00\n",
       "Kurtosis:                      32.470   Cond. No.                         599.\n",
       "==============================================================================\n",
       "\n",
       "Warnings:\n",
       "[1] Standard Errors assume that the covariance matrix of the errors is correctly specified.\n",
       "\"\"\""
      ]
     },
     "execution_count": 17,
     "metadata": {},
     "output_type": "execute_result"
    },
    {
     "name": "stdout",
     "output_type": "stream",
     "text": [
      "time: 2.95 s\n"
     ]
    }
   ],
   "source": [
    "import statsmodels.api as sm\n",
    "xx = topshoes[['retailPrice', 'brand']]\n",
    "yy = topshoes[['averageDeadstockPrice', 'brand']]\n",
    "\n",
    "xx_Adidas, xx_Nike = xx[xx.brand=='Adidas'].retailPrice, xx[xx.brand=='Nike'].retailPrice\n",
    "yy_Adidas, yy_Nike = yy[yy.brand=='Adidas'].averageDeadstockPrice, yy[yy.brand=='Nike'].averageDeadstockPrice\n",
    "xx_Adidas = sm.add_constant(xx_Adidas)\n",
    "\n",
    "model_adi = sm.OLS(yy_Adidas.values, xx_Adidas.values)\n",
    "model_adi = model_adi.fit()\n",
    "model_adi.summary()"
   ]
  },
  {
   "cell_type": "code",
   "execution_count": 18,
   "metadata": {},
   "outputs": [
    {
     "data": {
      "text/html": [
       "<table class=\"simpletable\">\n",
       "<caption>OLS Regression Results</caption>\n",
       "<tr>\n",
       "  <th>Dep. Variable:</th>            <td>y</td>        <th>  R-squared:         </th> <td>   0.014</td> \n",
       "</tr>\n",
       "<tr>\n",
       "  <th>Model:</th>                   <td>OLS</td>       <th>  Adj. R-squared:    </th> <td>   0.012</td> \n",
       "</tr>\n",
       "<tr>\n",
       "  <th>Method:</th>             <td>Least Squares</td>  <th>  F-statistic:       </th> <td>   10.47</td> \n",
       "</tr>\n",
       "<tr>\n",
       "  <th>Date:</th>             <td>Wed, 12 Jul 2017</td> <th>  Prob (F-statistic):</th>  <td>0.00127</td> \n",
       "</tr>\n",
       "<tr>\n",
       "  <th>Time:</th>                 <td>10:23:59</td>     <th>  Log-Likelihood:    </th> <td> -5089.4</td> \n",
       "</tr>\n",
       "<tr>\n",
       "  <th>No. Observations:</th>      <td>   756</td>      <th>  AIC:               </th> <td>1.018e+04</td>\n",
       "</tr>\n",
       "<tr>\n",
       "  <th>Df Residuals:</th>          <td>   754</td>      <th>  BIC:               </th> <td>1.019e+04</td>\n",
       "</tr>\n",
       "<tr>\n",
       "  <th>Df Model:</th>              <td>     1</td>      <th>                     </th>     <td> </td>    \n",
       "</tr>\n",
       "<tr>\n",
       "  <th>Covariance Type:</th>      <td>nonrobust</td>    <th>                     </th>     <td> </td>    \n",
       "</tr>\n",
       "</table>\n",
       "<table class=\"simpletable\">\n",
       "<tr>\n",
       "    <td></td>       <th>coef</th>     <th>std err</th>      <th>t</th>      <th>P>|t|</th>  <th>[0.025</th>    <th>0.975]</th>  \n",
       "</tr>\n",
       "<tr>\n",
       "  <th>const</th> <td>  213.7436</td> <td>   16.742</td> <td>   12.767</td> <td> 0.000</td> <td>  180.877</td> <td>  246.610</td>\n",
       "</tr>\n",
       "<tr>\n",
       "  <th>x1</th>    <td>    0.2860</td> <td>    0.088</td> <td>    3.236</td> <td> 0.001</td> <td>    0.113</td> <td>    0.460</td>\n",
       "</tr>\n",
       "</table>\n",
       "<table class=\"simpletable\">\n",
       "<tr>\n",
       "  <th>Omnibus:</th>       <td>707.198</td> <th>  Durbin-Watson:     </th> <td>   1.293</td> \n",
       "</tr>\n",
       "<tr>\n",
       "  <th>Prob(Omnibus):</th> <td> 0.000</td>  <th>  Jarque-Bera (JB):  </th> <td>22868.781</td>\n",
       "</tr>\n",
       "<tr>\n",
       "  <th>Skew:</th>          <td> 4.286</td>  <th>  Prob(JB):          </th> <td>    0.00</td> \n",
       "</tr>\n",
       "<tr>\n",
       "  <th>Kurtosis:</th>      <td>28.544</td>  <th>  Cond. No.          </th> <td>    429.</td> \n",
       "</tr>\n",
       "</table>"
      ],
      "text/plain": [
       "<class 'statsmodels.iolib.summary.Summary'>\n",
       "\"\"\"\n",
       "                            OLS Regression Results                            \n",
       "==============================================================================\n",
       "Dep. Variable:                      y   R-squared:                       0.014\n",
       "Model:                            OLS   Adj. R-squared:                  0.012\n",
       "Method:                 Least Squares   F-statistic:                     10.47\n",
       "Date:                Wed, 12 Jul 2017   Prob (F-statistic):            0.00127\n",
       "Time:                        10:23:59   Log-Likelihood:                -5089.4\n",
       "No. Observations:                 756   AIC:                         1.018e+04\n",
       "Df Residuals:                     754   BIC:                         1.019e+04\n",
       "Df Model:                           1                                         \n",
       "Covariance Type:            nonrobust                                         \n",
       "==============================================================================\n",
       "                 coef    std err          t      P>|t|      [0.025      0.975]\n",
       "------------------------------------------------------------------------------\n",
       "const        213.7436     16.742     12.767      0.000     180.877     246.610\n",
       "x1             0.2860      0.088      3.236      0.001       0.113       0.460\n",
       "==============================================================================\n",
       "Omnibus:                      707.198   Durbin-Watson:                   1.293\n",
       "Prob(Omnibus):                  0.000   Jarque-Bera (JB):            22868.781\n",
       "Skew:                           4.286   Prob(JB):                         0.00\n",
       "Kurtosis:                      28.544   Cond. No.                         429.\n",
       "==============================================================================\n",
       "\n",
       "Warnings:\n",
       "[1] Standard Errors assume that the covariance matrix of the errors is correctly specified.\n",
       "\"\"\""
      ]
     },
     "execution_count": 18,
     "metadata": {},
     "output_type": "execute_result"
    },
    {
     "name": "stdout",
     "output_type": "stream",
     "text": [
      "time: 25 ms\n"
     ]
    }
   ],
   "source": [
    "xx_Nike = sm.add_constant(xx_Nike)\n",
    "model_nike = sm.OLS(yy_Nike.values, xx_Nike.values)\n",
    "model_nike = model_nike.fit()\n",
    "model_nike.summary()"
   ]
  },
  {
   "cell_type": "code",
   "execution_count": 19,
   "metadata": {},
   "outputs": [
    {
     "data": {
      "image/png": "[encoded data removed]",
      "text/plain": [
       "<matplotlib.figure.Figure at 0xc7a32e8>"
      ]
     },
     "metadata": {},
     "output_type": "display_data"
    },
    {
     "name": "stdout",
     "output_type": "stream",
     "text": [
      "time: 36 s\n"
     ]
    }
   ],
   "source": [
    "sns.swarmplot(x='year', y='lastSale', data=topshoes[topshoes.year>2010], hue='brand')\n",
    "plt.xticks(rotation=90)\n",
    "plt.title('Last Sold at Price since 2011')\n",
    "plt.show()"
   ]
  },
  {
   "cell_type": "code",
   "execution_count": 20,
   "metadata": {},
   "outputs": [
    {
     "data": {
      "image/png": "[encoded data removed]",
      "text/plain": [
       "<matplotlib.figure.Figure at 0xc718470>"
      ]
     },
     "metadata": {},
     "output_type": "display_data"
    },
    {
     "name": "stdout",
     "output_type": "stream",
     "text": [
      "time: 31.7 s\n"
     ]
    }
   ],
   "source": [
    "# Adidas didn't really come into the market until 2015. Let's look more closely\n",
    "sns.swarmplot(x='year', y='lastSale', data=topshoes[topshoes.year>2014], hue='brand')\n",
    "plt.legend(loc='best')\n",
    "plt.xlabel('Year')\n",
    "plt.ylabel('Last Sold Price ($)')\n",
    "plt.title('Last Sold at Price since 2015')\n",
    "plt.show()"
   ]
  },
  {
   "cell_type": "code",
   "execution_count": 21,
   "metadata": {},
   "outputs": [
    {
     "data": {
      "image/png": "[encoded data removed]",
      "text/plain": [
       "<matplotlib.figure.Figure at 0x17d57400>"
      ]
     },
     "metadata": {},
     "output_type": "display_data"
    },
    {
     "name": "stdout",
     "output_type": "stream",
     "text": [
      "time: 285 ms\n"
     ]
    }
   ],
   "source": [
    "# Did Adidas increase market share (on StockX) in pure number of listings?\n",
    "sub_tops = topshoes[topshoes.year>2010].groupby(['year', 'brand'])['brand'].count().unstack().fillna(0)\n",
    "sub_tops = sub_tops.T\n",
    "sub_tops = sub_tops.div(sub_tops.sum())\n",
    "sub_tops = sub_tops.T\n",
    "\n",
    "sub_tops.plot(kind='bar', stacked=True)\n",
    "plt.legend(bbox_to_anchor=(1.1, 1.05))\n",
    "plt.show()"
   ]
  },
  {
   "cell_type": "code",
   "execution_count": 494,
   "metadata": {},
   "outputs": [
    {
     "data": {
      "image/png": "[encoded data removed]",
      "text/plain": [
       "<matplotlib.figure.Figure at 0x16647b70>"
      ]
     },
     "metadata": {},
     "output_type": "display_data"
    },
    {
     "name": "stdout",
     "output_type": "stream",
     "text": [
      "time: 394 ms\n"
     ]
    }
   ],
   "source": [
    "# Did Adidas increase in terms of sneakerhead influence, measured by sum of rarity?\n",
    "sub_tops = topshoes[topshoes.year>2010].groupby(['year', 'brand'])['rarity'].sum().unstack().fillna(0)\n",
    "sub_tops = sub_tops.T\n",
    "sub_tops = sub_tops.div(sub_tops.sum())\n",
    "sub_tops = sub_tops.T\n",
    "\n",
    "fig, ax = plt.subplots(figsize=(12,8))\n",
    "sub_tops.plot(kind='bar', stacked=True, ax=ax)\n",
    "plt.legend(bbox_to_anchor=(1.1, 1.05))\n",
    "plt.title('Top Brands Rarity Proportion')\n",
    "ax.set_yticklabels([])\n",
    "plt.show()"
   ]
  },
  {
   "cell_type": "code",
   "execution_count": 481,
   "metadata": {},
   "outputs": [
    {
     "data": {
      "text/plain": [
       "<matplotlib.text.Text at 0x19ecb160>"
      ]
     },
     "execution_count": 481,
     "metadata": {},
     "output_type": "execute_result"
    },
    {
     "data": {
      "image/png": "[encoded data removed]",
      "text/plain": [
       "<matplotlib.figure.Figure at 0x1395c6d8>"
      ]
     },
     "metadata": {},
     "output_type": "display_data"
    },
    {
     "name": "stdout",
     "output_type": "stream",
     "text": [
      "time: 234 ms\n"
     ]
    }
   ],
   "source": [
    "import scipy.stats as stats\n",
    "#H0 - The average rarity of Adidas is the same as the average rarity of Nike since 2015\n",
    "#H1 - The average rarity of Adidas is NOT the same as the average rarity of Nike since 2015\n",
    "# threshold -> 5%\n",
    "nike_rarity = topshoes[(topshoes.year>=2015) & (topshoes.brand=='Nike')].rarity\n",
    "adidas_rarity = topshoes[(topshoes.year>=2015) & (topshoes.brand=='Adidas')].rarity\n",
    "\n",
    "fig = plt.figure(figsize=(8,6))\n",
    "\n",
    "sns.kdeplot(nike_rarity, color='red', shade=True, legend=False)\n",
    "sns.kdeplot(adidas_rarity, color='blue', shade=True, legend=False)\n",
    "plt.axvline(x=nike_rarity.mean(), ymin=0.05, c='r', ls='--')\n",
    "plt.axvline(x=adidas_rarity.mean(), ymin=0.05, c='b', ls='--')\n",
    "# plt.xlim([0,5])\n",
    "plt.legend(['Nike', 'Adidas'])\n",
    "plt.xlabel('Rarity')\n",
    "plt.ylabel('Per Total Population')\n",
    "plt.title('Distribution of Nike and Adidas Rarity')"
   ]
  },
  {
   "cell_type": "code",
   "execution_count": 127,
   "metadata": {},
   "outputs": [
    {
     "data": {
      "text/plain": [
       "Ttest_indResult(statistic=-1.9671840904328324, pvalue=0.049445189804579535)"
      ]
     },
     "execution_count": 127,
     "metadata": {},
     "output_type": "execute_result"
    },
    {
     "name": "stdout",
     "output_type": "stream",
     "text": [
      "time: 5 ms\n"
     ]
    }
   ],
   "source": [
    "stats.ttest_ind(nike_rarity, adidas_rarity)\n",
    "# p < 0.05. So we reject the null hypothesis that the averages are the same. They are\n",
    "# in fact different. Statistically, Adidas has a higher average rarity since 2015."
   ]
  },
  {
   "cell_type": "markdown",
   "metadata": {},
   "source": [
    "## Part 4 - Natural Language Processing & Modeling\n"
   ]
  },
  {
   "cell_type": "code",
   "execution_count": 25,
   "metadata": {},
   "outputs": [
    {
     "name": "stdout",
     "output_type": "stream",
     "text": [
      "time: 4.75 s\n"
     ]
    }
   ],
   "source": [
    "# NLP\n",
    "from nltk.stem import SnowballStemmer\n",
    "from sklearn.feature_extraction.text import CountVectorizer, HashingVectorizer, TfidfVectorizer, TfidfTransformer\n",
    "\n",
    "# Metrics & Preprocessing\n",
    "from sklearn.metrics import accuracy_score, confusion_matrix\n",
    "from sklearn.preprocessing import StandardScaler\n",
    "from sklearn.model_selection import train_test_split, cross_val_score\n",
    "from sklearn.decomposition import PCA\n",
    "\n",
    "# Models\n",
    "from sklearn.svm import SVC\n",
    "from sklearn.linear_model import LogisticRegression, LinearRegression\n",
    "from sklearn.ensemble import RandomForestClassifier\n",
    "from sklearn.neighbors import KNeighborsClassifier\n",
    "from sklearn.naive_bayes import BernoulliNB, MultinomialNB\n",
    "from sklearn.model_selection import GridSearchCV"
   ]
  },
  {
   "cell_type": "code",
   "execution_count": 326,
   "metadata": {},
   "outputs": [
    {
     "name": "stdout",
     "output_type": "stream",
     "text": [
      "time: 232 ms\n"
     ]
    }
   ],
   "source": [
    "# Going to make a copy of the dataframe in case any changes are made later on\n",
    "tops = topshoes.copy()\n",
    "# Maybe the colorway is an indicator of averageDeadstockPrice\n",
    "snow = SnowballStemmer('english')\n",
    "# placeholder = pd.Series('Colorway_token')\n",
    "placeholder = pd.Series(tops.colorway.apply(lambda x: x.replace(\"/\",\" \").replace('-',' ').split(\" \")))\n",
    "\n",
    "tops['colorway_token'] = placeholder.apply(lambda x: \" \".join([snow.stem(y) for y in x]))"
   ]
  },
  {
   "cell_type": "code",
   "execution_count": 327,
   "metadata": {},
   "outputs": [
    {
     "name": "stdout",
     "output_type": "stream",
     "text": [
      "0.500264131009\n",
      "time: 4 ms\n"
     ]
    }
   ],
   "source": [
    "baseline = max(1 - tops.rarity_bool.mean(), tops.rarity_bool.mean())\n",
    "print baseline"
   ]
  },
  {
   "cell_type": "code",
   "execution_count": 328,
   "metadata": {},
   "outputs": [
    {
     "name": "stdout",
     "output_type": "stream",
     "text": [
      "time: 20 ms\n"
     ]
    }
   ],
   "source": [
    "# Going to try several vectorizers and models. Better to write a function that will do this in one step.\n",
    "def tokenize_test(text, vect, model):\n",
    "    '''Arguments are text, vect, model, target will be rarity_bool for this section.'''\n",
    "    X = tops[text]\n",
    "    y = tops['rarity_bool']\n",
    "    X_train, X_test, y_train, y_test = train_test_split(X, y, train_size = .8, random_state=42)\n",
    "    X_train_dtm = vect.fit_transform(X_train)    \n",
    "    X_test_dtm = vect.transform(X_test)\n",
    "    model.fit(X_train_dtm, y_train)\n",
    "    y_pred_class = model.predict(X_test_dtm)\n",
    "    return accuracy_score(y_test, y_pred_class)\n",
    "\n",
    "# Making a function to make a dataframe for the accuracy results of tokenize_test\n",
    "def accuracy_df_maker(models, vectors, texts, last_df=False):\n",
    "    '''Models and vectors are dictionarys with key as the label and value as the object.\n",
    "    Texts is a list of features to test on. Returns a sorted dataframe with accuracy scores\n",
    "    of every model, vectorizer, and feature combination. Will add previous dataframe if present.'''\n",
    "    Accuracy_scores = []\n",
    "    for model_k, model_v in models.items():\n",
    "        for vect_k, vect_v in vectors.items():\n",
    "            for text in texts:\n",
    "                Accuracy_scores.append((model_k, vect_k, text, tokenize_test(text, vect_v, model_v)))\n",
    "    \n",
    "    df = pd.DataFrame(Accuracy_scores, columns=['Model', 'Vectorizer', 'Feature', 'Accuracy_score'])\n",
    "    \n",
    "    if isinstance(last_df,pd.DataFrame):\n",
    "        df = pd.concat([last_df, df])\n",
    "    \n",
    "    return df.sort_values('Accuracy_score', ascending=False).reset_index(drop=True)"
   ]
  },
  {
   "cell_type": "code",
   "execution_count": 405,
   "metadata": {},
   "outputs": [
    {
     "name": "stdout",
     "output_type": "stream",
     "text": [
      "time: 5.66 s\n"
     ]
    }
   ],
   "source": [
    "# Parameter set up\n",
    "ng =(1,2)\n",
    "cvec, hvec, tvec = CountVectorizer(ngram_range=ng), HashingVectorizer(ngram_range=ng), TfidfVectorizer(ngram_range=ng)\n",
    "models = {'SVC':SVC(), 'Log':LogisticRegression(), 'Bernoulli':BernoulliNB(), 'KNN':KNeighborsClassifier()}\n",
    "vectors = {'CVEC':cvec, 'HVEC':hvec, 'TVEC': tvec}\n",
    "texts = ['colorway_token', 'category', 'title', 'name']\n",
    "# Function run\n",
    "nlp = accuracy_df_maker(models, vectors, texts)"
   ]
  },
  {
   "cell_type": "code",
   "execution_count": 406,
   "metadata": {},
   "outputs": [
    {
     "name": "stdout",
     "output_type": "stream",
     "text": [
      "time: 2.27 s\n"
     ]
    }
   ],
   "source": [
    "# Separate functions because random forest with hashing takes more than 3 minutes with worse results.\n",
    "# Same with Multinomial. Combining all into one dataframe, nlp_df\n",
    "models2 = {'Random Forest':RandomForestClassifier(), 'Multinomial':MultinomialNB()}\n",
    "vectors2 = {'CVEC':cvec, 'TVEC':tvec}\n",
    "nlp2 = accuracy_df_maker(models2, vectors2, texts, last_df=nlp)"
   ]
  },
  {
   "cell_type": "code",
   "execution_count": 407,
   "metadata": {},
   "outputs": [
    {
     "name": "stdout",
     "output_type": "stream",
     "text": [
      "time: 27.3 s\n"
     ]
    }
   ],
   "source": [
    "# Trying bagging and boosting. Again hashing takes too long and doesn't increase score by much. So taking out.\n",
    "# Model Set up\n",
    "from sklearn.ensemble import BaggingClassifier, AdaBoostClassifier\n",
    "from sklearn.tree import DecisionTreeClassifier\n",
    "dtree = DecisionTreeClassifier()\n",
    "bagger = BaggingClassifier(dtree, max_samples=1.0, max_features=1.0)\n",
    "booster = AdaBoostClassifier(dtree, n_estimators=50, learning_rate=1.0)\n",
    "# Parameter setup\n",
    "models3 = {'Bagger':bagger, 'Booster':booster}\n",
    "df = accuracy_df_maker(models3, vectors2, texts, last_df=nlp2)"
   ]
  },
  {
   "cell_type": "code",
   "execution_count": 519,
   "metadata": {},
   "outputs": [
    {
     "name": "stdout",
     "output_type": "stream",
     "text": [
      "Baseline: 0.500264131009\n"
     ]
    },
    {
     "data": {
      "text/html": [
       "<div>\n",
       "<style>\n",
       "    .dataframe thead tr:only-child th {\n",
       "        text-align: right;\n",
       "    }\n",
       "\n",
       "    .dataframe thead th {\n",
       "        text-align: left;\n",
       "    }\n",
       "\n",
       "    .dataframe tbody tr th {\n",
       "        vertical-align: top;\n",
       "    }\n",
       "</style>\n",
       "<table border=\"1\" class=\"dataframe\">\n",
       "  <thead>\n",
       "    <tr style=\"text-align: right;\">\n",
       "      <th></th>\n",
       "      <th>Model</th>\n",
       "      <th>Vectorizer</th>\n",
       "      <th>Feature</th>\n",
       "      <th>Accuracy_score</th>\n",
       "    </tr>\n",
       "  </thead>\n",
       "  <tbody>\n",
       "    <tr>\n",
       "      <th>0</th>\n",
       "      <td>Multinomial</td>\n",
       "      <td>CVEC</td>\n",
       "      <td>category</td>\n",
       "      <td>0.591029</td>\n",
       "    </tr>\n",
       "    <tr>\n",
       "      <th>1</th>\n",
       "      <td>Random Forest</td>\n",
       "      <td>TVEC</td>\n",
       "      <td>category</td>\n",
       "      <td>0.588391</td>\n",
       "    </tr>\n",
       "    <tr>\n",
       "      <th>2</th>\n",
       "      <td>Bernoulli</td>\n",
       "      <td>TVEC</td>\n",
       "      <td>category</td>\n",
       "      <td>0.585752</td>\n",
       "    </tr>\n",
       "    <tr>\n",
       "      <th>3</th>\n",
       "      <td>Bernoulli</td>\n",
       "      <td>CVEC</td>\n",
       "      <td>category</td>\n",
       "      <td>0.585752</td>\n",
       "    </tr>\n",
       "    <tr>\n",
       "      <th>4</th>\n",
       "      <td>Multinomial</td>\n",
       "      <td>TVEC</td>\n",
       "      <td>category</td>\n",
       "      <td>0.585752</td>\n",
       "    </tr>\n",
       "    <tr>\n",
       "      <th>5</th>\n",
       "      <td>KNN</td>\n",
       "      <td>HVEC</td>\n",
       "      <td>title</td>\n",
       "      <td>0.580475</td>\n",
       "    </tr>\n",
       "    <tr>\n",
       "      <th>6</th>\n",
       "      <td>Log</td>\n",
       "      <td>HVEC</td>\n",
       "      <td>category</td>\n",
       "      <td>0.580475</td>\n",
       "    </tr>\n",
       "    <tr>\n",
       "      <th>7</th>\n",
       "      <td>Random Forest</td>\n",
       "      <td>CVEC</td>\n",
       "      <td>category</td>\n",
       "      <td>0.580475</td>\n",
       "    </tr>\n",
       "    <tr>\n",
       "      <th>8</th>\n",
       "      <td>KNN</td>\n",
       "      <td>CVEC</td>\n",
       "      <td>colorway_token</td>\n",
       "      <td>0.577836</td>\n",
       "    </tr>\n",
       "    <tr>\n",
       "      <th>9</th>\n",
       "      <td>Log</td>\n",
       "      <td>TVEC</td>\n",
       "      <td>category</td>\n",
       "      <td>0.577836</td>\n",
       "    </tr>\n",
       "  </tbody>\n",
       "</table>\n",
       "</div>"
      ],
      "text/plain": [
       "           Model Vectorizer         Feature  Accuracy_score\n",
       "0    Multinomial       CVEC        category        0.591029\n",
       "1  Random Forest       TVEC        category        0.588391\n",
       "2      Bernoulli       TVEC        category        0.585752\n",
       "3      Bernoulli       CVEC        category        0.585752\n",
       "4    Multinomial       TVEC        category        0.585752\n",
       "5            KNN       HVEC           title        0.580475\n",
       "6            Log       HVEC        category        0.580475\n",
       "7  Random Forest       CVEC        category        0.580475\n",
       "8            KNN       CVEC  colorway_token        0.577836\n",
       "9            Log       TVEC        category        0.577836"
      ]
     },
     "execution_count": 519,
     "metadata": {},
     "output_type": "execute_result"
    },
    {
     "name": "stdout",
     "output_type": "stream",
     "text": [
      "time: 20 ms\n"
     ]
    }
   ],
   "source": [
    "print 'Baseline:', baseline\n",
    "df[df.Accuracy_score > baseline*1.15]"
   ]
  },
  {
   "cell_type": "code",
   "execution_count": 521,
   "metadata": {},
   "outputs": [
    {
     "data": {
      "text/plain": [
       "Index([                u'brand',              u'category',\n",
       "                    u'colorway',                  u'name',\n",
       "                 u'releaseDate',           u'retailPrice',\n",
       "                        u'shoe',                 u'title',\n",
       "                        u'year',   u'absChangePercentage',\n",
       "                  u'annualHigh',             u'annualLow',\n",
       "       u'averageDeadstockPrice',      u'changePercentage',\n",
       "                 u'changeValue',    u'deadstockRangeHigh',\n",
       "           u'deadstockRangeLow',         u'deadstockSold',\n",
       "                  u'highestBid',              u'lastSale',\n",
       "                   u'lowestAsk',      u'salesLast72Hours',\n",
       "                  u'volatility',              u'thumbUrl',\n",
       "                      u'rarity',           u'rarity_bool'],\n",
       "      dtype='object')"
      ]
     },
     "execution_count": 521,
     "metadata": {},
     "output_type": "execute_result"
    },
    {
     "name": "stdout",
     "output_type": "stream",
     "text": [
      "time: 5 ms\n"
     ]
    }
   ],
   "source": [
    "topshoes.columns"
   ]
  },
  {
   "cell_type": "code",
   "execution_count": 496,
   "metadata": {},
   "outputs": [
    {
     "data": {
      "text/html": [
       "<div>\n",
       "<style>\n",
       "    .dataframe thead tr:only-child th {\n",
       "        text-align: right;\n",
       "    }\n",
       "\n",
       "    .dataframe thead th {\n",
       "        text-align: left;\n",
       "    }\n",
       "\n",
       "    .dataframe tbody tr th {\n",
       "        vertical-align: top;\n",
       "    }\n",
       "</style>\n",
       "<table border=\"1\" class=\"dataframe\">\n",
       "  <thead>\n",
       "    <tr style=\"text-align: right;\">\n",
       "      <th></th>\n",
       "      <th>coef</th>\n",
       "      <th>features</th>\n",
       "      <th>abs</th>\n",
       "    </tr>\n",
       "  </thead>\n",
       "  <tbody>\n",
       "    <tr>\n",
       "      <th>0</th>\n",
       "      <td>0.088550</td>\n",
       "      <td>air</td>\n",
       "      <td>0.088550</td>\n",
       "    </tr>\n",
       "    <tr>\n",
       "      <th>1</th>\n",
       "      <td>0.072194</td>\n",
       "      <td>jordan</td>\n",
       "      <td>0.072194</td>\n",
       "    </tr>\n",
       "    <tr>\n",
       "      <th>2</th>\n",
       "      <td>0.072194</td>\n",
       "      <td>air jordan</td>\n",
       "      <td>0.072194</td>\n",
       "    </tr>\n",
       "    <tr>\n",
       "      <th>3</th>\n",
       "      <td>0.053582</td>\n",
       "      <td>adidas</td>\n",
       "      <td>0.053582</td>\n",
       "    </tr>\n",
       "    <tr>\n",
       "      <th>4</th>\n",
       "      <td>0.040891</td>\n",
       "      <td>other</td>\n",
       "      <td>0.040891</td>\n",
       "    </tr>\n",
       "  </tbody>\n",
       "</table>\n",
       "</div>"
      ],
      "text/plain": [
       "       coef    features       abs\n",
       "0  0.088550         air  0.088550\n",
       "1  0.072194      jordan  0.072194\n",
       "2  0.072194  air jordan  0.072194\n",
       "3  0.053582      adidas  0.053582\n",
       "4  0.040891       other  0.040891"
      ]
     },
     "execution_count": 496,
     "metadata": {},
     "output_type": "execute_result"
    },
    {
     "name": "stdout",
     "output_type": "stream",
     "text": [
      "time: 41 ms\n"
     ]
    }
   ],
   "source": [
    "# Look at the features in one of the models \n",
    "# Top performing at the time multinomial/cvec/category with acc of 0.59\n",
    "X, y  = tops.category, tops.rarity_bool\n",
    "Xtr, Xte, ytr, yte = train_test_split(X, y, train_size = .8, random_state=42)\n",
    "Xtr_dtm = cvec.fit_transform(Xtr)\n",
    "mnb = MultinomialNB()\n",
    "mnb.fit(Xtr_dtm, ytr)\n",
    "mnb_df = pd.DataFrame(zip(np.exp(mnb.feature_log_prob_.flatten()), cvec.get_feature_names()),columns=['coef', 'features'])\n",
    "mnb_df['abs'] = mnb_df.coef.abs()\n",
    "mnb_df.sort_values('abs', ascending=False).reset_index(drop=True).head()"
   ]
  },
  {
   "cell_type": "code",
   "execution_count": 33,
   "metadata": {},
   "outputs": [
    {
     "name": "stdout",
     "output_type": "stream",
     "text": [
      "Fitting 5 folds for each of 200 candidates, totalling 1000 fits\n",
      "{'penalty': 'l2', 'C': 0.3944206059437656, 'solver': 'liblinear'}\n",
      "time: 5.86 s\n"
     ]
    },
    {
     "name": "stderr",
     "output_type": "stream",
     "text": [
      "[Parallel(n_jobs=1)]: Done 1000 out of 1000 | elapsed:    5.7s finished\n"
     ]
    }
   ],
   "source": [
    "# Trying to finetune models to achieve better accuracy scores\n",
    "X = tops.title\n",
    "y = tops.rarity_bool\n",
    "X_train, X_test, y_train, y_test = train_test_split(X, y, train_size = .8, random_state=42)\n",
    "\n",
    "X_train_dtm = tvec.fit_transform(X_train)\n",
    "X_test_dtm = tvec.transform(X_test)\n",
    "\n",
    "log_params = {\n",
    "    'penalty':['l1','l2'],\n",
    "    'solver':['liblinear'],.\n",
    "    'C':np.logspace(-5,0,100)\n",
    "}\n",
    "lr_gridsearch = GridSearchCV(LogisticRegression(), log_params, cv=5, verbose=1)\n",
    "lr_gridsearch.fit(X_train_dtm, y_train)\n",
    "lr_dict = lr_gridsearch.best_params_\n",
    "print lr_dict"
   ]
  },
  {
   "cell_type": "code",
   "execution_count": 34,
   "metadata": {
    "scrolled": true
   },
   "outputs": [
    {
     "name": "stdout",
     "output_type": "stream",
     "text": [
      "0.548812664908 0.596306068602\n",
      "time: 18 ms\n"
     ]
    }
   ],
   "source": [
    "logreg = LogisticRegression(C=lr_dict['C'], penalty=lr_dict['penalty'], solver=lr_dict['solver'])\n",
    "logreg.fit(X_train_dtm, y_train)\n",
    "print accuracy_score(y_test, logreg.predict(X_test_dtm)), df.iloc[0,-1]"
   ]
  },
  {
   "cell_type": "code",
   "execution_count": 35,
   "metadata": {},
   "outputs": [
    {
     "name": "stdout",
     "output_type": "stream",
     "text": [
      "0.575197889182\n",
      "time: 144 ms\n"
     ]
    }
   ],
   "source": [
    "# Trying to do PCA on these word vectors to achieve better score:\n",
    "from sklearn.decomposition import TruncatedSVD\n",
    "\n",
    "X = tops.category\n",
    "y = tops.rarity_bool\n",
    "X_train, X_test, y_train, y_test = train_test_split(X, y, train_size = .8, random_state=42)\n",
    "X_train_dtm = cvec.fit_transform(X_train)\n",
    "X_test_dtm = cvec.transform(X_test)\n",
    "\n",
    "svd = TruncatedSVD(n_components=50)\n",
    "svd_words = svd.fit_transform(X_train_dtm)\n",
    "\n",
    "logreg.fit(svd_words, y_train)\n",
    "svd_pred_df = pd.DataFrame(logreg.predict(svd.transform(X_test_dtm)))\n",
    "\n",
    "print accuracy_score(y_test, svd_pred_df.iloc[:,:])\n",
    "# Due to randomness, results show values from 0.53 to 0.60, which would fall on the top half of model performance"
   ]
  },
  {
   "cell_type": "markdown",
   "metadata": {},
   "source": [
    "## Part 5 - Clustering"
   ]
  },
  {
   "cell_type": "code",
   "execution_count": 36,
   "metadata": {},
   "outputs": [
    {
     "name": "stdout",
     "output_type": "stream",
     "text": [
      "time: 57 ms\n"
     ]
    }
   ],
   "source": [
    "cv_color = CountVectorizer(max_features=20, stop_words=['core'], ngram_range=(1,2))\n",
    "all_colors = cv_color.fit_transform(tops.colorway_token)\n",
    "color_df = pd.DataFrame(all_colors.todense(), columns=cv_color.get_feature_names())"
   ]
  },
  {
   "cell_type": "code",
   "execution_count": 506,
   "metadata": {},
   "outputs": [
    {
     "name": "stdout",
     "output_type": "stream",
     "text": [
      "time: 97 ms\n"
     ]
    }
   ],
   "source": [
    "#### Dummy variables ####\n",
    "# Change brand to 0, 1, 2\n",
    "# Change category based on words [Yeezy, NMD, Air Jordan, Ultra Boost, Adidas/Nike Other, \n",
    "# Air Max, Iniki, Air Force, Foamposite, LeBron, KD, Nike SB, Kobe, Nike Basketball/Other]\n",
    "# Change colorway based on color spectrum colors (color_df.columns)\n",
    "\n",
    "tops.brand = tops.brand.astype('category').cat.codes\n",
    "\n",
    "category_list = ['Yeezy', 'NMD', 'Air Jordan', 'Ultra Boost', 'adidas Other', 'Nike Other', 'Air Max',\n",
    "                'Iniki', 'Air Force', 'Foamposite', 'LeBron', 'KD', 'Nike SB', 'Kobe', 'Nike Basketball']\n",
    "for cat in category_list:\n",
    "    tops[cat] = tops.category.map(lambda x: 1 if cat.lower() in x.lower() else 0)\n",
    "    \n",
    "color_list = list(color_df.columns)    \n",
    "for color in color_list:\n",
    "    tops[color] = tops.colorway_token.map(lambda x: 1 if color.lower() in x.lower() else 0)\n",
    "    \n",
    "# Change all spaces to _ in column names\n",
    "tops.columns = tops.columns.str.replace(' ','_')"
   ]
  },
  {
   "cell_type": "markdown",
   "metadata": {},
   "source": [
    "---\n",
    "\n",
    "# Do clustering with colors/category/colors&category\n",
    "\n",
    "---"
   ]
  },
  {
   "cell_type": "code",
   "execution_count": 38,
   "metadata": {},
   "outputs": [
    {
     "data": {
      "text/plain": [
       "u'Yeezy + NMD + Air_Jordan + Ultra_Boost + adidas_Other + Nike_Other + Air_Max + Iniki + Air_Force + Foamposite + LeBron + KD + Nike_SB + Kobe + Nike_Basketball + black + black_black + black_white + blue + dark + gold + green + grey + light + metal + metal_gold + metal_silver + navi + red + silver + univers + varsiti + varsiti_red + white + white_black'"
      ]
     },
     "execution_count": 38,
     "metadata": {},
     "output_type": "execute_result"
    },
    {
     "name": "stdout",
     "output_type": "stream",
     "text": [
      "time: 11 ms\n"
     ]
    }
   ],
   "source": [
    "col_list = tops.loc[:,'Yeezy':].columns\n",
    "mat_string = ' + '.join(col_list)\n",
    "mat_string"
   ]
  },
  {
   "cell_type": "code",
   "execution_count": 39,
   "metadata": {},
   "outputs": [
    {
     "name": "stdout",
     "output_type": "stream",
     "text": [
      "time: 75 ms\n"
     ]
    }
   ],
   "source": [
    "import patsy\n",
    "other_var = '''retailPrice + absChangePercentage + annualHigh + annualLow + averageDeadstockPrice + \n",
    "deadstockRangeHigh + deadstockRangeLow + brand + deadstockSold + highestBid + lastSale + lowestAsk + \n",
    "salesLast72Hours + volatility + rarity - 1'''\n",
    "matrix_string = 'category ~ ' + other_var + ' + ' + mat_string\n",
    "\n",
    "y_cluster, X_cluster = patsy.dmatrices(matrix_string, tops)"
   ]
  },
  {
   "cell_type": "code",
   "execution_count": 40,
   "metadata": {},
   "outputs": [
    {
     "name": "stdout",
     "output_type": "stream",
     "text": [
      "[-1  0  1  2  3  4  5  6  9  7  8]\n",
      "Not in a class %: 23.6661384046\n",
      "In first class %: 55.6259904913\n",
      "In remaining classes %: 20.7078711041\n",
      "------------------------\n",
      "Last label count: 43\n",
      "time: 1.08 s\n"
     ]
    }
   ],
   "source": [
    "from sklearn.cluster import DBSCAN, KMeans\n",
    "ss = StandardScaler()\n",
    "Xs = ss.fit_transform(X_cluster)\n",
    "\n",
    "db = DBSCAN(eps=5, min_samples=20)\n",
    "db.fit(Xs)\n",
    "\n",
    "print pd.Series(db.labels_).unique()\n",
    "print 'Not in a class %:', list(db.labels_).count(-1)/float(len(tops)) * 100\n",
    "print 'In first class %:', list(db.labels_).count(0)/float(len(tops)) * 100\n",
    "print 'In remaining classes %:', 100 - (list(db.labels_).count(-1)/float(len(tops)) * 100 + list(db.labels_).count(0)/float(len(tops)) * 100)\n",
    "print '------------------------'\n",
    "print 'Last label count:', list(db.labels_).count(pd.Series(db.labels_).unique()[-1])\n",
    "\n",
    "tops['cluster_label'] = pd.Series(db.labels_)"
   ]
  },
  {
   "cell_type": "code",
   "execution_count": 498,
   "metadata": {},
   "outputs": [
    {
     "name": "stdout",
     "output_type": "stream",
     "text": [
      "2    926\n",
      "1    296\n",
      "0    225\n",
      "5     43\n",
      "4     13\n",
      "3     11\n",
      "dtype: int64\n",
      "time: 72 ms\n"
     ]
    }
   ],
   "source": [
    "# KMeans\n",
    "km = KMeans(n_clusters=6, random_state=42)\n",
    "km.fit(Xs)\n",
    "pd.Series(km.labels_).unique()\n",
    "\n",
    "print pd.Series(km.labels_).value_counts()\n",
    "\n",
    "tops['cluster_label'] = pd.Series(km.labels_)"
   ]
  },
  {
   "cell_type": "markdown",
   "metadata": {},
   "source": [
    "## Part 6 - Predicting Rarity (regression and classification)"
   ]
  },
  {
   "cell_type": "code",
   "execution_count": 507,
   "metadata": {},
   "outputs": [
    {
     "name": "stdout",
     "output_type": "stream",
     "text": [
      "time: 10 ms\n"
     ]
    }
   ],
   "source": [
    "# Now have a bunch more variables. Would be a good idea to do PCA on the features to avoid multicollinearity.\n",
    "num_df = tops.drop(['cluster_label','retailPrice', 'averageDeadstockPrice', 'releaseDate', \n",
    "                    'category', 'colorway', 'name', 'shoe', 'title', 'thumbUrl', \n",
    "                    'colorway_token', 'deadstockRangeHigh', 'deadstockRangeLow', 'rarity',\n",
    "                   'rarity_bool'], axis=1).copy()\n",
    "\n",
    "# Make another dataframe that doesn't include any colors or names to see if all those dummy variable creation mattered.\n",
    "no_extra_df = num_df.loc[:,:'volatility'].copy()"
   ]
  },
  {
   "cell_type": "code",
   "execution_count": 508,
   "metadata": {},
   "outputs": [
    {
     "name": "stdout",
     "output_type": "stream",
     "text": [
      "time: 9 ms\n"
     ]
    }
   ],
   "source": [
    "def setup(dropped_col=False, target='rarity', regression=True):\n",
    "    if dropped_col:\n",
    "        X = no_extra_df.drop(dropped_col,axis=1)\n",
    "    else:\n",
    "        X = no_extra_df\n",
    "    if regression:\n",
    "        y = tops[target]\n",
    "    else:\n",
    "        y = tops.rarity_bool\n",
    "        \n",
    "    X_train, X_test, y_train, y_test = train_test_split(X, y, train_size = .8, random_state=42)\n",
    "    Xs = ss.fit_transform(X_train)\n",
    "    Xst = ss.transform(X_test)\n",
    "    \n",
    "    return Xs, Xst, y_train, y_test"
   ]
  },
  {
   "cell_type": "code",
   "execution_count": 518,
   "metadata": {},
   "outputs": [
    {
     "name": "stdout",
     "output_type": "stream",
     "text": [
      "Best number of PC for linear pipeline: 10\n"
     ]
    },
    {
     "data": {
      "text/plain": [
       "0.86049311186525357"
      ]
     },
     "execution_count": 518,
     "metadata": {},
     "output_type": "execute_result"
    },
    {
     "name": "stdout",
     "output_type": "stream",
     "text": [
      "time: 30 ms\n"
     ]
    }
   ],
   "source": [
    "from sklearn.pipeline import Pipeline, FeatureUnion\n",
    "\n",
    "Xs, Xst, y_train, y_test = setup()\n",
    "combined_features = FeatureUnion([('ss',StandardScaler()), ('pca', PCA(svd_solver='full'))])\n",
    "\n",
    "lin_pipeline = Pipeline([('features', combined_features), ('linreg',LinearRegression())])\n",
    "\n",
    "# # Commented out to save on processing time\n",
    "# lin_param = {\n",
    "#     'features__pca__n_components':np.arange(len(no_extra_df.columns))\n",
    "# }\n",
    "# gs_lin = GridSearchCV(lin_pipeline,param_grid=lin_param, cv=10)\n",
    "# gs_lin.fit(Xs, y_train)\n",
    "# best_lin_params = gs_lin.best_params_['features__pca__n_components']\n",
    "\n",
    "best_lin_params = 10 # for reproducibility\n",
    "print 'Best number of PC for linear pipeline:', best_lin_params\n",
    "# Linear regression with PCA\n",
    "lin_pipeline.set_params(features__pca__n_components=best_lin_params)\n",
    "lin_pipeline.fit(Xs, y_train)\n",
    "lin_pipeline.score(Xst, y_test)"
   ]
  },
  {
   "cell_type": "code",
   "execution_count": 261,
   "metadata": {},
   "outputs": [
    {
     "name": "stdout",
     "output_type": "stream",
     "text": [
      "Best number of PC for logistic pipeline: 0\n",
      "0.796833773087\n",
      "time: 37 ms\n"
     ]
    }
   ],
   "source": [
    "# Logistic Regression with PCA\n",
    "Xs, Xst, y_train, y_test = setup(regression=False)\n",
    "log_pipeline = Pipeline([('features', combined_features), ('logreg', LogisticRegression())])\n",
    "\n",
    "#Commented out to save on processing time\n",
    "# log_param = {\n",
    "#     'features__pca__n_components':np.arange(len(no_extra_df.columns)),\n",
    "#     'logreg__penalty':['l1','l2'],\n",
    "#     'logreg__solver':['liblinear'],\n",
    "#     'logreg__C':np.logspace(-5,0,20)\n",
    "# }\n",
    "# gs_log = GridSearchCV(log_pipeline, param_grid=log_param, cv=10)\n",
    "# gs_log.fit(Xs, y_train)\n",
    "# log_pca = gs_log.best_params_['features__pca__n_components']\n",
    "# log_penalty = gs_log.best_params_['logreg__penalty']\n",
    "# log_solver = gs_log.best_params_['logreg__solver']\n",
    "# log_C = gs_log.best_params_['logreg__C']\n",
    "\n",
    "## for reproducibility\n",
    "log_pca = 0 \n",
    "log_penalty = 'l1'\n",
    "log_solver = 'liblinear'\n",
    "log_C = 1.0\n",
    "print 'Best number of PC for logistic pipeline:', log_pca\n",
    "log_pipeline.set_params(features__pca__n_components=log_pca, \n",
    "                        logreg__penalty=log_penalty,\n",
    "                        logreg__solver=log_solver,\n",
    "                        logreg__C=log_C)\n",
    "log_pipeline.fit(Xs, y_train)\n",
    "print log_pipeline.score(Xst, y_test)\n",
    "logpca_coef = log_pipeline.get_params()['logreg'].coef_"
   ]
  },
  {
   "cell_type": "code",
   "execution_count": 262,
   "metadata": {},
   "outputs": [
    {
     "name": "stdout",
     "output_type": "stream",
     "text": [
      "R^2 score of Logistic regression with no PCA: 0.79419525066\n",
      "time: 34 ms\n"
     ]
    }
   ],
   "source": [
    "# Non-PCA logistic regression\n",
    "log_pipeline.set_params(features__pca__n_components=None,\n",
    "                        logreg__penalty=log_penalty,\n",
    "                        logreg__solver=log_solver,\n",
    "                        logreg__C=log_C)\n",
    "log_pipeline.fit(Xs, y_train)\n",
    "print 'Mean Accuracy with no PCA:', log_pipeline.score(Xst, y_test)"
   ]
  },
  {
   "cell_type": "code",
   "execution_count": 266,
   "metadata": {},
   "outputs": [
    {
     "data": {
      "text/html": [
       "<div>\n",
       "<style>\n",
       "    .dataframe thead tr:only-child th {\n",
       "        text-align: right;\n",
       "    }\n",
       "\n",
       "    .dataframe thead th {\n",
       "        text-align: left;\n",
       "    }\n",
       "\n",
       "    .dataframe tbody tr th {\n",
       "        vertical-align: top;\n",
       "    }\n",
       "</style>\n",
       "<table border=\"1\" class=\"dataframe\">\n",
       "  <thead>\n",
       "    <tr style=\"text-align: right;\">\n",
       "      <th></th>\n",
       "      <th>Feature</th>\n",
       "      <th>Coefficients</th>\n",
       "      <th>abs</th>\n",
       "    </tr>\n",
       "  </thead>\n",
       "  <tbody>\n",
       "    <tr>\n",
       "      <th>0</th>\n",
       "      <td>lastSale</td>\n",
       "      <td>2.498747</td>\n",
       "      <td>2.498747</td>\n",
       "    </tr>\n",
       "    <tr>\n",
       "      <th>1</th>\n",
       "      <td>annualLow</td>\n",
       "      <td>1.200001</td>\n",
       "      <td>1.200001</td>\n",
       "    </tr>\n",
       "    <tr>\n",
       "      <th>2</th>\n",
       "      <td>changeValue</td>\n",
       "      <td>-1.064656</td>\n",
       "      <td>1.064656</td>\n",
       "    </tr>\n",
       "    <tr>\n",
       "      <th>3</th>\n",
       "      <td>lowestAsk</td>\n",
       "      <td>0.421771</td>\n",
       "      <td>0.421771</td>\n",
       "    </tr>\n",
       "    <tr>\n",
       "      <th>4</th>\n",
       "      <td>annualHigh</td>\n",
       "      <td>0.368238</td>\n",
       "      <td>0.368238</td>\n",
       "    </tr>\n",
       "    <tr>\n",
       "      <th>5</th>\n",
       "      <td>changePercentage</td>\n",
       "      <td>0.353159</td>\n",
       "      <td>0.353159</td>\n",
       "    </tr>\n",
       "    <tr>\n",
       "      <th>6</th>\n",
       "      <td>year</td>\n",
       "      <td>-0.290962</td>\n",
       "      <td>0.290962</td>\n",
       "    </tr>\n",
       "    <tr>\n",
       "      <th>7</th>\n",
       "      <td>volatility</td>\n",
       "      <td>0.260426</td>\n",
       "      <td>0.260426</td>\n",
       "    </tr>\n",
       "    <tr>\n",
       "      <th>8</th>\n",
       "      <td>deadstockSold</td>\n",
       "      <td>0.252798</td>\n",
       "      <td>0.252798</td>\n",
       "    </tr>\n",
       "    <tr>\n",
       "      <th>9</th>\n",
       "      <td>highestBid</td>\n",
       "      <td>0.186928</td>\n",
       "      <td>0.186928</td>\n",
       "    </tr>\n",
       "    <tr>\n",
       "      <th>10</th>\n",
       "      <td>absChangePercentage</td>\n",
       "      <td>-0.036648</td>\n",
       "      <td>0.036648</td>\n",
       "    </tr>\n",
       "    <tr>\n",
       "      <th>11</th>\n",
       "      <td>brand</td>\n",
       "      <td>0.031653</td>\n",
       "      <td>0.031653</td>\n",
       "    </tr>\n",
       "    <tr>\n",
       "      <th>12</th>\n",
       "      <td>salesLast72Hours</td>\n",
       "      <td>-0.007464</td>\n",
       "      <td>0.007464</td>\n",
       "    </tr>\n",
       "  </tbody>\n",
       "</table>\n",
       "</div>"
      ],
      "text/plain": [
       "                Feature  Coefficients       abs\n",
       "0              lastSale      2.498747  2.498747\n",
       "1             annualLow      1.200001  1.200001\n",
       "2           changeValue     -1.064656  1.064656\n",
       "3             lowestAsk      0.421771  0.421771\n",
       "4            annualHigh      0.368238  0.368238\n",
       "5      changePercentage      0.353159  0.353159\n",
       "6                  year     -0.290962  0.290962\n",
       "7            volatility      0.260426  0.260426\n",
       "8         deadstockSold      0.252798  0.252798\n",
       "9            highestBid      0.186928  0.186928\n",
       "10  absChangePercentage     -0.036648  0.036648\n",
       "11                brand      0.031653  0.031653\n",
       "12     salesLast72Hours     -0.007464  0.007464"
      ]
     },
     "execution_count": 266,
     "metadata": {},
     "output_type": "execute_result"
    },
    {
     "name": "stdout",
     "output_type": "stream",
     "text": [
      "time: 23 ms\n"
     ]
    }
   ],
   "source": [
    "# Getting only the top coefficients from the logistic regression\n",
    "coef_df = pd.DataFrame(zip(no_extra_df.columns, logpca_coef.flatten()), columns=['Feature', 'Coefficients'])\n",
    "coef_df['abs'] = abs(coef_df.Coefficients).copy()\n",
    "coef_df = coef_df.sort_values('abs', ascending=False).reset_index(drop=True)\n",
    "coef_df"
   ]
  },
  {
   "cell_type": "code",
   "execution_count": 267,
   "metadata": {},
   "outputs": [
    {
     "data": {
      "text/plain": [
       "0.91816578944793636"
      ]
     },
     "execution_count": 267,
     "metadata": {},
     "output_type": "execute_result"
    },
    {
     "name": "stdout",
     "output_type": "stream",
     "text": [
      "time: 20 ms\n"
     ]
    }
   ],
   "source": [
    "# Using only the top few coefficients as features\n",
    "top_features = ['annualLow', 'changeValue', 'lowestAsk']\n",
    "bot_features = [e for e in coef_df.Feature if e not in top_features]\n",
    "Xs, Xst, y_train, y_test = setup(dropped_col=bot_features, \n",
    "                                 target='lastSale', regression=True)\n",
    "lin_pipeline.set_params(features__pca__n_components=None)\n",
    "lin_pipeline.fit(Xs, y_train)\n",
    "lin_pipeline.score(Xst, y_test)"
   ]
  },
  {
   "cell_type": "code",
   "execution_count": 268,
   "metadata": {},
   "outputs": [
    {
     "data": {
      "text/html": [
       "<div>\n",
       "<style>\n",
       "    .dataframe thead tr:only-child th {\n",
       "        text-align: right;\n",
       "    }\n",
       "\n",
       "    .dataframe thead th {\n",
       "        text-align: left;\n",
       "    }\n",
       "\n",
       "    .dataframe tbody tr th {\n",
       "        vertical-align: top;\n",
       "    }\n",
       "</style>\n",
       "<table border=\"1\" class=\"dataframe\">\n",
       "  <thead>\n",
       "    <tr style=\"text-align: right;\">\n",
       "      <th></th>\n",
       "      <th>Feature</th>\n",
       "      <th>Coefficients</th>\n",
       "      <th>abs</th>\n",
       "    </tr>\n",
       "  </thead>\n",
       "  <tbody>\n",
       "    <tr>\n",
       "      <th>0</th>\n",
       "      <td>lowestAsk</td>\n",
       "      <td>63.636320</td>\n",
       "      <td>63.636320</td>\n",
       "    </tr>\n",
       "    <tr>\n",
       "      <th>1</th>\n",
       "      <td>annualLow</td>\n",
       "      <td>38.890209</td>\n",
       "      <td>38.890209</td>\n",
       "    </tr>\n",
       "    <tr>\n",
       "      <th>2</th>\n",
       "      <td>changeValue</td>\n",
       "      <td>25.523654</td>\n",
       "      <td>25.523654</td>\n",
       "    </tr>\n",
       "  </tbody>\n",
       "</table>\n",
       "</div>"
      ],
      "text/plain": [
       "       Feature  Coefficients        abs\n",
       "0    lowestAsk     63.636320  63.636320\n",
       "1    annualLow     38.890209  38.890209\n",
       "2  changeValue     25.523654  25.523654"
      ]
     },
     "execution_count": 268,
     "metadata": {},
     "output_type": "execute_result"
    },
    {
     "name": "stdout",
     "output_type": "stream",
     "text": [
      "time: 16 ms\n"
     ]
    }
   ],
   "source": [
    "linr_coef = lin_pipeline.get_params()['linreg'].coef_\n",
    "lr_coef_df = pd.DataFrame(zip(no_extra_df.drop(bot_features, axis=1).columns, \n",
    "                              linr_coef.flatten()), columns=['Feature', 'Coefficients'])\n",
    "lr_coef_df['abs'] = abs(lr_coef_df.Coefficients).copy()\n",
    "lr_coef_df.sort_values('abs', ascending=False, inplace=True)\n",
    "lr_coef_df.reset_index(drop=True)"
   ]
  },
  {
   "cell_type": "markdown",
   "metadata": {},
   "source": [
    "## Part 7 - Image Processing"
   ]
  },
  {
   "cell_type": "markdown",
   "metadata": {},
   "source": [
    "The code below is for image processing using Keras and Tensorflow. Unfortunately, these libraries don't play nicely with Windows. As a result, a virtual machine was used in another notebook. The forked repository is an extension of the deep learning repository by github user *[nirmalyaghosh](https://github.com/nirmalyaghosh/deep-learning-vm)*.\n",
    "\n",
    "Imaging code adapted from *[source1](https://pythonprogramming.net/automated-image-thresholding-python/?completed=/thresholding-python-function/)* and *[source2](http://pillow.readthedocs.io/en/3.4.x/reference/Image.html)*. Finally, pickling code was sourced from *[stackoverflow](https://stackoverflow.com/questions/11218477/how-can-i-use-pickle-to-save-a-dict)*.\n",
    "\n",
    "The code to transfer data is below in markdown mode for reading convenience. The rest of the code can be found at *[my github](https://github.com/chrisk447/deep-learning-vm/blob/master/notebooks/Capstone%20Image%20Processing.ipynb)*."
   ]
  },
  {
   "cell_type": "markdown",
   "metadata": {},
   "source": [
    "    # only gathering images for those that have images. (As of 7/7/2017)\n",
    "    import urllib3\n",
    "    from PIL import Image\n",
    "    import io\n",
    "\n",
    "    tops_with_pics = tops[tops.thumbUrl != '']\n",
    "    tops_with_pics.reset_index(drop=True, inplace=True)\n",
    "\n",
    "    # Interpreting the image as data and preparing it to be pickled.\n",
    "    pickled_array = []\n",
    "    counter = 0\n",
    "    for shoe_num in range(len(tops_with_pics)):\n",
    "        fd = urllib.urlopen(tops_with_pics.thumbUrl[shoe_num])\n",
    "        image_file = io.BytesIO(fd.read())\n",
    "        i = Image.open(image_file).convert('RGB')\n",
    "        iar = np.asarray(i)\n",
    "        iar.setflags(write=1)\n",
    "\n",
    "        pickled_array.append(iar)\n",
    "        sleep(0.5)\n",
    "        image_file.close()\n",
    "        fd.close()\n",
    "\n",
    "    # Pickling the feature data into the deep learning repository\n",
    "    with open('../../../keras/deep-learning-vm/notebooks/shoenumbers.pickle', 'wb') as handle:\n",
    "        pickle.dump(pickled_array, handle, protocol=2)\n",
    "\n",
    "    # Pickling the target data into the deep learning repository\n",
    "    with open('../../../keras/deep-learning-vm/notebooks/targetvars.pickle', 'wb') as handle2:\n",
    "        pickle.dump(tops_with_pics.rarity_bool.values, handle2, protocol=2)"
   ]
  }
 ],
 "metadata": {
  "kernelspec": {
   "display_name": "Python 2",
   "language": "python",
   "name": "python2"
  },
  "language_info": {
   "codemirror_mode": {
    "name": "ipython",
    "version": 2
   },
   "file_extension": ".py",
   "mimetype": "text/x-python",
   "name": "python",
   "nbconvert_exporter": "python",
   "pygments_lexer": "ipython2",
   "version": "2.7.13"
  }
 },
 "nbformat": 4,
 "nbformat_minor": 2
}
