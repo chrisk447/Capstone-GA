{
 "cells": [
  {
   "cell_type": "markdown",
   "metadata": {},
   "source": [
    "# Capstone Project - NEED TO COME UP WITH TITLE\n",
    "\n",
    "General Assembly passion project. Scrape or obtain data from resources online to develop a dataset to perform cleaning, EDA, and analysis on. Try to predict a model on common themes like: \n",
    "\n",
    "- Price\n",
    "- If item is in category A or B\n",
    "- Cluster and create groups\n",
    "\n",
    "- Predict lowest amount a shoe will sell for? So people know what price to wait for before buying?"
   ]
  },
  {
   "cell_type": "markdown",
   "metadata": {},
   "source": [
    "### Part 1 - Gathering the raw data"
   ]
  },
  {
   "cell_type": "code",
   "execution_count": 25,
   "metadata": {},
   "outputs": [
    {
     "name": "stdout",
     "output_type": "stream",
     "text": [
      "The autotime extension is already loaded. To reload it, use:\n",
      "  %reload_ext autotime\n",
      "time: 15 ms\n"
     ]
    }
   ],
   "source": [
    "# Import libraries\n",
    "import warnings\n",
    "import pandas as pd\n",
    "import numpy as np\n",
    "import urllib\n",
    "import seaborn as sns\n",
    "import matplotlib.pyplot as plt\n",
    "from bs4 import BeautifulSoup\n",
    "import requests\n",
    "from time import sleep, strftime\n",
    "import datetime\n",
    "import ast\n",
    "from os import listdir\n",
    "\n",
    "pd.options.mode.chained_assignment = None\n",
    "\n",
    "%matplotlib inline\n",
    "%load_ext autotime"
   ]
  },
  {
   "cell_type": "code",
   "execution_count": 26,
   "metadata": {},
   "outputs": [
    {
     "name": "stdout",
     "output_type": "stream",
     "text": [
      "time: 922 ms\n"
     ]
    }
   ],
   "source": [
    "# Retrieving information from API in json format from StockX.com\n",
    "result = requests.get('https://stockx.com/api/browse?page=1&category=152')\n",
    "json_res = result.json()\n",
    "result = requests.get('https://stockx.com/api/browse?page=2&category=152')\n",
    "json_res = result.json()"
   ]
  },
  {
   "cell_type": "code",
   "execution_count": 27,
   "metadata": {},
   "outputs": [
    {
     "name": "stdout",
     "output_type": "stream",
     "text": [
      "time: 19 ms\n"
     ]
    }
   ],
   "source": [
    "# Functions to run for loop to scrape website.\n",
    "\n",
    "def shoe_scraper(pages=50):\n",
    "    '''Returns one dataframe of all results. And will save into a new file.'''\n",
    "    \n",
    "    # Have to run requests first to get appropriate column names\n",
    "    req = requests.get('https://stockx.com/api/browse?page=1&category=152')\n",
    "    json_req = req.json()\n",
    "    df = pd.DataFrame([], columns=json_req['Products'][0].keys())\n",
    "\n",
    "    for i in range(1,pages):\n",
    "        try:\n",
    "            html = 'https://stockx.com/api/browse?page=' + str(int(i)) + '&category=152'\n",
    "            result = requests.get(html)\n",
    "            json_res = result.json()\n",
    "            df = pd.concat([df, pd.DataFrame(json_res['Products'])])\n",
    "            sleep(0.5)\n",
    "        except:\n",
    "            break\n",
    "    \n",
    "    # Drop row duplicates\n",
    "    df.drop_duplicates(['shortDescription', 'urlKey'], inplace=True) \n",
    "    \n",
    "    # Function to save as csv file under today's day as raw (before dropping)\n",
    "    def csv_maker(df):\n",
    "        filename = 'StockX_' + strftime(\"%m%d%H\")\n",
    "        df.to_csv(path_or_buf='C:\\\\Users\\\\Chris\\\\Desktop\\\\dsi-atl-3\\\\project\\\\Capstone\\\\datasets\\\\' + filename, encoding='utf-8')\n",
    "    csv_maker(df)    \n",
    "    return df"
   ]
  },
  {
   "cell_type": "code",
   "execution_count": 28,
   "metadata": {},
   "outputs": [
    {
     "name": "stdout",
     "output_type": "stream",
     "text": [
      "time: 28 ms\n"
     ]
    }
   ],
   "source": [
    "def clean_df(busy_dataframe):\n",
    "    '''Dropping columns that hold little to no information. Combining columns with relevant info.\n",
    "    Then reset the index since we are getting repeated indices'''\n",
    "    \n",
    "    # Market DataFrame. If scraping, comes in ready form\n",
    "    # If pulling from old data, dictionary comes in string form\n",
    "    if isinstance(busy_dataframe.market.reset_index(drop=True)[0], str):\n",
    "        market_df = pd.DataFrame([ast.literal_eval(row) for row in busy_dataframe['market']])\n",
    "    else:\n",
    "        market_df = pd.DataFrame([row for row in busy_dataframe['market']])\n",
    "        \n",
    "    # Same, but for including link for images\n",
    "    if isinstance(busy_dataframe.media.reset_index(drop=True)[0], str):\n",
    "        media_df = pd.DataFrame([ast.literal_eval(row) for row in busy_dataframe['media']])['thumbUrl']\n",
    "    else:\n",
    "        media_df = pd.DataFrame([row for row in busy_dataframe['media']])['imageUrl']\n",
    "    \n",
    "    # Combine dataframes and drop unnecessary columns\n",
    "    cleaner_dataframe = busy_dataframe.join(market_df)\n",
    "    cleaner_dataframe = cleaner_dataframe.join(media_df)\n",
    "    \n",
    "    cleanest_dataframe = cleaner_dataframe.drop(['breadcrumbs', 'childId', 'countryOfManufacture', 'type', \n",
    "        'uuid', 'dataType', 'doppelgangers', 'condition', 'description', 'hidden', 'ipoDate', 'productCategory', \n",
    "        'shoeSize', 'urlKey', 'charityCondition', 'releaseTime', 'shortDescription', 'media', '_highlightResult', \n",
    "        'market', '_tags', 'id', 'objectID', 'lastHighestBidTime', 'lastLowestAskTime', 'styleId', 'productId',\n",
    "        'productUuid', 'skuUuid', 'updatedAt', 'traits', 'tickerSymbol', 'salesLastPeriod',\n",
    "        'minimumBid', 'averageDeadstockPriceRank', 'deadstockSoldRank', 'pricePremium', 'pricePremiumRank',\n",
    "        'salesThisPeriod', 'createdAt', 'lastSaleDate'], axis=1)\n",
    "    \n",
    "    # Reset the index, since we are getting repeated indices\n",
    "    cleanest_dataframe.reset_index(drop=True, inplace=True)\n",
    "    \n",
    "    return cleanest_dataframe"
   ]
  },
  {
   "cell_type": "code",
   "execution_count": 29,
   "metadata": {},
   "outputs": [
    {
     "name": "stdout",
     "output_type": "stream",
     "text": [
      "time: 4 ms\n"
     ]
    }
   ],
   "source": [
    "## Web Scraper code\n",
    "# scraped_shoe = shoe_scraper()"
   ]
  },
  {
   "cell_type": "code",
   "execution_count": 30,
   "metadata": {},
   "outputs": [
    {
     "name": "stdout",
     "output_type": "stream",
     "text": [
      "time: 12 ms\n"
     ]
    }
   ],
   "source": [
    "def read_and_clean(path):\n",
    "    '''Read a file path where datasets are stored. Cleans the dataframe by removing duplicates,\n",
    "    removing first column (Unnamed: 0) to be ready for clean_df function.'''\n",
    "    file_list = listdir(path)\n",
    "    file_list.remove('dataio')\n",
    "    \n",
    "    # Make a list of all the dataframes\n",
    "    parts_df = [pd.read_csv('../datasets/' + files) for files in file_list]\n",
    "    \n",
    "    # Make one dataframe, take out first column and drop duplicates based on 'urlkey'\n",
    "    df = pd.concat(parts_df)\n",
    "    df = df.iloc[:,1:]\n",
    "    df.drop_duplicates(['uuid'], inplace=True)#, keep='last')\n",
    "    \n",
    "    # Clean Brand names\n",
    "    df.brand = df.brand.map(lambda x: x.title())\n",
    "    \n",
    "    # Lastly, change 'nan' to np.nan.\n",
    "    df = df.applymap(lambda x: np.nan if x=='nan' else x)\n",
    "\n",
    "    return df"
   ]
  },
  {
   "cell_type": "code",
   "execution_count": 31,
   "metadata": {},
   "outputs": [
    {
     "name": "stdout",
     "output_type": "stream",
     "text": [
      "time: 2.66 s\n"
     ]
    }
   ],
   "source": [
    "# Using functions defined above to read all previously downloaded data into one dataframe.\n",
    "path = '../datasets/'\n",
    "\n",
    "shoe = clean_df(read_and_clean(path))"
   ]
  },
  {
   "cell_type": "markdown",
   "metadata": {},
   "source": [
    "### Part 2 - Cleaning and Initial Analysis\n",
    "Some initial cleaning and EDA will need to be done.\n",
    "- Drop nulls\n",
    "- Change time series into datetime if possible\n",
    "- Check out the shape\n",
    "- Drop the error value for the high bid > $20,000\n",
    "\n",
    "**Make a metric for rarity: average Deadstock Price / retail Price**"
   ]
  },
  {
   "cell_type": "code",
   "execution_count": 32,
   "metadata": {},
   "outputs": [
    {
     "data": {
      "text/plain": [
       "(2016, 24)"
      ]
     },
     "execution_count": 32,
     "metadata": {},
     "output_type": "execute_result"
    },
    {
     "name": "stdout",
     "output_type": "stream",
     "text": [
      "time: 32 ms\n"
     ]
    }
   ],
   "source": [
    "# Some cleaning first. Take out null rows and change time data to date time\n",
    "shoe.dropna(inplace=True)\n",
    "shoe['releaseDate'] = pd.to_datetime(shoe.releaseDate).dt.date\n",
    "shoe['year'] = pd.to_datetime(shoe.year.map(lambda x: str(int(x)))).dt.year\n",
    "shoe.shape"
   ]
  },
  {
   "cell_type": "code",
   "execution_count": 76,
   "metadata": {},
   "outputs": [
    {
     "data": {
      "text/html": [
       "<div>\n",
       "<style>\n",
       "    .dataframe thead tr:only-child th {\n",
       "        text-align: right;\n",
       "    }\n",
       "\n",
       "    .dataframe thead th {\n",
       "        text-align: left;\n",
       "    }\n",
       "\n",
       "    .dataframe tbody tr th {\n",
       "        vertical-align: top;\n",
       "    }\n",
       "</style>\n",
       "<table border=\"1\" class=\"dataframe\">\n",
       "  <thead>\n",
       "    <tr style=\"text-align: right;\">\n",
       "      <th></th>\n",
       "      <th>title</th>\n",
       "      <th>year</th>\n",
       "      <th>retailPrice</th>\n",
       "      <th>averageDeadstockPrice</th>\n",
       "      <th>highestBid</th>\n",
       "      <th>rarity</th>\n",
       "    </tr>\n",
       "  </thead>\n",
       "  <tbody>\n",
       "    <tr>\n",
       "      <th>1720</th>\n",
       "      <td>Nike Dunk SB Low Supreme NY Black Cement (2002)</td>\n",
       "      <td>2002</td>\n",
       "      <td>65.0</td>\n",
       "      <td>1388</td>\n",
       "      <td>1000</td>\n",
       "      <td>21.353846</td>\n",
       "    </tr>\n",
       "    <tr>\n",
       "      <th>1837</th>\n",
       "      <td>Nike SB Dunk High Momofuku</td>\n",
       "      <td>2017</td>\n",
       "      <td>110.0</td>\n",
       "      <td>1706</td>\n",
       "      <td>1336</td>\n",
       "      <td>15.509091</td>\n",
       "    </tr>\n",
       "    <tr>\n",
       "      <th>1636</th>\n",
       "      <td>Jordan 1 Retro Low OG Ice Blue</td>\n",
       "      <td>2017</td>\n",
       "      <td>140.0</td>\n",
       "      <td>1936</td>\n",
       "      <td>3037</td>\n",
       "      <td>13.828571</td>\n",
       "    </tr>\n",
       "    <tr>\n",
       "      <th>1838</th>\n",
       "      <td>Air Max 1 Air Max Day 3.26</td>\n",
       "      <td>2014</td>\n",
       "      <td>125.0</td>\n",
       "      <td>1706</td>\n",
       "      <td>1336</td>\n",
       "      <td>13.648000</td>\n",
       "    </tr>\n",
       "    <tr>\n",
       "      <th>1316</th>\n",
       "      <td>Nike Dunk SB High Tie Dye Black</td>\n",
       "      <td>2014</td>\n",
       "      <td>108.0</td>\n",
       "      <td>1447</td>\n",
       "      <td>1000</td>\n",
       "      <td>13.398148</td>\n",
       "    </tr>\n",
       "  </tbody>\n",
       "</table>\n",
       "</div>"
      ],
      "text/plain": [
       "                                                title  year  retailPrice  \\\n",
       "1720  Nike Dunk SB Low Supreme NY Black Cement (2002)  2002         65.0   \n",
       "1837                       Nike SB Dunk High Momofuku  2017        110.0   \n",
       "1636                   Jordan 1 Retro Low OG Ice Blue  2017        140.0   \n",
       "1838                       Air Max 1 Air Max Day 3.26  2014        125.0   \n",
       "1316                  Nike Dunk SB High Tie Dye Black  2014        108.0   \n",
       "\n",
       "      averageDeadstockPrice  highestBid     rarity  \n",
       "1720                   1388        1000  21.353846  \n",
       "1837                   1706        1336  15.509091  \n",
       "1636                   1936        3037  13.828571  \n",
       "1838                   1706        1336  13.648000  \n",
       "1316                   1447        1000  13.398148  "
      ]
     },
     "execution_count": 76,
     "metadata": {},
     "output_type": "execute_result"
    },
    {
     "name": "stdout",
     "output_type": "stream",
     "text": [
      "time: 339 ms\n"
     ]
    }
   ],
   "source": [
    "# New metric for rarity of shoe & a boolean for those above median\n",
    "shoe['rarity'] = shoe.averageDeadstockPrice/shoe.retailPrice\n",
    "shoe['rarity_bool'] = shoe.rarity.map(lambda x: 1 if x >= shoe.rarity.median() else 0)\n",
    "\n",
    "# Since shoes retailed at $0 doesn't fit into the scope of the project, drop them.\n",
    "infinity_ind = shoe[shoe.retailPrice==0].index\n",
    "shoe.drop(infinity_ind, axis=0, inplace=True)\n",
    "shoe.reset_index(inplace=True, drop=True)\n",
    "\n",
    "# Most 'rare' shoes\n",
    "shoe[['title', 'year', 'retailPrice', 'averageDeadstockPrice', 'highestBid', 'rarity']].sort_values('rarity', ascending=False).head()"
   ]
  },
  {
   "cell_type": "code",
   "execution_count": 34,
   "metadata": {},
   "outputs": [
    {
     "data": {
      "text/plain": [
       "(-5, 1500)"
      ]
     },
     "execution_count": 34,
     "metadata": {},
     "output_type": "execute_result"
    },
    {
     "data": {
      "image/png": "[encoded data removed]",
      "text/plain": [
       "<matplotlib.figure.Figure at 0x12d0f0f0>"
      ]
     },
     "metadata": {},
     "output_type": "display_data"
    },
    {
     "name": "stdout",
     "output_type": "stream",
     "text": [
      "time: 545 ms\n"
     ]
    }
   ],
   "source": [
    "# Plots for general overview\n",
    "fig, (ax1, ax2) = plt.subplots(1,2, figsize=(12,5))\n",
    "\n",
    "shoe.retailPrice.plot(kind='hist', alpha=0.6, ax=ax1)\n",
    "shoe.averageDeadstockPrice.plot(kind='hist', alpha=0.6, ax=ax1)\n",
    "ax1.set_title('Retail Price and Avg Deadstock Price')\n",
    "ax1.axes.set_xlim(-5, 1500)\n",
    "\n",
    "shoe.highestBid.plot(kind='hist', alpha=0.6, ax=ax2)\n",
    "shoe.lowestAsk.plot(kind='hist',alpha=0.6, ax=ax2)\n",
    "shoe.lastSale.plot(kind='hist', alpha=0.6, ax=ax2)\n",
    "ax2.set_title('Highest Bid, Lowest Ask, and Last Sale Price')\n",
    "ax2.axes.set_xlim(-5,1500)"
   ]
  },
  {
   "cell_type": "code",
   "execution_count": 35,
   "metadata": {},
   "outputs": [
    {
     "data": {
      "text/html": [
       "<div>\n",
       "<style>\n",
       "    .dataframe thead tr:only-child th {\n",
       "        text-align: right;\n",
       "    }\n",
       "\n",
       "    .dataframe thead th {\n",
       "        text-align: left;\n",
       "    }\n",
       "\n",
       "    .dataframe tbody tr th {\n",
       "        vertical-align: top;\n",
       "    }\n",
       "</style>\n",
       "<table border=\"1\" class=\"dataframe\">\n",
       "  <thead>\n",
       "    <tr style=\"text-align: right;\">\n",
       "      <th></th>\n",
       "      <th>shoe</th>\n",
       "      <th>colorway</th>\n",
       "      <th>lastSale</th>\n",
       "      <th>highestBid</th>\n",
       "      <th>averageDeadstockPrice</th>\n",
       "      <th>retailPrice</th>\n",
       "    </tr>\n",
       "  </thead>\n",
       "  <tbody>\n",
       "    <tr>\n",
       "      <th>1634</th>\n",
       "      <td>Adidas Ultra Boost</td>\n",
       "      <td>Adidas-Ultra-Boost-Miami-Hurricanes</td>\n",
       "      <td>2515</td>\n",
       "      <td>3037</td>\n",
       "      <td>1936</td>\n",
       "      <td>180.0</td>\n",
       "    </tr>\n",
       "    <tr>\n",
       "      <th>1635</th>\n",
       "      <td>Nike Air Max 90</td>\n",
       "      <td>White/White</td>\n",
       "      <td>2515</td>\n",
       "      <td>3037</td>\n",
       "      <td>1936</td>\n",
       "      <td>160.0</td>\n",
       "    </tr>\n",
       "    <tr>\n",
       "      <th>1636</th>\n",
       "      <td>Jordan 1 Retro Low OG</td>\n",
       "      <td>Ice Blue/Vachetta Tan-White</td>\n",
       "      <td>2515</td>\n",
       "      <td>3037</td>\n",
       "      <td>1936</td>\n",
       "      <td>140.0</td>\n",
       "    </tr>\n",
       "    <tr>\n",
       "      <th>375</th>\n",
       "      <td>Jordan 1 Retro</td>\n",
       "      <td>Black/Sport Blue-White</td>\n",
       "      <td>1605</td>\n",
       "      <td>3000</td>\n",
       "      <td>1696</td>\n",
       "      <td>185.0</td>\n",
       "    </tr>\n",
       "    <tr>\n",
       "      <th>628</th>\n",
       "      <td>Adidas Yeezy Boost 750</td>\n",
       "      <td>Brown/Carbon White-Light Brown</td>\n",
       "      <td>2500</td>\n",
       "      <td>2125</td>\n",
       "      <td>3059</td>\n",
       "      <td>350.0</td>\n",
       "    </tr>\n",
       "    <tr>\n",
       "      <th>259</th>\n",
       "      <td>Adidas Yeezy Boost 350</td>\n",
       "      <td>Turtledove/Blue Grey-White</td>\n",
       "      <td>2100</td>\n",
       "      <td>2050</td>\n",
       "      <td>2223</td>\n",
       "      <td>200.0</td>\n",
       "    </tr>\n",
       "    <tr>\n",
       "      <th>353</th>\n",
       "      <td>Adidas NMD</td>\n",
       "      <td>EQT Yellow/EQT Yellow/FTWR White</td>\n",
       "      <td>2001</td>\n",
       "      <td>2050</td>\n",
       "      <td>828</td>\n",
       "      <td>240.0</td>\n",
       "    </tr>\n",
       "  </tbody>\n",
       "</table>\n",
       "</div>"
      ],
      "text/plain": [
       "                        shoe                             colorway  lastSale  \\\n",
       "1634      Adidas Ultra Boost  Adidas-Ultra-Boost-Miami-Hurricanes      2515   \n",
       "1635         Nike Air Max 90                          White/White      2515   \n",
       "1636   Jordan 1 Retro Low OG          Ice Blue/Vachetta Tan-White      2515   \n",
       "375           Jordan 1 Retro               Black/Sport Blue-White      1605   \n",
       "628   Adidas Yeezy Boost 750       Brown/Carbon White-Light Brown      2500   \n",
       "259   Adidas Yeezy Boost 350           Turtledove/Blue Grey-White      2100   \n",
       "353               Adidas NMD     EQT Yellow/EQT Yellow/FTWR White      2001   \n",
       "\n",
       "      highestBid  averageDeadstockPrice  retailPrice  \n",
       "1634        3037                   1936        180.0  \n",
       "1635        3037                   1936        160.0  \n",
       "1636        3037                   1936        140.0  \n",
       "375         3000                   1696        185.0  \n",
       "628         2125                   3059        350.0  \n",
       "259         2050                   2223        200.0  \n",
       "353         2050                    828        240.0  "
      ]
     },
     "execution_count": 35,
     "metadata": {},
     "output_type": "execute_result"
    },
    {
     "name": "stdout",
     "output_type": "stream",
     "text": [
      "time: 30 ms\n"
     ]
    }
   ],
   "source": [
    "# A view of the most expensive bid on shoe.\n",
    "shoe[shoe.highestBid > 2000][['shoe', 'colorway', 'lastSale', 'highestBid', 'averageDeadstockPrice', 'retailPrice']].sort_values('highestBid', ascending=False)"
   ]
  },
  {
   "cell_type": "code",
   "execution_count": 36,
   "metadata": {},
   "outputs": [
    {
     "data": {
      "text/html": [
       "<div>\n",
       "<style>\n",
       "    .dataframe thead tr:only-child th {\n",
       "        text-align: right;\n",
       "    }\n",
       "\n",
       "    .dataframe thead th {\n",
       "        text-align: left;\n",
       "    }\n",
       "\n",
       "    .dataframe tbody tr th {\n",
       "        vertical-align: top;\n",
       "    }\n",
       "</style>\n",
       "<table border=\"1\" class=\"dataframe\">\n",
       "  <thead>\n",
       "    <tr style=\"text-align: right;\">\n",
       "      <th></th>\n",
       "      <th>shoe</th>\n",
       "      <th>colorway</th>\n",
       "      <th>name</th>\n",
       "      <th>retailPrice</th>\n",
       "      <th>year</th>\n",
       "    </tr>\n",
       "  </thead>\n",
       "  <tbody>\n",
       "    <tr>\n",
       "      <th>1679</th>\n",
       "      <td>Air Yeezy 2</td>\n",
       "      <td>Gold/White</td>\n",
       "      <td>John Geiger x LASCO Golden Child</td>\n",
       "      <td>1850.0</td>\n",
       "      <td>2016</td>\n",
       "    </tr>\n",
       "  </tbody>\n",
       "</table>\n",
       "</div>"
      ],
      "text/plain": [
       "             shoe    colorway                              name  retailPrice  \\\n",
       "1679  Air Yeezy 2  Gold/White  John Geiger x LASCO Golden Child       1850.0   \n",
       "\n",
       "      year  \n",
       "1679  2016  "
      ]
     },
     "execution_count": 36,
     "metadata": {},
     "output_type": "execute_result"
    },
    {
     "name": "stdout",
     "output_type": "stream",
     "text": [
      "time: 21 ms\n"
     ]
    }
   ],
   "source": [
    "# A view at the most highest retailed shoe. Strangely enough, it is not in the top 7 highest bid.\n",
    "shoe[shoe.retailPrice == shoe.retailPrice.max()][['shoe', 'colorway', 'name', 'retailPrice', 'year']]"
   ]
  },
  {
   "cell_type": "code",
   "execution_count": 37,
   "metadata": {},
   "outputs": [
    {
     "data": {
      "text/html": [
       "<div>\n",
       "<style>\n",
       "    .dataframe thead tr:only-child th {\n",
       "        text-align: right;\n",
       "    }\n",
       "\n",
       "    .dataframe thead th {\n",
       "        text-align: left;\n",
       "    }\n",
       "\n",
       "    .dataframe tbody tr th {\n",
       "        vertical-align: top;\n",
       "    }\n",
       "</style>\n",
       "<table border=\"1\" class=\"dataframe\">\n",
       "  <thead>\n",
       "    <tr style=\"text-align: right;\">\n",
       "      <th></th>\n",
       "      <th>shoe</th>\n",
       "      <th>colorway</th>\n",
       "      <th>name</th>\n",
       "      <th>retailPrice</th>\n",
       "      <th>year</th>\n",
       "      <th>averageDeadstockPrice</th>\n",
       "    </tr>\n",
       "  </thead>\n",
       "  <tbody>\n",
       "    <tr>\n",
       "      <th>628</th>\n",
       "      <td>Adidas Yeezy Boost 750</td>\n",
       "      <td>Brown/Carbon White-Light Brown</td>\n",
       "      <td>OG Light Brown</td>\n",
       "      <td>350.0</td>\n",
       "      <td>2015</td>\n",
       "      <td>3059</td>\n",
       "    </tr>\n",
       "  </tbody>\n",
       "</table>\n",
       "</div>"
      ],
      "text/plain": [
       "                       shoe                        colorway            name  \\\n",
       "628  Adidas Yeezy Boost 750  Brown/Carbon White-Light Brown  OG Light Brown   \n",
       "\n",
       "     retailPrice  year  averageDeadstockPrice  \n",
       "628        350.0  2015                   3059  "
      ]
     },
     "execution_count": 37,
     "metadata": {},
     "output_type": "execute_result"
    },
    {
     "name": "stdout",
     "output_type": "stream",
     "text": [
      "time: 21 ms\n"
     ]
    }
   ],
   "source": [
    "# A look at the highest average deadstock price\n",
    "shoe[shoe.averageDeadstockPrice == shoe.averageDeadstockPrice.max()][['shoe', 'colorway', 'name', 'retailPrice', 'year', 'averageDeadstockPrice']]"
   ]
  },
  {
   "cell_type": "code",
   "execution_count": 38,
   "metadata": {},
   "outputs": [
    {
     "data": {
      "text/html": [
       "<div>\n",
       "<style>\n",
       "    .dataframe thead tr:only-child th {\n",
       "        text-align: right;\n",
       "    }\n",
       "\n",
       "    .dataframe thead th {\n",
       "        text-align: left;\n",
       "    }\n",
       "\n",
       "    .dataframe tbody tr th {\n",
       "        vertical-align: top;\n",
       "    }\n",
       "</style>\n",
       "<table border=\"1\" class=\"dataframe\">\n",
       "  <thead>\n",
       "    <tr style=\"text-align: right;\">\n",
       "      <th></th>\n",
       "      <th>retailPrice</th>\n",
       "      <th>year</th>\n",
       "      <th>absChangePercentage</th>\n",
       "      <th>annualHigh</th>\n",
       "      <th>annualLow</th>\n",
       "      <th>averageDeadstockPrice</th>\n",
       "      <th>changePercentage</th>\n",
       "      <th>changeValue</th>\n",
       "      <th>deadstockRangeHigh</th>\n",
       "      <th>deadstockRangeLow</th>\n",
       "      <th>deadstockSold</th>\n",
       "      <th>highestBid</th>\n",
       "      <th>lastSale</th>\n",
       "      <th>lowestAsk</th>\n",
       "      <th>salesLast72Hours</th>\n",
       "      <th>volatility</th>\n",
       "      <th>rarity</th>\n",
       "      <th>rarity_bool</th>\n",
       "    </tr>\n",
       "  </thead>\n",
       "  <tbody>\n",
       "    <tr>\n",
       "      <th>count</th>\n",
       "      <td>2013.000000</td>\n",
       "      <td>2013.000000</td>\n",
       "      <td>2013.000000</td>\n",
       "      <td>2013.000000</td>\n",
       "      <td>2013.000000</td>\n",
       "      <td>2013.000000</td>\n",
       "      <td>2013.000000</td>\n",
       "      <td>2013.000000</td>\n",
       "      <td>2013.000000</td>\n",
       "      <td>2013.000000</td>\n",
       "      <td>2013.000000</td>\n",
       "      <td>2013.000000</td>\n",
       "      <td>2013.000000</td>\n",
       "      <td>2013.000000</td>\n",
       "      <td>2013.000000</td>\n",
       "      <td>2013.000000</td>\n",
       "      <td>2013.000000</td>\n",
       "      <td>2013.000000</td>\n",
       "    </tr>\n",
       "    <tr>\n",
       "      <th>mean</th>\n",
       "      <td>173.284153</td>\n",
       "      <td>2014.749627</td>\n",
       "      <td>0.204662</td>\n",
       "      <td>442.361153</td>\n",
       "      <td>168.879285</td>\n",
       "      <td>280.868356</td>\n",
       "      <td>0.003104</td>\n",
       "      <td>-11.334327</td>\n",
       "      <td>305.359165</td>\n",
       "      <td>207.380030</td>\n",
       "      <td>219.593145</td>\n",
       "      <td>221.880278</td>\n",
       "      <td>256.352707</td>\n",
       "      <td>230.674118</td>\n",
       "      <td>5.102335</td>\n",
       "      <td>0.200717</td>\n",
       "      <td>1.729709</td>\n",
       "      <td>0.499752</td>\n",
       "    </tr>\n",
       "    <tr>\n",
       "      <th>std</th>\n",
       "      <td>75.135165</td>\n",
       "      <td>3.041774</td>\n",
       "      <td>0.232409</td>\n",
       "      <td>483.570437</td>\n",
       "      <td>133.642054</td>\n",
       "      <td>223.286504</td>\n",
       "      <td>0.309696</td>\n",
       "      <td>102.933731</td>\n",
       "      <td>268.221203</td>\n",
       "      <td>181.481158</td>\n",
       "      <td>430.692198</td>\n",
       "      <td>239.205455</td>\n",
       "      <td>222.050566</td>\n",
       "      <td>192.802060</td>\n",
       "      <td>22.357156</td>\n",
       "      <td>0.135516</td>\n",
       "      <td>1.435655</td>\n",
       "      <td>0.500124</td>\n",
       "    </tr>\n",
       "    <tr>\n",
       "      <th>min</th>\n",
       "      <td>50.000000</td>\n",
       "      <td>1985.000000</td>\n",
       "      <td>0.000000</td>\n",
       "      <td>50.000000</td>\n",
       "      <td>11.000000</td>\n",
       "      <td>50.000000</td>\n",
       "      <td>-0.666667</td>\n",
       "      <td>-1058.000000</td>\n",
       "      <td>55.000000</td>\n",
       "      <td>-18.000000</td>\n",
       "      <td>1.000000</td>\n",
       "      <td>0.000000</td>\n",
       "      <td>45.000000</td>\n",
       "      <td>0.000000</td>\n",
       "      <td>1.000000</td>\n",
       "      <td>0.000000</td>\n",
       "      <td>0.135135</td>\n",
       "      <td>0.000000</td>\n",
       "    </tr>\n",
       "    <tr>\n",
       "      <th>25%</th>\n",
       "      <td>140.000000</td>\n",
       "      <td>2014.000000</td>\n",
       "      <td>0.041860</td>\n",
       "      <td>250.000000</td>\n",
       "      <td>100.000000</td>\n",
       "      <td>174.000000</td>\n",
       "      <td>-0.157895</td>\n",
       "      <td>-41.000000</td>\n",
       "      <td>176.000000</td>\n",
       "      <td>111.000000</td>\n",
       "      <td>21.000000</td>\n",
       "      <td>110.000000</td>\n",
       "      <td>149.000000</td>\n",
       "      <td>140.000000</td>\n",
       "      <td>1.000000</td>\n",
       "      <td>0.123291</td>\n",
       "      <td>1.051429</td>\n",
       "      <td>0.000000</td>\n",
       "    </tr>\n",
       "    <tr>\n",
       "      <th>50%</th>\n",
       "      <td>160.000000</td>\n",
       "      <td>2016.000000</td>\n",
       "      <td>0.136364</td>\n",
       "      <td>325.000000</td>\n",
       "      <td>140.000000</td>\n",
       "      <td>228.000000</td>\n",
       "      <td>0.000000</td>\n",
       "      <td>0.000000</td>\n",
       "      <td>239.000000</td>\n",
       "      <td>167.000000</td>\n",
       "      <td>76.000000</td>\n",
       "      <td>176.000000</td>\n",
       "      <td>200.000000</td>\n",
       "      <td>185.000000</td>\n",
       "      <td>2.000000</td>\n",
       "      <td>0.177077</td>\n",
       "      <td>1.392857</td>\n",
       "      <td>0.000000</td>\n",
       "    </tr>\n",
       "    <tr>\n",
       "      <th>75%</th>\n",
       "      <td>190.000000</td>\n",
       "      <td>2017.000000</td>\n",
       "      <td>0.300926</td>\n",
       "      <td>471.000000</td>\n",
       "      <td>195.000000</td>\n",
       "      <td>313.000000</td>\n",
       "      <td>0.103306</td>\n",
       "      <td>21.000000</td>\n",
       "      <td>350.000000</td>\n",
       "      <td>247.000000</td>\n",
       "      <td>228.000000</td>\n",
       "      <td>250.000000</td>\n",
       "      <td>300.000000</td>\n",
       "      <td>250.000000</td>\n",
       "      <td>4.000000</td>\n",
       "      <td>0.250277</td>\n",
       "      <td>1.905000</td>\n",
       "      <td>1.000000</td>\n",
       "    </tr>\n",
       "    <tr>\n",
       "      <th>max</th>\n",
       "      <td>1850.000000</td>\n",
       "      <td>2017.000000</td>\n",
       "      <td>2.529412</td>\n",
       "      <td>8550.000000</td>\n",
       "      <td>1715.000000</td>\n",
       "      <td>3059.000000</td>\n",
       "      <td>2.529412</td>\n",
       "      <td>549.000000</td>\n",
       "      <td>3693.000000</td>\n",
       "      <td>1900.000000</td>\n",
       "      <td>5579.000000</td>\n",
       "      <td>3037.000000</td>\n",
       "      <td>2515.000000</td>\n",
       "      <td>2000.000000</td>\n",
       "      <td>916.000000</td>\n",
       "      <td>1.362362</td>\n",
       "      <td>21.353846</td>\n",
       "      <td>1.000000</td>\n",
       "    </tr>\n",
       "  </tbody>\n",
       "</table>\n",
       "</div>"
      ],
      "text/plain": [
       "       retailPrice         year  absChangePercentage   annualHigh  \\\n",
       "count  2013.000000  2013.000000          2013.000000  2013.000000   \n",
       "mean    173.284153  2014.749627             0.204662   442.361153   \n",
       "std      75.135165     3.041774             0.232409   483.570437   \n",
       "min      50.000000  1985.000000             0.000000    50.000000   \n",
       "25%     140.000000  2014.000000             0.041860   250.000000   \n",
       "50%     160.000000  2016.000000             0.136364   325.000000   \n",
       "75%     190.000000  2017.000000             0.300926   471.000000   \n",
       "max    1850.000000  2017.000000             2.529412  8550.000000   \n",
       "\n",
       "         annualLow  averageDeadstockPrice  changePercentage  changeValue  \\\n",
       "count  2013.000000            2013.000000       2013.000000  2013.000000   \n",
       "mean    168.879285             280.868356          0.003104   -11.334327   \n",
       "std     133.642054             223.286504          0.309696   102.933731   \n",
       "min      11.000000              50.000000         -0.666667 -1058.000000   \n",
       "25%     100.000000             174.000000         -0.157895   -41.000000   \n",
       "50%     140.000000             228.000000          0.000000     0.000000   \n",
       "75%     195.000000             313.000000          0.103306    21.000000   \n",
       "max    1715.000000            3059.000000          2.529412   549.000000   \n",
       "\n",
       "       deadstockRangeHigh  deadstockRangeLow  deadstockSold   highestBid  \\\n",
       "count         2013.000000        2013.000000    2013.000000  2013.000000   \n",
       "mean           305.359165         207.380030     219.593145   221.880278   \n",
       "std            268.221203         181.481158     430.692198   239.205455   \n",
       "min             55.000000         -18.000000       1.000000     0.000000   \n",
       "25%            176.000000         111.000000      21.000000   110.000000   \n",
       "50%            239.000000         167.000000      76.000000   176.000000   \n",
       "75%            350.000000         247.000000     228.000000   250.000000   \n",
       "max           3693.000000        1900.000000    5579.000000  3037.000000   \n",
       "\n",
       "          lastSale    lowestAsk  salesLast72Hours   volatility       rarity  \\\n",
       "count  2013.000000  2013.000000       2013.000000  2013.000000  2013.000000   \n",
       "mean    256.352707   230.674118          5.102335     0.200717     1.729709   \n",
       "std     222.050566   192.802060         22.357156     0.135516     1.435655   \n",
       "min      45.000000     0.000000          1.000000     0.000000     0.135135   \n",
       "25%     149.000000   140.000000          1.000000     0.123291     1.051429   \n",
       "50%     200.000000   185.000000          2.000000     0.177077     1.392857   \n",
       "75%     300.000000   250.000000          4.000000     0.250277     1.905000   \n",
       "max    2515.000000  2000.000000        916.000000     1.362362    21.353846   \n",
       "\n",
       "       rarity_bool  \n",
       "count  2013.000000  \n",
       "mean      0.499752  \n",
       "std       0.500124  \n",
       "min       0.000000  \n",
       "25%       0.000000  \n",
       "50%       0.000000  \n",
       "75%       1.000000  \n",
       "max       1.000000  "
      ]
     },
     "execution_count": 38,
     "metadata": {},
     "output_type": "execute_result"
    },
    {
     "name": "stdout",
     "output_type": "stream",
     "text": [
      "time: 66 ms\n"
     ]
    }
   ],
   "source": [
    "shoe.describe()"
   ]
  },
  {
   "cell_type": "markdown",
   "metadata": {},
   "source": [
    "**Descriptions of some columns**\n",
    "\n",
    "- deadstockRangeHigh = highest price of deadstock within the last 12 mo.\n",
    "- deadstockRangeLow = lowest price of deadstock within the last 12 mo.\n",
    "- highestBid = highest price someone is bidding, or willing to pay\n",
    "- lowestAsk = lowest price someone is currently asking for, or selling\n",
    "- rarity = averageDeadstockPrice / retailPrice\n",
    "- lastSale = Last price product was sold for sourced from ebay, twitter, etc.\n",
    "---"
   ]
  },
  {
   "cell_type": "markdown",
   "metadata": {},
   "source": [
    "### Part 3 - Subset data with top 3 brands and perform EDA\n",
    "Scale the dataframe down so that not too many outside brands are taking the focus away from the main goal of the project."
   ]
  },
  {
   "cell_type": "code",
   "execution_count": 78,
   "metadata": {},
   "outputs": [
    {
     "data": {
      "text/plain": [
       "(1863, 26)"
      ]
     },
     "execution_count": 78,
     "metadata": {},
     "output_type": "execute_result"
    },
    {
     "name": "stdout",
     "output_type": "stream",
     "text": [
      "time: 253 ms\n"
     ]
    }
   ],
   "source": [
    "# Concerned with only the top brands\n",
    "topshoes = shoe[(shoe.brand=='Adidas')|(shoe.brand=='Nike')|(shoe.brand=='Jordan')]\n",
    "topshoes.reset_index(drop=True, inplace=True)\n",
    "\n",
    "# Have to redefine the rarity cut-off\n",
    "topshoes['rarity_bool'] = topshoes.rarity.map(lambda x: 1 if x >= topshoes.rarity.median() else 0)\n",
    "\n",
    "topshoes.shape"
   ]
  },
  {
   "cell_type": "code",
   "execution_count": 149,
   "metadata": {},
   "outputs": [
    {
     "data": {
      "image/png": "[encoded data removed]",
      "text/plain": [
       "<matplotlib.figure.Figure at 0x177014e0>"
      ]
     },
     "metadata": {},
     "output_type": "display_data"
    },
    {
     "name": "stdout",
     "output_type": "stream",
     "text": [
      "time: 356 ms\n"
     ]
    }
   ],
   "source": [
    "# See a 1-to-1 linear line for retail Price vs Aftermarket price\n",
    "sns.set(font_scale=1.5)\n",
    "sns.lmplot(x='retailPrice', y ='averageDeadstockPrice', data=topshoes, hue='brand', fit_reg=True, size=6,\n",
    "          scatter_kws={\"s\": 20}, ci=None)\n",
    "plt.plot(np.linspace(0,2000,2000), np.linspace(0,2000,2000), linestyle='--', color='black', label='1-1 relationship')\n",
    "plt.xlim([0,1000])\n",
    "plt.title('Retail vs Average Aftermarket Price')\n",
    "plt.xlabel('Retail Price ($)')\n",
    "plt.ylabel('Aftermarket Price ($)')\n",
    "plt.legend()\n",
    "plt.show()"
   ]
  },
  {
   "cell_type": "code",
   "execution_count": 144,
   "metadata": {},
   "outputs": [
    {
     "data": {
      "text/html": [
       "<table class=\"simpletable\">\n",
       "<caption>OLS Regression Results</caption>\n",
       "<tr>\n",
       "  <th>Dep. Variable:</th>            <td>y</td>        <th>  R-squared:         </th> <td>   0.051</td>\n",
       "</tr>\n",
       "<tr>\n",
       "  <th>Model:</th>                   <td>OLS</td>       <th>  Adj. R-squared:    </th> <td>   0.049</td>\n",
       "</tr>\n",
       "<tr>\n",
       "  <th>Method:</th>             <td>Least Squares</td>  <th>  F-statistic:       </th> <td>   24.91</td>\n",
       "</tr>\n",
       "<tr>\n",
       "  <th>Date:</th>             <td>Tue, 11 Jul 2017</td> <th>  Prob (F-statistic):</th> <td>8.51e-07</td>\n",
       "</tr>\n",
       "<tr>\n",
       "  <th>Time:</th>                 <td>15:51:16</td>     <th>  Log-Likelihood:    </th> <td> -3266.8</td>\n",
       "</tr>\n",
       "<tr>\n",
       "  <th>No. Observations:</th>      <td>   465</td>      <th>  AIC:               </th> <td>   6538.</td>\n",
       "</tr>\n",
       "<tr>\n",
       "  <th>Df Residuals:</th>          <td>   463</td>      <th>  BIC:               </th> <td>   6546.</td>\n",
       "</tr>\n",
       "<tr>\n",
       "  <th>Df Model:</th>              <td>     1</td>      <th>                     </th>     <td> </td>   \n",
       "</tr>\n",
       "<tr>\n",
       "  <th>Covariance Type:</th>      <td>nonrobust</td>    <th>                     </th>     <td> </td>   \n",
       "</tr>\n",
       "</table>\n",
       "<table class=\"simpletable\">\n",
       "<tr>\n",
       "    <td></td>       <th>coef</th>     <th>std err</th>      <th>t</th>      <th>P>|t|</th>  <th>[0.025</th>    <th>0.975]</th>  \n",
       "</tr>\n",
       "<tr>\n",
       "  <th>const</th> <td>  101.0243</td> <td>   41.872</td> <td>    2.413</td> <td> 0.016</td> <td>   18.742</td> <td>  183.307</td>\n",
       "</tr>\n",
       "<tr>\n",
       "  <th>x1</th>    <td>    1.1494</td> <td>    0.230</td> <td>    4.991</td> <td> 0.000</td> <td>    0.697</td> <td>    1.602</td>\n",
       "</tr>\n",
       "</table>\n",
       "<table class=\"simpletable\">\n",
       "<tr>\n",
       "  <th>Omnibus:</th>       <td>478.005</td> <th>  Durbin-Watson:     </th> <td>   1.980</td> \n",
       "</tr>\n",
       "<tr>\n",
       "  <th>Prob(Omnibus):</th> <td> 0.000</td>  <th>  Jarque-Bera (JB):  </th> <td>17943.270</td>\n",
       "</tr>\n",
       "<tr>\n",
       "  <th>Skew:</th>          <td> 4.661</td>  <th>  Prob(JB):          </th> <td>    0.00</td> \n",
       "</tr>\n",
       "<tr>\n",
       "  <th>Kurtosis:</th>      <td>31.969</td>  <th>  Cond. No.          </th> <td>    602.</td> \n",
       "</tr>\n",
       "</table>"
      ],
      "text/plain": [
       "<class 'statsmodels.iolib.summary.Summary'>\n",
       "\"\"\"\n",
       "                            OLS Regression Results                            \n",
       "==============================================================================\n",
       "Dep. Variable:                      y   R-squared:                       0.051\n",
       "Model:                            OLS   Adj. R-squared:                  0.049\n",
       "Method:                 Least Squares   F-statistic:                     24.91\n",
       "Date:                Tue, 11 Jul 2017   Prob (F-statistic):           8.51e-07\n",
       "Time:                        15:51:16   Log-Likelihood:                -3266.8\n",
       "No. Observations:                 465   AIC:                             6538.\n",
       "Df Residuals:                     463   BIC:                             6546.\n",
       "Df Model:                           1                                         \n",
       "Covariance Type:            nonrobust                                         \n",
       "==============================================================================\n",
       "                 coef    std err          t      P>|t|      [0.025      0.975]\n",
       "------------------------------------------------------------------------------\n",
       "const        101.0243     41.872      2.413      0.016      18.742     183.307\n",
       "x1             1.1494      0.230      4.991      0.000       0.697       1.602\n",
       "==============================================================================\n",
       "Omnibus:                      478.005   Durbin-Watson:                   1.980\n",
       "Prob(Omnibus):                  0.000   Jarque-Bera (JB):            17943.270\n",
       "Skew:                           4.661   Prob(JB):                         0.00\n",
       "Kurtosis:                      31.969   Cond. No.                         602.\n",
       "==============================================================================\n",
       "\n",
       "Warnings:\n",
       "[1] Standard Errors assume that the covariance matrix of the errors is correctly specified.\n",
       "\"\"\""
      ]
     },
     "execution_count": 144,
     "metadata": {},
     "output_type": "execute_result"
    },
    {
     "name": "stdout",
     "output_type": "stream",
     "text": [
      "time: 29 ms\n"
     ]
    }
   ],
   "source": [
    "import statsmodels.api as sm\n",
    "xx = topshoes[['retailPrice', 'brand']]\n",
    "yy = topshoes[['averageDeadstockPrice', 'brand']]\n",
    "\n",
    "xx_Adidas, xx_Nike = xx[xx.brand=='Adidas'].retailPrice, xx[xx.brand=='Nike'].retailPrice\n",
    "yy_Adidas, yy_Nike = yy[yy.brand=='Adidas'].averageDeadstockPrice, yy[yy.brand=='Nike'].averageDeadstockPrice\n",
    "xx_Adidas = sm.add_constant(xx_Adidas)\n",
    "\n",
    "model_adi = sm.OLS(yy_Adidas.values, xx_Adidas.values)\n",
    "model_adi = model_adi.fit()\n",
    "model_adi.summary()"
   ]
  },
  {
   "cell_type": "code",
   "execution_count": 146,
   "metadata": {},
   "outputs": [
    {
     "data": {
      "text/html": [
       "<table class=\"simpletable\">\n",
       "<caption>OLS Regression Results</caption>\n",
       "<tr>\n",
       "  <th>Dep. Variable:</th>            <td>y</td>        <th>  R-squared:         </th> <td>   0.014</td> \n",
       "</tr>\n",
       "<tr>\n",
       "  <th>Model:</th>                   <td>OLS</td>       <th>  Adj. R-squared:    </th> <td>   0.013</td> \n",
       "</tr>\n",
       "<tr>\n",
       "  <th>Method:</th>             <td>Least Squares</td>  <th>  F-statistic:       </th> <td>   10.97</td> \n",
       "</tr>\n",
       "<tr>\n",
       "  <th>Date:</th>             <td>Tue, 11 Jul 2017</td> <th>  Prob (F-statistic):</th> <td>0.000969</td> \n",
       "</tr>\n",
       "<tr>\n",
       "  <th>Time:</th>                 <td>15:52:02</td>     <th>  Log-Likelihood:    </th> <td> -5035.7</td> \n",
       "</tr>\n",
       "<tr>\n",
       "  <th>No. Observations:</th>      <td>   748</td>      <th>  AIC:               </th> <td>1.008e+04</td>\n",
       "</tr>\n",
       "<tr>\n",
       "  <th>Df Residuals:</th>          <td>   746</td>      <th>  BIC:               </th> <td>1.008e+04</td>\n",
       "</tr>\n",
       "<tr>\n",
       "  <th>Df Model:</th>              <td>     1</td>      <th>                     </th>     <td> </td>    \n",
       "</tr>\n",
       "<tr>\n",
       "  <th>Covariance Type:</th>      <td>nonrobust</td>    <th>                     </th>     <td> </td>    \n",
       "</tr>\n",
       "</table>\n",
       "<table class=\"simpletable\">\n",
       "<tr>\n",
       "    <td></td>       <th>coef</th>     <th>std err</th>      <th>t</th>      <th>P>|t|</th>  <th>[0.025</th>    <th>0.975]</th>  \n",
       "</tr>\n",
       "<tr>\n",
       "  <th>const</th> <td>  212.3007</td> <td>   16.776</td> <td>   12.655</td> <td> 0.000</td> <td>  179.366</td> <td>  245.235</td>\n",
       "</tr>\n",
       "<tr>\n",
       "  <th>x1</th>    <td>    0.2932</td> <td>    0.089</td> <td>    3.313</td> <td> 0.001</td> <td>    0.119</td> <td>    0.467</td>\n",
       "</tr>\n",
       "</table>\n",
       "<table class=\"simpletable\">\n",
       "<tr>\n",
       "  <th>Omnibus:</th>       <td>703.960</td> <th>  Durbin-Watson:     </th> <td>   1.290</td> \n",
       "</tr>\n",
       "<tr>\n",
       "  <th>Prob(Omnibus):</th> <td> 0.000</td>  <th>  Jarque-Bera (JB):  </th> <td>23057.500</td>\n",
       "</tr>\n",
       "<tr>\n",
       "  <th>Skew:</th>          <td> 4.319</td>  <th>  Prob(JB):          </th> <td>    0.00</td> \n",
       "</tr>\n",
       "<tr>\n",
       "  <th>Kurtosis:</th>      <td>28.792</td>  <th>  Cond. No.          </th> <td>    428.</td> \n",
       "</tr>\n",
       "</table>"
      ],
      "text/plain": [
       "<class 'statsmodels.iolib.summary.Summary'>\n",
       "\"\"\"\n",
       "                            OLS Regression Results                            \n",
       "==============================================================================\n",
       "Dep. Variable:                      y   R-squared:                       0.014\n",
       "Model:                            OLS   Adj. R-squared:                  0.013\n",
       "Method:                 Least Squares   F-statistic:                     10.97\n",
       "Date:                Tue, 11 Jul 2017   Prob (F-statistic):           0.000969\n",
       "Time:                        15:52:02   Log-Likelihood:                -5035.7\n",
       "No. Observations:                 748   AIC:                         1.008e+04\n",
       "Df Residuals:                     746   BIC:                         1.008e+04\n",
       "Df Model:                           1                                         \n",
       "Covariance Type:            nonrobust                                         \n",
       "==============================================================================\n",
       "                 coef    std err          t      P>|t|      [0.025      0.975]\n",
       "------------------------------------------------------------------------------\n",
       "const        212.3007     16.776     12.655      0.000     179.366     245.235\n",
       "x1             0.2932      0.089      3.313      0.001       0.119       0.467\n",
       "==============================================================================\n",
       "Omnibus:                      703.960   Durbin-Watson:                   1.290\n",
       "Prob(Omnibus):                  0.000   Jarque-Bera (JB):            23057.500\n",
       "Skew:                           4.319   Prob(JB):                         0.00\n",
       "Kurtosis:                      28.792   Cond. No.                         428.\n",
       "==============================================================================\n",
       "\n",
       "Warnings:\n",
       "[1] Standard Errors assume that the covariance matrix of the errors is correctly specified.\n",
       "\"\"\""
      ]
     },
     "execution_count": 146,
     "metadata": {},
     "output_type": "execute_result"
    },
    {
     "name": "stdout",
     "output_type": "stream",
     "text": [
      "time: 20 ms\n"
     ]
    }
   ],
   "source": [
    "xx_Nike = sm.add_constant(xx_Nike)\n",
    "model_nike = sm.OLS(yy_Nike.values, xx_Nike.values)\n",
    "model_nike = model_nike.fit()\n",
    "model_nike.summary()"
   ]
  },
  {
   "cell_type": "code",
   "execution_count": 151,
   "metadata": {},
   "outputs": [
    {
     "data": {
      "image/png": "[encoded data removed]",
      "text/plain": [
       "<matplotlib.figure.Figure at 0x12775320>"
      ]
     },
     "metadata": {},
     "output_type": "display_data"
    },
    {
     "name": "stdout",
     "output_type": "stream",
     "text": [
      "time: 32.2 s\n"
     ]
    }
   ],
   "source": [
    "sns.swarmplot(x='year', y='lastSale', data=topshoes[topshoes.year>2010], hue='brand')\n",
    "plt.xticks(rotation=90)\n",
    "plt.title('Last Sold at Price since 2011')\n",
    "plt.show()"
   ]
  },
  {
   "cell_type": "code",
   "execution_count": 152,
   "metadata": {},
   "outputs": [
    {
     "data": {
      "image/png": "[encoded data removed]",
      "text/plain": [
       "<matplotlib.figure.Figure at 0x156471d0>"
      ]
     },
     "metadata": {},
     "output_type": "display_data"
    },
    {
     "name": "stdout",
     "output_type": "stream",
     "text": [
      "time: 31.3 s\n"
     ]
    }
   ],
   "source": [
    "# Adidas didn't really come into the market until 2015. Let's look more closely\n",
    "sns.swarmplot(x='year', y='lastSale', data=topshoes[topshoes.year>2014], hue='brand')\n",
    "plt.legend(loc='best')\n",
    "plt.xlabel('Year')\n",
    "plt.ylabel('Last Sold Price ($)')\n",
    "plt.title('Last Sold at Price since 2015')\n",
    "plt.show()"
   ]
  },
  {
   "cell_type": "code",
   "execution_count": 80,
   "metadata": {},
   "outputs": [
    {
     "data": {
      "image/png": "[encoded data removed]",
      "text/plain": [
       "<matplotlib.figure.Figure at 0x536c908>"
      ]
     },
     "metadata": {},
     "output_type": "display_data"
    },
    {
     "name": "stdout",
     "output_type": "stream",
     "text": [
      "time: 238 ms\n"
     ]
    }
   ],
   "source": [
    "# Did Adidas increase market share (on StockX) in pure number of listings?\n",
    "sub_tops = topshoes[topshoes.year>2010].groupby(['year', 'brand'])['brand'].count().unstack().fillna(0)\n",
    "sub_tops = sub_tops.T\n",
    "sub_tops = sub_tops.div(sub_tops.sum())\n",
    "sub_tops = sub_tops.T\n",
    "\n",
    "sub_tops.plot(kind='bar', stacked=True)\n",
    "plt.legend(bbox_to_anchor=(1.1, 1.05))\n",
    "plt.show()"
   ]
  },
  {
   "cell_type": "code",
   "execution_count": 81,
   "metadata": {},
   "outputs": [
    {
     "data": {
      "image/png": "[encoded data removed]",
      "text/plain": [
       "<matplotlib.figure.Figure at 0x19a63e80>"
      ]
     },
     "metadata": {},
     "output_type": "display_data"
    },
    {
     "name": "stdout",
     "output_type": "stream",
     "text": [
      "time: 232 ms\n"
     ]
    }
   ],
   "source": [
    "# Did Adidas increase in terms of sneakerhead influence, measured by sum of rarity?\n",
    "sub_tops = topshoes[topshoes.year>2010].groupby(['year', 'brand'])['rarity'].sum().unstack().fillna(0)\n",
    "sub_tops = sub_tops.T\n",
    "sub_tops = sub_tops.div(sub_tops.sum())\n",
    "sub_tops = sub_tops.T\n",
    "\n",
    "sub_tops.plot(kind='bar', stacked=True)\n",
    "plt.legend(bbox_to_anchor=(1.1, 1.05))\n",
    "plt.show()"
   ]
  },
  {
   "cell_type": "code",
   "execution_count": 153,
   "metadata": {},
   "outputs": [
    {
     "data": {
      "image/png": "[encoded data removed]",
      "text/plain": [
       "<matplotlib.figure.Figure at 0xef5a780>"
      ]
     },
     "metadata": {},
     "output_type": "display_data"
    },
    {
     "name": "stdout",
     "output_type": "stream",
     "text": [
      "time: 237 ms\n"
     ]
    }
   ],
   "source": [
    "import scipy.stats as stats\n",
    "#H0 - The average rarity of Adidas is the same as the average rarity of Nike since 2015\n",
    "#H1 - The average rarity of Adidas is NOT the same as the average rarity of Nike since 2015\n",
    "# threshold -> 5%\n",
    "\n",
    "nike_rarity = topshoes[(topshoes.year>=2015) & (topshoes.brand=='Nike')].rarity\n",
    "adidas_rarity = topshoes[(topshoes.year>=2015) & (topshoes.brand=='Adidas')].rarity\n",
    "\n",
    "sns.kdeplot(nike_rarity, color='red', shade=True, legend=False)\n",
    "sns.kdeplot(adidas_rarity, color='blue', shade=True, legend=False)\n",
    "plt.axvline(x=nike_rarity.mean(), ymin=0.05, c='r', ls='--')\n",
    "plt.axvline(x=adidas_rarity.mean(), ymin=0.05, c='b', ls='--')\n",
    "plt.xlim([0,4])\n",
    "plt.legend(['Nike', 'Adidas']);"
   ]
  },
  {
   "cell_type": "code",
   "execution_count": 159,
   "metadata": {},
   "outputs": [
    {
     "data": {
      "text/plain": [
       "Ttest_indResult(statistic=-2.1149211135360542, pvalue=0.034693560028138871)"
      ]
     },
     "execution_count": 159,
     "metadata": {},
     "output_type": "execute_result"
    },
    {
     "name": "stdout",
     "output_type": "stream",
     "text": [
      "time: 10 ms\n"
     ]
    }
   ],
   "source": [
    "stats.ttest_ind(nike_rarity, adidas_rarity)\n",
    "# p < 0.05. So we reject the null hypothesis that the averages are the same. They are\n",
    "# in fact different. Statistically, Adidas has a higher average rarity since 2015."
   ]
  },
  {
   "cell_type": "markdown",
   "metadata": {},
   "source": [
    "## Part 4 - Natural Language Processing & Modeling\n"
   ]
  },
  {
   "cell_type": "code",
   "execution_count": 50,
   "metadata": {},
   "outputs": [
    {
     "name": "stdout",
     "output_type": "stream",
     "text": [
      "time: 4.95 s\n"
     ]
    }
   ],
   "source": [
    "# NLP\n",
    "from nltk.stem import SnowballStemmer\n",
    "from sklearn.feature_extraction.text import CountVectorizer, HashingVectorizer, TfidfVectorizer, TfidfTransformer\n",
    "\n",
    "# Metrics & Preprocessing\n",
    "from sklearn.metrics import accuracy_score, completeness_score, silhouette_score, confusion_matrix\n",
    "from sklearn.preprocessing import StandardScaler\n",
    "from sklearn.model_selection import train_test_split, cross_val_score\n",
    "from sklearn.decomposition import PCA\n",
    "\n",
    "# Models\n",
    "from sklearn.svm import SVC\n",
    "from sklearn.linear_model import LogisticRegression, LinearRegression\n",
    "from sklearn.ensemble import RandomForestClassifier\n",
    "from sklearn.neighbors import KNeighborsClassifier\n",
    "from sklearn.naive_bayes import BernoulliNB, MultinomialNB\n",
    "from sklearn.model_selection import GridSearchCV"
   ]
  },
  {
   "cell_type": "code",
   "execution_count": 51,
   "metadata": {},
   "outputs": [
    {
     "name": "stdout",
     "output_type": "stream",
     "text": [
      "time: 166 ms\n"
     ]
    }
   ],
   "source": [
    "# Going to make a copy of the dataframe in case any changes are made later on\n",
    "tops = topshoes.copy()\n",
    "\n",
    "# Maybe the colorway is an indicator of averageDeadstockPrice\n",
    "snow = SnowballStemmer('english')\n",
    "\n",
    "# placeholder = pd.Series('Colorway_token')\n",
    "placeholder = pd.Series(tops.colorway.apply(lambda x: x.replace(\"/\",\" \").replace('-',' ').split(\" \")))\n",
    "\n",
    "tops['colorway_token'] = placeholder.apply(lambda x: \" \".join([snow.stem(y) for y in x]))"
   ]
  },
  {
   "cell_type": "code",
   "execution_count": 156,
   "metadata": {},
   "outputs": [
    {
     "name": "stdout",
     "output_type": "stream",
     "text": [
      "0.506172839506\n",
      "time: 4 ms\n"
     ]
    }
   ],
   "source": [
    "baseline = max(1 - tops.rarity_bool.mean(), tops.rarity_bool.mean())\n",
    "print baseline"
   ]
  },
  {
   "cell_type": "code",
   "execution_count": 53,
   "metadata": {},
   "outputs": [
    {
     "name": "stdout",
     "output_type": "stream",
     "text": [
      "time: 25 ms\n"
     ]
    }
   ],
   "source": [
    "# Going to try several vectorizers and models. Better to write a function that will do this in one step.\n",
    "def tokenize_test(text, vect, model):\n",
    "    '''Arguments are text, vect, model, target (in strings), X_train, X_test, y_train, y_test.\n",
    "    Used to find the accuracy of the rarity.'''\n",
    "    X = tops[text]\n",
    "    y = tops['rarity_bool']\n",
    "    X_train, X_test, y_train, y_test = train_test_split(X, y, train_size = .8, random_state=42)\n",
    "    X_train_dtm = vect.fit_transform(X_train)\n",
    "    \n",
    "    X_test_dtm = vect.transform(X_test)\n",
    "    model.fit(X_train_dtm, y_train)\n",
    "    y_pred_class = model.predict(X_test_dtm)\n",
    "    return accuracy_score(y_test, y_pred_class)\n",
    "\n",
    "# Making a function to make a dataframe for the accuracy results of tokenize_test\n",
    "def accuracy_df_maker(models, vectors, texts, last_df=False):\n",
    "    '''models and vectors are dictionarys with key as the label and value as the object.\n",
    "    texts is a list of features to test on. Returns a sorted dataframe with accuracy scores\n",
    "    of every model, vectorizer, and feature combintion'''\n",
    "    Accuracy_scores = []\n",
    "    for model_k, model_v in models.items():\n",
    "        for vect_k, vect_v in vectors.items():\n",
    "            for text in texts:\n",
    "                Accuracy_scores.append((model_k, vect_k, text, tokenize_test(text, vect_v, model_v)))\n",
    "    \n",
    "    df = pd.DataFrame(Accuracy_scores, columns=['Model', 'Vectorizer', 'Feature', 'Accuracy_score'])\n",
    "    \n",
    "    if isinstance(last_df,pd.DataFrame):\n",
    "        df = pd.concat([last_df, df])\n",
    "    \n",
    "    return df.sort_values('Accuracy_score', ascending=False).reset_index(drop=True)"
   ]
  },
  {
   "cell_type": "code",
   "execution_count": 54,
   "metadata": {},
   "outputs": [
    {
     "name": "stdout",
     "output_type": "stream",
     "text": [
      "time: 5.95 s\n"
     ]
    }
   ],
   "source": [
    "# Parameter set up\n",
    "ng = (2,5)\n",
    "cvec, hvec, tvec = CountVectorizer(ngram_range=ng), HashingVectorizer(ngram_range=ng), TfidfVectorizer(ngram_range=ng)\n",
    "\n",
    "models = {'SVC':SVC(), 'Log':LogisticRegression(), 'Bernoulli':BernoulliNB(), 'KNN':KNeighborsClassifier()}\n",
    "vectors = {'CVEC':cvec, 'HVEC':hvec, 'TVEC': tvec}\n",
    "texts = ['colorway_token', 'category', 'title', 'name']\n",
    "\n",
    "# Function run\n",
    "nlp = accuracy_df_maker(models, vectors, texts)"
   ]
  },
  {
   "cell_type": "code",
   "execution_count": 55,
   "metadata": {},
   "outputs": [
    {
     "name": "stdout",
     "output_type": "stream",
     "text": [
      "time: 3.4 s\n"
     ]
    }
   ],
   "source": [
    "# Separate functions because random forest with hashing takes more than 3 minutes with worse results.\n",
    "# Same with Multinomial. Combining all into one dataframe, nlp_df\n",
    "\n",
    "models2 = {'Random Forest':RandomForestClassifier(), 'Multinomial':MultinomialNB()}\n",
    "vectors2 = {'CVEC':cvec, 'TVEC':tvec}\n",
    "\n",
    "nlp2 = accuracy_df_maker(models2, vectors2, texts, last_df=nlp)"
   ]
  },
  {
   "cell_type": "code",
   "execution_count": 56,
   "metadata": {},
   "outputs": [
    {
     "name": "stdout",
     "output_type": "stream",
     "text": [
      "time: 52.6 s\n"
     ]
    }
   ],
   "source": [
    "# Trying bagging and boosting. Again hashing takes too long and doesn't increase score by much. So taking out.\n",
    "\n",
    "# Model Set up\n",
    "from sklearn.ensemble import BaggingClassifier, AdaBoostClassifier\n",
    "from sklearn.tree import DecisionTreeClassifier\n",
    "dtree = DecisionTreeClassifier()\n",
    "bagger = BaggingClassifier(dtree, max_samples=1.0, max_features=1.0)\n",
    "booster = AdaBoostClassifier(dtree, n_estimators=50, learning_rate=1.0)\n",
    "\n",
    "# Parameter setup\n",
    "models3 = {'Bagger':bagger, 'Booster':booster}\n",
    "\n",
    "df = accuracy_df_maker(models3, vectors2, texts, last_df=nlp2)"
   ]
  },
  {
   "cell_type": "code",
   "execution_count": 57,
   "metadata": {},
   "outputs": [
    {
     "name": "stdout",
     "output_type": "stream",
     "text": [
      "Baseline:  0.506172839506\n"
     ]
    },
    {
     "data": {
      "text/html": [
       "<div>\n",
       "<style>\n",
       "    .dataframe thead tr:only-child th {\n",
       "        text-align: right;\n",
       "    }\n",
       "\n",
       "    .dataframe thead th {\n",
       "        text-align: left;\n",
       "    }\n",
       "\n",
       "    .dataframe tbody tr th {\n",
       "        vertical-align: top;\n",
       "    }\n",
       "</style>\n",
       "<table border=\"1\" class=\"dataframe\">\n",
       "  <thead>\n",
       "    <tr style=\"text-align: right;\">\n",
       "      <th></th>\n",
       "      <th>Model</th>\n",
       "      <th>Vectorizer</th>\n",
       "      <th>Feature</th>\n",
       "      <th>Accuracy_score</th>\n",
       "    </tr>\n",
       "  </thead>\n",
       "  <tbody>\n",
       "    <tr>\n",
       "      <th>0</th>\n",
       "      <td>Log</td>\n",
       "      <td>TVEC</td>\n",
       "      <td>title</td>\n",
       "      <td>0.597855</td>\n",
       "    </tr>\n",
       "    <tr>\n",
       "      <th>1</th>\n",
       "      <td>Multinomial</td>\n",
       "      <td>CVEC</td>\n",
       "      <td>title</td>\n",
       "      <td>0.592493</td>\n",
       "    </tr>\n",
       "    <tr>\n",
       "      <th>2</th>\n",
       "      <td>Multinomial</td>\n",
       "      <td>TVEC</td>\n",
       "      <td>title</td>\n",
       "      <td>0.587131</td>\n",
       "    </tr>\n",
       "    <tr>\n",
       "      <th>3</th>\n",
       "      <td>Booster</td>\n",
       "      <td>CVEC</td>\n",
       "      <td>category</td>\n",
       "      <td>0.587131</td>\n",
       "    </tr>\n",
       "    <tr>\n",
       "      <th>4</th>\n",
       "      <td>Log</td>\n",
       "      <td>CVEC</td>\n",
       "      <td>title</td>\n",
       "      <td>0.584450</td>\n",
       "    </tr>\n",
       "    <tr>\n",
       "      <th>5</th>\n",
       "      <td>Log</td>\n",
       "      <td>TVEC</td>\n",
       "      <td>category</td>\n",
       "      <td>0.584450</td>\n",
       "    </tr>\n",
       "  </tbody>\n",
       "</table>\n",
       "</div>"
      ],
      "text/plain": [
       "         Model Vectorizer   Feature  Accuracy_score\n",
       "0          Log       TVEC     title        0.597855\n",
       "1  Multinomial       CVEC     title        0.592493\n",
       "2  Multinomial       TVEC     title        0.587131\n",
       "3      Booster       CVEC  category        0.587131\n",
       "4          Log       CVEC     title        0.584450\n",
       "5          Log       TVEC  category        0.584450"
      ]
     },
     "execution_count": 57,
     "metadata": {},
     "output_type": "execute_result"
    },
    {
     "name": "stdout",
     "output_type": "stream",
     "text": [
      "time: 28 ms\n"
     ]
    }
   ],
   "source": [
    "print 'Baseline: ', baseline\n",
    "df[df.Accuracy_score > baseline*1.15]"
   ]
  },
  {
   "cell_type": "code",
   "execution_count": 58,
   "metadata": {},
   "outputs": [
    {
     "name": "stdout",
     "output_type": "stream",
     "text": [
      "Fitting 5 folds for each of 200 candidates, totalling 1000 fits\n",
      "{'penalty': 'l2', 'C': 0.3944206059437656, 'solver': 'liblinear'}\n",
      "time: 5.63 s\n"
     ]
    },
    {
     "name": "stderr",
     "output_type": "stream",
     "text": [
      "[Parallel(n_jobs=1)]: Done 1000 out of 1000 | elapsed:    5.4s finished\n"
     ]
    }
   ],
   "source": [
    "# Trying to finetune models to achieve better accuracy scores\n",
    "\n",
    "X = tops.title\n",
    "y = tops.rarity_bool\n",
    "X_train, X_test, y_train, y_test = train_test_split(X, y, train_size = .8, random_state=42)\n",
    "\n",
    "X_train_dtm = tvec.fit_transform(X_train)\n",
    "X_test_dtm = tvec.transform(X_test)\n",
    "\n",
    "log_params = {\n",
    "    'penalty':['l1','l2'],\n",
    "    'solver':['liblinear'],\n",
    "    'C':np.logspace(-5,0,100)\n",
    "}\n",
    "lr_gridsearch = GridSearchCV(LogisticRegression(), log_params, cv=5, verbose=1)\n",
    "lr_gridsearch.fit(X_train_dtm, y_train)\n",
    "lr_dict = lr_gridsearch.best_params_\n",
    "print lr_dict"
   ]
  },
  {
   "cell_type": "code",
   "execution_count": 59,
   "metadata": {
    "scrolled": true
   },
   "outputs": [
    {
     "name": "stdout",
     "output_type": "stream",
     "text": [
      "0.592493297587 0.597855227882\n",
      "time: 18 ms\n"
     ]
    }
   ],
   "source": [
    "logreg = LogisticRegression(C=lr_dict['C'], penalty=lr_dict['penalty'], solver=lr_dict['solver'])\n",
    "logreg.fit(X_train_dtm, y_train)\n",
    "print accuracy_score(y_test, logreg.predict(X_test_dtm)), df.iloc[0,-1]"
   ]
  },
  {
   "cell_type": "code",
   "execution_count": 60,
   "metadata": {},
   "outputs": [
    {
     "name": "stdout",
     "output_type": "stream",
     "text": [
      "0.587131367292\n",
      "time: 129 ms\n"
     ]
    }
   ],
   "source": [
    "# Trying to do PCA on these word vectors to achieve better score:\n",
    "from sklearn.decomposition import TruncatedSVD\n",
    "\n",
    "X = tops.category\n",
    "y = tops.rarity_bool\n",
    "X_train, X_test, y_train, y_test = train_test_split(X, y, train_size = .8, random_state=42)\n",
    "X_train_dtm = cvec.fit_transform(X_train)\n",
    "X_test_dtm = cvec.transform(X_test)\n",
    "\n",
    "svd = TruncatedSVD(n_components=50)\n",
    "svd_words = svd.fit_transform(X_train_dtm)\n",
    "\n",
    "logreg.fit(svd_words, y_train)\n",
    "svd_pred_df = pd.DataFrame(logreg.predict(svd.transform(X_test_dtm)))\n",
    "\n",
    "print accuracy_score(y_test, svd_pred_df.iloc[:,:])\n",
    "# Due to randomness, results show values from 0.53 to 0.60, which would fall on the top half of model performance"
   ]
  },
  {
   "cell_type": "markdown",
   "metadata": {},
   "source": [
    "## Part 5 - Clustering"
   ]
  },
  {
   "cell_type": "code",
   "execution_count": 61,
   "metadata": {},
   "outputs": [
    {
     "name": "stdout",
     "output_type": "stream",
     "text": [
      "time: 50 ms\n"
     ]
    }
   ],
   "source": [
    "cv_color = CountVectorizer(max_features=20, stop_words=['core'], ngram_range=(1,2))\n",
    "all_colors = cv_color.fit_transform(tops.colorway_token)\n",
    "color_df = pd.DataFrame(all_colors.todense(), columns=cv_color.get_feature_names())"
   ]
  },
  {
   "cell_type": "code",
   "execution_count": 62,
   "metadata": {},
   "outputs": [
    {
     "name": "stdout",
     "output_type": "stream",
     "text": [
      "time: 93 ms\n"
     ]
    }
   ],
   "source": [
    "#### Dummy variables ####\n",
    "# Change brand to 0, 1, 2\n",
    "# Change category based on words [Yeezy, NMD, Air Jordan, Ultra Boost, Adidas/Nike Other, \n",
    "# Air Max, Iniki, Air Force, Foamposite, LeBron, KD, Nike SB, Kobe, Nike Basketball/Other]\n",
    "# Change colorway based on color spectrum colors (color_df.columns)\n",
    "\n",
    "tops.brand = tops.brand.astype('category').cat.codes\n",
    "\n",
    "category_list = ['Yeezy', 'NMD', 'Air Jordan', 'Ultra Boost', 'adidas Other', 'Nike Other', 'Air Max',\n",
    "                'Iniki', 'Air Force', 'Foamposite', 'LeBron', 'KD', 'Nike SB', 'Kobe', 'Nike Basketball']\n",
    "for cat in category_list:\n",
    "    tops[cat] = tops.category.map(lambda x: 1 if cat.lower() in x.lower() else 0)\n",
    "    \n",
    "color_list = list(color_df.columns)    \n",
    "for color in color_list:\n",
    "    tops[color] = tops.colorway_token.map(lambda x: 1 if color.lower() in x.lower() else 0)\n",
    "    \n",
    "# Change all spaces to _ in column names\n",
    "tops.columns = tops.columns.str.replace(' ','_')"
   ]
  },
  {
   "cell_type": "markdown",
   "metadata": {},
   "source": [
    "---\n",
    "\n",
    "# Do clustering with colors/category/colors&category\n",
    "\n",
    "---"
   ]
  },
  {
   "cell_type": "code",
   "execution_count": 63,
   "metadata": {},
   "outputs": [
    {
     "data": {
      "text/plain": [
       "u'Yeezy + NMD + Air_Jordan + Ultra_Boost + adidas_Other + Nike_Other + Air_Max + Iniki + Air_Force + Foamposite + LeBron + KD + Nike_SB + Kobe + Nike_Basketball + black + black_black + black_white + blue + dark + gold + green + grey + light + metal + metal_gold + metal_silver + red + silver + univers + univers_red + varsiti + varsiti_red + white + white_black'"
      ]
     },
     "execution_count": 63,
     "metadata": {},
     "output_type": "execute_result"
    },
    {
     "name": "stdout",
     "output_type": "stream",
     "text": [
      "time: 11 ms\n"
     ]
    }
   ],
   "source": [
    "col_list = tops.loc[:,'Yeezy':].columns\n",
    "mat_string = ' + '.join(col_list)\n",
    "mat_string"
   ]
  },
  {
   "cell_type": "code",
   "execution_count": 64,
   "metadata": {},
   "outputs": [
    {
     "name": "stdout",
     "output_type": "stream",
     "text": [
      "time: 319 ms\n"
     ]
    }
   ],
   "source": [
    "import patsy\n",
    "other_var = '''retailPrice + absChangePercentage + annualHigh + annualLow + averageDeadstockPrice + \n",
    "deadstockRangeHigh + deadstockRangeLow + brand + deadstockSold + highestBid + lastSale + lowestAsk + \n",
    "salesLast72Hours + volatility + rarity - 1'''\n",
    "matrix_string = 'category ~ ' + other_var + ' + ' + mat_string\n",
    "\n",
    "y_cluster, X_cluster = patsy.dmatrices(matrix_string, tops)"
   ]
  },
  {
   "cell_type": "code",
   "execution_count": 65,
   "metadata": {},
   "outputs": [
    {
     "name": "stdout",
     "output_type": "stream",
     "text": [
      "[-1  0  1  2  3  6  4  5  9  7  8]\n",
      "Not in a class %: 24.154589372\n",
      "In first class %: 55.0724637681\n",
      "In remaining classes %: 20.7729468599\n",
      "------------------------\n",
      "Last label count: 41\n",
      "time: 1.02 s\n"
     ]
    }
   ],
   "source": [
    "from sklearn.cluster import DBSCAN, KMeans\n",
    "ss = StandardScaler()\n",
    "Xs = ss.fit_transform(X_cluster)\n",
    "\n",
    "db = DBSCAN(eps=5, min_samples=20)\n",
    "db.fit(Xs)\n",
    "\n",
    "print pd.Series(db.labels_).unique()\n",
    "print 'Not in a class %:', list(db.labels_).count(-1)/float(len(tops)) * 100\n",
    "print 'In first class %:', list(db.labels_).count(0)/float(len(tops)) * 100\n",
    "print 'In remaining classes %:', 100 - (list(db.labels_).count(-1)/float(len(tops)) * 100 + list(db.labels_).count(0)/float(len(tops)) * 100)\n",
    "print '------------------------'\n",
    "print 'Last label count:', list(db.labels_).count(pd.Series(db.labels_).unique()[-1])\n",
    "\n",
    "tops['cluster_label'] = pd.Series(db.labels_)"
   ]
  },
  {
   "cell_type": "code",
   "execution_count": 66,
   "metadata": {},
   "outputs": [
    {
     "name": "stdout",
     "output_type": "stream",
     "text": [
      "3    944\n",
      "2    440\n",
      "1    201\n",
      "5    119\n",
      "4    109\n",
      "0     50\n",
      "dtype: int64\n",
      "time: 133 ms\n"
     ]
    }
   ],
   "source": [
    "# KMeans\n",
    "km = KMeans(n_clusters=6, random_state=42)\n",
    "km.fit(Xs)\n",
    "pd.Series(km.labels_).unique()\n",
    "\n",
    "print pd.Series(km.labels_).value_counts()\n",
    "\n",
    "tops['cluster_label'] = pd.Series(km.labels_)"
   ]
  },
  {
   "cell_type": "code",
   "execution_count": 67,
   "metadata": {},
   "outputs": [
    {
     "data": {
      "text/html": [
       "<div>\n",
       "<style>\n",
       "    .dataframe thead tr:only-child th {\n",
       "        text-align: right;\n",
       "    }\n",
       "\n",
       "    .dataframe thead th {\n",
       "        text-align: left;\n",
       "    }\n",
       "\n",
       "    .dataframe tbody tr th {\n",
       "        vertical-align: top;\n",
       "    }\n",
       "</style>\n",
       "<table border=\"1\" class=\"dataframe\">\n",
       "  <thead>\n",
       "    <tr style=\"text-align: right;\">\n",
       "      <th></th>\n",
       "      <th>brand</th>\n",
       "      <th>retailPrice</th>\n",
       "      <th>year</th>\n",
       "      <th>absChangePercentage</th>\n",
       "      <th>annualHigh</th>\n",
       "      <th>annualLow</th>\n",
       "      <th>averageDeadstockPrice</th>\n",
       "      <th>changePercentage</th>\n",
       "      <th>changeValue</th>\n",
       "      <th>deadstockRangeHigh</th>\n",
       "      <th>...</th>\n",
       "      <th>metal_silver</th>\n",
       "      <th>red</th>\n",
       "      <th>silver</th>\n",
       "      <th>univers</th>\n",
       "      <th>univers_red</th>\n",
       "      <th>varsiti</th>\n",
       "      <th>varsiti_red</th>\n",
       "      <th>white</th>\n",
       "      <th>white_black</th>\n",
       "      <th>cluster_label</th>\n",
       "    </tr>\n",
       "  </thead>\n",
       "  <tbody>\n",
       "    <tr>\n",
       "      <th>count</th>\n",
       "      <td>50.000000</td>\n",
       "      <td>50.000000</td>\n",
       "      <td>50.00000</td>\n",
       "      <td>50.000000</td>\n",
       "      <td>50.000000</td>\n",
       "      <td>50.000000</td>\n",
       "      <td>50.000</td>\n",
       "      <td>50.000000</td>\n",
       "      <td>50.000000</td>\n",
       "      <td>50.000000</td>\n",
       "      <td>...</td>\n",
       "      <td>50.000000</td>\n",
       "      <td>50.000000</td>\n",
       "      <td>50.000000</td>\n",
       "      <td>50.000000</td>\n",
       "      <td>50.000000</td>\n",
       "      <td>50.000000</td>\n",
       "      <td>50.000000</td>\n",
       "      <td>50.000000</td>\n",
       "      <td>50.000000</td>\n",
       "      <td>50.0</td>\n",
       "    </tr>\n",
       "    <tr>\n",
       "      <th>mean</th>\n",
       "      <td>0.920000</td>\n",
       "      <td>196.960000</td>\n",
       "      <td>2014.24000</td>\n",
       "      <td>0.219455</td>\n",
       "      <td>2405.920000</td>\n",
       "      <td>806.200000</td>\n",
       "      <td>1350.560</td>\n",
       "      <td>-0.027550</td>\n",
       "      <td>-119.620000</td>\n",
       "      <td>1536.580000</td>\n",
       "      <td>...</td>\n",
       "      <td>0.020000</td>\n",
       "      <td>0.200000</td>\n",
       "      <td>0.020000</td>\n",
       "      <td>0.020000</td>\n",
       "      <td>0.020000</td>\n",
       "      <td>0.080000</td>\n",
       "      <td>0.060000</td>\n",
       "      <td>0.380000</td>\n",
       "      <td>0.020000</td>\n",
       "      <td>0.0</td>\n",
       "    </tr>\n",
       "    <tr>\n",
       "      <th>std</th>\n",
       "      <td>0.853325</td>\n",
       "      <td>100.351619</td>\n",
       "      <td>3.66205</td>\n",
       "      <td>0.191647</td>\n",
       "      <td>1480.500423</td>\n",
       "      <td>262.527355</td>\n",
       "      <td>467.634</td>\n",
       "      <td>0.291715</td>\n",
       "      <td>434.109875</td>\n",
       "      <td>630.507573</td>\n",
       "      <td>...</td>\n",
       "      <td>0.141421</td>\n",
       "      <td>0.404061</td>\n",
       "      <td>0.141421</td>\n",
       "      <td>0.141421</td>\n",
       "      <td>0.141421</td>\n",
       "      <td>0.274048</td>\n",
       "      <td>0.239898</td>\n",
       "      <td>0.490314</td>\n",
       "      <td>0.141421</td>\n",
       "      <td>0.0</td>\n",
       "    </tr>\n",
       "    <tr>\n",
       "      <th>min</th>\n",
       "      <td>0.000000</td>\n",
       "      <td>65.000000</td>\n",
       "      <td>2001.00000</td>\n",
       "      <td>0.000000</td>\n",
       "      <td>1027.000000</td>\n",
       "      <td>350.000000</td>\n",
       "      <td>624.000</td>\n",
       "      <td>-0.529000</td>\n",
       "      <td>-1058.000000</td>\n",
       "      <td>764.000000</td>\n",
       "      <td>...</td>\n",
       "      <td>0.000000</td>\n",
       "      <td>0.000000</td>\n",
       "      <td>0.000000</td>\n",
       "      <td>0.000000</td>\n",
       "      <td>0.000000</td>\n",
       "      <td>0.000000</td>\n",
       "      <td>0.000000</td>\n",
       "      <td>0.000000</td>\n",
       "      <td>0.000000</td>\n",
       "      <td>0.0</td>\n",
       "    </tr>\n",
       "    <tr>\n",
       "      <th>25%</th>\n",
       "      <td>0.000000</td>\n",
       "      <td>150.000000</td>\n",
       "      <td>2014.00000</td>\n",
       "      <td>0.047910</td>\n",
       "      <td>1542.000000</td>\n",
       "      <td>612.500000</td>\n",
       "      <td>972.000</td>\n",
       "      <td>-0.223627</td>\n",
       "      <td>-350.000000</td>\n",
       "      <td>1158.000000</td>\n",
       "      <td>...</td>\n",
       "      <td>0.000000</td>\n",
       "      <td>0.000000</td>\n",
       "      <td>0.000000</td>\n",
       "      <td>0.000000</td>\n",
       "      <td>0.000000</td>\n",
       "      <td>0.000000</td>\n",
       "      <td>0.000000</td>\n",
       "      <td>0.000000</td>\n",
       "      <td>0.000000</td>\n",
       "      <td>0.0</td>\n",
       "    </tr>\n",
       "    <tr>\n",
       "      <th>50%</th>\n",
       "      <td>1.000000</td>\n",
       "      <td>177.500000</td>\n",
       "      <td>2016.00000</td>\n",
       "      <td>0.150901</td>\n",
       "      <td>2000.000000</td>\n",
       "      <td>813.000000</td>\n",
       "      <td>1388.000</td>\n",
       "      <td>0.012658</td>\n",
       "      <td>10.000000</td>\n",
       "      <td>1298.000000</td>\n",
       "      <td>...</td>\n",
       "      <td>0.000000</td>\n",
       "      <td>0.000000</td>\n",
       "      <td>0.000000</td>\n",
       "      <td>0.000000</td>\n",
       "      <td>0.000000</td>\n",
       "      <td>0.000000</td>\n",
       "      <td>0.000000</td>\n",
       "      <td>0.000000</td>\n",
       "      <td>0.000000</td>\n",
       "      <td>0.0</td>\n",
       "    </tr>\n",
       "    <tr>\n",
       "      <th>75%</th>\n",
       "      <td>2.000000</td>\n",
       "      <td>200.000000</td>\n",
       "      <td>2016.00000</td>\n",
       "      <td>0.373351</td>\n",
       "      <td>2700.000000</td>\n",
       "      <td>948.000000</td>\n",
       "      <td>1669.000</td>\n",
       "      <td>0.109787</td>\n",
       "      <td>195.250000</td>\n",
       "      <td>1762.000000</td>\n",
       "      <td>...</td>\n",
       "      <td>0.000000</td>\n",
       "      <td>0.000000</td>\n",
       "      <td>0.000000</td>\n",
       "      <td>0.000000</td>\n",
       "      <td>0.000000</td>\n",
       "      <td>0.000000</td>\n",
       "      <td>0.000000</td>\n",
       "      <td>1.000000</td>\n",
       "      <td>0.000000</td>\n",
       "      <td>0.0</td>\n",
       "    </tr>\n",
       "    <tr>\n",
       "      <th>max</th>\n",
       "      <td>2.000000</td>\n",
       "      <td>720.000000</td>\n",
       "      <td>2017.00000</td>\n",
       "      <td>0.548452</td>\n",
       "      <td>8550.000000</td>\n",
       "      <td>1715.000000</td>\n",
       "      <td>3059.000</td>\n",
       "      <td>0.548452</td>\n",
       "      <td>549.000000</td>\n",
       "      <td>3693.000000</td>\n",
       "      <td>...</td>\n",
       "      <td>1.000000</td>\n",
       "      <td>1.000000</td>\n",
       "      <td>1.000000</td>\n",
       "      <td>1.000000</td>\n",
       "      <td>1.000000</td>\n",
       "      <td>1.000000</td>\n",
       "      <td>1.000000</td>\n",
       "      <td>1.000000</td>\n",
       "      <td>1.000000</td>\n",
       "      <td>0.0</td>\n",
       "    </tr>\n",
       "  </tbody>\n",
       "</table>\n",
       "<p>8 rows × 55 columns</p>\n",
       "</div>"
      ],
      "text/plain": [
       "           brand  retailPrice        year  absChangePercentage   annualHigh  \\\n",
       "count  50.000000    50.000000    50.00000            50.000000    50.000000   \n",
       "mean    0.920000   196.960000  2014.24000             0.219455  2405.920000   \n",
       "std     0.853325   100.351619     3.66205             0.191647  1480.500423   \n",
       "min     0.000000    65.000000  2001.00000             0.000000  1027.000000   \n",
       "25%     0.000000   150.000000  2014.00000             0.047910  1542.000000   \n",
       "50%     1.000000   177.500000  2016.00000             0.150901  2000.000000   \n",
       "75%     2.000000   200.000000  2016.00000             0.373351  2700.000000   \n",
       "max     2.000000   720.000000  2017.00000             0.548452  8550.000000   \n",
       "\n",
       "         annualLow  averageDeadstockPrice  changePercentage  changeValue  \\\n",
       "count    50.000000                 50.000         50.000000    50.000000   \n",
       "mean    806.200000               1350.560         -0.027550  -119.620000   \n",
       "std     262.527355                467.634          0.291715   434.109875   \n",
       "min     350.000000                624.000         -0.529000 -1058.000000   \n",
       "25%     612.500000                972.000         -0.223627  -350.000000   \n",
       "50%     813.000000               1388.000          0.012658    10.000000   \n",
       "75%     948.000000               1669.000          0.109787   195.250000   \n",
       "max    1715.000000               3059.000          0.548452   549.000000   \n",
       "\n",
       "       deadstockRangeHigh      ...        metal_silver        red     silver  \\\n",
       "count           50.000000      ...           50.000000  50.000000  50.000000   \n",
       "mean          1536.580000      ...            0.020000   0.200000   0.020000   \n",
       "std            630.507573      ...            0.141421   0.404061   0.141421   \n",
       "min            764.000000      ...            0.000000   0.000000   0.000000   \n",
       "25%           1158.000000      ...            0.000000   0.000000   0.000000   \n",
       "50%           1298.000000      ...            0.000000   0.000000   0.000000   \n",
       "75%           1762.000000      ...            0.000000   0.000000   0.000000   \n",
       "max           3693.000000      ...            1.000000   1.000000   1.000000   \n",
       "\n",
       "         univers  univers_red    varsiti  varsiti_red      white  white_black  \\\n",
       "count  50.000000    50.000000  50.000000    50.000000  50.000000    50.000000   \n",
       "mean    0.020000     0.020000   0.080000     0.060000   0.380000     0.020000   \n",
       "std     0.141421     0.141421   0.274048     0.239898   0.490314     0.141421   \n",
       "min     0.000000     0.000000   0.000000     0.000000   0.000000     0.000000   \n",
       "25%     0.000000     0.000000   0.000000     0.000000   0.000000     0.000000   \n",
       "50%     0.000000     0.000000   0.000000     0.000000   0.000000     0.000000   \n",
       "75%     0.000000     0.000000   0.000000     0.000000   1.000000     0.000000   \n",
       "max     1.000000     1.000000   1.000000     1.000000   1.000000     1.000000   \n",
       "\n",
       "       cluster_label  \n",
       "count           50.0  \n",
       "mean             0.0  \n",
       "std              0.0  \n",
       "min              0.0  \n",
       "25%              0.0  \n",
       "50%              0.0  \n",
       "75%              0.0  \n",
       "max              0.0  \n",
       "\n",
       "[8 rows x 55 columns]"
      ]
     },
     "execution_count": 67,
     "metadata": {},
     "output_type": "execute_result"
    },
    {
     "name": "stdout",
     "output_type": "stream",
     "text": [
      "time: 111 ms\n"
     ]
    }
   ],
   "source": [
    "tops[tops.cluster_label == 0].describe()"
   ]
  },
  {
   "cell_type": "markdown",
   "metadata": {},
   "source": [
    "## Part 6 - Predicting Rarity (regression and classification)"
   ]
  },
  {
   "cell_type": "code",
   "execution_count": 68,
   "metadata": {},
   "outputs": [
    {
     "name": "stdout",
     "output_type": "stream",
     "text": [
      "time: 7 ms\n"
     ]
    }
   ],
   "source": [
    "# Now have a bunch more variables. Would be a good idea to do PCA on the features to avoid multicollinearity.\n",
    "num_df = tops.drop(['cluster_label','retailPrice', 'averageDeadstockPrice', 'releaseDate', \n",
    "                    'category', 'colorway', 'name', 'shoe', 'title', 'thumbUrl', \n",
    "                    'colorway_token', 'deadstockRangeHigh', 'deadstockRangeLow', 'rarity',\n",
    "                   'rarity_bool'], \n",
    "                    axis=1).copy()\n",
    "\n",
    "# Make another dataframe that doesn't include any colors or names to see if all those dummy variable creation mattered.\n",
    "no_extra_df = num_df.loc[:,:'volatility'].copy()"
   ]
  },
  {
   "cell_type": "code",
   "execution_count": 69,
   "metadata": {},
   "outputs": [
    {
     "name": "stdout",
     "output_type": "stream",
     "text": [
      "time: 11 ms\n"
     ]
    }
   ],
   "source": [
    "def setup(dropped_col=False, target='rarity', regression=True):\n",
    "    if dropped_col:\n",
    "        X = no_extra_df.drop(dropped_col,axis=1)\n",
    "    else:\n",
    "        X = no_extra_df\n",
    "    if regression:\n",
    "        y = tops[target]\n",
    "    else:\n",
    "        y = tops.rarity_bool\n",
    "        \n",
    "    X_train, X_test, y_train, y_test = train_test_split(X, y, train_size = .8, random_state=42)\n",
    "    Xs = ss.fit_transform(X_train)\n",
    "    Xst = ss.transform(X_test)\n",
    "    \n",
    "    return Xs, Xst, y_train, y_test"
   ]
  },
  {
   "cell_type": "code",
   "execution_count": 70,
   "metadata": {},
   "outputs": [
    {
     "name": "stdout",
     "output_type": "stream",
     "text": [
      "Best number of PC for linear pipeline: 4\n"
     ]
    },
    {
     "data": {
      "text/plain": [
       "0.74071033234308858"
      ]
     },
     "execution_count": 70,
     "metadata": {},
     "output_type": "execute_result"
    },
    {
     "name": "stdout",
     "output_type": "stream",
     "text": [
      "time: 2.14 s\n"
     ]
    }
   ],
   "source": [
    "from sklearn.pipeline import Pipeline, FeatureUnion\n",
    "\n",
    "Xs, Xst, y_train, y_test = setup()\n",
    "combined_features = FeatureUnion([('ss',StandardScaler()), ('pca', PCA())])\n",
    "\n",
    "lin_pipeline = Pipeline([('features', combined_features), ('linreg',LinearRegression())])\n",
    "log_pipeline = Pipeline([('features', combined_features), ('logreg', LogisticRegression())])\n",
    "\n",
    "lin_param = {\n",
    "    'features__pca__n_components':np.arange(len(no_extra_df.columns))\n",
    "}\n",
    "\n",
    "gs_lin = GridSearchCV(lin_pipeline,param_grid=lin_param, cv=10)\n",
    "gs_lin.fit(Xs, y_train)\n",
    "best_lin_params = gs_lin.best_params_['features__pca__n_components']\n",
    "print 'Best number of PC for linear pipeline:', best_lin_params\n",
    "\n",
    "# Linear regression with PCA\n",
    "lin_pipeline.set_params(features__pca__n_components=best_lin_params)\n",
    "lin_pipeline.fit(Xs, y_train)\n",
    "lin_pipeline.score(Xst, y_test)"
   ]
  },
  {
   "cell_type": "code",
   "execution_count": 71,
   "metadata": {},
   "outputs": [
    {
     "name": "stdout",
     "output_type": "stream",
     "text": [
      "Best number of PC for logistic pipeline: 1\n"
     ]
    },
    {
     "data": {
      "text/plain": [
       "0.81501340482573725"
      ]
     },
     "execution_count": 71,
     "metadata": {},
     "output_type": "execute_result"
    },
    {
     "name": "stdout",
     "output_type": "stream",
     "text": [
      "time: 1min 47s\n"
     ]
    }
   ],
   "source": [
    "# Logistic Regression with PCA\n",
    "Xs, Xst, y_train, y_test = setup(regression=False)\n",
    "\n",
    "log_param = {\n",
    "    'features__pca__n_components':np.arange(len(no_extra_df.columns)),\n",
    "    'logreg__penalty':['l1','l2'],\n",
    "    'logreg__solver':['liblinear'],\n",
    "    'logreg__C':np.logspace(-5,0,20)\n",
    "}\n",
    "\n",
    "gs_log = GridSearchCV(log_pipeline, param_grid=log_param, cv=10)\n",
    "gs_log.fit(Xs, y_train)\n",
    "log_pca = gs_log.best_params_['features__pca__n_components']\n",
    "log_penalty = gs_log.best_params_['logreg__penalty']\n",
    "log_solver = gs_log.best_params_['logreg__solver']\n",
    "log_C = gs_log.best_params_['logreg__C']\n",
    "print 'Best number of PC for logistic pipeline:', log_pca\n",
    "\n",
    "log_pipeline.set_params(features__pca__n_components=log_pca, \n",
    "                        logreg__penalty=log_penalty,\n",
    "                        logreg__solver=log_solver,\n",
    "                        logreg__C=log_C)\n",
    "log_pipeline.fit(Xs, y_train)\n",
    "log_pipeline.score(Xst, y_test)"
   ]
  },
  {
   "cell_type": "code",
   "execution_count": 72,
   "metadata": {},
   "outputs": [
    {
     "name": "stdout",
     "output_type": "stream",
     "text": [
      "R^2 score of Logistic regression with no PCA: 0.815013404826\n",
      "time: 43 ms\n"
     ]
    }
   ],
   "source": [
    "# Non-PCA logistic regression\n",
    "log_pipeline.set_params(features__pca__n_components=None,\n",
    "                        logreg__penalty=log_penalty,\n",
    "                        logreg__solver=log_solver,\n",
    "                        logreg__C=log_C)\n",
    "log_pipeline.fit(Xs, y_train)\n",
    "print 'R^2 score of Logistic regression with no PCA:', log_pipeline.score(Xst, y_test)\n",
    "logr_coef = log_pipeline.get_params()['logreg'].coef_"
   ]
  },
  {
   "cell_type": "code",
   "execution_count": 73,
   "metadata": {},
   "outputs": [
    {
     "data": {
      "text/html": [
       "<div>\n",
       "<style>\n",
       "    .dataframe thead tr:only-child th {\n",
       "        text-align: right;\n",
       "    }\n",
       "\n",
       "    .dataframe thead th {\n",
       "        text-align: left;\n",
       "    }\n",
       "\n",
       "    .dataframe tbody tr th {\n",
       "        vertical-align: top;\n",
       "    }\n",
       "</style>\n",
       "<table border=\"1\" class=\"dataframe\">\n",
       "  <thead>\n",
       "    <tr style=\"text-align: right;\">\n",
       "      <th></th>\n",
       "      <th>Feature</th>\n",
       "      <th>Coefficients</th>\n",
       "      <th>abs</th>\n",
       "    </tr>\n",
       "  </thead>\n",
       "  <tbody>\n",
       "    <tr>\n",
       "      <th>0</th>\n",
       "      <td>lastSale</td>\n",
       "      <td>0.810065</td>\n",
       "      <td>0.810065</td>\n",
       "    </tr>\n",
       "    <tr>\n",
       "      <th>1</th>\n",
       "      <td>annualLow</td>\n",
       "      <td>0.464792</td>\n",
       "      <td>0.464792</td>\n",
       "    </tr>\n",
       "    <tr>\n",
       "      <th>2</th>\n",
       "      <td>lowestAsk</td>\n",
       "      <td>0.453892</td>\n",
       "      <td>0.453892</td>\n",
       "    </tr>\n",
       "    <tr>\n",
       "      <th>3</th>\n",
       "      <td>highestBid</td>\n",
       "      <td>0.311488</td>\n",
       "      <td>0.311488</td>\n",
       "    </tr>\n",
       "    <tr>\n",
       "      <th>4</th>\n",
       "      <td>changeValue</td>\n",
       "      <td>-0.225615</td>\n",
       "      <td>0.225615</td>\n",
       "    </tr>\n",
       "    <tr>\n",
       "      <th>5</th>\n",
       "      <td>annualHigh</td>\n",
       "      <td>0.192621</td>\n",
       "      <td>0.192621</td>\n",
       "    </tr>\n",
       "    <tr>\n",
       "      <th>6</th>\n",
       "      <td>year</td>\n",
       "      <td>-0.169926</td>\n",
       "      <td>0.169926</td>\n",
       "    </tr>\n",
       "    <tr>\n",
       "      <th>7</th>\n",
       "      <td>deadstockSold</td>\n",
       "      <td>0.115606</td>\n",
       "      <td>0.115606</td>\n",
       "    </tr>\n",
       "    <tr>\n",
       "      <th>8</th>\n",
       "      <td>changePercentage</td>\n",
       "      <td>0.081137</td>\n",
       "      <td>0.081137</td>\n",
       "    </tr>\n",
       "    <tr>\n",
       "      <th>9</th>\n",
       "      <td>volatility</td>\n",
       "      <td>0.059098</td>\n",
       "      <td>0.059098</td>\n",
       "    </tr>\n",
       "    <tr>\n",
       "      <th>10</th>\n",
       "      <td>absChangePercentage</td>\n",
       "      <td>0.039890</td>\n",
       "      <td>0.039890</td>\n",
       "    </tr>\n",
       "    <tr>\n",
       "      <th>11</th>\n",
       "      <td>brand</td>\n",
       "      <td>0.022657</td>\n",
       "      <td>0.022657</td>\n",
       "    </tr>\n",
       "    <tr>\n",
       "      <th>12</th>\n",
       "      <td>salesLast72Hours</td>\n",
       "      <td>-0.012177</td>\n",
       "      <td>0.012177</td>\n",
       "    </tr>\n",
       "  </tbody>\n",
       "</table>\n",
       "</div>"
      ],
      "text/plain": [
       "                Feature  Coefficients       abs\n",
       "0              lastSale      0.810065  0.810065\n",
       "1             annualLow      0.464792  0.464792\n",
       "2             lowestAsk      0.453892  0.453892\n",
       "3            highestBid      0.311488  0.311488\n",
       "4           changeValue     -0.225615  0.225615\n",
       "5            annualHigh      0.192621  0.192621\n",
       "6                  year     -0.169926  0.169926\n",
       "7         deadstockSold      0.115606  0.115606\n",
       "8      changePercentage      0.081137  0.081137\n",
       "9            volatility      0.059098  0.059098\n",
       "10  absChangePercentage      0.039890  0.039890\n",
       "11                brand      0.022657  0.022657\n",
       "12     salesLast72Hours     -0.012177  0.012177"
      ]
     },
     "execution_count": 73,
     "metadata": {},
     "output_type": "execute_result"
    },
    {
     "name": "stdout",
     "output_type": "stream",
     "text": [
      "time: 27 ms\n"
     ]
    }
   ],
   "source": [
    "# Getting only the top coefficients from the logistic regression\n",
    "coef_df = pd.DataFrame(zip(no_extra_df.columns, logr_coef.flatten()), columns=['Feature', 'Coefficients'])\n",
    "coef_df['abs'] = abs(coef_df.Coefficients).copy()\n",
    "coef_df = coef_df.sort_values('abs', ascending=False).reset_index(drop=True)\n",
    "coef_df"
   ]
  },
  {
   "cell_type": "code",
   "execution_count": 74,
   "metadata": {},
   "outputs": [
    {
     "data": {
      "text/plain": [
       "0.87848110605532159"
      ]
     },
     "execution_count": 74,
     "metadata": {},
     "output_type": "execute_result"
    },
    {
     "name": "stdout",
     "output_type": "stream",
     "text": [
      "time: 26 ms\n"
     ]
    }
   ],
   "source": [
    "# Using only the top few coefficients as features\n",
    "Xs, Xst, y_train, y_test = setup(['lastSale', 'lowestAsk', 'highestBid'],target='lastSale', regression=True)\n",
    "lin_pipeline.set_params(features__pca__n_components=None)\n",
    "lin_pipeline.fit(Xs, y_train)\n",
    "lin_pipeline.score(Xst, y_test)"
   ]
  },
  {
   "cell_type": "code",
   "execution_count": 75,
   "metadata": {},
   "outputs": [
    {
     "data": {
      "text/html": [
       "<div>\n",
       "<style>\n",
       "    .dataframe thead tr:only-child th {\n",
       "        text-align: right;\n",
       "    }\n",
       "\n",
       "    .dataframe thead th {\n",
       "        text-align: left;\n",
       "    }\n",
       "\n",
       "    .dataframe tbody tr th {\n",
       "        vertical-align: top;\n",
       "    }\n",
       "</style>\n",
       "<table border=\"1\" class=\"dataframe\">\n",
       "  <thead>\n",
       "    <tr style=\"text-align: right;\">\n",
       "      <th></th>\n",
       "      <th>Feature</th>\n",
       "      <th>Coefficients</th>\n",
       "      <th>abs</th>\n",
       "    </tr>\n",
       "  </thead>\n",
       "  <tbody>\n",
       "    <tr>\n",
       "      <th>0</th>\n",
       "      <td>annualLow</td>\n",
       "      <td>90.772076</td>\n",
       "      <td>90.772076</td>\n",
       "    </tr>\n",
       "    <tr>\n",
       "      <th>1</th>\n",
       "      <td>changeValue</td>\n",
       "      <td>26.429120</td>\n",
       "      <td>26.429120</td>\n",
       "    </tr>\n",
       "    <tr>\n",
       "      <th>2</th>\n",
       "      <td>annualHigh</td>\n",
       "      <td>15.878960</td>\n",
       "      <td>15.878960</td>\n",
       "    </tr>\n",
       "    <tr>\n",
       "      <th>3</th>\n",
       "      <td>absChangePercentage</td>\n",
       "      <td>5.291642</td>\n",
       "      <td>5.291642</td>\n",
       "    </tr>\n",
       "    <tr>\n",
       "      <th>4</th>\n",
       "      <td>changePercentage</td>\n",
       "      <td>-3.907002</td>\n",
       "      <td>3.907002</td>\n",
       "    </tr>\n",
       "    <tr>\n",
       "      <th>5</th>\n",
       "      <td>salesLast72Hours</td>\n",
       "      <td>-3.614008</td>\n",
       "      <td>3.614008</td>\n",
       "    </tr>\n",
       "    <tr>\n",
       "      <th>6</th>\n",
       "      <td>volatility</td>\n",
       "      <td>-2.811035</td>\n",
       "      <td>2.811035</td>\n",
       "    </tr>\n",
       "    <tr>\n",
       "      <th>7</th>\n",
       "      <td>deadstockSold</td>\n",
       "      <td>2.163374</td>\n",
       "      <td>2.163374</td>\n",
       "    </tr>\n",
       "    <tr>\n",
       "      <th>8</th>\n",
       "      <td>brand</td>\n",
       "      <td>-1.683394</td>\n",
       "      <td>1.683394</td>\n",
       "    </tr>\n",
       "    <tr>\n",
       "      <th>9</th>\n",
       "      <td>year</td>\n",
       "      <td>-0.684067</td>\n",
       "      <td>0.684067</td>\n",
       "    </tr>\n",
       "  </tbody>\n",
       "</table>\n",
       "</div>"
      ],
      "text/plain": [
       "               Feature  Coefficients        abs\n",
       "0            annualLow     90.772076  90.772076\n",
       "1          changeValue     26.429120  26.429120\n",
       "2           annualHigh     15.878960  15.878960\n",
       "3  absChangePercentage      5.291642   5.291642\n",
       "4     changePercentage     -3.907002   3.907002\n",
       "5     salesLast72Hours     -3.614008   3.614008\n",
       "6           volatility     -2.811035   2.811035\n",
       "7        deadstockSold      2.163374   2.163374\n",
       "8                brand     -1.683394   1.683394\n",
       "9                 year     -0.684067   0.684067"
      ]
     },
     "execution_count": 75,
     "metadata": {},
     "output_type": "execute_result"
    },
    {
     "name": "stdout",
     "output_type": "stream",
     "text": [
      "time: 34 ms\n"
     ]
    }
   ],
   "source": [
    "linr_coef = lin_pipeline.get_params()['linreg'].coef_\n",
    "lr_coef_df = pd.DataFrame(zip(no_extra_df.drop(['lastSale','lowestAsk','highestBid'], axis=1).columns, \n",
    "                              linr_coef.flatten()), columns=['Feature', 'Coefficients'])\n",
    "lr_coef_df['abs'] = abs(lr_coef_df.Coefficients).copy()\n",
    "lr_coef_df.sort_values('abs', ascending=False, inplace=True)\n",
    "lr_coef_df.reset_index(drop=True)"
   ]
  },
  {
   "cell_type": "markdown",
   "metadata": {},
   "source": [
    "## Part 7 - Image Processing"
   ]
  },
  {
   "cell_type": "markdown",
   "metadata": {},
   "source": [
    "The code below is for image processing using Keras and Tensorflow. Unfortunately, these libraries don't play nicely with Windows. As a result, a virtual machine was used in another notebook. The forked repository is an extension of the deep learning repository by github user *[nirmalyaghosh](https://github.com/nirmalyaghosh/deep-learning-vm)*.\n",
    "\n",
    "Imaging code adapted from *[source1](https://pythonprogramming.net/automated-image-thresholding-python/?completed=/thresholding-python-function/)* and *[source2](http://pillow.readthedocs.io/en/3.4.x/reference/Image.html)*. Finally, pickling code was sourced from *[stackoverflow](https://stackoverflow.com/questions/11218477/how-can-i-use-pickle-to-save-a-dict)*.\n",
    "\n",
    "The code to transfer data is below in markdown mode for reading convenience. The rest of the code can be found at *[my github](https://github.com/chrisk447/deep-learning-vm/blob/master/notebooks/Capstone%20Image%20Processing.ipynb)*."
   ]
  },
  {
   "cell_type": "markdown",
   "metadata": {},
   "source": [
    "    # only gathering images for those that have images. (As of 7/7/2017)\n",
    "    import urllib3\n",
    "    from PIL import Image\n",
    "    import io\n",
    "\n",
    "    tops_with_pics = tops[tops.thumbUrl != '']\n",
    "    tops_with_pics.reset_index(drop=True, inplace=True)\n",
    "\n",
    "    # Interpreting the image as data and preparing it to be pickled.\n",
    "    pickled_array = []\n",
    "    counter = 0\n",
    "    for shoe_num in range(len(tops_with_pics)):\n",
    "        fd = urllib.urlopen(tops_with_pics.thumbUrl[shoe_num])\n",
    "        image_file = io.BytesIO(fd.read())\n",
    "        i = Image.open(image_file).convert('RGB')\n",
    "        iar = np.asarray(i)\n",
    "        iar.setflags(write=1)\n",
    "\n",
    "        pickled_array.append(iar)\n",
    "        sleep(0.5)\n",
    "        image_file.close()\n",
    "        fd.close()\n",
    "\n",
    "    # Pickling the feature data into the deep learning repository\n",
    "    with open('../../../keras/deep-learning-vm/notebooks/shoenumbers.pickle', 'wb') as handle:\n",
    "        pickle.dump(pickled_array, handle, protocol=2)\n",
    "\n",
    "    # Pickling the target data into the deep learning repository\n",
    "    with open('../../../keras/deep-learning-vm/notebooks/targetvars.pickle', 'wb') as handle2:\n",
    "        pickle.dump(tops_with_pics.rarity_bool.values, handle2, protocol=2)"
   ]
  },
  {
   "cell_type": "markdown",
   "metadata": {},
   "source": [
    "--- \n",
    "# Conclusion\n",
    "The most important features that can be found at release date for determining if a shoe is going to be rare is the year, lowestAsk, highestBid, and lastSale. The most important of those features is lastSale, the last price the shoe was sold for on all portals. Used PCA because some features are closely related (annualLow and annualHigh, etc.)\n",
    "\n",
    "Performing a linear regression for lastSale, it's determined mostly by annualLow, changeValue, and annualHigh. What's interesting is that brand does not determine last sale price nor rarity. All 3 brands have just as much chance to be rare, signifying Adidas' rise in sneakerhead culture.\n",
    "\n",
    "# changeValue is how much last sale changed by\n",
    "\n",
    "**Next step is, now that I have PC for rarity on a continuous scale, what can I do with it?**\n",
    "\n",
    "---"
   ]
  },
  {
   "cell_type": "code",
   "execution_count": null,
   "metadata": {
    "collapsed": true
   },
   "outputs": [],
   "source": []
  }
 ],
 "metadata": {
  "kernelspec": {
   "display_name": "Python 2",
   "language": "python",
   "name": "python2"
  },
  "language_info": {
   "codemirror_mode": {
    "name": "ipython",
    "version": 2
   },
   "file_extension": ".py",
   "mimetype": "text/x-python",
   "name": "python",
   "nbconvert_exporter": "python",
   "pygments_lexer": "ipython2",
   "version": "2.7.13"
  }
 },
 "nbformat": 4,
 "nbformat_minor": 2
}
