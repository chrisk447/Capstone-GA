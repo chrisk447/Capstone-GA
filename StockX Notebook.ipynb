{
 "cells": [
  {
   "cell_type": "markdown",
   "metadata": {},
   "source": [
    "# Capstone Project - Which Shoe is the Best for You?\n",
    "\n",
    "General Assembly passion project. Scrape or obtain data from resources online to develop a dataset to perform cleaning, EDA, and analysis on. Try to predict a model on common themes like: \n",
    "\n",
    "- Price\n",
    "- If item is in category A or B\n",
    "- Cluster and create groups\n",
    "- Recommender\n",
    "\n",
    "- Predict lowest amount a shoe will sell for? So people know what price to wait for before buying?\n",
    "\n",
    "---"
   ]
  },
  {
   "cell_type": "markdown",
   "metadata": {},
   "source": [
    "### Tasks\n",
    "1. Regression: Predict price (deadstock/retail) **OR** rarity of a shoe based on color, brand, desc, *reviews from Amazon?*, etc. \n",
    "    - Feature Selection\n",
    "2. Classification: Predict if shoe will be a rare (hot) shoe? - So if a new shoe with similar features come out, would it be rare or not?\n",
    "3. Make a recommendation based on clusters\n",
    "\n",
    "### Notes\n",
    "- Describe what deadstock price means\n",
    "- Maybe make construction material from category?\n",
    "- Trends - black or white shoes more popular\n",
    "- what is a good investment (category, color, etc.)? Return biggest bang for buck\n",
    "- Look for sales and volume data\n",
    "\n",
    "---\n",
    "\n",
    "### Reaches\n",
    "image recognition?\n",
    "\n",
    "python neural net libraries\n",
    "tensorflow\n",
    "\n",
    "Convolutional neural nets (cnn)\n",
    "\n",
    "fast.ai\n",
    "\n",
    "If pictures are well-framed, way to convert to a rgb dataframe\n",
    "############## MNIST digit recognition for python ####################\n",
    "\n",
    "could use pca at the end\n",
    "\n",
    "Have to use AWS\n",
    "\n",
    "Narrative: I'm bad at noticing shoe brands. what is this?\n",
    "\n",
    "Augment: cluster on visual properties on shoes"
   ]
  },
  {
   "cell_type": "code",
   "execution_count": 1,
   "metadata": {
    "collapsed": true
   },
   "outputs": [],
   "source": [
    "# Import libraries\n",
    "import warnings\n",
    "import pandas as pd\n",
    "import numpy as np\n",
    "import urllib\n",
    "import seaborn as sns\n",
    "import matplotlib.pyplot as plt\n",
    "from bs4 import BeautifulSoup\n",
    "import requests\n",
    "from time import sleep, strftime\n",
    "import ast\n",
    "from os import listdir\n",
    "\n",
    "%matplotlib inline\n",
    "%load_ext autotime"
   ]
  },
  {
   "cell_type": "markdown",
   "metadata": {},
   "source": [
    "**Testing one website and finding appropriate keys**\n",
    "\n",
    "Then run again on page 2."
   ]
  },
  {
   "cell_type": "code",
   "execution_count": 2,
   "metadata": {},
   "outputs": [
    {
     "name": "stdout",
     "output_type": "stream",
     "text": [
      "time: 353 ms\n"
     ]
    }
   ],
   "source": [
    "result = requests.get('https://stockx.com/api/browse?page=1&category=152')\n",
    "json_res = result.json()"
   ]
  },
  {
   "cell_type": "code",
   "execution_count": 3,
   "metadata": {},
   "outputs": [
    {
     "name": "stdout",
     "output_type": "stream",
     "text": [
      "Adidas-NMD-R1-Mystery-Blue\n",
      "130\n",
      "time: 400 ms\n"
     ]
    }
   ],
   "source": [
    "result = requests.get('https://stockx.com/api/browse?page=2&category=152')\n",
    "json_res = result.json()\n",
    "print json_res['Products'][0]['shortDescription']\n",
    "print json_res['Products'][0]['retailPrice']"
   ]
  },
  {
   "cell_type": "code",
   "execution_count": 4,
   "metadata": {},
   "outputs": [
    {
     "data": {
      "text/plain": [
       "{u'absChangePercentage': 0,\n",
       " u'annualHigh': 293,\n",
       " u'annualLow': 100,\n",
       " u'averageDeadstockPrice': 165,\n",
       " u'averageDeadstockPriceRank': 47,\n",
       " u'changePercentage': 0,\n",
       " u'changeValue': 0,\n",
       " u'createdAt': u'2017-02-22T00:24:31+00:00',\n",
       " u'deadstockRangeHigh': 134,\n",
       " u'deadstockRangeLow': 96,\n",
       " u'deadstockSold': 497,\n",
       " u'deadstockSoldRank': 24,\n",
       " u'highestBid': 121,\n",
       " u'lastHighestBidTime': 1499063579,\n",
       " u'lastLowestAskTime': 1498790021,\n",
       " u'lastSale': 115,\n",
       " u'lastSaleDate': u'2017-07-05T17:18:17+00:00',\n",
       " u'lowestAsk': 120,\n",
       " u'pricePremium': -0.115,\n",
       " u'pricePremiumRank': 90,\n",
       " u'productId': 0,\n",
       " u'productUuid': u'94aa6805-ac93-47d1-90e3-889aab20be6a',\n",
       " u'salesLast72Hours': 31,\n",
       " u'salesLastPeriod': 0,\n",
       " u'salesThisPeriod': 31,\n",
       " u'skuUuid': None,\n",
       " u'updatedAt': 1499273827,\n",
       " u'volatility': 0.165039}"
      ]
     },
     "execution_count": 4,
     "metadata": {},
     "output_type": "execute_result"
    },
    {
     "name": "stdout",
     "output_type": "stream",
     "text": [
      "time: 9 ms\n"
     ]
    }
   ],
   "source": [
    "# Valuable information in the market section\n",
    "json_res['Products'][0]['market']"
   ]
  },
  {
   "cell_type": "markdown",
   "metadata": {},
   "source": [
    "### Functions to run for loop to scrape website\n",
    "\n",
    "First function scrapes the web for an amount of pages (default 50). It will save the raw data as a csv as well. The second function will then clean the dataframe by taking out the unused columns."
   ]
  },
  {
   "cell_type": "code",
   "execution_count": 5,
   "metadata": {},
   "outputs": [
    {
     "name": "stdout",
     "output_type": "stream",
     "text": [
      "time: 15 ms\n"
     ]
    }
   ],
   "source": [
    "def shoe_scraper(pages=50):\n",
    "    '''Returns one dataframe of all results. And will save into a new file.'''\n",
    "    \n",
    "    # Have to run requests first to get appropriate column names\n",
    "    req = requests.get('https://stockx.com/api/browse?page=1&category=152')\n",
    "    json_req = req.json()\n",
    "    df = pd.DataFrame([], columns=json_req['Products'][0].keys())\n",
    "\n",
    "    for i in range(1,pages):\n",
    "        try:\n",
    "            html = 'https://stockx.com/api/browse?page=' + str(int(i)) + '&category=152'\n",
    "            result = requests.get(html)\n",
    "            json_res = result.json()\n",
    "            df = pd.concat([df, pd.DataFrame(json_res['Products'])])\n",
    "            sleep(0.5)\n",
    "        except:\n",
    "            break\n",
    "    \n",
    "    # Drop row duplicates\n",
    "    df.drop_duplicates(['shortDescription', 'urlKey'], inplace=True) \n",
    "    \n",
    "    # Function to save as csv file under today's day as raw (before dropping)\n",
    "    def csv_maker(df):\n",
    "        filename = 'StockX_' + strftime(\"%m%d%H\")\n",
    "        df.to_csv(path_or_buf='C:\\\\Users\\\\Chris\\\\Desktop\\\\dsi-atl-3\\\\project\\\\Capstone\\\\datasets\\\\' + filename, encoding='utf-8')\n",
    "    \n",
    "    csv_maker(df)\n",
    "    \n",
    "    return df"
   ]
  },
  {
   "cell_type": "code",
   "execution_count": 6,
   "metadata": {},
   "outputs": [
    {
     "name": "stdout",
     "output_type": "stream",
     "text": [
      "time: 22 ms\n"
     ]
    }
   ],
   "source": [
    "def clean_df(busy_dataframe):\n",
    "    '''Dropping columns that hold little to no information. Combining columns with relevant info.\n",
    "    Then reset the index since we are getting repeated indices'''\n",
    "    \n",
    "    # Market DataFrame. If scraping, comes in ready form\n",
    "    # If pulling from old data, dictionary comes in string form\n",
    "    if isinstance(busy_dataframe.market.reset_index(drop=True)[0], str):\n",
    "        market_df = pd.DataFrame([ast.literal_eval(row) for row in busy_dataframe['market']])\n",
    "    else:\n",
    "        market_df = pd.DataFrame([row for row in busy_dataframe['market']])\n",
    "        \n",
    "    # Same, but for including link for images\n",
    "    if isinstance(busy_dataframe.media.reset_index(drop=True)[0], str):\n",
    "        media_df = pd.DataFrame([ast.literal_eval(row) for row in busy_dataframe['media']])['thumbUrl']\n",
    "    else:\n",
    "        media_df = pd.DataFrame([row for row in busy_dataframe['media']])['imageUrl']\n",
    "    \n",
    "    # Combine dataframes and drop unnecessary columns\n",
    "    cleaner_dataframe = busy_dataframe.join(market_df)\n",
    "    cleaner_dataframe = cleaner_dataframe.join(media_df)\n",
    "    \n",
    "    cleanest_dataframe = cleaner_dataframe.drop(['breadcrumbs', 'childId', 'countryOfManufacture', 'type', \n",
    "        'uuid', 'dataType', 'doppelgangers', 'condition', 'description', 'hidden', 'ipoDate', 'productCategory', \n",
    "        'shoeSize', 'urlKey', 'charityCondition', 'releaseTime', 'shortDescription', 'media', '_highlightResult', \n",
    "        'market', '_tags', 'id', 'objectID', 'lastHighestBidTime', 'lastLowestAskTime', 'styleId', 'productId',\n",
    "        'productUuid', 'skuUuid', 'updatedAt', 'traits', 'tickerSymbol', 'salesLastPeriod',\n",
    "        'minimumBid', 'averageDeadstockPriceRank', 'deadstockSoldRank', 'pricePremium', 'pricePremiumRank',\n",
    "        'salesThisPeriod'], axis=1)\n",
    "    \n",
    "    # Reset the index, since we are getting repeated indices\n",
    "    cleanest_dataframe.reset_index(drop=True, inplace=True)\n",
    "    \n",
    "    return cleanest_dataframe"
   ]
  },
  {
   "cell_type": "markdown",
   "metadata": {},
   "source": [
    "### Run scrape on website\n",
    "Use functions to read all previously saved csv files into one dataframe and do some preliminary cleaning. For now, only using the first duplicate. Trying to use last duplicate results in some weird prices, but are more up-to-date. **Try to figure out way to get most up-to-date observations.**\n",
    "\n",
    "Finally, set up dataframe.\n",
    "\n",
    "---"
   ]
  },
  {
   "cell_type": "code",
   "execution_count": 7,
   "metadata": {},
   "outputs": [
    {
     "name": "stdout",
     "output_type": "stream",
     "text": [
      "time: 45.5 s\n"
     ]
    }
   ],
   "source": [
    "scraped_shoe = shoe_scraper()"
   ]
  },
  {
   "cell_type": "code",
   "execution_count": 8,
   "metadata": {},
   "outputs": [
    {
     "name": "stdout",
     "output_type": "stream",
     "text": [
      "time: 9 ms\n"
     ]
    }
   ],
   "source": [
    "def read_and_clean(path):\n",
    "    '''Read a file path where datasets are stored. Cleans the dataframe by removing duplicates,\n",
    "    removing first column (Unnamed: 0) to be ready for clean_df function.'''\n",
    "    file_list = listdir(path)\n",
    "    file_list.remove('dataio')\n",
    "    \n",
    "    # Make a list of all the dataframes\n",
    "    parts_df = [pd.read_csv('../datasets/' + files) for files in file_list]\n",
    "    \n",
    "    # Make one dataframe, take out first column and drop duplicates based on 'urlkey'\n",
    "    df = pd.concat(parts_df)\n",
    "    df = df.iloc[:,1:]\n",
    "    df.drop_duplicates(['uuid'], inplace=True)#, keep='last')\n",
    "    \n",
    "    # Clean Brand names\n",
    "    df.brand = df.brand.map(lambda x: x.title())\n",
    "    \n",
    "    # Lastly, change 'nan' to np.nan.\n",
    "    df = df.applymap(lambda x: np.nan if x=='nan' else x)\n",
    "\n",
    "    return df"
   ]
  },
  {
   "cell_type": "code",
   "execution_count": 9,
   "metadata": {},
   "outputs": [
    {
     "name": "stdout",
     "output_type": "stream",
     "text": [
      "time: 1.89 s\n"
     ]
    }
   ],
   "source": [
    "path = '../datasets/'\n",
    "\n",
    "shoe = clean_df(read_and_clean(path))"
   ]
  },
  {
   "cell_type": "markdown",
   "metadata": {},
   "source": [
    "### Dataframe is set\n",
    "Some initial cleaning and EDA will need to be done.\n",
    "- Drop nulls\n",
    "- Change time series into datetime if possible\n",
    "- Check out the shape\n",
    "- Drop the error value for the high bid > $20,000\n",
    "\n",
    "**Make a metric for rarity: average Deadstock Price / retail Price**"
   ]
  },
  {
   "cell_type": "code",
   "execution_count": 10,
   "metadata": {},
   "outputs": [
    {
     "data": {
      "text/plain": [
       "(1888, 26)"
      ]
     },
     "execution_count": 10,
     "metadata": {},
     "output_type": "execute_result"
    },
    {
     "name": "stdout",
     "output_type": "stream",
     "text": [
      "time: 40 ms\n"
     ]
    }
   ],
   "source": [
    "# Some cleaning first. Take out null rows and change time data to date time\n",
    "shoe.dropna(inplace=True)\n",
    "shoe['releaseDate'] = pd.to_datetime(shoe.releaseDate).dt.date\n",
    "shoe['year'] = shoe.year.map(lambda x: int(x))\n",
    "shoe['createdAt'] = pd.to_datetime(shoe.createdAt).dt.date\n",
    "shoe.shape"
   ]
  },
  {
   "cell_type": "code",
   "execution_count": 11,
   "metadata": {},
   "outputs": [
    {
     "name": "stdout",
     "output_type": "stream",
     "text": [
      "time: 2 ms\n"
     ]
    }
   ],
   "source": [
    "# # Dropping value for highestbid.max() because API saves it as > $20,000\n",
    "# mistake_ind = shoe[shoe.highestBid == shoe.highestBid.max()].index\n",
    "# shoe.drop(mistake_ind, axis=0, inplace=True)\n",
    "# shoe.reset_index(inplace=True, drop=True)"
   ]
  },
  {
   "cell_type": "code",
   "execution_count": 12,
   "metadata": {},
   "outputs": [
    {
     "data": {
      "text/html": [
       "<div>\n",
       "<style>\n",
       "    .dataframe thead tr:only-child th {\n",
       "        text-align: right;\n",
       "    }\n",
       "\n",
       "    .dataframe thead th {\n",
       "        text-align: left;\n",
       "    }\n",
       "\n",
       "    .dataframe tbody tr th {\n",
       "        vertical-align: top;\n",
       "    }\n",
       "</style>\n",
       "<table border=\"1\" class=\"dataframe\">\n",
       "  <thead>\n",
       "    <tr style=\"text-align: right;\">\n",
       "      <th></th>\n",
       "      <th>title</th>\n",
       "      <th>year</th>\n",
       "      <th>retailPrice</th>\n",
       "      <th>averageDeadstockPrice</th>\n",
       "      <th>highestBid</th>\n",
       "      <th>rarity</th>\n",
       "    </tr>\n",
       "  </thead>\n",
       "  <tbody>\n",
       "    <tr>\n",
       "      <th>1613</th>\n",
       "      <td>Nike Dunk SB Low Supreme NY Black Cement (2002)</td>\n",
       "      <td>2002</td>\n",
       "      <td>65.0</td>\n",
       "      <td>1388</td>\n",
       "      <td>1000</td>\n",
       "      <td>21.353846</td>\n",
       "    </tr>\n",
       "    <tr>\n",
       "      <th>1723</th>\n",
       "      <td>Nike SB Dunk High Momofuku</td>\n",
       "      <td>2017</td>\n",
       "      <td>110.0</td>\n",
       "      <td>1706</td>\n",
       "      <td>1336</td>\n",
       "      <td>15.509091</td>\n",
       "    </tr>\n",
       "    <tr>\n",
       "      <th>1537</th>\n",
       "      <td>Jordan 1 Retro Low OG Ice Blue</td>\n",
       "      <td>2017</td>\n",
       "      <td>140.0</td>\n",
       "      <td>1936</td>\n",
       "      <td>3037</td>\n",
       "      <td>13.828571</td>\n",
       "    </tr>\n",
       "    <tr>\n",
       "      <th>1724</th>\n",
       "      <td>Air Max 1 Air Max Day 3.26</td>\n",
       "      <td>2014</td>\n",
       "      <td>125.0</td>\n",
       "      <td>1706</td>\n",
       "      <td>1336</td>\n",
       "      <td>13.648000</td>\n",
       "    </tr>\n",
       "    <tr>\n",
       "      <th>1254</th>\n",
       "      <td>Nike Dunk SB High Tie Dye Black</td>\n",
       "      <td>2014</td>\n",
       "      <td>108.0</td>\n",
       "      <td>1447</td>\n",
       "      <td>1000</td>\n",
       "      <td>13.398148</td>\n",
       "    </tr>\n",
       "  </tbody>\n",
       "</table>\n",
       "</div>"
      ],
      "text/plain": [
       "                                                title  year  retailPrice  \\\n",
       "1613  Nike Dunk SB Low Supreme NY Black Cement (2002)  2002         65.0   \n",
       "1723                       Nike SB Dunk High Momofuku  2017        110.0   \n",
       "1537                   Jordan 1 Retro Low OG Ice Blue  2017        140.0   \n",
       "1724                       Air Max 1 Air Max Day 3.26  2014        125.0   \n",
       "1254                  Nike Dunk SB High Tie Dye Black  2014        108.0   \n",
       "\n",
       "      averageDeadstockPrice  highestBid     rarity  \n",
       "1613                   1388        1000  21.353846  \n",
       "1723                   1706        1336  15.509091  \n",
       "1537                   1936        3037  13.828571  \n",
       "1724                   1706        1336  13.648000  \n",
       "1254                   1447        1000  13.398148  "
      ]
     },
     "execution_count": 12,
     "metadata": {},
     "output_type": "execute_result"
    },
    {
     "name": "stdout",
     "output_type": "stream",
     "text": [
      "time: 41 ms\n"
     ]
    }
   ],
   "source": [
    "# New metric for rarity of shoe\n",
    "shoe['rarity'] = shoe.averageDeadstockPrice/shoe.retailPrice\n",
    "\n",
    "# Since shoes retailed at $0 doesn't fit into the scope of the project, drop them.\n",
    "infinity_ind = shoe[shoe.retailPrice==0].index\n",
    "shoe.drop(infinity_ind, axis=0, inplace=True)\n",
    "shoe.reset_index(inplace=True, drop=True)\n",
    "\n",
    "# Most 'rare' shoes\n",
    "shoe[['title', 'year', 'retailPrice', 'averageDeadstockPrice', 'highestBid', 'rarity']].sort_values('rarity', ascending=False).head()"
   ]
  },
  {
   "cell_type": "code",
   "execution_count": 13,
   "metadata": {},
   "outputs": [
    {
     "data": {
      "text/plain": [
       "(-5, 1500)"
      ]
     },
     "execution_count": 13,
     "metadata": {},
     "output_type": "execute_result"
    },
    {
     "data": {
      "image/png": "[encoded data removed]",
      "text/plain": [
       "<matplotlib.figure.Figure at 0xc922710>"
      ]
     },
     "metadata": {},
     "output_type": "display_data"
    },
    {
     "name": "stdout",
     "output_type": "stream",
     "text": [
      "time: 488 ms\n"
     ]
    }
   ],
   "source": [
    "# Plots for general overview\n",
    "fig, (ax1, ax2) = plt.subplots(1,2, figsize=(12,5))\n",
    "\n",
    "shoe.retailPrice.plot(kind='hist', alpha=0.6, ax=ax1)\n",
    "shoe.averageDeadstockPrice.plot(kind='hist', alpha=0.6, ax=ax1)\n",
    "ax1.set_title('Retail Price and Avg Deadstock Price')\n",
    "ax1.axes.set_xlim(-5, 1500)\n",
    "\n",
    "shoe.highestBid.plot(kind='hist', alpha=0.6, ax=ax2)\n",
    "shoe.lowestAsk.plot(kind='hist',alpha=0.6, ax=ax2)\n",
    "shoe.lastSale.plot(kind='hist', alpha=0.6, ax=ax2)\n",
    "ax2.set_title('Highest Bid, Lowest Ask, and Last Sale Price')\n",
    "ax2.axes.set_xlim(-5,1500)"
   ]
  },
  {
   "cell_type": "code",
   "execution_count": 14,
   "metadata": {},
   "outputs": [
    {
     "data": {
      "text/html": [
       "<div>\n",
       "<style>\n",
       "    .dataframe thead tr:only-child th {\n",
       "        text-align: right;\n",
       "    }\n",
       "\n",
       "    .dataframe thead th {\n",
       "        text-align: left;\n",
       "    }\n",
       "\n",
       "    .dataframe tbody tr th {\n",
       "        vertical-align: top;\n",
       "    }\n",
       "</style>\n",
       "<table border=\"1\" class=\"dataframe\">\n",
       "  <thead>\n",
       "    <tr style=\"text-align: right;\">\n",
       "      <th></th>\n",
       "      <th>shoe</th>\n",
       "      <th>colorway</th>\n",
       "      <th>lastSale</th>\n",
       "      <th>highestBid</th>\n",
       "      <th>averageDeadstockPrice</th>\n",
       "      <th>retailPrice</th>\n",
       "    </tr>\n",
       "  </thead>\n",
       "  <tbody>\n",
       "    <tr>\n",
       "      <th>1535</th>\n",
       "      <td>Adidas Ultra Boost</td>\n",
       "      <td>Adidas-Ultra-Boost-Miami-Hurricanes</td>\n",
       "      <td>2515</td>\n",
       "      <td>3037</td>\n",
       "      <td>1936</td>\n",
       "      <td>180.0</td>\n",
       "    </tr>\n",
       "    <tr>\n",
       "      <th>1536</th>\n",
       "      <td>Nike Air Max 90</td>\n",
       "      <td>White/White</td>\n",
       "      <td>2515</td>\n",
       "      <td>3037</td>\n",
       "      <td>1936</td>\n",
       "      <td>160.0</td>\n",
       "    </tr>\n",
       "    <tr>\n",
       "      <th>1537</th>\n",
       "      <td>Jordan 1 Retro Low OG</td>\n",
       "      <td>Ice Blue/Vachetta Tan-White</td>\n",
       "      <td>2515</td>\n",
       "      <td>3037</td>\n",
       "      <td>1936</td>\n",
       "      <td>140.0</td>\n",
       "    </tr>\n",
       "    <tr>\n",
       "      <th>373</th>\n",
       "      <td>Jordan 1 Retro</td>\n",
       "      <td>Black/Sport Blue-White</td>\n",
       "      <td>1605</td>\n",
       "      <td>3000</td>\n",
       "      <td>1696</td>\n",
       "      <td>185.0</td>\n",
       "    </tr>\n",
       "    <tr>\n",
       "      <th>620</th>\n",
       "      <td>Adidas Yeezy Boost 750</td>\n",
       "      <td>Brown/Carbon White-Light Brown</td>\n",
       "      <td>2500</td>\n",
       "      <td>2125</td>\n",
       "      <td>3059</td>\n",
       "      <td>350.0</td>\n",
       "    </tr>\n",
       "    <tr>\n",
       "      <th>259</th>\n",
       "      <td>Adidas Yeezy Boost 350</td>\n",
       "      <td>Turtledove/Blue Grey-White</td>\n",
       "      <td>2100</td>\n",
       "      <td>2050</td>\n",
       "      <td>2223</td>\n",
       "      <td>200.0</td>\n",
       "    </tr>\n",
       "    <tr>\n",
       "      <th>352</th>\n",
       "      <td>Adidas NMD</td>\n",
       "      <td>EQT Yellow/EQT Yellow/FTWR White</td>\n",
       "      <td>2001</td>\n",
       "      <td>2050</td>\n",
       "      <td>828</td>\n",
       "      <td>240.0</td>\n",
       "    </tr>\n",
       "  </tbody>\n",
       "</table>\n",
       "</div>"
      ],
      "text/plain": [
       "                        shoe                             colorway  lastSale  \\\n",
       "1535      Adidas Ultra Boost  Adidas-Ultra-Boost-Miami-Hurricanes      2515   \n",
       "1536         Nike Air Max 90                          White/White      2515   \n",
       "1537   Jordan 1 Retro Low OG          Ice Blue/Vachetta Tan-White      2515   \n",
       "373           Jordan 1 Retro               Black/Sport Blue-White      1605   \n",
       "620   Adidas Yeezy Boost 750       Brown/Carbon White-Light Brown      2500   \n",
       "259   Adidas Yeezy Boost 350           Turtledove/Blue Grey-White      2100   \n",
       "352               Adidas NMD     EQT Yellow/EQT Yellow/FTWR White      2001   \n",
       "\n",
       "      highestBid  averageDeadstockPrice  retailPrice  \n",
       "1535        3037                   1936        180.0  \n",
       "1536        3037                   1936        160.0  \n",
       "1537        3037                   1936        140.0  \n",
       "373         3000                   1696        185.0  \n",
       "620         2125                   3059        350.0  \n",
       "259         2050                   2223        200.0  \n",
       "352         2050                    828        240.0  "
      ]
     },
     "execution_count": 14,
     "metadata": {},
     "output_type": "execute_result"
    },
    {
     "name": "stdout",
     "output_type": "stream",
     "text": [
      "time: 25 ms\n"
     ]
    }
   ],
   "source": [
    "# A view of the most expensive bid on shoe.\n",
    "shoe[shoe.highestBid > 2000][['shoe', 'colorway', 'lastSale', 'highestBid', 'averageDeadstockPrice', 'retailPrice']].sort_values('highestBid', ascending=False)"
   ]
  },
  {
   "cell_type": "code",
   "execution_count": 15,
   "metadata": {},
   "outputs": [
    {
     "data": {
      "text/html": [
       "<div>\n",
       "<style>\n",
       "    .dataframe thead tr:only-child th {\n",
       "        text-align: right;\n",
       "    }\n",
       "\n",
       "    .dataframe thead th {\n",
       "        text-align: left;\n",
       "    }\n",
       "\n",
       "    .dataframe tbody tr th {\n",
       "        vertical-align: top;\n",
       "    }\n",
       "</style>\n",
       "<table border=\"1\" class=\"dataframe\">\n",
       "  <thead>\n",
       "    <tr style=\"text-align: right;\">\n",
       "      <th></th>\n",
       "      <th>shoe</th>\n",
       "      <th>colorway</th>\n",
       "      <th>name</th>\n",
       "      <th>retailPrice</th>\n",
       "      <th>year</th>\n",
       "    </tr>\n",
       "  </thead>\n",
       "  <tbody>\n",
       "    <tr>\n",
       "      <th>1573</th>\n",
       "      <td>Air Yeezy 2</td>\n",
       "      <td>Gold/White</td>\n",
       "      <td>John Geiger x LASCO Golden Child</td>\n",
       "      <td>1850.0</td>\n",
       "      <td>2016</td>\n",
       "    </tr>\n",
       "  </tbody>\n",
       "</table>\n",
       "</div>"
      ],
      "text/plain": [
       "             shoe    colorway                              name  retailPrice  \\\n",
       "1573  Air Yeezy 2  Gold/White  John Geiger x LASCO Golden Child       1850.0   \n",
       "\n",
       "      year  \n",
       "1573  2016  "
      ]
     },
     "execution_count": 15,
     "metadata": {},
     "output_type": "execute_result"
    },
    {
     "name": "stdout",
     "output_type": "stream",
     "text": [
      "time: 15 ms\n"
     ]
    }
   ],
   "source": [
    "# A view at the most highest retailed shoe. Strangely enough, it is not in the top 7 highest bid.\n",
    "shoe[shoe.retailPrice == shoe.retailPrice.max()][['shoe', 'colorway', 'name', 'retailPrice', 'year']]"
   ]
  },
  {
   "cell_type": "code",
   "execution_count": 16,
   "metadata": {},
   "outputs": [
    {
     "data": {
      "text/html": [
       "<div>\n",
       "<style>\n",
       "    .dataframe thead tr:only-child th {\n",
       "        text-align: right;\n",
       "    }\n",
       "\n",
       "    .dataframe thead th {\n",
       "        text-align: left;\n",
       "    }\n",
       "\n",
       "    .dataframe tbody tr th {\n",
       "        vertical-align: top;\n",
       "    }\n",
       "</style>\n",
       "<table border=\"1\" class=\"dataframe\">\n",
       "  <thead>\n",
       "    <tr style=\"text-align: right;\">\n",
       "      <th></th>\n",
       "      <th>shoe</th>\n",
       "      <th>colorway</th>\n",
       "      <th>name</th>\n",
       "      <th>retailPrice</th>\n",
       "      <th>year</th>\n",
       "      <th>averageDeadstockPrice</th>\n",
       "    </tr>\n",
       "  </thead>\n",
       "  <tbody>\n",
       "    <tr>\n",
       "      <th>620</th>\n",
       "      <td>Adidas Yeezy Boost 750</td>\n",
       "      <td>Brown/Carbon White-Light Brown</td>\n",
       "      <td>OG Light Brown</td>\n",
       "      <td>350.0</td>\n",
       "      <td>2015</td>\n",
       "      <td>3059</td>\n",
       "    </tr>\n",
       "  </tbody>\n",
       "</table>\n",
       "</div>"
      ],
      "text/plain": [
       "                       shoe                        colorway            name  \\\n",
       "620  Adidas Yeezy Boost 750  Brown/Carbon White-Light Brown  OG Light Brown   \n",
       "\n",
       "     retailPrice  year  averageDeadstockPrice  \n",
       "620        350.0  2015                   3059  "
      ]
     },
     "execution_count": 16,
     "metadata": {},
     "output_type": "execute_result"
    },
    {
     "name": "stdout",
     "output_type": "stream",
     "text": [
      "time: 13 ms\n"
     ]
    }
   ],
   "source": [
    "# A look at the highest average deadstock price\n",
    "shoe[shoe.averageDeadstockPrice == shoe.averageDeadstockPrice.max()][['shoe', 'colorway', 'name', 'retailPrice', 'year', 'averageDeadstockPrice']]"
   ]
  },
  {
   "cell_type": "code",
   "execution_count": 17,
   "metadata": {},
   "outputs": [
    {
     "data": {
      "text/html": [
       "<div>\n",
       "<style>\n",
       "    .dataframe thead tr:only-child th {\n",
       "        text-align: right;\n",
       "    }\n",
       "\n",
       "    .dataframe thead th {\n",
       "        text-align: left;\n",
       "    }\n",
       "\n",
       "    .dataframe tbody tr th {\n",
       "        vertical-align: top;\n",
       "    }\n",
       "</style>\n",
       "<table border=\"1\" class=\"dataframe\">\n",
       "  <thead>\n",
       "    <tr style=\"text-align: right;\">\n",
       "      <th></th>\n",
       "      <th>shoe</th>\n",
       "      <th>colorway</th>\n",
       "      <th>name</th>\n",
       "      <th>retailPrice</th>\n",
       "      <th>year</th>\n",
       "      <th>lastSale</th>\n",
       "    </tr>\n",
       "  </thead>\n",
       "  <tbody>\n",
       "    <tr>\n",
       "      <th>1535</th>\n",
       "      <td>Adidas Ultra Boost</td>\n",
       "      <td>Adidas-Ultra-Boost-Miami-Hurricanes</td>\n",
       "      <td>Miami Hurricanes</td>\n",
       "      <td>180.0</td>\n",
       "      <td>2016</td>\n",
       "      <td>2515</td>\n",
       "    </tr>\n",
       "    <tr>\n",
       "      <th>1536</th>\n",
       "      <td>Nike Air Max 90</td>\n",
       "      <td>White/White</td>\n",
       "      <td>Laser NYC</td>\n",
       "      <td>160.0</td>\n",
       "      <td>2016</td>\n",
       "      <td>2515</td>\n",
       "    </tr>\n",
       "    <tr>\n",
       "      <th>1537</th>\n",
       "      <td>Jordan 1 Retro Low OG</td>\n",
       "      <td>Ice Blue/Vachetta Tan-White</td>\n",
       "      <td>Ice Blue</td>\n",
       "      <td>140.0</td>\n",
       "      <td>2017</td>\n",
       "      <td>2515</td>\n",
       "    </tr>\n",
       "  </tbody>\n",
       "</table>\n",
       "</div>"
      ],
      "text/plain": [
       "                       shoe                             colorway  \\\n",
       "1535     Adidas Ultra Boost  Adidas-Ultra-Boost-Miami-Hurricanes   \n",
       "1536        Nike Air Max 90                          White/White   \n",
       "1537  Jordan 1 Retro Low OG          Ice Blue/Vachetta Tan-White   \n",
       "\n",
       "                  name  retailPrice  year  lastSale  \n",
       "1535  Miami Hurricanes        180.0  2016      2515  \n",
       "1536         Laser NYC        160.0  2016      2515  \n",
       "1537          Ice Blue        140.0  2017      2515  "
      ]
     },
     "execution_count": 17,
     "metadata": {},
     "output_type": "execute_result"
    },
    {
     "name": "stdout",
     "output_type": "stream",
     "text": [
      "time: 18 ms\n"
     ]
    }
   ],
   "source": [
    "# A look at the highest last sale price\n",
    "shoe[shoe.lastSale == shoe.lastSale.max()][['shoe', 'colorway', 'name', 'retailPrice', 'year', 'lastSale']]"
   ]
  },
  {
   "cell_type": "code",
   "execution_count": 18,
   "metadata": {},
   "outputs": [
    {
     "data": {
      "text/html": [
       "<div>\n",
       "<style>\n",
       "    .dataframe thead tr:only-child th {\n",
       "        text-align: right;\n",
       "    }\n",
       "\n",
       "    .dataframe thead th {\n",
       "        text-align: left;\n",
       "    }\n",
       "\n",
       "    .dataframe tbody tr th {\n",
       "        vertical-align: top;\n",
       "    }\n",
       "</style>\n",
       "<table border=\"1\" class=\"dataframe\">\n",
       "  <thead>\n",
       "    <tr style=\"text-align: right;\">\n",
       "      <th></th>\n",
       "      <th>retailPrice</th>\n",
       "      <th>year</th>\n",
       "      <th>absChangePercentage</th>\n",
       "      <th>annualHigh</th>\n",
       "      <th>annualLow</th>\n",
       "      <th>averageDeadstockPrice</th>\n",
       "      <th>changePercentage</th>\n",
       "      <th>changeValue</th>\n",
       "      <th>deadstockRangeHigh</th>\n",
       "      <th>deadstockRangeLow</th>\n",
       "      <th>deadstockSold</th>\n",
       "      <th>highestBid</th>\n",
       "      <th>lastSale</th>\n",
       "      <th>lowestAsk</th>\n",
       "      <th>salesLast72Hours</th>\n",
       "      <th>volatility</th>\n",
       "      <th>rarity</th>\n",
       "    </tr>\n",
       "  </thead>\n",
       "  <tbody>\n",
       "    <tr>\n",
       "      <th>count</th>\n",
       "      <td>1886.00000</td>\n",
       "      <td>1886.000000</td>\n",
       "      <td>1886.000000</td>\n",
       "      <td>1886.000000</td>\n",
       "      <td>1886.000000</td>\n",
       "      <td>1886.000000</td>\n",
       "      <td>1886.000000</td>\n",
       "      <td>1886.000000</td>\n",
       "      <td>1886.000000</td>\n",
       "      <td>1886.000000</td>\n",
       "      <td>1886.000000</td>\n",
       "      <td>1886.000000</td>\n",
       "      <td>1886.000000</td>\n",
       "      <td>1886.000000</td>\n",
       "      <td>1886.000000</td>\n",
       "      <td>1886.000000</td>\n",
       "      <td>1886.000000</td>\n",
       "    </tr>\n",
       "    <tr>\n",
       "      <th>mean</th>\n",
       "      <td>173.81018</td>\n",
       "      <td>2014.755037</td>\n",
       "      <td>0.205622</td>\n",
       "      <td>442.791092</td>\n",
       "      <td>169.014846</td>\n",
       "      <td>281.118240</td>\n",
       "      <td>0.001969</td>\n",
       "      <td>-11.931071</td>\n",
       "      <td>305.314422</td>\n",
       "      <td>207.016967</td>\n",
       "      <td>227.274655</td>\n",
       "      <td>222.511665</td>\n",
       "      <td>256.133086</td>\n",
       "      <td>230.519088</td>\n",
       "      <td>5.302227</td>\n",
       "      <td>0.200738</td>\n",
       "      <td>1.724871</td>\n",
       "    </tr>\n",
       "    <tr>\n",
       "      <th>std</th>\n",
       "      <td>76.17848</td>\n",
       "      <td>3.021130</td>\n",
       "      <td>0.228349</td>\n",
       "      <td>489.956420</td>\n",
       "      <td>136.235916</td>\n",
       "      <td>227.659426</td>\n",
       "      <td>0.307315</td>\n",
       "      <td>103.660001</td>\n",
       "      <td>272.026897</td>\n",
       "      <td>182.506639</td>\n",
       "      <td>441.850006</td>\n",
       "      <td>243.634994</td>\n",
       "      <td>224.423644</td>\n",
       "      <td>195.579019</td>\n",
       "      <td>23.076229</td>\n",
       "      <td>0.135553</td>\n",
       "      <td>1.458696</td>\n",
       "    </tr>\n",
       "    <tr>\n",
       "      <th>min</th>\n",
       "      <td>50.00000</td>\n",
       "      <td>1985.000000</td>\n",
       "      <td>0.000000</td>\n",
       "      <td>50.000000</td>\n",
       "      <td>11.000000</td>\n",
       "      <td>50.000000</td>\n",
       "      <td>-0.666667</td>\n",
       "      <td>-1058.000000</td>\n",
       "      <td>55.000000</td>\n",
       "      <td>-18.000000</td>\n",
       "      <td>1.000000</td>\n",
       "      <td>0.000000</td>\n",
       "      <td>45.000000</td>\n",
       "      <td>0.000000</td>\n",
       "      <td>1.000000</td>\n",
       "      <td>0.000000</td>\n",
       "      <td>0.135135</td>\n",
       "    </tr>\n",
       "    <tr>\n",
       "      <th>25%</th>\n",
       "      <td>140.00000</td>\n",
       "      <td>2014.000000</td>\n",
       "      <td>0.045455</td>\n",
       "      <td>246.250000</td>\n",
       "      <td>100.000000</td>\n",
       "      <td>173.000000</td>\n",
       "      <td>-0.163636</td>\n",
       "      <td>-42.000000</td>\n",
       "      <td>176.000000</td>\n",
       "      <td>111.000000</td>\n",
       "      <td>22.000000</td>\n",
       "      <td>110.000000</td>\n",
       "      <td>149.000000</td>\n",
       "      <td>140.000000</td>\n",
       "      <td>1.000000</td>\n",
       "      <td>0.122968</td>\n",
       "      <td>1.050357</td>\n",
       "    </tr>\n",
       "    <tr>\n",
       "      <th>50%</th>\n",
       "      <td>160.00000</td>\n",
       "      <td>2016.000000</td>\n",
       "      <td>0.139130</td>\n",
       "      <td>325.000000</td>\n",
       "      <td>140.000000</td>\n",
       "      <td>227.000000</td>\n",
       "      <td>0.000000</td>\n",
       "      <td>0.000000</td>\n",
       "      <td>238.000000</td>\n",
       "      <td>167.000000</td>\n",
       "      <td>78.000000</td>\n",
       "      <td>175.000000</td>\n",
       "      <td>200.000000</td>\n",
       "      <td>185.000000</td>\n",
       "      <td>2.000000</td>\n",
       "      <td>0.177207</td>\n",
       "      <td>1.383772</td>\n",
       "    </tr>\n",
       "    <tr>\n",
       "      <th>75%</th>\n",
       "      <td>190.00000</td>\n",
       "      <td>2017.000000</td>\n",
       "      <td>0.302222</td>\n",
       "      <td>471.000000</td>\n",
       "      <td>191.000000</td>\n",
       "      <td>311.000000</td>\n",
       "      <td>0.106454</td>\n",
       "      <td>21.000000</td>\n",
       "      <td>349.000000</td>\n",
       "      <td>245.000000</td>\n",
       "      <td>238.750000</td>\n",
       "      <td>250.000000</td>\n",
       "      <td>300.000000</td>\n",
       "      <td>250.000000</td>\n",
       "      <td>4.000000</td>\n",
       "      <td>0.248585</td>\n",
       "      <td>1.868391</td>\n",
       "    </tr>\n",
       "    <tr>\n",
       "      <th>max</th>\n",
       "      <td>1850.00000</td>\n",
       "      <td>2017.000000</td>\n",
       "      <td>2.529412</td>\n",
       "      <td>8550.000000</td>\n",
       "      <td>1715.000000</td>\n",
       "      <td>3059.000000</td>\n",
       "      <td>2.529412</td>\n",
       "      <td>549.000000</td>\n",
       "      <td>3693.000000</td>\n",
       "      <td>1900.000000</td>\n",
       "      <td>5579.000000</td>\n",
       "      <td>3037.000000</td>\n",
       "      <td>2515.000000</td>\n",
       "      <td>2000.000000</td>\n",
       "      <td>916.000000</td>\n",
       "      <td>1.362362</td>\n",
       "      <td>21.353846</td>\n",
       "    </tr>\n",
       "  </tbody>\n",
       "</table>\n",
       "</div>"
      ],
      "text/plain": [
       "       retailPrice         year  absChangePercentage   annualHigh  \\\n",
       "count   1886.00000  1886.000000          1886.000000  1886.000000   \n",
       "mean     173.81018  2014.755037             0.205622   442.791092   \n",
       "std       76.17848     3.021130             0.228349   489.956420   \n",
       "min       50.00000  1985.000000             0.000000    50.000000   \n",
       "25%      140.00000  2014.000000             0.045455   246.250000   \n",
       "50%      160.00000  2016.000000             0.139130   325.000000   \n",
       "75%      190.00000  2017.000000             0.302222   471.000000   \n",
       "max     1850.00000  2017.000000             2.529412  8550.000000   \n",
       "\n",
       "         annualLow  averageDeadstockPrice  changePercentage  changeValue  \\\n",
       "count  1886.000000            1886.000000       1886.000000  1886.000000   \n",
       "mean    169.014846             281.118240          0.001969   -11.931071   \n",
       "std     136.235916             227.659426          0.307315   103.660001   \n",
       "min      11.000000              50.000000         -0.666667 -1058.000000   \n",
       "25%     100.000000             173.000000         -0.163636   -42.000000   \n",
       "50%     140.000000             227.000000          0.000000     0.000000   \n",
       "75%     191.000000             311.000000          0.106454    21.000000   \n",
       "max    1715.000000            3059.000000          2.529412   549.000000   \n",
       "\n",
       "       deadstockRangeHigh  deadstockRangeLow  deadstockSold   highestBid  \\\n",
       "count         1886.000000        1886.000000    1886.000000  1886.000000   \n",
       "mean           305.314422         207.016967     227.274655   222.511665   \n",
       "std            272.026897         182.506639     441.850006   243.634994   \n",
       "min             55.000000         -18.000000       1.000000     0.000000   \n",
       "25%            176.000000         111.000000      22.000000   110.000000   \n",
       "50%            238.000000         167.000000      78.000000   175.000000   \n",
       "75%            349.000000         245.000000     238.750000   250.000000   \n",
       "max           3693.000000        1900.000000    5579.000000  3037.000000   \n",
       "\n",
       "          lastSale    lowestAsk  salesLast72Hours   volatility       rarity  \n",
       "count  1886.000000  1886.000000       1886.000000  1886.000000  1886.000000  \n",
       "mean    256.133086   230.519088          5.302227     0.200738     1.724871  \n",
       "std     224.423644   195.579019         23.076229     0.135553     1.458696  \n",
       "min      45.000000     0.000000          1.000000     0.000000     0.135135  \n",
       "25%     149.000000   140.000000          1.000000     0.122968     1.050357  \n",
       "50%     200.000000   185.000000          2.000000     0.177207     1.383772  \n",
       "75%     300.000000   250.000000          4.000000     0.248585     1.868391  \n",
       "max    2515.000000  2000.000000        916.000000     1.362362    21.353846  "
      ]
     },
     "execution_count": 18,
     "metadata": {},
     "output_type": "execute_result"
    },
    {
     "name": "stdout",
     "output_type": "stream",
     "text": [
      "time: 66 ms\n"
     ]
    }
   ],
   "source": [
    "shoe.describe()"
   ]
  },
  {
   "cell_type": "markdown",
   "metadata": {},
   "source": [
    "### Descriptions of some columns\n",
    "\n",
    "- deadstockRangeHigh = highest price of deadstock within the last 12 mo.\n",
    "- deadstockRangeLow = lowest price of deadstock within the last 12 mo.\n",
    "- highestBid = highest price someone is bidding, or willing to pay\n",
    "- lowestAsk = lowest price someone is currently asking for, or selling\n",
    "- rarity = averageDeadstockPrice / retailPrice\n",
    "- lastSale = Last price product was sold for sourced from ebay, twitter, etc.\n",
    "---\n",
    "### Make a dataframe with only the top brands: Nike, Jordan, Adidas\n",
    "Scale the dataframe down so that not too many outside brands are taking the focus away from the main goal of the project.\n",
    "\n",
    "---"
   ]
  },
  {
   "cell_type": "code",
   "execution_count": 19,
   "metadata": {},
   "outputs": [
    {
     "data": {
      "text/plain": [
       "Nike      695\n",
       "Jordan    620\n",
       "Adidas    444\n",
       "Asics      38\n",
       "Vans       25\n",
       "Name: brand, dtype: int64"
      ]
     },
     "execution_count": 19,
     "metadata": {},
     "output_type": "execute_result"
    },
    {
     "name": "stdout",
     "output_type": "stream",
     "text": [
      "time: 16 ms\n"
     ]
    }
   ],
   "source": [
    "shoe.brand.value_counts()[:5]"
   ]
  },
  {
   "cell_type": "code",
   "execution_count": 295,
   "metadata": {},
   "outputs": [
    {
     "name": "stdout",
     "output_type": "stream",
     "text": [
      "time: 8 ms\n"
     ]
    }
   ],
   "source": [
    "# Concerned with only the top brands\n",
    "tops = shoe[(shoe.brand=='Adidas')|(shoe.brand=='Nike')|(shoe.brand=='Jordan')]\n",
    "tops.reset_index(drop=True, inplace=True)"
   ]
  },
  {
   "cell_type": "code",
   "execution_count": 21,
   "metadata": {},
   "outputs": [
    {
     "data": {
      "image/png": "[encoded data removed]",
      "text/plain": [
       "<matplotlib.figure.Figure at 0x147ddb70>"
      ]
     },
     "metadata": {},
     "output_type": "display_data"
    },
    {
     "name": "stdout",
     "output_type": "stream",
     "text": [
      "time: 326 ms\n"
     ]
    }
   ],
   "source": [
    "# See a 1-to-1 linear line for retail Price vs last Sale price\n",
    "sns.set(font_scale=1.5)\n",
    "sns.lmplot(x='retailPrice', y ='averageDeadstockPrice', data=tops, hue='brand', fit_reg=False, size=6,\n",
    "          scatter_kws={\"s\": 20})\n",
    "plt.plot(np.linspace(0,2000,2000), np.linspace(0,2000,2000), linestyle='--')\n",
    "plt.xlim([0,1000])\n",
    "plt.title('Retail vs Average Aftermarket Price')\n",
    "plt.xlabel('Retail Price ($)')\n",
    "plt.ylabel('Aftermarket Price ($)')\n",
    "plt.show()"
   ]
  },
  {
   "cell_type": "code",
   "execution_count": 22,
   "metadata": {},
   "outputs": [
    {
     "name": "stdout",
     "output_type": "stream",
     "text": [
      "time: 2 ms\n"
     ]
    }
   ],
   "source": [
    "# sns.swarmplot(x='year', y='lastSale', data=tops[tops.year>2010], hue='brand')\n",
    "# plt.xticks(rotation=90)\n",
    "# plt.show()"
   ]
  },
  {
   "cell_type": "code",
   "execution_count": 23,
   "metadata": {},
   "outputs": [
    {
     "name": "stdout",
     "output_type": "stream",
     "text": [
      "time: 22 ms\n"
     ]
    }
   ],
   "source": [
    "# # Adidas didn't really come into the market until 2015. Let's look more closely\n",
    "# sns.swarmplot(x='year', y='lastSale', data=tops[tops.year>2014], hue='brand')\n",
    "# plt.legend(loc='best')\n",
    "# plt.xlabel('Year')\n",
    "# plt.ylabel('Last Sold Price ($)')\n",
    "# plt.title('Top Product Aftermarket Sales Price')\n",
    "# plt.show()"
   ]
  },
  {
   "cell_type": "markdown",
   "metadata": {},
   "source": [
    "### After some market research, Adidas came into the sneakerhead culture because of two products: the Adidas Boost and the Adidas Yeezy's\n",
    "\n",
    "Nike was first partnered with Kanye West for making a collaborative shoe. But after his contract ended, Mr. West changed sides to Adidas, who previously was widely known for their athletic shoes (for soccer and football) rather than collectible sneakers.\n",
    "\n",
    "---"
   ]
  },
  {
   "cell_type": "code",
   "execution_count": 24,
   "metadata": {},
   "outputs": [
    {
     "data": {
      "text/plain": [
       "(175, 27)"
      ]
     },
     "execution_count": 24,
     "metadata": {},
     "output_type": "execute_result"
    },
    {
     "name": "stdout",
     "output_type": "stream",
     "text": [
      "time: 16 ms\n"
     ]
    }
   ],
   "source": [
    "# Adidas boost's came out in January 2015 along with Yeezy's in February of 2015\n",
    "tops[(tops.brand=='Adidas') & (tops.shoe.str.contains('boost', case=False))].shape"
   ]
  },
  {
   "cell_type": "code",
   "execution_count": 25,
   "metadata": {},
   "outputs": [
    {
     "data": {
      "text/plain": [
       "(30, 27)"
      ]
     },
     "execution_count": 25,
     "metadata": {},
     "output_type": "execute_result"
    },
    {
     "name": "stdout",
     "output_type": "stream",
     "text": [
      "time: 11 ms\n"
     ]
    }
   ],
   "source": [
    "# Adidas and Nike Yeezy's\n",
    "tops[tops.shoe.str.contains('yeezy',case=False)].shape"
   ]
  },
  {
   "cell_type": "code",
   "execution_count": 26,
   "metadata": {},
   "outputs": [
    {
     "data": {
      "image/png": "[encoded data removed]",
      "text/plain": [
       "<matplotlib.figure.Figure at 0x17b81400>"
      ]
     },
     "metadata": {},
     "output_type": "display_data"
    },
    {
     "data": {
      "text/html": [
       "<div>\n",
       "<style>\n",
       "    .dataframe thead tr:only-child th {\n",
       "        text-align: right;\n",
       "    }\n",
       "\n",
       "    .dataframe thead th {\n",
       "        text-align: left;\n",
       "    }\n",
       "\n",
       "    .dataframe tbody tr th {\n",
       "        vertical-align: top;\n",
       "    }\n",
       "</style>\n",
       "<table border=\"1\" class=\"dataframe\">\n",
       "  <thead>\n",
       "    <tr style=\"text-align: right;\">\n",
       "      <th>brand</th>\n",
       "      <th>Adidas</th>\n",
       "      <th>Jordan</th>\n",
       "      <th>Nike</th>\n",
       "    </tr>\n",
       "    <tr>\n",
       "      <th>year</th>\n",
       "      <th></th>\n",
       "      <th></th>\n",
       "      <th></th>\n",
       "    </tr>\n",
       "  </thead>\n",
       "  <tbody>\n",
       "    <tr>\n",
       "      <th>2011</th>\n",
       "      <td>0.000000</td>\n",
       "      <td>0.846154</td>\n",
       "      <td>0.153846</td>\n",
       "    </tr>\n",
       "    <tr>\n",
       "      <th>2012</th>\n",
       "      <td>0.000000</td>\n",
       "      <td>0.507042</td>\n",
       "      <td>0.492958</td>\n",
       "    </tr>\n",
       "    <tr>\n",
       "      <th>2013</th>\n",
       "      <td>0.009346</td>\n",
       "      <td>0.420561</td>\n",
       "      <td>0.570093</td>\n",
       "    </tr>\n",
       "    <tr>\n",
       "      <th>2014</th>\n",
       "      <td>0.018072</td>\n",
       "      <td>0.427711</td>\n",
       "      <td>0.554217</td>\n",
       "    </tr>\n",
       "    <tr>\n",
       "      <th>2015</th>\n",
       "      <td>0.135371</td>\n",
       "      <td>0.401747</td>\n",
       "      <td>0.462882</td>\n",
       "    </tr>\n",
       "    <tr>\n",
       "      <th>2016</th>\n",
       "      <td>0.411232</td>\n",
       "      <td>0.253623</td>\n",
       "      <td>0.335145</td>\n",
       "    </tr>\n",
       "    <tr>\n",
       "      <th>2017</th>\n",
       "      <td>0.401766</td>\n",
       "      <td>0.214128</td>\n",
       "      <td>0.384106</td>\n",
       "    </tr>\n",
       "  </tbody>\n",
       "</table>\n",
       "</div>"
      ],
      "text/plain": [
       "brand    Adidas    Jordan      Nike\n",
       "year                               \n",
       "2011   0.000000  0.846154  0.153846\n",
       "2012   0.000000  0.507042  0.492958\n",
       "2013   0.009346  0.420561  0.570093\n",
       "2014   0.018072  0.427711  0.554217\n",
       "2015   0.135371  0.401747  0.462882\n",
       "2016   0.411232  0.253623  0.335145\n",
       "2017   0.401766  0.214128  0.384106"
      ]
     },
     "execution_count": 26,
     "metadata": {},
     "output_type": "execute_result"
    },
    {
     "name": "stdout",
     "output_type": "stream",
     "text": [
      "time: 232 ms\n"
     ]
    }
   ],
   "source": [
    "# Did Adidas increase market share (on StockX)?\n",
    "sub_tops = tops[tops.year>2010].groupby(['year', 'brand'])['brand'].count().unstack().fillna(0)\n",
    "sub_tops = sub_tops.T\n",
    "sub_tops = sub_tops.div(sub_tops.sum())\n",
    "sub_tops = sub_tops.T\n",
    "\n",
    "sub_tops.plot(kind='bar', stacked=True)\n",
    "plt.legend(bbox_to_anchor=(1.1, 1.05))\n",
    "plt.show()\n",
    "sub_tops"
   ]
  },
  {
   "cell_type": "code",
   "execution_count": 27,
   "metadata": {},
   "outputs": [
    {
     "data": {
      "image/png": "[encoded data removed]",
      "text/plain": [
       "<matplotlib.figure.Figure at 0x17b815c0>"
      ]
     },
     "metadata": {},
     "output_type": "display_data"
    },
    {
     "name": "stdout",
     "output_type": "stream",
     "text": [
      "time: 822 ms\n"
     ]
    }
   ],
   "source": [
    "# Set init variables\n",
    "corr = tops.corr()\n",
    "\n",
    "# Set the default matplotlib figure size to 7x7:\n",
    "fix, ax = plt.subplots(figsize=(12,7))\n",
    "\n",
    "# Generate a mask for the upper triangle (taken from seaborn example gallery)\n",
    "mask = np.zeros_like(corr, dtype=np.bool)\n",
    "mask[np.triu_indices_from(mask)] = True\n",
    "\n",
    "# Plot the heatmap with seaborn.\n",
    "# Assign the matplotlib axis the function returns. This will let us resize the labels.\n",
    "ax = sns.heatmap(corr, mask=mask, annot=True, annot_kws={\"size\":13}, ax=ax)\n",
    "\n",
    "# Resize the labels.\n",
    "ax.set_xticklabels(ax.xaxis.get_ticklabels(), fontsize=14, rotation='vertical')\n",
    "ax.set_yticklabels(ax.yaxis.get_ticklabels(), fontsize=14)\n",
    "\n",
    "# If you put plt.show() at the bottom, it prevents those useless printouts from matplotlib.\n",
    "plt.show()"
   ]
  },
  {
   "cell_type": "markdown",
   "metadata": {},
   "source": [
    "# Analysis time:\n"
   ]
  },
  {
   "cell_type": "code",
   "execution_count": 28,
   "metadata": {},
   "outputs": [
    {
     "name": "stdout",
     "output_type": "stream",
     "text": [
      "time: 5 s\n"
     ]
    }
   ],
   "source": [
    "# Import everything\n",
    "from nltk.stem import SnowballStemmer\n",
    "from nltk.corpus import stopwords\n",
    "from sklearn.feature_extraction.text import CountVectorizer, HashingVectorizer, TfidfVectorizer, TfidfTransformer\n",
    "\n",
    "from sklearn.metrics import accuracy_score, completeness_score, silhouette_score, confusion_matrix\n",
    "from sklearn.preprocessing import StandardScaler\n",
    "from sklearn.model_selection import train_test_split, cross_val_score\n",
    "\n",
    "from sklearn.svm import SVC\n",
    "from sklearn.linear_model import LogisticRegression\n",
    "from sklearn.ensemble import RandomForestClassifier\n",
    "from sklearn.decomposition import PCA\n",
    "from sklearn.neighbors import KNeighborsClassifier\n",
    "from sklearn.naive_bayes import BernoulliNB, MultinomialNB"
   ]
  },
  {
   "cell_type": "code",
   "execution_count": 99,
   "metadata": {},
   "outputs": [
    {
     "name": "stdout",
     "output_type": "stream",
     "text": [
      "time: 260 ms\n"
     ]
    },
    {
     "name": "stderr",
     "output_type": "stream",
     "text": [
      "C:\\Users\\Chris\\Anaconda3\\envs\\python2\\lib\\site-packages\\ipykernel_launcher.py:9: SettingWithCopyWarning: \n",
      "A value is trying to be set on a copy of a slice from a DataFrame.\n",
      "Try using .loc[row_indexer,col_indexer] = value instead\n",
      "\n",
      "See the caveats in the documentation: http://pandas.pydata.org/pandas-docs/stable/indexing.html#indexing-view-versus-copy\n",
      "  if __name__ == '__main__':\n"
     ]
    }
   ],
   "source": [
    "# Maybe the colorway is an indicator of averageDeadstockPrice\n",
    "snow = SnowballStemmer('english')\n",
    "\n",
    "# placeholder = pd.Series('Colorway_token')\n",
    "placeholder = pd.Series(tops.colorway.apply(lambda x: x.replace(\"/\",\" \").replace('-',' ').split(\" \")))\n",
    "\n",
    "# Maybe make vectors for each primary color?\n",
    "\n",
    "tops['colorway_token'] = placeholder.apply(lambda x: \" \".join([snow.stem(y) for y in x]))"
   ]
  },
  {
   "cell_type": "code",
   "execution_count": 235,
   "metadata": {},
   "outputs": [
    {
     "name": "stdout",
     "output_type": "stream",
     "text": [
      "time: 102 ms\n"
     ]
    },
    {
     "name": "stderr",
     "output_type": "stream",
     "text": [
      "C:\\Users\\Chris\\Anaconda3\\envs\\python2\\lib\\site-packages\\ipykernel_launcher.py:4: SettingWithCopyWarning: \n",
      "A value is trying to be set on a copy of a slice from a DataFrame.\n",
      "Try using .loc[row_indexer,col_indexer] = value instead\n",
      "\n",
      "See the caveats in the documentation: http://pandas.pydata.org/pandas-docs/stable/indexing.html#indexing-view-versus-copy\n",
      "  after removing the cwd from sys.path.\n"
     ]
    }
   ],
   "source": [
    "# do nlp vectorizers now?\n",
    "\n",
    "# Making a rarity boolean for those above median\n",
    "tops['rarity_bool'] = tops.rarity.map(lambda x: 1 if x >= 1.75 else 0)\n",
    "y = tops.rarity_bool"
   ]
  },
  {
   "cell_type": "code",
   "execution_count": 254,
   "metadata": {},
   "outputs": [
    {
     "name": "stdout",
     "output_type": "stream",
     "text": [
      "0.712336554861\n",
      "time: 4 ms\n"
     ]
    }
   ],
   "source": [
    "baseline = max(1 - y.mean(), y.mean())\n",
    "print baseline"
   ]
  },
  {
   "cell_type": "code",
   "execution_count": 238,
   "metadata": {},
   "outputs": [
    {
     "name": "stdout",
     "output_type": "stream",
     "text": [
      "time: 3 ms\n"
     ]
    }
   ],
   "source": [
    "X = tops.colorway_token\n",
    "\n",
    "X_train, X_test, y_train, y_test = train_test_split(X, y, train_size = .8, random_state=90)"
   ]
  },
  {
   "cell_type": "code",
   "execution_count": 239,
   "metadata": {},
   "outputs": [
    {
     "name": "stdout",
     "output_type": "stream",
     "text": [
      "time: 10 ms\n"
     ]
    }
   ],
   "source": [
    "# Going to try several vectorizers and models. Better to write a function that will do this in one step.\n",
    "def tokenize_test(text, vect, model, target='rarity_bool', \n",
    "                  X_train=X_train, X_test=X_test, y_train=y_train, y_test=y_test):\n",
    "    '''Arguments are text, vect, model, target (in strings)\n",
    "    X_train, X_test, y_train, y_test.\n",
    "    Used to find the accuracy of the rarity.'''\n",
    "    X = tops[text]\n",
    "    y = tops[target]\n",
    "    X_train, X_test, y_train, y_test = train_test_split(X, y, train_size = .8, random_state=90)\n",
    "    X_train_dtm = vect.fit_transform(X_train)\n",
    "    \n",
    "    X_test_dtm = vect.transform(X_test)\n",
    "    model.fit(X_train_dtm, y_train)\n",
    "    y_pred_class = model.predict(X_test_dtm)\n",
    "    return accuracy_score(y_test, y_pred_class)"
   ]
  },
  {
   "cell_type": "code",
   "execution_count": 248,
   "metadata": {},
   "outputs": [
    {
     "name": "stdout",
     "output_type": "stream",
     "text": [
      "time: 9 ms\n"
     ]
    }
   ],
   "source": [
    "# Making a function to make a dataframe for the accuracy results of tokenize_test\n",
    "def accuracy_df_maker(models, vectors, texts, target):\n",
    "    '''models and vectors are dictionarys with key as the label and value as the object.\n",
    "    texts is a list of features to test on. Returns a sorted dataframe with accuracy scores\n",
    "    of every model, vectorizer, and feature combintion'''\n",
    "    Accuracy_scores = []\n",
    "    for model_k, model_v in models.items():\n",
    "        for vect_k, vect_v in vectors.items():\n",
    "            for text in texts:\n",
    "                Accuracy_scores.append((model_k, vect_k, text, tokenize_test(text, vect_v, model_v, target)))\n",
    "    \n",
    "    df = pd.DataFrame(Accuracy_scores, columns=['Model', 'Vectorizer', 'Feature', 'Accuracy_score'])\n",
    "    return df.sort_values('Accuracy_score', ascending=False).reset_index(drop=True)"
   ]
  },
  {
   "cell_type": "code",
   "execution_count": 249,
   "metadata": {},
   "outputs": [
    {
     "name": "stdout",
     "output_type": "stream",
     "text": [
      "time: 6 ms\n"
     ]
    }
   ],
   "source": [
    "ng = (1,3)\n",
    "cvec, hvec, tvec = CountVectorizer(ngram_range=ng), HashingVectorizer(ngram_range=ng), TfidfVectorizer(ngram_range=ng)\n",
    "\n",
    "models = {'SVC':SVC(), 'Log':LogisticRegression(), 'Bernoulli':BernoulliNB(), 'KNN':KNeighborsClassifier()}\n",
    "vectors = {'CVEC':cvec, 'HVEC':hvec, 'TVEC': tvec}\n",
    "texts = ['colorway_token', 'category', 'title', 'name']"
   ]
  },
  {
   "cell_type": "code",
   "execution_count": 250,
   "metadata": {},
   "outputs": [
    {
     "data": {
      "text/html": [
       "<div>\n",
       "<style>\n",
       "    .dataframe thead tr:only-child th {\n",
       "        text-align: right;\n",
       "    }\n",
       "\n",
       "    .dataframe thead th {\n",
       "        text-align: left;\n",
       "    }\n",
       "\n",
       "    .dataframe tbody tr th {\n",
       "        vertical-align: top;\n",
       "    }\n",
       "</style>\n",
       "<table border=\"1\" class=\"dataframe\">\n",
       "  <thead>\n",
       "    <tr style=\"text-align: right;\">\n",
       "      <th></th>\n",
       "      <th>Model</th>\n",
       "      <th>Vectorizer</th>\n",
       "      <th>Feature</th>\n",
       "      <th>Accuracy_score</th>\n",
       "    </tr>\n",
       "  </thead>\n",
       "  <tbody>\n",
       "    <tr>\n",
       "      <th>0</th>\n",
       "      <td>Log</td>\n",
       "      <td>TVEC</td>\n",
       "      <td>name</td>\n",
       "      <td>0.744318</td>\n",
       "    </tr>\n",
       "    <tr>\n",
       "      <th>1</th>\n",
       "      <td>Log</td>\n",
       "      <td>TVEC</td>\n",
       "      <td>title</td>\n",
       "      <td>0.741477</td>\n",
       "    </tr>\n",
       "    <tr>\n",
       "      <th>2</th>\n",
       "      <td>Log</td>\n",
       "      <td>HVEC</td>\n",
       "      <td>name</td>\n",
       "      <td>0.738636</td>\n",
       "    </tr>\n",
       "    <tr>\n",
       "      <th>3</th>\n",
       "      <td>Log</td>\n",
       "      <td>HVEC</td>\n",
       "      <td>title</td>\n",
       "      <td>0.735795</td>\n",
       "    </tr>\n",
       "    <tr>\n",
       "      <th>4</th>\n",
       "      <td>SVC</td>\n",
       "      <td>HVEC</td>\n",
       "      <td>colorway_token</td>\n",
       "      <td>0.724432</td>\n",
       "    </tr>\n",
       "  </tbody>\n",
       "</table>\n",
       "</div>"
      ],
      "text/plain": [
       "  Model Vectorizer         Feature  Accuracy_score\n",
       "0   Log       TVEC            name        0.744318\n",
       "1   Log       TVEC           title        0.741477\n",
       "2   Log       HVEC            name        0.738636\n",
       "3   Log       HVEC           title        0.735795\n",
       "4   SVC       HVEC  colorway_token        0.724432"
      ]
     },
     "execution_count": 250,
     "metadata": {},
     "output_type": "execute_result"
    },
    {
     "name": "stdout",
     "output_type": "stream",
     "text": [
      "time: 5.5 s\n"
     ]
    }
   ],
   "source": [
    "nlp = accuracy_df_maker(models, vectors, texts, 'rarity_bool')\n",
    "nlp.head()"
   ]
  },
  {
   "cell_type": "code",
   "execution_count": 252,
   "metadata": {},
   "outputs": [
    {
     "name": "stdout",
     "output_type": "stream",
     "text": [
      "time: 2.49 s\n"
     ]
    }
   ],
   "source": [
    "# Separate functions because random forst with hashing takes more than 3 minutes with worse results.\n",
    "# Same with Multinomial. Combining all into one dataframe, best_df\n",
    "\n",
    "nlp_add = accuracy_df_maker({'Random Forest':RandomForestClassifier(), 'Multinomial':MultinomialNB()}, \n",
    "                            {'CVEC':cvec, 'TVEC':tvec}, ['colorway_token', 'category', 'title', 'name'], 'rarity_bool')\n",
    "best_df = pd.concat([nlp, nlp_add]).sort_values('Accuracy_score', ascending=False).reset_index(drop=True).copy()"
   ]
  },
  {
   "cell_type": "code",
   "execution_count": 485,
   "metadata": {},
   "outputs": [
    {
     "name": "stdout",
     "output_type": "stream",
     "text": [
      "0.712336554861\n"
     ]
    },
    {
     "data": {
      "text/html": [
       "<div>\n",
       "<style>\n",
       "    .dataframe thead tr:only-child th {\n",
       "        text-align: right;\n",
       "    }\n",
       "\n",
       "    .dataframe thead th {\n",
       "        text-align: left;\n",
       "    }\n",
       "\n",
       "    .dataframe tbody tr th {\n",
       "        vertical-align: top;\n",
       "    }\n",
       "</style>\n",
       "<table border=\"1\" class=\"dataframe\">\n",
       "  <thead>\n",
       "    <tr style=\"text-align: right;\">\n",
       "      <th></th>\n",
       "      <th>Model</th>\n",
       "      <th>Vectorizer</th>\n",
       "      <th>Feature</th>\n",
       "      <th>Accuracy_score</th>\n",
       "    </tr>\n",
       "  </thead>\n",
       "  <tbody>\n",
       "    <tr>\n",
       "      <th>0</th>\n",
       "      <td>Log</td>\n",
       "      <td>TVEC</td>\n",
       "      <td>name</td>\n",
       "      <td>0.744318</td>\n",
       "    </tr>\n",
       "    <tr>\n",
       "      <th>1</th>\n",
       "      <td>Log</td>\n",
       "      <td>TVEC</td>\n",
       "      <td>title</td>\n",
       "      <td>0.741477</td>\n",
       "    </tr>\n",
       "    <tr>\n",
       "      <th>2</th>\n",
       "      <td>Log</td>\n",
       "      <td>HVEC</td>\n",
       "      <td>name</td>\n",
       "      <td>0.738636</td>\n",
       "    </tr>\n",
       "    <tr>\n",
       "      <th>3</th>\n",
       "      <td>Log</td>\n",
       "      <td>HVEC</td>\n",
       "      <td>title</td>\n",
       "      <td>0.735795</td>\n",
       "    </tr>\n",
       "    <tr>\n",
       "      <th>4</th>\n",
       "      <td>Multinomial</td>\n",
       "      <td>TVEC</td>\n",
       "      <td>title</td>\n",
       "      <td>0.727273</td>\n",
       "    </tr>\n",
       "  </tbody>\n",
       "</table>\n",
       "</div>"
      ],
      "text/plain": [
       "         Model Vectorizer Feature  Accuracy_score\n",
       "0          Log       TVEC    name        0.744318\n",
       "1          Log       TVEC   title        0.741477\n",
       "2          Log       HVEC    name        0.738636\n",
       "3          Log       HVEC   title        0.735795\n",
       "4  Multinomial       TVEC   title        0.727273"
      ]
     },
     "execution_count": 485,
     "metadata": {},
     "output_type": "execute_result"
    },
    {
     "name": "stdout",
     "output_type": "stream",
     "text": [
      "time: 25 ms\n"
     ]
    }
   ],
   "source": [
    "print baseline\n",
    "best_df[best_df.Accuracy_score > baseline*1.02]"
   ]
  },
  {
   "cell_type": "markdown",
   "metadata": {},
   "source": [
    "### Now time to do regression on ________ using PCA\n",
    "\n",
    "---"
   ]
  },
  {
   "cell_type": "code",
   "execution_count": 31,
   "metadata": {},
   "outputs": [
    {
     "data": {
      "image/png": "[encoded data removed]",
      "text/plain": [
       "<matplotlib.figure.Figure at 0x16f511d0>"
      ]
     },
     "metadata": {},
     "output_type": "display_data"
    },
    {
     "name": "stdout",
     "output_type": "stream",
     "text": [
      "time: 191 ms\n"
     ]
    }
   ],
   "source": [
    "# Try doing times series of release date vs. retailprice/averageDeadstockPrice\n",
    "cops = tops.set_index('releaseDate').sort_index()\n",
    "\n",
    "plt.plot(cops.retailPrice, 'bo', markersize=3)\n",
    "# plt.plot(cops.averageDeadstockPrice, 'r*', markersize=3)\n",
    "plt.xlabel('Year')\n",
    "plt.ylabel('Retail Price ($)')\n",
    "plt.title('Retail Price of Top Brands vs. Year')\n",
    "plt.ylim(0,750);"
   ]
  },
  {
   "cell_type": "code",
   "execution_count": 95,
   "metadata": {},
   "outputs": [
    {
     "data": {
      "text/plain": [
       "0       adidas Yeezy\n",
       "1         adidas NMD\n",
       "2    Air Jordan Four\n",
       "3       adidas Yeezy\n",
       "4     Air Jordan One\n",
       "Name: category, dtype: object"
      ]
     },
     "execution_count": 95,
     "metadata": {},
     "output_type": "execute_result"
    },
    {
     "name": "stdout",
     "output_type": "stream",
     "text": [
      "time: 6 ms\n"
     ]
    }
   ],
   "source": [
    "# cluster on category and price?\n",
    "shoe.category.head()"
   ]
  },
  {
   "cell_type": "markdown",
   "metadata": {},
   "source": [
    "Information taken from https://pythonprogramming.net/automated-image-thresholding-python/?completed=/thresholding-python-function/\n",
    "\n",
    "Deep Learning made possible via a VM by https://github.com/nirmalyaghosh/deep-learning-vm"
   ]
  },
  {
   "cell_type": "markdown",
   "metadata": {},
   "source": [
    "Imaging code was sourced from http://pillow.readthedocs.io/en/3.4.x/reference/Image.html.\n",
    "\n",
    "Pickling code was sourced from https://stackoverflow.com/questions/11218477/how-can-i-use-pickle-to-save-a-dict"
   ]
  },
  {
   "cell_type": "code",
   "execution_count": 385,
   "metadata": {},
   "outputs": [
    {
     "name": "stdout",
     "output_type": "stream",
     "text": [
      "time: 20 ms\n"
     ]
    }
   ],
   "source": [
    "# only gathering images for those that have images\n",
    "tops_with_pics = tops[tops.thumbUrl != '']\n",
    "tops_with_pics.reset_index(drop=True, inplace=True)"
   ]
  },
  {
   "cell_type": "code",
   "execution_count": 457,
   "metadata": {},
   "outputs": [
    {
     "name": "stdout",
     "output_type": "stream",
     "text": [
      "99\n",
      "199\n",
      "299\n",
      "399\n",
      "499\n",
      "599\n",
      "699\n",
      "799\n",
      "899\n",
      "999\n",
      "1099\n",
      "1199\n",
      "1299\n",
      "1399\n",
      "1499\n",
      "1599\n",
      "1699\n",
      "time: 21min 13s\n"
     ]
    }
   ],
   "source": [
    "pickled_array = []\n",
    "counter = 0\n",
    "for shoe_num in range(len(tops_with_pics)):\n",
    "    fd =urllib.urlopen(tops_with_pics.thumbUrl[shoe_num])\n",
    "    image_file = io.BytesIO(fd.read())\n",
    "    i = Image.open(image_file).convert('RGB')\n",
    "    iar = np.asarray(i)\n",
    "    iar.setflags(write=1)\n",
    "    \n",
    "    pickled_array.append(iar)\n",
    "    counter += 1\n",
    "    if counter % 251 == 0:\n",
    "        print shoe_num\n",
    "    sleep(0.5)\n",
    "    image_file.close()\n",
    "    fd.close()"
   ]
  },
  {
   "cell_type": "code",
   "execution_count": 458,
   "metadata": {},
   "outputs": [
    {
     "name": "stdout",
     "output_type": "stream",
     "text": [
      "time: 744 ms\n"
     ]
    }
   ],
   "source": [
    "import pickle\n",
    "with open('shoenumbers.pickle', 'wb') as handle:\n",
    "    pickle.dump(pickled_array, handle, protocol=2)"
   ]
  },
  {
   "cell_type": "code",
   "execution_count": 475,
   "metadata": {},
   "outputs": [
    {
     "name": "stdout",
     "output_type": "stream",
     "text": [
      "time: 258 ms\n"
     ]
    }
   ],
   "source": [
    "with open('shoenumbers.pickle', 'rb') as handle:\n",
    "    X = pickle.load(handle)"
   ]
  },
  {
   "cell_type": "code",
   "execution_count": 487,
   "metadata": {},
   "outputs": [
    {
     "name": "stdout",
     "output_type": "stream",
     "text": [
      "(1747L, 200L, 280L, 3L)\n",
      "(200L, 280L, 3L)\n",
      "time: 690 ms\n"
     ]
    }
   ],
   "source": [
    "# Check shape of X\n",
    "print np.array(X).shape\n",
    "print np.array(X[0]).shape"
   ]
  },
  {
   "cell_type": "code",
   "execution_count": 483,
   "metadata": {},
   "outputs": [
    {
     "name": "stdout",
     "output_type": "stream",
     "text": [
      "time: 621 ms\n"
     ]
    }
   ],
   "source": [
    "X = np.array(X)\n",
    "X = X.astype('float32')"
   ]
  },
  {
   "cell_type": "code",
   "execution_count": 484,
   "metadata": {},
   "outputs": [
    {
     "name": "stdout",
     "output_type": "stream",
     "text": [
      "time: 174 ms\n"
     ]
    }
   ],
   "source": [
    "X /= 255."
   ]
  },
  {
   "cell_type": "code",
   "execution_count": 486,
   "metadata": {},
   "outputs": [
    {
     "name": "stdout",
     "output_type": "stream",
     "text": [
      "time: 2 ms\n"
     ]
    }
   ],
   "source": [
    "# Make models in keras now....but how?\n",
    "\n",
    "\n",
    "\n",
    "\n",
    "\n",
    "\n",
    "\n"
   ]
  },
  {
   "cell_type": "code",
   "execution_count": 94,
   "metadata": {},
   "outputs": [
    {
     "name": "stdout",
     "output_type": "stream",
     "text": [
      "time: 5 ms\n"
     ]
    }
   ],
   "source": [
    "# Tresholding or making black and white\n",
    "# import sys\n",
    "# def threshold(imageArray):\n",
    "#     balanceAr = []\n",
    "#     newAr = imageArray\n",
    "#     for eachRow in imageArray:\n",
    "#         for eachPix in eachRow:\n",
    "#             avgNum = reduce(lambda x, y: x + y, eachPix[:3]) / len(eachPix[:3])\n",
    "#             balanceAr.append(avgNum)\n",
    "#     balance = reduce(lambda x, y: x + y, balanceAr) / len(balanceAr)\n",
    "#     for eachRow in newAr:\n",
    "#         for eachPix in eachRow:\n",
    "#             if reduce(lambda x, y: x + y, eachPix[:3]) / len(eachPix[:3]) > balance:\n",
    "#                 eachPix[0] = 255\n",
    "#                 eachPix[1] = 255\n",
    "#                 eachPix[2] = 255\n",
    "#                 eachPix[3] = 255\n",
    "#             else:\n",
    "#                 eachPix[0] = 0\n",
    "#                 eachPix[1] = 0\n",
    "#                 eachPix[2] = 0\n",
    "#                 eachPix[3] = 255\n",
    "#     return newAr\n",
    "\n",
    "# i = Image.open('Nike-LeBron-3-West-Coast.png')\n",
    "\n",
    "# iar = np.asarray(i)\n",
    "# iar.setflags(write=1)\n",
    "\n",
    "# iar_bw = threshold(iar)\n",
    "# plt.imshow(iar_bw)\n",
    "# plt.grid(False)"
   ]
  }
 ],
 "metadata": {
  "kernelspec": {
   "display_name": "Python 2",
   "language": "python",
   "name": "python2"
  },
  "language_info": {
   "codemirror_mode": {
    "name": "ipython",
    "version": 2
   },
   "file_extension": ".py",
   "mimetype": "text/x-python",
   "name": "python",
   "nbconvert_exporter": "python",
   "pygments_lexer": "ipython2",
   "version": "2.7.13"
  }
 },
 "nbformat": 4,
 "nbformat_minor": 2
}
