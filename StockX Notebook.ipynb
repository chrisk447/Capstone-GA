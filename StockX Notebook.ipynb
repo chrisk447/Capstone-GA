{
 "cells": [
  {
   "cell_type": "markdown",
   "metadata": {},
   "source": [
    "# Capstone Project - Which Shoe is the Best for You?\n",
    "\n",
    "General Assembly passion project. Scrape or obtain data from resources online to develop a dataset to perform cleaning, EDA, and analysis on. Try to predict a model on common themes like: \n",
    "\n",
    "- Price\n",
    "- If item is in category A or B\n",
    "- Cluster and create groups\n",
    "- Recommender"
   ]
  },
  {
   "cell_type": "code",
   "execution_count": 121,
   "metadata": {
    "collapsed": true
   },
   "outputs": [],
   "source": [
    "# Import libraries\n",
    "import pandas as pd\n",
    "import numpy as np\n",
    "import urllib\n",
    "import seaborn as sns\n",
    "import matplotlib.pyplot as plt\n",
    "from bs4 import BeautifulSoup\n",
    "import requests\n",
    "from time import sleep, strftime\n",
    "import ast\n",
    "from os import listdir\n",
    "\n",
    "% matplotlib inline"
   ]
  },
  {
   "cell_type": "markdown",
   "metadata": {},
   "source": [
    "**Testing one website and finding appropriate keys**\n",
    "\n",
    "Then run again on page 2."
   ]
  },
  {
   "cell_type": "code",
   "execution_count": 122,
   "metadata": {
    "collapsed": true
   },
   "outputs": [],
   "source": [
    "result = requests.get('https://stockx.com/api/browse?page=1&category=152')\n",
    "json_res = result.json()\n",
    "\n",
    "# print json_res['Products'][0]['shortDescription']\n",
    "# print json_res['Products'][0]['retailPrice']"
   ]
  },
  {
   "cell_type": "code",
   "execution_count": 123,
   "metadata": {},
   "outputs": [
    {
     "name": "stdout",
     "output_type": "stream",
     "text": [
      "Adidas-Yeezy-Boost-350-V2-Core-Black-White\n",
      "220\n"
     ]
    }
   ],
   "source": [
    "result = requests.get('https://stockx.com/api/browse?page=2&category=152')\n",
    "json_res = result.json()\n",
    "\n",
    "print json_res['Products'][0]['shortDescription']\n",
    "print json_res['Products'][0]['retailPrice']"
   ]
  },
  {
   "cell_type": "code",
   "execution_count": 124,
   "metadata": {},
   "outputs": [
    {
     "data": {
      "text/plain": [
       "{u'absChangePercentage': 0.048921,\n",
       " u'annualHigh': 1500,\n",
       " u'annualLow': 401,\n",
       " u'averageDeadstockPrice': 562,\n",
       " u'averageDeadstockPriceRank': 98,\n",
       " u'changePercentage': -0.048921,\n",
       " u'changeValue': -34,\n",
       " u'createdAt': u'2016-10-20T18:00:08+00:00',\n",
       " u'deadstockRangeHigh': 698,\n",
       " u'deadstockRangeLow': 624,\n",
       " u'deadstockSold': 4981,\n",
       " u'deadstockSoldRank': 70,\n",
       " u'highestBid': 825,\n",
       " u'lastHighestBidTime': 1498532269,\n",
       " u'lastLowestAskTime': 1498278421,\n",
       " u'lastSale': 661,\n",
       " u'lastSaleDate': u'2017-06-27T16:24:33+00:00',\n",
       " u'lowestAsk': 650,\n",
       " u'pricePremium': 2.005,\n",
       " u'pricePremiumRank': 7,\n",
       " u'productId': 0,\n",
       " u'productUuid': u'f3f603f0-e1c0-48d1-9aad-206b00351e1b',\n",
       " u'salesLast72Hours': 32,\n",
       " u'salesLastPeriod': 0,\n",
       " u'salesThisPeriod': 32,\n",
       " u'skuUuid': None,\n",
       " u'updatedAt': 1498580950,\n",
       " u'volatility': 0.055317}"
      ]
     },
     "execution_count": 124,
     "metadata": {},
     "output_type": "execute_result"
    }
   ],
   "source": [
    "json_res['Products'][0]['market']"
   ]
  },
  {
   "cell_type": "markdown",
   "metadata": {},
   "source": [
    "### Functions to run for loop to scrape website\n",
    "\n",
    "First function scrapes the web for an amount of pages (default 50). It will save the raw data as a csv as well. The second function will then clean the dataframe by taking out the unused columns."
   ]
  },
  {
   "cell_type": "code",
   "execution_count": 125,
   "metadata": {
    "collapsed": true
   },
   "outputs": [],
   "source": [
    "def shoe_scraper(pages=50):\n",
    "    '''Returns one dataframe of all results. \n",
    "    And will save into a new file.'''\n",
    "    \n",
    "    # Have to run requests first to get appropriate column names\n",
    "    req = requests.get('https://stockx.com/api/browse?page=1&category=152')\n",
    "    json_req = req.json()\n",
    "    df = pd.DataFrame([], columns=json_req['Products'][0].keys())\n",
    "\n",
    "    for i in range(1,pages):\n",
    "        try:\n",
    "            html = 'https://stockx.com/api/browse?page=' + str(int(i)) + '&category=152'\n",
    "            result = requests.get(html)\n",
    "            json_res = result.json()\n",
    "            df = pd.concat([df, pd.DataFrame(json_res['Products'])])\n",
    "            sleep(0.5)\n",
    "        except:\n",
    "            break\n",
    "    \n",
    "    # Drop row duplicates\n",
    "    df.drop_duplicates(['shortDescription', 'urlKey'], inplace=True) \n",
    "    \n",
    "    # Function to save as csv file under today's day as raw (before dropping)\n",
    "    def csv_maker(df):\n",
    "        filename = 'StockX_' + strftime(\"%m%d%H\")\n",
    "        df.to_csv(path_or_buf='C:\\\\Users\\\\Chris\\\\Desktop\\\\dsi-atl-3\\\\project\\\\Capstone\\\\datasets\\\\' + filename, encoding='utf-8')\n",
    "    \n",
    "    csv_maker(df)\n",
    "    \n",
    "    return df"
   ]
  },
  {
   "cell_type": "code",
   "execution_count": 126,
   "metadata": {
    "collapsed": true
   },
   "outputs": [],
   "source": [
    "def clean_df(busy_dataframe):\n",
    "    '''Dropping columns that hold little to no information.\n",
    "    Then reset the index since we are getting repeated indices'''\n",
    "    \n",
    "    # Market DataFrame. If scraping, comes in ready form\n",
    "    # If pulling from old data, dictionary comes in string form\n",
    "    if isinstance(busy_dataframe.market.reset_index(drop=True)[0], str):\n",
    "        market_df = pd.DataFrame([ast.literal_eval(row) for row in busy_dataframe['market']])\n",
    "    else:\n",
    "        market_df = pd.DataFrame([row for row in busy_dataframe['market']])\n",
    "    \n",
    "    # Drop unnecessary columns\n",
    "    cleaner_dataframe = busy_dataframe.join(market_df)\n",
    "    \n",
    "    cleanest_dataframe = cleaner_dataframe.drop(['breadcrumbs', 'childId', 'countryOfManufacture', 'type', \n",
    "        'uuid', 'dataType', 'doppelgangers', 'condition', 'description', 'hidden', 'ipoDate', 'productCategory', \n",
    "        'shoeSize', 'urlKey', 'charityCondition', 'releaseTime', 'shortDescription', 'media', '_highlightResult', \n",
    "        'market', '_tags', 'id', 'objectID', 'lastHighestBidTime', 'lastLowestAskTime', 'styleId', 'productId',\n",
    "        'productUuid', 'skuUuid', 'updatedAt', 'traits', 'tickerSymbol', 'salesLastPeriod',\n",
    "        'minimumBid', 'averageDeadstockPriceRank', 'deadstockSoldRank', 'pricePremium', 'pricePremiumRank',\n",
    "        'salesThisPeriod'], axis=1)\n",
    "    \n",
    "    # Remember title = shoe + name\n",
    "\n",
    "    # Reset the index, since we are getting repeated indices\n",
    "    cleanest_dataframe.reset_index(drop=True, inplace=True)\n",
    "    \n",
    "    return cleanest_dataframe"
   ]
  },
  {
   "cell_type": "code",
   "execution_count": 127,
   "metadata": {
    "collapsed": true
   },
   "outputs": [],
   "source": [
    "scraped_shoe = shoe_scraper()"
   ]
  },
  {
   "cell_type": "code",
   "execution_count": 128,
   "metadata": {
    "collapsed": true
   },
   "outputs": [],
   "source": [
    "def read_and_clean(path):\n",
    "    '''Read a file path where datasets are stored. Cleans the dataframe by\n",
    "    removing duplicates, removing first column (Unnamed: 0) to be ready for\n",
    "    clean_df function.'''\n",
    "    file_list = listdir(path)\n",
    "    file_list.remove('dataio')\n",
    "    \n",
    "    # Make a list of all the dataframes\n",
    "    parts_df = [pd.read_csv('../datasets/' + files) for files in file_list]\n",
    "    \n",
    "    # Make one dataframe, take out first column and drop duplicates based on 'urlkey'\n",
    "    df = pd.concat(parts_df)\n",
    "    df = df.iloc[:,1:]\n",
    "    df.drop_duplicates(['uuid'], inplace=True)\n",
    "    \n",
    "    # Clean Brand names\n",
    "    df.brand = df.brand.map(lambda x: x.title())\n",
    "    return df"
   ]
  },
  {
   "cell_type": "code",
   "execution_count": 129,
   "metadata": {},
   "outputs": [],
   "source": [
    "path = '../datasets/'\n",
    "\n",
    "shoe = clean_df(read_and_clean(path))"
   ]
  },
  {
   "cell_type": "code",
   "execution_count": 130,
   "metadata": {},
   "outputs": [
    {
     "data": {
      "text/plain": [
       "(1649, 25)"
      ]
     },
     "execution_count": 130,
     "metadata": {},
     "output_type": "execute_result"
    }
   ],
   "source": [
    "shoe = shoe[shoe.retailPrice.notnull()]\n",
    "shoe.shape"
   ]
  },
  {
   "cell_type": "code",
   "execution_count": 131,
   "metadata": {},
   "outputs": [
    {
     "data": {
      "text/plain": [
       "<matplotlib.axes._subplots.AxesSubplot at 0x150dec50>"
      ]
     },
     "execution_count": 131,
     "metadata": {},
     "output_type": "execute_result"
    },
    {
     "data": {
      "image/png": "[encoded data removed]",
      "text/plain": [
       "<matplotlib.figure.Figure at 0x14c93dd8>"
      ]
     },
     "metadata": {},
     "output_type": "display_data"
    }
   ],
   "source": [
    "shoe.retailPrice.plot(kind='hist')"
   ]
  },
  {
   "cell_type": "code",
   "execution_count": 143,
   "metadata": {},
   "outputs": [
    {
     "data": {
      "text/html": [
       "<div>\n",
       "<table border=\"1\" class=\"dataframe\">\n",
       "  <thead>\n",
       "    <tr style=\"text-align: right;\">\n",
       "      <th></th>\n",
       "      <th>shoe</th>\n",
       "      <th>colorway</th>\n",
       "      <th>name</th>\n",
       "      <th>highestBid</th>\n",
       "      <th>year</th>\n",
       "    </tr>\n",
       "  </thead>\n",
       "  <tbody>\n",
       "    <tr>\n",
       "      <th>133</th>\n",
       "      <td>Adidas Iniki Runner</td>\n",
       "      <td>Off White/Collegiate Royal/Core Red</td>\n",
       "      <td>Pride Of The 70s USA</td>\n",
       "      <td>20002</td>\n",
       "      <td>2017.0</td>\n",
       "    </tr>\n",
       "    <tr>\n",
       "      <th>485</th>\n",
       "      <td>Jordan 7 Retro</td>\n",
       "      <td>White/Metallic Gold Coin-Deep Royal Blue-Fire ...</td>\n",
       "      <td>Tinker Alternate</td>\n",
       "      <td>7000</td>\n",
       "      <td>2016.0</td>\n",
       "    </tr>\n",
       "  </tbody>\n",
       "</table>\n",
       "</div>"
      ],
      "text/plain": [
       "                    shoe                                           colorway  \\\n",
       "133  Adidas Iniki Runner                Off White/Collegiate Royal/Core Red   \n",
       "485       Jordan 7 Retro  White/Metallic Gold Coin-Deep Royal Blue-Fire ...   \n",
       "\n",
       "                     name  highestBid    year  \n",
       "133  Pride Of The 70s USA       20002  2017.0  \n",
       "485      Tinker Alternate        7000  2016.0  "
      ]
     },
     "execution_count": 143,
     "metadata": {},
     "output_type": "execute_result"
    }
   ],
   "source": [
    "shoe[shoe.highestBid > 5000][['shoe', 'colorway', 'name', 'highestBid', 'year']]"
   ]
  },
  {
   "cell_type": "code",
   "execution_count": 133,
   "metadata": {},
   "outputs": [
    {
     "data": {
      "text/html": [
       "<div>\n",
       "<table border=\"1\" class=\"dataframe\">\n",
       "  <thead>\n",
       "    <tr style=\"text-align: right;\">\n",
       "      <th></th>\n",
       "      <th>shoe</th>\n",
       "      <th>colorway</th>\n",
       "      <th>name</th>\n",
       "      <th>retailPrice</th>\n",
       "      <th>year</th>\n",
       "    </tr>\n",
       "  </thead>\n",
       "  <tbody>\n",
       "    <tr>\n",
       "      <th>898</th>\n",
       "      <td>Reebok Instapump Fury</td>\n",
       "      <td>White/Multi-Color</td>\n",
       "      <td>Vetements Doodle</td>\n",
       "      <td>760.0</td>\n",
       "      <td>2017.0</td>\n",
       "    </tr>\n",
       "  </tbody>\n",
       "</table>\n",
       "</div>"
      ],
      "text/plain": [
       "                      shoe           colorway              name  retailPrice  \\\n",
       "898  Reebok Instapump Fury  White/Multi-Color  Vetements Doodle        760.0   \n",
       "\n",
       "       year  \n",
       "898  2017.0  "
      ]
     },
     "execution_count": 133,
     "metadata": {},
     "output_type": "execute_result"
    }
   ],
   "source": [
    "shoe[shoe.retailPrice == shoe.retailPrice.max()][['shoe', 'colorway', 'name', 'retailPrice', 'year']]"
   ]
  },
  {
   "cell_type": "code",
   "execution_count": 134,
   "metadata": {},
   "outputs": [
    {
     "data": {
      "text/html": [
       "<div>\n",
       "<table border=\"1\" class=\"dataframe\">\n",
       "  <thead>\n",
       "    <tr style=\"text-align: right;\">\n",
       "      <th></th>\n",
       "      <th>brand</th>\n",
       "      <th>category</th>\n",
       "      <th>colorway</th>\n",
       "      <th>name</th>\n",
       "      <th>releaseDate</th>\n",
       "      <th>retailPrice</th>\n",
       "      <th>shoe</th>\n",
       "      <th>title</th>\n",
       "      <th>year</th>\n",
       "      <th>absChangePercentage</th>\n",
       "      <th>...</th>\n",
       "      <th>createdAt</th>\n",
       "      <th>deadstockRangeHigh</th>\n",
       "      <th>deadstockRangeLow</th>\n",
       "      <th>deadstockSold</th>\n",
       "      <th>highestBid</th>\n",
       "      <th>lastSale</th>\n",
       "      <th>lastSaleDate</th>\n",
       "      <th>lowestAsk</th>\n",
       "      <th>salesLast72Hours</th>\n",
       "      <th>volatility</th>\n",
       "    </tr>\n",
       "  </thead>\n",
       "  <tbody>\n",
       "    <tr>\n",
       "      <th>0</th>\n",
       "      <td>Adidas</td>\n",
       "      <td>adidas Yeezy</td>\n",
       "      <td>White/Core Black/Red</td>\n",
       "      <td>Zebra</td>\n",
       "      <td>2017-02-25 23:59:59</td>\n",
       "      <td>220.0</td>\n",
       "      <td>Adidas Yeezy Boost 350 V2</td>\n",
       "      <td>Adidas Yeezy Boost 350 V2 Zebra</td>\n",
       "      <td>2017.0</td>\n",
       "      <td>0.294872</td>\n",
       "      <td>...</td>\n",
       "      <td>2015-10-26T20:03:03+00:00</td>\n",
       "      <td>139</td>\n",
       "      <td>81</td>\n",
       "      <td>20</td>\n",
       "      <td>95</td>\n",
       "      <td>110</td>\n",
       "      <td>2017-06-16T17:51:52+00:00</td>\n",
       "      <td>119</td>\n",
       "      <td>4</td>\n",
       "      <td>0.267071</td>\n",
       "    </tr>\n",
       "    <tr>\n",
       "      <th>1</th>\n",
       "      <td>Adidas</td>\n",
       "      <td>adidas Yeezy</td>\n",
       "      <td>Core White/Core White/Core White</td>\n",
       "      <td>Calabasas Core White</td>\n",
       "      <td>2017-03-28 23:59:59</td>\n",
       "      <td>120.0</td>\n",
       "      <td>Adidas Yeezy Powerphase</td>\n",
       "      <td>Adidas Yeezy Powerphase Calabasas Core White</td>\n",
       "      <td>2017.0</td>\n",
       "      <td>0.392308</td>\n",
       "      <td>...</td>\n",
       "      <td>2016-12-06T18:37:51+00:00</td>\n",
       "      <td>202</td>\n",
       "      <td>160</td>\n",
       "      <td>11</td>\n",
       "      <td>130</td>\n",
       "      <td>181</td>\n",
       "      <td>2017-06-16T17:35:07+00:00</td>\n",
       "      <td>139</td>\n",
       "      <td>3</td>\n",
       "      <td>0.116816</td>\n",
       "    </tr>\n",
       "  </tbody>\n",
       "</table>\n",
       "<p>2 rows × 25 columns</p>\n",
       "</div>"
      ],
      "text/plain": [
       "    brand      category                          colorway  \\\n",
       "0  Adidas  adidas Yeezy              White/Core Black/Red   \n",
       "1  Adidas  adidas Yeezy  Core White/Core White/Core White   \n",
       "\n",
       "                   name          releaseDate  retailPrice  \\\n",
       "0                 Zebra  2017-02-25 23:59:59        220.0   \n",
       "1  Calabasas Core White  2017-03-28 23:59:59        120.0   \n",
       "\n",
       "                        shoe                                         title  \\\n",
       "0  Adidas Yeezy Boost 350 V2               Adidas Yeezy Boost 350 V2 Zebra   \n",
       "1    Adidas Yeezy Powerphase  Adidas Yeezy Powerphase Calabasas Core White   \n",
       "\n",
       "     year  absChangePercentage     ...                      createdAt  \\\n",
       "0  2017.0             0.294872     ...      2015-10-26T20:03:03+00:00   \n",
       "1  2017.0             0.392308     ...      2016-12-06T18:37:51+00:00   \n",
       "\n",
       "   deadstockRangeHigh  deadstockRangeLow  deadstockSold  highestBid lastSale  \\\n",
       "0                 139                 81             20          95      110   \n",
       "1                 202                160             11         130      181   \n",
       "\n",
       "                lastSaleDate  lowestAsk  salesLast72Hours  volatility  \n",
       "0  2017-06-16T17:51:52+00:00        119                 4    0.267071  \n",
       "1  2017-06-16T17:35:07+00:00        139                 3    0.116816  \n",
       "\n",
       "[2 rows x 25 columns]"
      ]
     },
     "execution_count": 134,
     "metadata": {},
     "output_type": "execute_result"
    }
   ],
   "source": [
    "shoe.head(2)"
   ]
  },
  {
   "cell_type": "code",
   "execution_count": 135,
   "metadata": {},
   "outputs": [
    {
     "data": {
      "text/plain": [
       "Nike            578\n",
       "Jordan          563\n",
       "Adidas          410\n",
       "Asics            30\n",
       "Vans             19\n",
       "Reebok           15\n",
       "New Balance      11\n",
       "Diadora           6\n",
       "Puma              6\n",
       "Under Armour      5\n",
       "Saucony           4\n",
       "Converse          1\n",
       "Clarks            1\n",
       "Name: brand, dtype: int64"
      ]
     },
     "execution_count": 135,
     "metadata": {},
     "output_type": "execute_result"
    }
   ],
   "source": [
    "shoe.brand.value_counts()"
   ]
  },
  {
   "cell_type": "code",
   "execution_count": 136,
   "metadata": {
    "collapsed": true
   },
   "outputs": [],
   "source": [
    "tops = shoe[(shoe.brand=='Adidas')|(shoe.brand=='Nike')|(shoe.brand=='Jordan')]"
   ]
  },
  {
   "cell_type": "code",
   "execution_count": 137,
   "metadata": {},
   "outputs": [
    {
     "data": {
      "image/png": "[encoded data removed]",
      "text/plain": [
       "<matplotlib.figure.Figure at 0x15b17630>"
      ]
     },
     "metadata": {},
     "output_type": "display_data"
    }
   ],
   "source": [
    "sns.set(font_scale=1.5)\n",
    "sns.lmplot(x='retailPrice', y ='lastSale', data=tops, hue='brand', fit_reg=False, size=6)\n",
    "plt.plot(np.linspace(0,700,700), np.linspace(0,700,700), linestyle='--')\n",
    "plt.show()"
   ]
  },
  {
   "cell_type": "code",
   "execution_count": 138,
   "metadata": {},
   "outputs": [
    {
     "ename": "KeyboardInterrupt",
     "evalue": "",
     "output_type": "error",
     "traceback": [
      "\u001b[1;31m---------------------------------------------------------------------------\u001b[0m",
      "\u001b[1;31mKeyboardInterrupt\u001b[0m                         Traceback (most recent call last)",
      "\u001b[1;32m<ipython-input-138-a770c7464e60>\u001b[0m in \u001b[0;36m<module>\u001b[1;34m()\u001b[0m\n\u001b[1;32m----> 1\u001b[1;33m \u001b[0msns\u001b[0m\u001b[1;33m.\u001b[0m\u001b[0mswarmplot\u001b[0m\u001b[1;33m(\u001b[0m\u001b[0mx\u001b[0m\u001b[1;33m=\u001b[0m\u001b[1;34m'year'\u001b[0m\u001b[1;33m,\u001b[0m \u001b[0my\u001b[0m\u001b[1;33m=\u001b[0m\u001b[1;34m'lastSale'\u001b[0m\u001b[1;33m,\u001b[0m \u001b[0mdata\u001b[0m\u001b[1;33m=\u001b[0m\u001b[0mtops\u001b[0m\u001b[1;33m[\u001b[0m\u001b[0mtops\u001b[0m\u001b[1;33m.\u001b[0m\u001b[0myear\u001b[0m\u001b[1;33m>\u001b[0m\u001b[1;36m2010\u001b[0m\u001b[1;33m]\u001b[0m\u001b[1;33m,\u001b[0m \u001b[0mhue\u001b[0m\u001b[1;33m=\u001b[0m\u001b[1;34m'brand'\u001b[0m\u001b[1;33m)\u001b[0m\u001b[1;33m\u001b[0m\u001b[0m\n\u001b[0m\u001b[0;32m      2\u001b[0m \u001b[0mplt\u001b[0m\u001b[1;33m.\u001b[0m\u001b[0mxticks\u001b[0m\u001b[1;33m(\u001b[0m\u001b[0mrotation\u001b[0m\u001b[1;33m=\u001b[0m\u001b[1;36m90\u001b[0m\u001b[1;33m)\u001b[0m\u001b[1;33m\u001b[0m\u001b[0m\n\u001b[0;32m      3\u001b[0m \u001b[0mplt\u001b[0m\u001b[1;33m.\u001b[0m\u001b[0mshow\u001b[0m\u001b[1;33m(\u001b[0m\u001b[1;33m)\u001b[0m\u001b[1;33m\u001b[0m\u001b[0m\n",
      "\u001b[1;32mC:\\Users\\Chris\\Anaconda3\\envs\\python2\\lib\\site-packages\\seaborn\\categorical.pyc\u001b[0m in \u001b[0;36mswarmplot\u001b[1;34m(x, y, hue, data, order, hue_order, split, orient, color, palette, size, edgecolor, linewidth, ax, **kwargs)\u001b[0m\n\u001b[0;32m   2737\u001b[0m                        linewidth=linewidth))\n\u001b[0;32m   2738\u001b[0m \u001b[1;33m\u001b[0m\u001b[0m\n\u001b[1;32m-> 2739\u001b[1;33m     \u001b[0mplotter\u001b[0m\u001b[1;33m.\u001b[0m\u001b[0mplot\u001b[0m\u001b[1;33m(\u001b[0m\u001b[0max\u001b[0m\u001b[1;33m,\u001b[0m \u001b[0mkwargs\u001b[0m\u001b[1;33m)\u001b[0m\u001b[1;33m\u001b[0m\u001b[0m\n\u001b[0m\u001b[0;32m   2740\u001b[0m     \u001b[1;32mreturn\u001b[0m \u001b[0max\u001b[0m\u001b[1;33m\u001b[0m\u001b[0m\n\u001b[0;32m   2741\u001b[0m \u001b[1;33m\u001b[0m\u001b[0m\n",
      "\u001b[1;32mC:\\Users\\Chris\\Anaconda3\\envs\\python2\\lib\\site-packages\\seaborn\\categorical.pyc\u001b[0m in \u001b[0;36mplot\u001b[1;34m(self, ax, kws)\u001b[0m\n\u001b[0;32m   1395\u001b[0m     \u001b[1;32mdef\u001b[0m \u001b[0mplot\u001b[0m\u001b[1;33m(\u001b[0m\u001b[0mself\u001b[0m\u001b[1;33m,\u001b[0m \u001b[0max\u001b[0m\u001b[1;33m,\u001b[0m \u001b[0mkws\u001b[0m\u001b[1;33m)\u001b[0m\u001b[1;33m:\u001b[0m\u001b[1;33m\u001b[0m\u001b[0m\n\u001b[0;32m   1396\u001b[0m         \u001b[1;34m\"\"\"Make the full plot.\"\"\"\u001b[0m\u001b[1;33m\u001b[0m\u001b[0m\n\u001b[1;32m-> 1397\u001b[1;33m         \u001b[0mself\u001b[0m\u001b[1;33m.\u001b[0m\u001b[0mdraw_swarmplot\u001b[0m\u001b[1;33m(\u001b[0m\u001b[0max\u001b[0m\u001b[1;33m,\u001b[0m \u001b[0mkws\u001b[0m\u001b[1;33m)\u001b[0m\u001b[1;33m\u001b[0m\u001b[0m\n\u001b[0m\u001b[0;32m   1398\u001b[0m         \u001b[0mself\u001b[0m\u001b[1;33m.\u001b[0m\u001b[0madd_legend_data\u001b[0m\u001b[1;33m(\u001b[0m\u001b[0max\u001b[0m\u001b[1;33m)\u001b[0m\u001b[1;33m\u001b[0m\u001b[0m\n\u001b[0;32m   1399\u001b[0m         \u001b[0mself\u001b[0m\u001b[1;33m.\u001b[0m\u001b[0mannotate_axes\u001b[0m\u001b[1;33m(\u001b[0m\u001b[0max\u001b[0m\u001b[1;33m)\u001b[0m\u001b[1;33m\u001b[0m\u001b[0m\n",
      "\u001b[1;32mC:\\Users\\Chris\\Anaconda3\\envs\\python2\\lib\\site-packages\\seaborn\\categorical.pyc\u001b[0m in \u001b[0;36mdraw_swarmplot\u001b[1;34m(self, ax, kws)\u001b[0m\n\u001b[0;32m   1391\u001b[0m         \u001b[1;32mfor\u001b[0m \u001b[0mcenter\u001b[0m\u001b[1;33m,\u001b[0m \u001b[0mswarm\u001b[0m \u001b[1;32min\u001b[0m \u001b[0mzip\u001b[0m\u001b[1;33m(\u001b[0m\u001b[0mcenters\u001b[0m\u001b[1;33m,\u001b[0m \u001b[0mswarms\u001b[0m\u001b[1;33m)\u001b[0m\u001b[1;33m:\u001b[0m\u001b[1;33m\u001b[0m\u001b[0m\n\u001b[0;32m   1392\u001b[0m             \u001b[1;32mif\u001b[0m \u001b[0mswarm\u001b[0m\u001b[1;33m.\u001b[0m\u001b[0mget_offsets\u001b[0m\u001b[1;33m(\u001b[0m\u001b[1;33m)\u001b[0m\u001b[1;33m.\u001b[0m\u001b[0msize\u001b[0m\u001b[1;33m:\u001b[0m\u001b[1;33m\u001b[0m\u001b[0m\n\u001b[1;32m-> 1393\u001b[1;33m                 \u001b[0mself\u001b[0m\u001b[1;33m.\u001b[0m\u001b[0mswarm_points\u001b[0m\u001b[1;33m(\u001b[0m\u001b[0max\u001b[0m\u001b[1;33m,\u001b[0m \u001b[0mswarm\u001b[0m\u001b[1;33m,\u001b[0m \u001b[0mcenter\u001b[0m\u001b[1;33m,\u001b[0m \u001b[0mwidth\u001b[0m\u001b[1;33m,\u001b[0m \u001b[0ms\u001b[0m\u001b[1;33m,\u001b[0m \u001b[1;33m**\u001b[0m\u001b[0mkws\u001b[0m\u001b[1;33m)\u001b[0m\u001b[1;33m\u001b[0m\u001b[0m\n\u001b[0m\u001b[0;32m   1394\u001b[0m \u001b[1;33m\u001b[0m\u001b[0m\n\u001b[0;32m   1395\u001b[0m     \u001b[1;32mdef\u001b[0m \u001b[0mplot\u001b[0m\u001b[1;33m(\u001b[0m\u001b[0mself\u001b[0m\u001b[1;33m,\u001b[0m \u001b[0max\u001b[0m\u001b[1;33m,\u001b[0m \u001b[0mkws\u001b[0m\u001b[1;33m)\u001b[0m\u001b[1;33m:\u001b[0m\u001b[1;33m\u001b[0m\u001b[0m\n",
      "\u001b[1;32mC:\\Users\\Chris\\Anaconda3\\envs\\python2\\lib\\site-packages\\seaborn\\categorical.pyc\u001b[0m in \u001b[0;36mswarm_points\u001b[1;34m(self, ax, points, center, width, s, **kws)\u001b[0m\n\u001b[0;32m   1300\u001b[0m \u001b[1;33m\u001b[0m\u001b[0m\n\u001b[0;32m   1301\u001b[0m         \u001b[1;31m# Do the beeswarm in point coordinates\u001b[0m\u001b[1;33m\u001b[0m\u001b[1;33m\u001b[0m\u001b[0m\n\u001b[1;32m-> 1302\u001b[1;33m         \u001b[0mnew_xy\u001b[0m \u001b[1;33m=\u001b[0m \u001b[0mself\u001b[0m\u001b[1;33m.\u001b[0m\u001b[0mbeeswarm\u001b[0m\u001b[1;33m(\u001b[0m\u001b[0morig_xy\u001b[0m\u001b[1;33m,\u001b[0m \u001b[0md\u001b[0m\u001b[1;33m)\u001b[0m\u001b[1;33m\u001b[0m\u001b[0m\n\u001b[0m\u001b[0;32m   1303\u001b[0m \u001b[1;33m\u001b[0m\u001b[0m\n\u001b[0;32m   1304\u001b[0m         \u001b[1;31m# Transform the point coordinates back to data coordinates\u001b[0m\u001b[1;33m\u001b[0m\u001b[1;33m\u001b[0m\u001b[0m\n",
      "\u001b[1;32mC:\\Users\\Chris\\Anaconda3\\envs\\python2\\lib\\site-packages\\seaborn\\categorical.pyc\u001b[0m in \u001b[0;36mbeeswarm\u001b[1;34m(self, orig_xy, d)\u001b[0m\n\u001b[0;32m   1260\u001b[0m             \u001b[1;31m# Remove the positions that overlap with any of the\u001b[0m\u001b[1;33m\u001b[0m\u001b[1;33m\u001b[0m\u001b[0m\n\u001b[0;32m   1261\u001b[0m             \u001b[1;31m# other neighbors\u001b[0m\u001b[1;33m\u001b[0m\u001b[1;33m\u001b[0m\u001b[0m\n\u001b[1;32m-> 1262\u001b[1;33m             \u001b[0mcandidates\u001b[0m \u001b[1;33m=\u001b[0m \u001b[0mself\u001b[0m\u001b[1;33m.\u001b[0m\u001b[0mprune_candidates\u001b[0m\u001b[1;33m(\u001b[0m\u001b[0mcandidates\u001b[0m\u001b[1;33m,\u001b[0m \u001b[0mneighbors\u001b[0m\u001b[1;33m,\u001b[0m \u001b[0md\u001b[0m\u001b[1;33m)\u001b[0m\u001b[1;33m\u001b[0m\u001b[0m\n\u001b[0m\u001b[0;32m   1263\u001b[0m \u001b[1;33m\u001b[0m\u001b[0m\n\u001b[0;32m   1264\u001b[0m             \u001b[1;31m# Find the most central of the remaining positions\u001b[0m\u001b[1;33m\u001b[0m\u001b[1;33m\u001b[0m\u001b[0m\n",
      "\u001b[1;32mC:\\Users\\Chris\\Anaconda3\\envs\\python2\\lib\\site-packages\\seaborn\\categorical.pyc\u001b[0m in \u001b[0;36mprune_candidates\u001b[1;34m(self, candidates, neighbors, d)\u001b[0m\n\u001b[0;32m   1232\u001b[0m             \u001b[0mgood_candidate\u001b[0m \u001b[1;33m=\u001b[0m \u001b[0mTrue\u001b[0m\u001b[1;33m\u001b[0m\u001b[0m\n\u001b[0;32m   1233\u001b[0m             \u001b[1;32mfor\u001b[0m \u001b[0mxy_j\u001b[0m \u001b[1;32min\u001b[0m \u001b[0mneighbors\u001b[0m\u001b[1;33m:\u001b[0m\u001b[1;33m\u001b[0m\u001b[0m\n\u001b[1;32m-> 1234\u001b[1;33m                 \u001b[1;32mif\u001b[0m \u001b[0mself\u001b[0m\u001b[1;33m.\u001b[0m\u001b[0moverlap\u001b[0m\u001b[1;33m(\u001b[0m\u001b[0mxy_i\u001b[0m\u001b[1;33m,\u001b[0m \u001b[0mxy_j\u001b[0m\u001b[1;33m,\u001b[0m \u001b[0md\u001b[0m\u001b[1;33m)\u001b[0m\u001b[1;33m:\u001b[0m\u001b[1;33m\u001b[0m\u001b[0m\n\u001b[0m\u001b[0;32m   1235\u001b[0m                     \u001b[0mgood_candidate\u001b[0m \u001b[1;33m=\u001b[0m \u001b[0mFalse\u001b[0m\u001b[1;33m\u001b[0m\u001b[0m\n\u001b[0;32m   1236\u001b[0m             \u001b[1;32mif\u001b[0m \u001b[0mgood_candidate\u001b[0m\u001b[1;33m:\u001b[0m\u001b[1;33m\u001b[0m\u001b[0m\n",
      "\u001b[1;32mC:\\Users\\Chris\\Anaconda3\\envs\\python2\\lib\\site-packages\\seaborn\\categorical.pyc\u001b[0m in \u001b[0;36moverlap\u001b[1;34m(self, xy_i, xy_j, d)\u001b[0m\n\u001b[0;32m   1192\u001b[0m         \u001b[0mx_i\u001b[0m\u001b[1;33m,\u001b[0m \u001b[0my_i\u001b[0m \u001b[1;33m=\u001b[0m \u001b[0mxy_i\u001b[0m\u001b[1;33m\u001b[0m\u001b[0m\n\u001b[0;32m   1193\u001b[0m         \u001b[0mx_j\u001b[0m\u001b[1;33m,\u001b[0m \u001b[0my_j\u001b[0m \u001b[1;33m=\u001b[0m \u001b[0mxy_j\u001b[0m\u001b[1;33m\u001b[0m\u001b[0m\n\u001b[1;32m-> 1194\u001b[1;33m         \u001b[1;32mreturn\u001b[0m \u001b[1;33m(\u001b[0m\u001b[1;33m(\u001b[0m\u001b[0mx_i\u001b[0m \u001b[1;33m-\u001b[0m \u001b[0mx_j\u001b[0m\u001b[1;33m)\u001b[0m \u001b[1;33m**\u001b[0m \u001b[1;36m2\u001b[0m \u001b[1;33m+\u001b[0m \u001b[1;33m(\u001b[0m\u001b[0my_i\u001b[0m \u001b[1;33m-\u001b[0m \u001b[0my_j\u001b[0m\u001b[1;33m)\u001b[0m \u001b[1;33m**\u001b[0m \u001b[1;36m2\u001b[0m\u001b[1;33m)\u001b[0m \u001b[1;33m<\u001b[0m \u001b[1;33m(\u001b[0m\u001b[0md\u001b[0m \u001b[1;33m**\u001b[0m \u001b[1;36m2\u001b[0m\u001b[1;33m)\u001b[0m\u001b[1;33m\u001b[0m\u001b[0m\n\u001b[0m\u001b[0;32m   1195\u001b[0m \u001b[1;33m\u001b[0m\u001b[0m\n\u001b[0;32m   1196\u001b[0m     \u001b[1;32mdef\u001b[0m \u001b[0mcould_overlap\u001b[0m\u001b[1;33m(\u001b[0m\u001b[0mself\u001b[0m\u001b[1;33m,\u001b[0m \u001b[0mxy_i\u001b[0m\u001b[1;33m,\u001b[0m \u001b[0mswarm\u001b[0m\u001b[1;33m,\u001b[0m \u001b[0md\u001b[0m\u001b[1;33m)\u001b[0m\u001b[1;33m:\u001b[0m\u001b[1;33m\u001b[0m\u001b[0m\n",
      "\u001b[1;31mKeyboardInterrupt\u001b[0m: "
     ]
    },
    {
     "data": {
      "image/png": "[encoded data removed]",
      "text/plain": [
       "<matplotlib.figure.Figure at 0xe68d5f8>"
      ]
     },
     "metadata": {},
     "output_type": "display_data"
    }
   ],
   "source": [
    "sns.swarmplot(x='year', y='lastSale', data=tops[tops.year>2010], hue='brand')\n",
    "plt.xticks(rotation=90)\n",
    "plt.show()"
   ]
  },
  {
   "cell_type": "code",
   "execution_count": null,
   "metadata": {},
   "outputs": [],
   "source": [
    "# Adidas didn't come into the market until 2015. Let's look more closely\n",
    "sns.swarmplot(x='year', y='lastSale', data=tops[tops.year>2014], hue='brand')\n",
    "plt.xticks(rotation=90)\n",
    "plt.show()"
   ]
  },
  {
   "cell_type": "code",
   "execution_count": null,
   "metadata": {},
   "outputs": [],
   "source": [
    "# Adidas boost's came out in January 2015 along with Yeezy's in February of 2015\n",
    "tops[(tops.brand=='Adidas') & (tops.shoe.str.contains('boost', case=False))].shape"
   ]
  },
  {
   "cell_type": "code",
   "execution_count": null,
   "metadata": {},
   "outputs": [],
   "source": [
    "# Adidas and Nike Yeezy's\n",
    "tops[tops.shoe.str.contains('yeezy',case=False)].shape"
   ]
  },
  {
   "cell_type": "code",
   "execution_count": null,
   "metadata": {},
   "outputs": [],
   "source": [
    "# Did Adidas increase market share (on StockX)?\n",
    "sub_tops = tops[tops.year>2010].groupby(['year', 'brand'])['brand'].count().unstack().fillna(0)\n",
    "sub_tops = sub_tops.T\n",
    "sub_tops = sub_tops.div(sub_tops.sum())\n",
    "sub_tops = sub_tops.T\n",
    "sub_tops"
   ]
  },
  {
   "cell_type": "code",
   "execution_count": null,
   "metadata": {},
   "outputs": [],
   "source": [
    "sub_tops.plot(kind='bar', stacked=True)\n",
    "plt.legend(bbox_to_anchor=(1.1, 1.05))"
   ]
  },
  {
   "cell_type": "code",
   "execution_count": null,
   "metadata": {},
   "outputs": [],
   "source": [
    "tops.iloc[:,7:]"
   ]
  }
 ],
 "metadata": {
  "kernelspec": {
   "display_name": "Python 2",
   "language": "python",
   "name": "python2"
  },
  "language_info": {
   "codemirror_mode": {
    "name": "ipython",
    "version": 2
   },
   "file_extension": ".py",
   "mimetype": "text/x-python",
   "name": "python",
   "nbconvert_exporter": "python",
   "pygments_lexer": "ipython2",
   "version": "2.7.13"
  }
 },
 "nbformat": 4,
 "nbformat_minor": 2
}
