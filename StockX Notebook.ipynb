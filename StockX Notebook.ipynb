{
 "cells": [
  {
   "cell_type": "markdown",
   "metadata": {},
   "source": [
    "# Capstone Project - NEED TO COME UP WITH TITLE\n",
    "\n",
    "General Assembly passion project. Scrape or obtain data from resources online to develop a dataset to perform cleaning, EDA, and analysis on. Try to predict a model on common themes like: \n",
    "\n",
    "- Price\n",
    "- If item is in category A or B\n",
    "- Cluster and create groups\n",
    "\n",
    "- Predict lowest amount a shoe will sell for? So people know what price to wait for before buying?\n",
    "\n",
    "---\n",
    "\n",
    "## DO AB TESTING ON IF ADIDAS INCREASED IN RARITY AFTER 2015"
   ]
  },
  {
   "cell_type": "markdown",
   "metadata": {},
   "source": [
    "### Part 1 - Gathering the raw data"
   ]
  },
  {
   "cell_type": "code",
   "execution_count": 1,
   "metadata": {
    "collapsed": true
   },
   "outputs": [],
   "source": [
    "# Import libraries\n",
    "import warnings\n",
    "import pandas as pd\n",
    "import numpy as np\n",
    "import urllib\n",
    "import seaborn as sns\n",
    "import matplotlib.pyplot as plt\n",
    "from bs4 import BeautifulSoup\n",
    "import requests\n",
    "from time import sleep, strftime\n",
    "import ast\n",
    "from os import listdir\n",
    "\n",
    "pd.options.mode.chained_assignment = None\n",
    "\n",
    "%matplotlib inline\n",
    "%load_ext autotime"
   ]
  },
  {
   "cell_type": "code",
   "execution_count": 121,
   "metadata": {},
   "outputs": [
    {
     "name": "stdout",
     "output_type": "stream",
     "text": [
      "time: 1.11 s\n"
     ]
    }
   ],
   "source": [
    "# Retrieving information from API in json format from StockX.com\n",
    "result = requests.get('https://stockx.com/api/browse?page=1&category=152')\n",
    "json_res = result.json()\n",
    "result = requests.get('https://stockx.com/api/browse?page=2&category=152')\n",
    "json_res = result.json()"
   ]
  },
  {
   "cell_type": "code",
   "execution_count": 4,
   "metadata": {},
   "outputs": [
    {
     "name": "stdout",
     "output_type": "stream",
     "text": [
      "time: 26 ms\n"
     ]
    }
   ],
   "source": [
    "# Functions to run for loop to scrape website.\n",
    "\n",
    "def shoe_scraper(pages=50):\n",
    "    '''Returns one dataframe of all results. And will save into a new file.'''\n",
    "    \n",
    "    # Have to run requests first to get appropriate column names\n",
    "    req = requests.get('https://stockx.com/api/browse?page=1&category=152')\n",
    "    json_req = req.json()\n",
    "    df = pd.DataFrame([], columns=json_req['Products'][0].keys())\n",
    "\n",
    "    for i in range(1,pages):\n",
    "        try:\n",
    "            html = 'https://stockx.com/api/browse?page=' + str(int(i)) + '&category=152'\n",
    "            result = requests.get(html)\n",
    "            json_res = result.json()\n",
    "            df = pd.concat([df, pd.DataFrame(json_res['Products'])])\n",
    "            sleep(0.5)\n",
    "        except:\n",
    "            break\n",
    "    \n",
    "    # Drop row duplicates\n",
    "    df.drop_duplicates(['shortDescription', 'urlKey'], inplace=True) \n",
    "    \n",
    "    # Function to save as csv file under today's day as raw (before dropping)\n",
    "    def csv_maker(df):\n",
    "        filename = 'StockX_' + strftime(\"%m%d%H\")\n",
    "        df.to_csv(path_or_buf='C:\\\\Users\\\\Chris\\\\Desktop\\\\dsi-atl-3\\\\project\\\\Capstone\\\\datasets\\\\' + filename, encoding='utf-8')\n",
    "    csv_maker(df)    \n",
    "    return df"
   ]
  },
  {
   "cell_type": "code",
   "execution_count": 5,
   "metadata": {},
   "outputs": [
    {
     "name": "stdout",
     "output_type": "stream",
     "text": [
      "time: 40 ms\n"
     ]
    }
   ],
   "source": [
    "def clean_df(busy_dataframe):\n",
    "    '''Dropping columns that hold little to no information. Combining columns with relevant info.\n",
    "    Then reset the index since we are getting repeated indices'''\n",
    "    \n",
    "    # Market DataFrame. If scraping, comes in ready form\n",
    "    # If pulling from old data, dictionary comes in string form\n",
    "    if isinstance(busy_dataframe.market.reset_index(drop=True)[0], str):\n",
    "        market_df = pd.DataFrame([ast.literal_eval(row) for row in busy_dataframe['market']])\n",
    "    else:\n",
    "        market_df = pd.DataFrame([row for row in busy_dataframe['market']])\n",
    "        \n",
    "    # Same, but for including link for images\n",
    "    if isinstance(busy_dataframe.media.reset_index(drop=True)[0], str):\n",
    "        media_df = pd.DataFrame([ast.literal_eval(row) for row in busy_dataframe['media']])['thumbUrl']\n",
    "    else:\n",
    "        media_df = pd.DataFrame([row for row in busy_dataframe['media']])['imageUrl']\n",
    "    \n",
    "    # Combine dataframes and drop unnecessary columns\n",
    "    cleaner_dataframe = busy_dataframe.join(market_df)\n",
    "    cleaner_dataframe = cleaner_dataframe.join(media_df)\n",
    "    \n",
    "    cleanest_dataframe = cleaner_dataframe.drop(['breadcrumbs', 'childId', 'countryOfManufacture', 'type', \n",
    "        'uuid', 'dataType', 'doppelgangers', 'condition', 'description', 'hidden', 'ipoDate', 'productCategory', \n",
    "        'shoeSize', 'urlKey', 'charityCondition', 'releaseTime', 'shortDescription', 'media', '_highlightResult', \n",
    "        'market', '_tags', 'id', 'objectID', 'lastHighestBidTime', 'lastLowestAskTime', 'styleId', 'productId',\n",
    "        'productUuid', 'skuUuid', 'updatedAt', 'traits', 'tickerSymbol', 'salesLastPeriod',\n",
    "        'minimumBid', 'averageDeadstockPriceRank', 'deadstockSoldRank', 'pricePremium', 'pricePremiumRank',\n",
    "        'salesThisPeriod', 'createdAt', 'lastSaleDate'], axis=1)\n",
    "    \n",
    "    # Reset the index, since we are getting repeated indices\n",
    "    cleanest_dataframe.reset_index(drop=True, inplace=True)\n",
    "    \n",
    "    return cleanest_dataframe"
   ]
  },
  {
   "cell_type": "code",
   "execution_count": 6,
   "metadata": {},
   "outputs": [
    {
     "name": "stdout",
     "output_type": "stream",
     "text": [
      "time: 47.6 s\n"
     ]
    }
   ],
   "source": [
    "## Web Scraper code\n",
    "scraped_shoe = shoe_scraper()"
   ]
  },
  {
   "cell_type": "code",
   "execution_count": 7,
   "metadata": {},
   "outputs": [
    {
     "name": "stdout",
     "output_type": "stream",
     "text": [
      "time: 15 ms\n"
     ]
    }
   ],
   "source": [
    "def read_and_clean(path):\n",
    "    '''Read a file path where datasets are stored. Cleans the dataframe by removing duplicates,\n",
    "    removing first column (Unnamed: 0) to be ready for clean_df function.'''\n",
    "    file_list = listdir(path)\n",
    "    file_list.remove('dataio')\n",
    "    \n",
    "    # Make a list of all the dataframes\n",
    "    parts_df = [pd.read_csv('../datasets/' + files) for files in file_list]\n",
    "    \n",
    "    # Make one dataframe, take out first column and drop duplicates based on 'urlkey'\n",
    "    df = pd.concat(parts_df)\n",
    "    df = df.iloc[:,1:]\n",
    "    df.drop_duplicates(['uuid'], inplace=True)#, keep='last')\n",
    "    \n",
    "    # Clean Brand names\n",
    "    df.brand = df.brand.map(lambda x: x.title())\n",
    "    \n",
    "    # Lastly, change 'nan' to np.nan.\n",
    "    df = df.applymap(lambda x: np.nan if x=='nan' else x)\n",
    "\n",
    "    return df"
   ]
  },
  {
   "cell_type": "code",
   "execution_count": 8,
   "metadata": {},
   "outputs": [
    {
     "name": "stdout",
     "output_type": "stream",
     "text": [
      "time: 3.23 s\n"
     ]
    }
   ],
   "source": [
    "# Using functions defined above to read all previously downloaded data into one dataframe.\n",
    "path = '../datasets/'\n",
    "\n",
    "shoe = clean_df(read_and_clean(path))"
   ]
  },
  {
   "cell_type": "markdown",
   "metadata": {},
   "source": [
    "### Part 2 - Cleaning and Initial Analysis\n",
    "Some initial cleaning and EDA will need to be done.\n",
    "- Drop nulls\n",
    "- Change time series into datetime if possible\n",
    "- Check out the shape\n",
    "- Drop the error value for the high bid > $20,000\n",
    "\n",
    "**Make a metric for rarity: average Deadstock Price / retail Price**"
   ]
  },
  {
   "cell_type": "code",
   "execution_count": 9,
   "metadata": {},
   "outputs": [
    {
     "data": {
      "text/plain": [
       "(1996, 24)"
      ]
     },
     "execution_count": 9,
     "metadata": {},
     "output_type": "execute_result"
    },
    {
     "name": "stdout",
     "output_type": "stream",
     "text": [
      "time: 27 ms\n"
     ]
    }
   ],
   "source": [
    "# Some cleaning first. Take out null rows and change time data to date time\n",
    "shoe.dropna(inplace=True)\n",
    "shoe['releaseDate'] = pd.to_datetime(shoe.releaseDate).dt.date\n",
    "shoe['year'] = shoe.year.map(lambda x: int(x))\n",
    "shoe.shape"
   ]
  },
  {
   "cell_type": "code",
   "execution_count": 122,
   "metadata": {},
   "outputs": [
    {
     "data": {
      "text/html": [
       "<div>\n",
       "<style>\n",
       "    .dataframe thead tr:only-child th {\n",
       "        text-align: right;\n",
       "    }\n",
       "\n",
       "    .dataframe thead th {\n",
       "        text-align: left;\n",
       "    }\n",
       "\n",
       "    .dataframe tbody tr th {\n",
       "        vertical-align: top;\n",
       "    }\n",
       "</style>\n",
       "<table border=\"1\" class=\"dataframe\">\n",
       "  <thead>\n",
       "    <tr style=\"text-align: right;\">\n",
       "      <th></th>\n",
       "      <th>title</th>\n",
       "      <th>year</th>\n",
       "      <th>retailPrice</th>\n",
       "      <th>averageDeadstockPrice</th>\n",
       "      <th>highestBid</th>\n",
       "      <th>rarity</th>\n",
       "    </tr>\n",
       "  </thead>\n",
       "  <tbody>\n",
       "    <tr>\n",
       "      <th>1708</th>\n",
       "      <td>Nike Dunk SB Low Supreme NY Black Cement (2002)</td>\n",
       "      <td>2002</td>\n",
       "      <td>65.0</td>\n",
       "      <td>1388</td>\n",
       "      <td>1000</td>\n",
       "      <td>21.353846</td>\n",
       "    </tr>\n",
       "    <tr>\n",
       "      <th>1825</th>\n",
       "      <td>Nike SB Dunk High Momofuku</td>\n",
       "      <td>2017</td>\n",
       "      <td>110.0</td>\n",
       "      <td>1706</td>\n",
       "      <td>1336</td>\n",
       "      <td>15.509091</td>\n",
       "    </tr>\n",
       "    <tr>\n",
       "      <th>1624</th>\n",
       "      <td>Jordan 1 Retro Low OG Ice Blue</td>\n",
       "      <td>2017</td>\n",
       "      <td>140.0</td>\n",
       "      <td>1936</td>\n",
       "      <td>3037</td>\n",
       "      <td>13.828571</td>\n",
       "    </tr>\n",
       "    <tr>\n",
       "      <th>1826</th>\n",
       "      <td>Air Max 1 Air Max Day 3.26</td>\n",
       "      <td>2014</td>\n",
       "      <td>125.0</td>\n",
       "      <td>1706</td>\n",
       "      <td>1336</td>\n",
       "      <td>13.648000</td>\n",
       "    </tr>\n",
       "    <tr>\n",
       "      <th>1307</th>\n",
       "      <td>Nike Dunk SB High Tie Dye Black</td>\n",
       "      <td>2014</td>\n",
       "      <td>108.0</td>\n",
       "      <td>1447</td>\n",
       "      <td>1000</td>\n",
       "      <td>13.398148</td>\n",
       "    </tr>\n",
       "  </tbody>\n",
       "</table>\n",
       "</div>"
      ],
      "text/plain": [
       "                                                title  year  retailPrice  \\\n",
       "1708  Nike Dunk SB Low Supreme NY Black Cement (2002)  2002         65.0   \n",
       "1825                       Nike SB Dunk High Momofuku  2017        110.0   \n",
       "1624                   Jordan 1 Retro Low OG Ice Blue  2017        140.0   \n",
       "1826                       Air Max 1 Air Max Day 3.26  2014        125.0   \n",
       "1307                  Nike Dunk SB High Tie Dye Black  2014        108.0   \n",
       "\n",
       "      averageDeadstockPrice  highestBid     rarity  \n",
       "1708                   1388        1000  21.353846  \n",
       "1825                   1706        1336  15.509091  \n",
       "1624                   1936        3037  13.828571  \n",
       "1826                   1706        1336  13.648000  \n",
       "1307                   1447        1000  13.398148  "
      ]
     },
     "execution_count": 122,
     "metadata": {},
     "output_type": "execute_result"
    },
    {
     "name": "stdout",
     "output_type": "stream",
     "text": [
      "time: 279 ms\n"
     ]
    }
   ],
   "source": [
    "# New metric for rarity of shoe & a boolean for those above median\n",
    "shoe['rarity'] = shoe.averageDeadstockPrice/shoe.retailPrice\n",
    "shoe['rarity_bool'] = shoe.rarity.map(lambda x: 1 if x >= shoe.rarity.median() else 0)\n",
    "\n",
    "# Since shoes retailed at $0 doesn't fit into the scope of the project, drop them.\n",
    "infinity_ind = shoe[shoe.retailPrice==0].index\n",
    "shoe.drop(infinity_ind, axis=0, inplace=True)\n",
    "shoe.reset_index(inplace=True, drop=True)\n",
    "\n",
    "# Most 'rare' shoes\n",
    "shoe[['title', 'year', 'retailPrice', 'averageDeadstockPrice', 'highestBid', 'rarity']].sort_values('rarity', ascending=False).head()"
   ]
  },
  {
   "cell_type": "code",
   "execution_count": 11,
   "metadata": {},
   "outputs": [
    {
     "data": {
      "text/plain": [
       "(-5, 1500)"
      ]
     },
     "execution_count": 11,
     "metadata": {},
     "output_type": "execute_result"
    },
    {
     "data": {
      "image/png": "[encoded data removed]",
      "text/plain": [
       "<matplotlib.figure.Figure at 0xc94cc88>"
      ]
     },
     "metadata": {},
     "output_type": "display_data"
    },
    {
     "name": "stdout",
     "output_type": "stream",
     "text": [
      "time: 485 ms\n"
     ]
    }
   ],
   "source": [
    "# Plots for general overview\n",
    "fig, (ax1, ax2) = plt.subplots(1,2, figsize=(12,5))\n",
    "\n",
    "shoe.retailPrice.plot(kind='hist', alpha=0.6, ax=ax1)\n",
    "shoe.averageDeadstockPrice.plot(kind='hist', alpha=0.6, ax=ax1)\n",
    "ax1.set_title('Retail Price and Avg Deadstock Price')\n",
    "ax1.axes.set_xlim(-5, 1500)\n",
    "\n",
    "shoe.highestBid.plot(kind='hist', alpha=0.6, ax=ax2)\n",
    "shoe.lowestAsk.plot(kind='hist',alpha=0.6, ax=ax2)\n",
    "shoe.lastSale.plot(kind='hist', alpha=0.6, ax=ax2)\n",
    "ax2.set_title('Highest Bid, Lowest Ask, and Last Sale Price')\n",
    "ax2.axes.set_xlim(-5,1500)"
   ]
  },
  {
   "cell_type": "code",
   "execution_count": 12,
   "metadata": {},
   "outputs": [
    {
     "data": {
      "text/html": [
       "<div>\n",
       "<style>\n",
       "    .dataframe thead tr:only-child th {\n",
       "        text-align: right;\n",
       "    }\n",
       "\n",
       "    .dataframe thead th {\n",
       "        text-align: left;\n",
       "    }\n",
       "\n",
       "    .dataframe tbody tr th {\n",
       "        vertical-align: top;\n",
       "    }\n",
       "</style>\n",
       "<table border=\"1\" class=\"dataframe\">\n",
       "  <thead>\n",
       "    <tr style=\"text-align: right;\">\n",
       "      <th></th>\n",
       "      <th>shoe</th>\n",
       "      <th>colorway</th>\n",
       "      <th>lastSale</th>\n",
       "      <th>highestBid</th>\n",
       "      <th>averageDeadstockPrice</th>\n",
       "      <th>retailPrice</th>\n",
       "    </tr>\n",
       "  </thead>\n",
       "  <tbody>\n",
       "    <tr>\n",
       "      <th>1622</th>\n",
       "      <td>Adidas Ultra Boost</td>\n",
       "      <td>Adidas-Ultra-Boost-Miami-Hurricanes</td>\n",
       "      <td>2515</td>\n",
       "      <td>3037</td>\n",
       "      <td>1936</td>\n",
       "      <td>180.0</td>\n",
       "    </tr>\n",
       "    <tr>\n",
       "      <th>1623</th>\n",
       "      <td>Nike Air Max 90</td>\n",
       "      <td>White/White</td>\n",
       "      <td>2515</td>\n",
       "      <td>3037</td>\n",
       "      <td>1936</td>\n",
       "      <td>160.0</td>\n",
       "    </tr>\n",
       "    <tr>\n",
       "      <th>1624</th>\n",
       "      <td>Jordan 1 Retro Low OG</td>\n",
       "      <td>Ice Blue/Vachetta Tan-White</td>\n",
       "      <td>2515</td>\n",
       "      <td>3037</td>\n",
       "      <td>1936</td>\n",
       "      <td>140.0</td>\n",
       "    </tr>\n",
       "    <tr>\n",
       "      <th>375</th>\n",
       "      <td>Jordan 1 Retro</td>\n",
       "      <td>Black/Sport Blue-White</td>\n",
       "      <td>1605</td>\n",
       "      <td>3000</td>\n",
       "      <td>1696</td>\n",
       "      <td>185.0</td>\n",
       "    </tr>\n",
       "    <tr>\n",
       "      <th>628</th>\n",
       "      <td>Adidas Yeezy Boost 750</td>\n",
       "      <td>Brown/Carbon White-Light Brown</td>\n",
       "      <td>2500</td>\n",
       "      <td>2125</td>\n",
       "      <td>3059</td>\n",
       "      <td>350.0</td>\n",
       "    </tr>\n",
       "    <tr>\n",
       "      <th>259</th>\n",
       "      <td>Adidas Yeezy Boost 350</td>\n",
       "      <td>Turtledove/Blue Grey-White</td>\n",
       "      <td>2100</td>\n",
       "      <td>2050</td>\n",
       "      <td>2223</td>\n",
       "      <td>200.0</td>\n",
       "    </tr>\n",
       "    <tr>\n",
       "      <th>353</th>\n",
       "      <td>Adidas NMD</td>\n",
       "      <td>EQT Yellow/EQT Yellow/FTWR White</td>\n",
       "      <td>2001</td>\n",
       "      <td>2050</td>\n",
       "      <td>828</td>\n",
       "      <td>240.0</td>\n",
       "    </tr>\n",
       "  </tbody>\n",
       "</table>\n",
       "</div>"
      ],
      "text/plain": [
       "                        shoe                             colorway  lastSale  \\\n",
       "1622      Adidas Ultra Boost  Adidas-Ultra-Boost-Miami-Hurricanes      2515   \n",
       "1623         Nike Air Max 90                          White/White      2515   \n",
       "1624   Jordan 1 Retro Low OG          Ice Blue/Vachetta Tan-White      2515   \n",
       "375           Jordan 1 Retro               Black/Sport Blue-White      1605   \n",
       "628   Adidas Yeezy Boost 750       Brown/Carbon White-Light Brown      2500   \n",
       "259   Adidas Yeezy Boost 350           Turtledove/Blue Grey-White      2100   \n",
       "353               Adidas NMD     EQT Yellow/EQT Yellow/FTWR White      2001   \n",
       "\n",
       "      highestBid  averageDeadstockPrice  retailPrice  \n",
       "1622        3037                   1936        180.0  \n",
       "1623        3037                   1936        160.0  \n",
       "1624        3037                   1936        140.0  \n",
       "375         3000                   1696        185.0  \n",
       "628         2125                   3059        350.0  \n",
       "259         2050                   2223        200.0  \n",
       "353         2050                    828        240.0  "
      ]
     },
     "execution_count": 12,
     "metadata": {},
     "output_type": "execute_result"
    },
    {
     "name": "stdout",
     "output_type": "stream",
     "text": [
      "time: 36 ms\n"
     ]
    }
   ],
   "source": [
    "# A view of the most expensive bid on shoe.\n",
    "shoe[shoe.highestBid > 2000][['shoe', 'colorway', 'lastSale', 'highestBid', 'averageDeadstockPrice', 'retailPrice']].sort_values('highestBid', ascending=False)"
   ]
  },
  {
   "cell_type": "code",
   "execution_count": 13,
   "metadata": {},
   "outputs": [
    {
     "data": {
      "text/html": [
       "<div>\n",
       "<style>\n",
       "    .dataframe thead tr:only-child th {\n",
       "        text-align: right;\n",
       "    }\n",
       "\n",
       "    .dataframe thead th {\n",
       "        text-align: left;\n",
       "    }\n",
       "\n",
       "    .dataframe tbody tr th {\n",
       "        vertical-align: top;\n",
       "    }\n",
       "</style>\n",
       "<table border=\"1\" class=\"dataframe\">\n",
       "  <thead>\n",
       "    <tr style=\"text-align: right;\">\n",
       "      <th></th>\n",
       "      <th>shoe</th>\n",
       "      <th>colorway</th>\n",
       "      <th>name</th>\n",
       "      <th>retailPrice</th>\n",
       "      <th>year</th>\n",
       "    </tr>\n",
       "  </thead>\n",
       "  <tbody>\n",
       "    <tr>\n",
       "      <th>1667</th>\n",
       "      <td>Air Yeezy 2</td>\n",
       "      <td>Gold/White</td>\n",
       "      <td>John Geiger x LASCO Golden Child</td>\n",
       "      <td>1850.0</td>\n",
       "      <td>2016</td>\n",
       "    </tr>\n",
       "  </tbody>\n",
       "</table>\n",
       "</div>"
      ],
      "text/plain": [
       "             shoe    colorway                              name  retailPrice  \\\n",
       "1667  Air Yeezy 2  Gold/White  John Geiger x LASCO Golden Child       1850.0   \n",
       "\n",
       "      year  \n",
       "1667  2016  "
      ]
     },
     "execution_count": 13,
     "metadata": {},
     "output_type": "execute_result"
    },
    {
     "name": "stdout",
     "output_type": "stream",
     "text": [
      "time: 15 ms\n"
     ]
    }
   ],
   "source": [
    "# A view at the most highest retailed shoe. Strangely enough, it is not in the top 7 highest bid.\n",
    "shoe[shoe.retailPrice == shoe.retailPrice.max()][['shoe', 'colorway', 'name', 'retailPrice', 'year']]"
   ]
  },
  {
   "cell_type": "code",
   "execution_count": 14,
   "metadata": {},
   "outputs": [
    {
     "data": {
      "text/html": [
       "<div>\n",
       "<style>\n",
       "    .dataframe thead tr:only-child th {\n",
       "        text-align: right;\n",
       "    }\n",
       "\n",
       "    .dataframe thead th {\n",
       "        text-align: left;\n",
       "    }\n",
       "\n",
       "    .dataframe tbody tr th {\n",
       "        vertical-align: top;\n",
       "    }\n",
       "</style>\n",
       "<table border=\"1\" class=\"dataframe\">\n",
       "  <thead>\n",
       "    <tr style=\"text-align: right;\">\n",
       "      <th></th>\n",
       "      <th>shoe</th>\n",
       "      <th>colorway</th>\n",
       "      <th>name</th>\n",
       "      <th>retailPrice</th>\n",
       "      <th>year</th>\n",
       "      <th>averageDeadstockPrice</th>\n",
       "    </tr>\n",
       "  </thead>\n",
       "  <tbody>\n",
       "    <tr>\n",
       "      <th>628</th>\n",
       "      <td>Adidas Yeezy Boost 750</td>\n",
       "      <td>Brown/Carbon White-Light Brown</td>\n",
       "      <td>OG Light Brown</td>\n",
       "      <td>350.0</td>\n",
       "      <td>2015</td>\n",
       "      <td>3059</td>\n",
       "    </tr>\n",
       "  </tbody>\n",
       "</table>\n",
       "</div>"
      ],
      "text/plain": [
       "                       shoe                        colorway            name  \\\n",
       "628  Adidas Yeezy Boost 750  Brown/Carbon White-Light Brown  OG Light Brown   \n",
       "\n",
       "     retailPrice  year  averageDeadstockPrice  \n",
       "628        350.0  2015                   3059  "
      ]
     },
     "execution_count": 14,
     "metadata": {},
     "output_type": "execute_result"
    },
    {
     "name": "stdout",
     "output_type": "stream",
     "text": [
      "time: 35 ms\n"
     ]
    }
   ],
   "source": [
    "# A look at the highest average deadstock price\n",
    "shoe[shoe.averageDeadstockPrice == shoe.averageDeadstockPrice.max()][['shoe', 'colorway', 'name', 'retailPrice', 'year', 'averageDeadstockPrice']]"
   ]
  },
  {
   "cell_type": "code",
   "execution_count": 16,
   "metadata": {},
   "outputs": [
    {
     "data": {
      "text/html": [
       "<div>\n",
       "<style>\n",
       "    .dataframe thead tr:only-child th {\n",
       "        text-align: right;\n",
       "    }\n",
       "\n",
       "    .dataframe thead th {\n",
       "        text-align: left;\n",
       "    }\n",
       "\n",
       "    .dataframe tbody tr th {\n",
       "        vertical-align: top;\n",
       "    }\n",
       "</style>\n",
       "<table border=\"1\" class=\"dataframe\">\n",
       "  <thead>\n",
       "    <tr style=\"text-align: right;\">\n",
       "      <th></th>\n",
       "      <th>retailPrice</th>\n",
       "      <th>year</th>\n",
       "      <th>absChangePercentage</th>\n",
       "      <th>annualHigh</th>\n",
       "      <th>annualLow</th>\n",
       "      <th>averageDeadstockPrice</th>\n",
       "      <th>changePercentage</th>\n",
       "      <th>changeValue</th>\n",
       "      <th>deadstockRangeHigh</th>\n",
       "      <th>deadstockRangeLow</th>\n",
       "      <th>deadstockSold</th>\n",
       "      <th>highestBid</th>\n",
       "      <th>lastSale</th>\n",
       "      <th>lowestAsk</th>\n",
       "      <th>salesLast72Hours</th>\n",
       "      <th>volatility</th>\n",
       "      <th>rarity</th>\n",
       "      <th>rarity_bool</th>\n",
       "    </tr>\n",
       "  </thead>\n",
       "  <tbody>\n",
       "    <tr>\n",
       "      <th>count</th>\n",
       "      <td>1993.000000</td>\n",
       "      <td>1993.000000</td>\n",
       "      <td>1993.000000</td>\n",
       "      <td>1993.000000</td>\n",
       "      <td>1993.000000</td>\n",
       "      <td>1993.000000</td>\n",
       "      <td>1993.000000</td>\n",
       "      <td>1993.000000</td>\n",
       "      <td>1993.000000</td>\n",
       "      <td>1993.000000</td>\n",
       "      <td>1993.000000</td>\n",
       "      <td>1993.000000</td>\n",
       "      <td>1993.000000</td>\n",
       "      <td>1993.000000</td>\n",
       "      <td>1993.000000</td>\n",
       "      <td>1993.000000</td>\n",
       "      <td>1993.000000</td>\n",
       "      <td>1993.000000</td>\n",
       "    </tr>\n",
       "    <tr>\n",
       "      <th>mean</th>\n",
       "      <td>173.447566</td>\n",
       "      <td>2014.757150</td>\n",
       "      <td>0.204458</td>\n",
       "      <td>443.546914</td>\n",
       "      <td>169.147516</td>\n",
       "      <td>281.302057</td>\n",
       "      <td>0.003587</td>\n",
       "      <td>-11.322629</td>\n",
       "      <td>305.978926</td>\n",
       "      <td>207.783743</td>\n",
       "      <td>220.610637</td>\n",
       "      <td>222.346212</td>\n",
       "      <td>256.864526</td>\n",
       "      <td>231.044155</td>\n",
       "      <td>5.136979</td>\n",
       "      <td>0.200539</td>\n",
       "      <td>1.731064</td>\n",
       "      <td>0.499247</td>\n",
       "    </tr>\n",
       "    <tr>\n",
       "      <th>std</th>\n",
       "      <td>75.404208</td>\n",
       "      <td>3.027025</td>\n",
       "      <td>0.232511</td>\n",
       "      <td>485.549109</td>\n",
       "      <td>134.126661</td>\n",
       "      <td>224.073927</td>\n",
       "      <td>0.309633</td>\n",
       "      <td>103.223467</td>\n",
       "      <td>269.194874</td>\n",
       "      <td>182.029075</td>\n",
       "      <td>432.259892</td>\n",
       "      <td>240.101994</td>\n",
       "      <td>222.802276</td>\n",
       "      <td>193.503676</td>\n",
       "      <td>22.466347</td>\n",
       "      <td>0.135297</td>\n",
       "      <td>1.440000</td>\n",
       "      <td>0.500125</td>\n",
       "    </tr>\n",
       "    <tr>\n",
       "      <th>min</th>\n",
       "      <td>50.000000</td>\n",
       "      <td>1985.000000</td>\n",
       "      <td>0.000000</td>\n",
       "      <td>50.000000</td>\n",
       "      <td>11.000000</td>\n",
       "      <td>50.000000</td>\n",
       "      <td>-0.666667</td>\n",
       "      <td>-1058.000000</td>\n",
       "      <td>55.000000</td>\n",
       "      <td>-18.000000</td>\n",
       "      <td>1.000000</td>\n",
       "      <td>0.000000</td>\n",
       "      <td>45.000000</td>\n",
       "      <td>0.000000</td>\n",
       "      <td>1.000000</td>\n",
       "      <td>0.000000</td>\n",
       "      <td>0.135135</td>\n",
       "      <td>0.000000</td>\n",
       "    </tr>\n",
       "    <tr>\n",
       "      <th>25%</th>\n",
       "      <td>140.000000</td>\n",
       "      <td>2014.000000</td>\n",
       "      <td>0.041860</td>\n",
       "      <td>250.000000</td>\n",
       "      <td>100.000000</td>\n",
       "      <td>174.000000</td>\n",
       "      <td>-0.156489</td>\n",
       "      <td>-40.000000</td>\n",
       "      <td>176.000000</td>\n",
       "      <td>111.000000</td>\n",
       "      <td>21.000000</td>\n",
       "      <td>110.000000</td>\n",
       "      <td>149.000000</td>\n",
       "      <td>140.000000</td>\n",
       "      <td>1.000000</td>\n",
       "      <td>0.123291</td>\n",
       "      <td>1.052632</td>\n",
       "      <td>0.000000</td>\n",
       "    </tr>\n",
       "    <tr>\n",
       "      <th>50%</th>\n",
       "      <td>160.000000</td>\n",
       "      <td>2016.000000</td>\n",
       "      <td>0.136364</td>\n",
       "      <td>325.000000</td>\n",
       "      <td>140.000000</td>\n",
       "      <td>229.000000</td>\n",
       "      <td>0.000000</td>\n",
       "      <td>0.000000</td>\n",
       "      <td>240.000000</td>\n",
       "      <td>168.000000</td>\n",
       "      <td>77.000000</td>\n",
       "      <td>176.000000</td>\n",
       "      <td>200.000000</td>\n",
       "      <td>185.000000</td>\n",
       "      <td>2.000000</td>\n",
       "      <td>0.177077</td>\n",
       "      <td>1.393750</td>\n",
       "      <td>0.000000</td>\n",
       "    </tr>\n",
       "    <tr>\n",
       "      <th>75%</th>\n",
       "      <td>190.000000</td>\n",
       "      <td>2017.000000</td>\n",
       "      <td>0.300000</td>\n",
       "      <td>471.000000</td>\n",
       "      <td>195.000000</td>\n",
       "      <td>313.000000</td>\n",
       "      <td>0.105263</td>\n",
       "      <td>21.000000</td>\n",
       "      <td>350.000000</td>\n",
       "      <td>247.000000</td>\n",
       "      <td>231.000000</td>\n",
       "      <td>250.000000</td>\n",
       "      <td>300.000000</td>\n",
       "      <td>250.000000</td>\n",
       "      <td>4.000000</td>\n",
       "      <td>0.249663</td>\n",
       "      <td>1.903704</td>\n",
       "      <td>1.000000</td>\n",
       "    </tr>\n",
       "    <tr>\n",
       "      <th>max</th>\n",
       "      <td>1850.000000</td>\n",
       "      <td>2017.000000</td>\n",
       "      <td>2.529412</td>\n",
       "      <td>8550.000000</td>\n",
       "      <td>1715.000000</td>\n",
       "      <td>3059.000000</td>\n",
       "      <td>2.529412</td>\n",
       "      <td>549.000000</td>\n",
       "      <td>3693.000000</td>\n",
       "      <td>1900.000000</td>\n",
       "      <td>5579.000000</td>\n",
       "      <td>3037.000000</td>\n",
       "      <td>2515.000000</td>\n",
       "      <td>2000.000000</td>\n",
       "      <td>916.000000</td>\n",
       "      <td>1.362362</td>\n",
       "      <td>21.353846</td>\n",
       "      <td>1.000000</td>\n",
       "    </tr>\n",
       "  </tbody>\n",
       "</table>\n",
       "</div>"
      ],
      "text/plain": [
       "       retailPrice         year  absChangePercentage   annualHigh  \\\n",
       "count  1993.000000  1993.000000          1993.000000  1993.000000   \n",
       "mean    173.447566  2014.757150             0.204458   443.546914   \n",
       "std      75.404208     3.027025             0.232511   485.549109   \n",
       "min      50.000000  1985.000000             0.000000    50.000000   \n",
       "25%     140.000000  2014.000000             0.041860   250.000000   \n",
       "50%     160.000000  2016.000000             0.136364   325.000000   \n",
       "75%     190.000000  2017.000000             0.300000   471.000000   \n",
       "max    1850.000000  2017.000000             2.529412  8550.000000   \n",
       "\n",
       "         annualLow  averageDeadstockPrice  changePercentage  changeValue  \\\n",
       "count  1993.000000            1993.000000       1993.000000  1993.000000   \n",
       "mean    169.147516             281.302057          0.003587   -11.322629   \n",
       "std     134.126661             224.073927          0.309633   103.223467   \n",
       "min      11.000000              50.000000         -0.666667 -1058.000000   \n",
       "25%     100.000000             174.000000         -0.156489   -40.000000   \n",
       "50%     140.000000             229.000000          0.000000     0.000000   \n",
       "75%     195.000000             313.000000          0.105263    21.000000   \n",
       "max    1715.000000            3059.000000          2.529412   549.000000   \n",
       "\n",
       "       deadstockRangeHigh  deadstockRangeLow  deadstockSold   highestBid  \\\n",
       "count         1993.000000        1993.000000    1993.000000  1993.000000   \n",
       "mean           305.978926         207.783743     220.610637   222.346212   \n",
       "std            269.194874         182.029075     432.259892   240.101994   \n",
       "min             55.000000         -18.000000       1.000000     0.000000   \n",
       "25%            176.000000         111.000000      21.000000   110.000000   \n",
       "50%            240.000000         168.000000      77.000000   176.000000   \n",
       "75%            350.000000         247.000000     231.000000   250.000000   \n",
       "max           3693.000000        1900.000000    5579.000000  3037.000000   \n",
       "\n",
       "          lastSale    lowestAsk  salesLast72Hours   volatility       rarity  \\\n",
       "count  1993.000000  1993.000000       1993.000000  1993.000000  1993.000000   \n",
       "mean    256.864526   231.044155          5.136979     0.200539     1.731064   \n",
       "std     222.802276   193.503676         22.466347     0.135297     1.440000   \n",
       "min      45.000000     0.000000          1.000000     0.000000     0.135135   \n",
       "25%     149.000000   140.000000          1.000000     0.123291     1.052632   \n",
       "50%     200.000000   185.000000          2.000000     0.177077     1.393750   \n",
       "75%     300.000000   250.000000          4.000000     0.249663     1.903704   \n",
       "max    2515.000000  2000.000000        916.000000     1.362362    21.353846   \n",
       "\n",
       "       rarity_bool  \n",
       "count  1993.000000  \n",
       "mean      0.499247  \n",
       "std       0.500125  \n",
       "min       0.000000  \n",
       "25%       0.000000  \n",
       "50%       0.000000  \n",
       "75%       1.000000  \n",
       "max       1.000000  "
      ]
     },
     "execution_count": 16,
     "metadata": {},
     "output_type": "execute_result"
    },
    {
     "name": "stdout",
     "output_type": "stream",
     "text": [
      "time: 66 ms\n"
     ]
    }
   ],
   "source": [
    "shoe.describe()"
   ]
  },
  {
   "cell_type": "markdown",
   "metadata": {},
   "source": [
    "**Descriptions of some columns**\n",
    "\n",
    "- deadstockRangeHigh = highest price of deadstock within the last 12 mo.\n",
    "- deadstockRangeLow = lowest price of deadstock within the last 12 mo.\n",
    "- highestBid = highest price someone is bidding, or willing to pay\n",
    "- lowestAsk = lowest price someone is currently asking for, or selling\n",
    "- rarity = averageDeadstockPrice / retailPrice\n",
    "- lastSale = Last price product was sold for sourced from ebay, twitter, etc.\n",
    "---"
   ]
  },
  {
   "cell_type": "markdown",
   "metadata": {},
   "source": [
    "### Part 3 - Subset data with top 3 brands and perform EDA\n",
    "Scale the dataframe down so that not too many outside brands are taking the focus away from the main goal of the project."
   ]
  },
  {
   "cell_type": "code",
   "execution_count": 120,
   "metadata": {},
   "outputs": [
    {
     "name": "stdout",
     "output_type": "stream",
     "text": [
      "time: 7 ms\n"
     ]
    }
   ],
   "source": [
    "# Concerned with only the top brands\n",
    "tops = shoe[(shoe.brand=='Adidas')|(shoe.brand=='Nike')|(shoe.brand=='Jordan')]\n",
    "tops.reset_index(drop=True, inplace=True)\n",
    "tops.shape"
   ]
  },
  {
   "cell_type": "code",
   "execution_count": 111,
   "metadata": {},
   "outputs": [
    {
     "data": {
      "image/png": "[encoded data removed]",
      "text/plain": [
       "<matplotlib.figure.Figure at 0x1ae291d0>"
      ]
     },
     "metadata": {},
     "output_type": "display_data"
    },
    {
     "name": "stdout",
     "output_type": "stream",
     "text": [
      "time: 326 ms\n"
     ]
    }
   ],
   "source": [
    "# See a 1-to-1 linear line for retail Price vs Aftermarket price\n",
    "sns.set(font_scale=1.5)\n",
    "sns.lmplot(x='retailPrice', y ='averageDeadstockPrice', data=tops, hue='brand', fit_reg=False, size=6,\n",
    "          scatter_kws={\"s\": 20})\n",
    "plt.plot(np.linspace(0,2000,2000), np.linspace(0,2000,2000), linestyle='--')\n",
    "plt.xlim([0,1000])\n",
    "plt.title('Retail vs Average Aftermarket Price')\n",
    "plt.xlabel('Retail Price ($)')\n",
    "plt.ylabel('Aftermarket Price ($)')\n",
    "plt.show()"
   ]
  },
  {
   "cell_type": "code",
   "execution_count": 20,
   "metadata": {},
   "outputs": [
    {
     "data": {
      "image/png": "[encoded data removed]",
      "text/plain": [
       "<matplotlib.figure.Figure at 0x143ade10>"
      ]
     },
     "metadata": {},
     "output_type": "display_data"
    },
    {
     "name": "stdout",
     "output_type": "stream",
     "text": [
      "time: 31.3 s\n"
     ]
    }
   ],
   "source": [
    "sns.swarmplot(x='year', y='lastSale', data=tops[tops.year>2010], hue='brand')\n",
    "plt.xticks(rotation=90)\n",
    "plt.show()"
   ]
  },
  {
   "cell_type": "code",
   "execution_count": 21,
   "metadata": {},
   "outputs": [
    {
     "data": {
      "image/png": "[encoded data removed]",
      "text/plain": [
       "<matplotlib.figure.Figure at 0xc8ddf98>"
      ]
     },
     "metadata": {},
     "output_type": "display_data"
    },
    {
     "name": "stdout",
     "output_type": "stream",
     "text": [
      "time: 31.2 s\n"
     ]
    }
   ],
   "source": [
    "# Adidas didn't really come into the market until 2015. Let's look more closely\n",
    "sns.swarmplot(x='year', y='lastSale', data=tops[tops.year>2014], hue='brand')\n",
    "plt.legend(loc='best')\n",
    "plt.xlabel('Year')\n",
    "plt.ylabel('Last Sold Price ($)')\n",
    "plt.title('Top Product Aftermarket Sales Price')\n",
    "plt.show()"
   ]
  },
  {
   "cell_type": "markdown",
   "metadata": {},
   "source": [
    "# After some market research, Adidas came into the sneakerhead culture because of two products: the Adidas Boost and the Adidas Yeezy's. Nike was first partnered with Kanye West for making a collaborative shoe. But after his contract ended, Mr. West changed sides to Adidas, who previously was widely known for their athletic shoes (for soccer and football) rather than collectible sneakers. DO I WANT TO INCORPORATE THIS FINDING AND DO SOME DATA ANALYSIS ON IT? A/B TESTING?\n",
    "\n",
    "---"
   ]
  },
  {
   "cell_type": "code",
   "execution_count": 112,
   "metadata": {},
   "outputs": [
    {
     "data": {
      "image/png": "[encoded data removed]",
      "text/plain": [
       "<matplotlib.figure.Figure at 0x1b2c3b00>"
      ]
     },
     "metadata": {},
     "output_type": "display_data"
    },
    {
     "data": {
      "text/html": [
       "<div>\n",
       "<style>\n",
       "    .dataframe thead tr:only-child th {\n",
       "        text-align: right;\n",
       "    }\n",
       "\n",
       "    .dataframe thead th {\n",
       "        text-align: left;\n",
       "    }\n",
       "\n",
       "    .dataframe tbody tr th {\n",
       "        vertical-align: top;\n",
       "    }\n",
       "</style>\n",
       "<table border=\"1\" class=\"dataframe\">\n",
       "  <thead>\n",
       "    <tr style=\"text-align: right;\">\n",
       "      <th>brand</th>\n",
       "      <th>Adidas</th>\n",
       "      <th>Asics</th>\n",
       "      <th>Jordan</th>\n",
       "      <th>Nike</th>\n",
       "    </tr>\n",
       "    <tr>\n",
       "      <th>year</th>\n",
       "      <th></th>\n",
       "      <th></th>\n",
       "      <th></th>\n",
       "      <th></th>\n",
       "    </tr>\n",
       "  </thead>\n",
       "  <tbody>\n",
       "    <tr>\n",
       "      <th>2011</th>\n",
       "      <td>0.000000</td>\n",
       "      <td>0.000000</td>\n",
       "      <td>0.821429</td>\n",
       "      <td>0.178571</td>\n",
       "    </tr>\n",
       "    <tr>\n",
       "      <th>2012</th>\n",
       "      <td>0.000000</td>\n",
       "      <td>0.000000</td>\n",
       "      <td>0.486486</td>\n",
       "      <td>0.513514</td>\n",
       "    </tr>\n",
       "    <tr>\n",
       "      <th>2013</th>\n",
       "      <td>0.008929</td>\n",
       "      <td>0.026786</td>\n",
       "      <td>0.410714</td>\n",
       "      <td>0.553571</td>\n",
       "    </tr>\n",
       "    <tr>\n",
       "      <th>2014</th>\n",
       "      <td>0.016216</td>\n",
       "      <td>0.054054</td>\n",
       "      <td>0.394595</td>\n",
       "      <td>0.535135</td>\n",
       "    </tr>\n",
       "    <tr>\n",
       "      <th>2015</th>\n",
       "      <td>0.128514</td>\n",
       "      <td>0.032129</td>\n",
       "      <td>0.369478</td>\n",
       "      <td>0.469880</td>\n",
       "    </tr>\n",
       "    <tr>\n",
       "      <th>2016</th>\n",
       "      <td>0.400679</td>\n",
       "      <td>0.023769</td>\n",
       "      <td>0.247878</td>\n",
       "      <td>0.327674</td>\n",
       "    </tr>\n",
       "    <tr>\n",
       "      <th>2017</th>\n",
       "      <td>0.390593</td>\n",
       "      <td>0.010225</td>\n",
       "      <td>0.218814</td>\n",
       "      <td>0.380368</td>\n",
       "    </tr>\n",
       "  </tbody>\n",
       "</table>\n",
       "</div>"
      ],
      "text/plain": [
       "brand    Adidas     Asics    Jordan      Nike\n",
       "year                                         \n",
       "2011   0.000000  0.000000  0.821429  0.178571\n",
       "2012   0.000000  0.000000  0.486486  0.513514\n",
       "2013   0.008929  0.026786  0.410714  0.553571\n",
       "2014   0.016216  0.054054  0.394595  0.535135\n",
       "2015   0.128514  0.032129  0.369478  0.469880\n",
       "2016   0.400679  0.023769  0.247878  0.327674\n",
       "2017   0.390593  0.010225  0.218814  0.380368"
      ]
     },
     "execution_count": 112,
     "metadata": {},
     "output_type": "execute_result"
    },
    {
     "name": "stdout",
     "output_type": "stream",
     "text": [
      "time: 260 ms\n"
     ]
    }
   ],
   "source": [
    "# Did Adidas increase market share (on StockX) in pure number of listings?\n",
    "sub_tops = tops[tops.year>2010].groupby(['year', 'brand'])['brand'].count().unstack().fillna(0)\n",
    "sub_tops = sub_tops.T\n",
    "sub_tops = sub_tops.div(sub_tops.sum())\n",
    "sub_tops = sub_tops.T\n",
    "\n",
    "sub_tops.plot(kind='bar', stacked=True)\n",
    "plt.legend(bbox_to_anchor=(1.1, 1.05))\n",
    "plt.show()\n",
    "sub_tops"
   ]
  },
  {
   "cell_type": "code",
   "execution_count": 23,
   "metadata": {},
   "outputs": [
    {
     "data": {
      "image/png": "[encoded data removed]",
      "text/plain": [
       "<matplotlib.figure.Figure at 0xc8e79e8>"
      ]
     },
     "metadata": {},
     "output_type": "display_data"
    },
    {
     "data": {
      "text/html": [
       "<div>\n",
       "<style>\n",
       "    .dataframe thead tr:only-child th {\n",
       "        text-align: right;\n",
       "    }\n",
       "\n",
       "    .dataframe thead th {\n",
       "        text-align: left;\n",
       "    }\n",
       "\n",
       "    .dataframe tbody tr th {\n",
       "        vertical-align: top;\n",
       "    }\n",
       "</style>\n",
       "<table border=\"1\" class=\"dataframe\">\n",
       "  <thead>\n",
       "    <tr style=\"text-align: right;\">\n",
       "      <th>brand</th>\n",
       "      <th>Adidas</th>\n",
       "      <th>Jordan</th>\n",
       "      <th>Nike</th>\n",
       "    </tr>\n",
       "    <tr>\n",
       "      <th>year</th>\n",
       "      <th></th>\n",
       "      <th></th>\n",
       "      <th></th>\n",
       "    </tr>\n",
       "  </thead>\n",
       "  <tbody>\n",
       "    <tr>\n",
       "      <th>2011</th>\n",
       "      <td>0.000000</td>\n",
       "      <td>0.883343</td>\n",
       "      <td>0.116657</td>\n",
       "    </tr>\n",
       "    <tr>\n",
       "      <th>2012</th>\n",
       "      <td>0.000000</td>\n",
       "      <td>0.535006</td>\n",
       "      <td>0.464994</td>\n",
       "    </tr>\n",
       "    <tr>\n",
       "      <th>2013</th>\n",
       "      <td>0.005839</td>\n",
       "      <td>0.480432</td>\n",
       "      <td>0.513729</td>\n",
       "    </tr>\n",
       "    <tr>\n",
       "      <th>2014</th>\n",
       "      <td>0.015107</td>\n",
       "      <td>0.418862</td>\n",
       "      <td>0.566030</td>\n",
       "    </tr>\n",
       "    <tr>\n",
       "      <th>2015</th>\n",
       "      <td>0.202889</td>\n",
       "      <td>0.340826</td>\n",
       "      <td>0.456285</td>\n",
       "    </tr>\n",
       "    <tr>\n",
       "      <th>2016</th>\n",
       "      <td>0.449122</td>\n",
       "      <td>0.220222</td>\n",
       "      <td>0.330656</td>\n",
       "    </tr>\n",
       "    <tr>\n",
       "      <th>2017</th>\n",
       "      <td>0.405452</td>\n",
       "      <td>0.209602</td>\n",
       "      <td>0.384945</td>\n",
       "    </tr>\n",
       "  </tbody>\n",
       "</table>\n",
       "</div>"
      ],
      "text/plain": [
       "brand    Adidas    Jordan      Nike\n",
       "year                               \n",
       "2011   0.000000  0.883343  0.116657\n",
       "2012   0.000000  0.535006  0.464994\n",
       "2013   0.005839  0.480432  0.513729\n",
       "2014   0.015107  0.418862  0.566030\n",
       "2015   0.202889  0.340826  0.456285\n",
       "2016   0.449122  0.220222  0.330656\n",
       "2017   0.405452  0.209602  0.384945"
      ]
     },
     "execution_count": 23,
     "metadata": {},
     "output_type": "execute_result"
    },
    {
     "name": "stdout",
     "output_type": "stream",
     "text": [
      "time: 317 ms\n"
     ]
    }
   ],
   "source": [
    "# Did Adidas increase in terms of sneakerhead influence, measured by sum of rarity?\n",
    "sub_tops = tops[tops.year>2010].groupby(['year', 'brand'])['rarity'].sum().unstack().fillna(0)\n",
    "sub_tops = sub_tops.T\n",
    "sub_tops = sub_tops.div(sub_tops.sum())\n",
    "sub_tops = sub_tops.T\n",
    "\n",
    "sub_tops.plot(kind='bar', stacked=True)\n",
    "plt.legend(bbox_to_anchor=(1.1, 1.05))\n",
    "plt.show()\n",
    "sub_tops"
   ]
  },
  {
   "cell_type": "markdown",
   "metadata": {},
   "source": [
    "## Part 4 - Natural Language Processing & Modeling\n"
   ]
  },
  {
   "cell_type": "code",
   "execution_count": 113,
   "metadata": {},
   "outputs": [
    {
     "name": "stdout",
     "output_type": "stream",
     "text": [
      "time: 7 ms\n"
     ]
    }
   ],
   "source": [
    "# NLP\n",
    "from nltk.stem import SnowballStemmer\n",
    "from sklearn.feature_extraction.text import CountVectorizer, HashingVectorizer, TfidfVectorizer, TfidfTransformer\n",
    "\n",
    "# Metrics & Preprocessing\n",
    "from sklearn.metrics import accuracy_score, completeness_score, silhouette_score, confusion_matrix\n",
    "from sklearn.preprocessing import StandardScaler\n",
    "from sklearn.model_selection import train_test_split, cross_val_score\n",
    "from sklearn.decomposition import PCA\n",
    "\n",
    "# Models\n",
    "from sklearn.svm import SVC\n",
    "from sklearn.linear_model import LogisticRegression, LinearRegression\n",
    "from sklearn.ensemble import RandomForestClassifier\n",
    "from sklearn.neighbors import KNeighborsClassifier\n",
    "from sklearn.naive_bayes import BernoulliNB, MultinomialNB"
   ]
  },
  {
   "cell_type": "code",
   "execution_count": 115,
   "metadata": {},
   "outputs": [
    {
     "name": "stdout",
     "output_type": "stream",
     "text": [
      "time: 169 ms\n"
     ]
    }
   ],
   "source": [
    "# Maybe the colorway is an indicator of averageDeadstockPrice\n",
    "snow = SnowballStemmer('english')\n",
    "\n",
    "# placeholder = pd.Series('Colorway_token')\n",
    "placeholder = pd.Series(tops.colorway.apply(lambda x: x.replace(\"/\",\" \").replace('-',' ').split(\" \")))\n",
    "\n",
    "tops['colorway_token'] = placeholder.apply(lambda x: \" \".join([snow.stem(y) for y in x]))"
   ]
  },
  {
   "cell_type": "code",
   "execution_count": 116,
   "metadata": {},
   "outputs": [
    {
     "name": "stdout",
     "output_type": "stream",
     "text": [
      "0.506349206349\n",
      "time: 4 ms\n"
     ]
    }
   ],
   "source": [
    "baseline = max(1 - tops.rarity_bool.mean(), tops.rarity_bool.mean())\n",
    "print baseline"
   ]
  },
  {
   "cell_type": "code",
   "execution_count": 117,
   "metadata": {},
   "outputs": [
    {
     "name": "stdout",
     "output_type": "stream",
     "text": [
      "time: 10 ms\n"
     ]
    }
   ],
   "source": [
    "# Make X, y, and train/test split\n",
    "X = tops.drop('rarity_bool', axis=1)\n",
    "y = tops.rarity_bool\n",
    "X_train, X_test, y_train, y_test = train_test_split(X, y, train_size = .8)"
   ]
  },
  {
   "cell_type": "code",
   "execution_count": 118,
   "metadata": {},
   "outputs": [
    {
     "name": "stdout",
     "output_type": "stream",
     "text": [
      "time: 16 ms\n"
     ]
    }
   ],
   "source": [
    "# Going to try several vectorizers and models. Better to write a function that will do this in one step.\n",
    "def tokenize_test(text, vect, model, target='rarity_bool', \n",
    "                  X_train=X_train, X_test=X_test, y_train=y_train, y_test=y_test):\n",
    "    '''Arguments are text, vect, model, target (in strings), X_train, X_test, y_train, y_test.\n",
    "    Used to find the accuracy of the rarity.'''\n",
    "    X = tops[text]\n",
    "    y = tops[target]\n",
    "    X_train, X_test, y_train, y_test = train_test_split(X, y, train_size = .8)\n",
    "    X_train_dtm = vect.fit_transform(X_train)\n",
    "    \n",
    "    X_test_dtm = vect.transform(X_test)\n",
    "    model.fit(X_train_dtm, y_train)\n",
    "    y_pred_class = model.predict(X_test_dtm)\n",
    "    return accuracy_score(y_test, y_pred_class)\n",
    "\n",
    "# Making a function to make a dataframe for the accuracy results of tokenize_test\n",
    "def accuracy_df_maker(models, vectors, texts, target):\n",
    "    '''models and vectors are dictionarys with key as the label and value as the object.\n",
    "    texts is a list of features to test on. Returns a sorted dataframe with accuracy scores\n",
    "    of every model, vectorizer, and feature combintion'''\n",
    "    Accuracy_scores = []\n",
    "    for model_k, model_v in models.items():\n",
    "        for vect_k, vect_v in vectors.items():\n",
    "            for text in texts:\n",
    "                Accuracy_scores.append((model_k, vect_k, text, tokenize_test(text, vect_v, model_v, target)))\n",
    "    \n",
    "    df = pd.DataFrame(Accuracy_scores, columns=['Model', 'Vectorizer', 'Feature', 'Accuracy_score'])\n",
    "    return df.sort_values('Accuracy_score', ascending=False).reset_index(drop=True)"
   ]
  },
  {
   "cell_type": "code",
   "execution_count": 119,
   "metadata": {},
   "outputs": [
    {
     "name": "stdout",
     "output_type": "stream",
     "text": [
      "Baseline:  0.506349206349\n"
     ]
    },
    {
     "data": {
      "text/html": [
       "<div>\n",
       "<style>\n",
       "    .dataframe thead tr:only-child th {\n",
       "        text-align: right;\n",
       "    }\n",
       "\n",
       "    .dataframe thead th {\n",
       "        text-align: left;\n",
       "    }\n",
       "\n",
       "    .dataframe tbody tr th {\n",
       "        vertical-align: top;\n",
       "    }\n",
       "</style>\n",
       "<table border=\"1\" class=\"dataframe\">\n",
       "  <thead>\n",
       "    <tr style=\"text-align: right;\">\n",
       "      <th></th>\n",
       "      <th>Model</th>\n",
       "      <th>Vectorizer</th>\n",
       "      <th>Feature</th>\n",
       "      <th>Accuracy_score</th>\n",
       "    </tr>\n",
       "  </thead>\n",
       "  <tbody>\n",
       "    <tr>\n",
       "      <th>0</th>\n",
       "      <td>Bernoulli</td>\n",
       "      <td>CVEC</td>\n",
       "      <td>title</td>\n",
       "      <td>0.619048</td>\n",
       "    </tr>\n",
       "    <tr>\n",
       "      <th>1</th>\n",
       "      <td>Log</td>\n",
       "      <td>HVEC</td>\n",
       "      <td>title</td>\n",
       "      <td>0.605820</td>\n",
       "    </tr>\n",
       "    <tr>\n",
       "      <th>2</th>\n",
       "      <td>Log</td>\n",
       "      <td>HVEC</td>\n",
       "      <td>category</td>\n",
       "      <td>0.597884</td>\n",
       "    </tr>\n",
       "    <tr>\n",
       "      <th>3</th>\n",
       "      <td>Log</td>\n",
       "      <td>TVEC</td>\n",
       "      <td>title</td>\n",
       "      <td>0.595238</td>\n",
       "    </tr>\n",
       "    <tr>\n",
       "      <th>4</th>\n",
       "      <td>Bernoulli</td>\n",
       "      <td>TVEC</td>\n",
       "      <td>title</td>\n",
       "      <td>0.587302</td>\n",
       "    </tr>\n",
       "  </tbody>\n",
       "</table>\n",
       "</div>"
      ],
      "text/plain": [
       "       Model Vectorizer   Feature  Accuracy_score\n",
       "0  Bernoulli       CVEC     title        0.619048\n",
       "1        Log       HVEC     title        0.605820\n",
       "2        Log       HVEC  category        0.597884\n",
       "3        Log       TVEC     title        0.595238\n",
       "4  Bernoulli       TVEC     title        0.587302"
      ]
     },
     "execution_count": 119,
     "metadata": {},
     "output_type": "execute_result"
    },
    {
     "name": "stdout",
     "output_type": "stream",
     "text": [
      "time: 5.4 s\n"
     ]
    }
   ],
   "source": [
    "# Parameter set up\n",
    "ng = (2,5)\n",
    "cvec, hvec, tvec = CountVectorizer(ngram_range=ng), HashingVectorizer(ngram_range=ng), TfidfVectorizer(ngram_range=ng)\n",
    "\n",
    "models = {'SVC':SVC(), 'Log':LogisticRegression(), 'Bernoulli':BernoulliNB(), 'KNN':KNeighborsClassifier()}\n",
    "vectors = {'CVEC':cvec, 'HVEC':hvec, 'TVEC': tvec}\n",
    "texts = ['colorway_token', 'category', 'title', 'name']\n",
    "\n",
    "# Function run\n",
    "nlp = accuracy_df_maker(models, vectors, texts, 'rarity_bool')\n",
    "print 'Baseline: ', baseline\n",
    "nlp.head()"
   ]
  },
  {
   "cell_type": "code",
   "execution_count": 31,
   "metadata": {},
   "outputs": [
    {
     "name": "stdout",
     "output_type": "stream",
     "text": [
      "time: 2.77 s\n"
     ]
    }
   ],
   "source": [
    "# Separate functions because random forest with hashing takes more than 3 minutes with worse results.\n",
    "# Same with Multinomial. Combining all into one dataframe, nlp_df\n",
    "\n",
    "models2 = {'Random Forest':RandomForestClassifier(), 'Multinomial':MultinomialNB()}\n",
    "vectors2 = {'CVEC':cvec, 'TVEC':tvec}\n",
    "\n",
    "nlp_add = accuracy_df_maker(models2, vectors2, texts, target='rarity_bool')\n",
    "nlp_df = pd.concat([nlp, nlp_add]).sort_values('Accuracy_score', ascending=False).reset_index(drop=True).copy()"
   ]
  },
  {
   "cell_type": "code",
   "execution_count": 32,
   "metadata": {},
   "outputs": [
    {
     "name": "stdout",
     "output_type": "stream",
     "text": [
      "time: 41.3 s\n"
     ]
    }
   ],
   "source": [
    "# Trying bagging and boosting. Again hashing takes too long and doesn't increase score by much. So taking out.\n",
    "\n",
    "# Model Set up\n",
    "from sklearn.ensemble import BaggingClassifier, AdaBoostClassifier\n",
    "from sklearn.tree import DecisionTreeClassifier\n",
    "dtree = DecisionTreeClassifier()\n",
    "bagger = BaggingClassifier(dtree, max_samples=0.5, max_features=0.5)\n",
    "booster = AdaBoostClassifier(dtree, n_estimators=50, learning_rate=1.0)\n",
    "\n",
    "# Parameter setup\n",
    "models3 = {'Bagger':bagger, 'Booster':booster}\n",
    "\n",
    "bag_add = accuracy_df_maker(models3, vectors2, texts, target='rarity_bool')\n",
    "df = pd.concat([nlp_df, bag_add]).sort_values('Accuracy_score', ascending=False).reset_index(drop=True).copy()"
   ]
  },
  {
   "cell_type": "code",
   "execution_count": 33,
   "metadata": {},
   "outputs": [
    {
     "name": "stdout",
     "output_type": "stream",
     "text": [
      "Baseline:  0.507567567568\n"
     ]
    },
    {
     "data": {
      "text/html": [
       "<div>\n",
       "<style>\n",
       "    .dataframe thead tr:only-child th {\n",
       "        text-align: right;\n",
       "    }\n",
       "\n",
       "    .dataframe thead th {\n",
       "        text-align: left;\n",
       "    }\n",
       "\n",
       "    .dataframe tbody tr th {\n",
       "        vertical-align: top;\n",
       "    }\n",
       "</style>\n",
       "<table border=\"1\" class=\"dataframe\">\n",
       "  <thead>\n",
       "    <tr style=\"text-align: right;\">\n",
       "      <th></th>\n",
       "      <th>Model</th>\n",
       "      <th>Vectorizer</th>\n",
       "      <th>Feature</th>\n",
       "      <th>Accuracy_score</th>\n",
       "    </tr>\n",
       "  </thead>\n",
       "  <tbody>\n",
       "    <tr>\n",
       "      <th>0</th>\n",
       "      <td>Log</td>\n",
       "      <td>TVEC</td>\n",
       "      <td>title</td>\n",
       "      <td>0.616216</td>\n",
       "    </tr>\n",
       "    <tr>\n",
       "      <th>1</th>\n",
       "      <td>Log</td>\n",
       "      <td>HVEC</td>\n",
       "      <td>title</td>\n",
       "      <td>0.616216</td>\n",
       "    </tr>\n",
       "    <tr>\n",
       "      <th>2</th>\n",
       "      <td>Multinomial</td>\n",
       "      <td>TVEC</td>\n",
       "      <td>title</td>\n",
       "      <td>0.610811</td>\n",
       "    </tr>\n",
       "    <tr>\n",
       "      <th>3</th>\n",
       "      <td>Random Forest</td>\n",
       "      <td>TVEC</td>\n",
       "      <td>title</td>\n",
       "      <td>0.608108</td>\n",
       "    </tr>\n",
       "  </tbody>\n",
       "</table>\n",
       "</div>"
      ],
      "text/plain": [
       "           Model Vectorizer Feature  Accuracy_score\n",
       "0            Log       TVEC   title        0.616216\n",
       "1            Log       HVEC   title        0.616216\n",
       "2    Multinomial       TVEC   title        0.610811\n",
       "3  Random Forest       TVEC   title        0.608108"
      ]
     },
     "execution_count": 33,
     "metadata": {},
     "output_type": "execute_result"
    },
    {
     "name": "stdout",
     "output_type": "stream",
     "text": [
      "time: 19 ms\n"
     ]
    }
   ],
   "source": [
    "print 'Baseline: ', baseline\n",
    "df[df.Accuracy_score > baseline*1.175]"
   ]
  },
  {
   "cell_type": "code",
   "execution_count": 34,
   "metadata": {},
   "outputs": [
    {
     "name": "stdout",
     "output_type": "stream",
     "text": [
      "Fitting 5 folds for each of 200 candidates, totalling 1000 fits\n",
      "{'penalty': 'l2', 'C': 1.0, 'solver': 'liblinear'}\n",
      "time: 5.52 s\n"
     ]
    },
    {
     "name": "stderr",
     "output_type": "stream",
     "text": [
      "[Parallel(n_jobs=1)]: Done 1000 out of 1000 | elapsed:    5.3s finished\n"
     ]
    }
   ],
   "source": [
    "# Trying to finetune models to achieve better accuracy scores\n",
    "from sklearn.model_selection import GridSearchCV\n",
    "X = tops.title\n",
    "X_train, X_test, y_train, y_test = train_test_split(X, y, train_size = .8)\n",
    "\n",
    "X_train_dtm = tvec.fit_transform(X_train)\n",
    "X_test_dtm = tvec.transform(X_test)\n",
    "\n",
    "log_params = {\n",
    "    'penalty':['l1','l2'],\n",
    "    'solver':['liblinear'],\n",
    "    'C':np.logspace(-5,0,100)\n",
    "}\n",
    "lr_gridsearch = GridSearchCV(LogisticRegression(), log_params, cv=5, verbose=1)\n",
    "lr_gridsearch.fit(X_train_dtm, y_train)\n",
    "lr_dict = lr_gridsearch.best_params_\n",
    "print lr_dict"
   ]
  },
  {
   "cell_type": "code",
   "execution_count": 35,
   "metadata": {},
   "outputs": [
    {
     "name": "stdout",
     "output_type": "stream",
     "text": [
      "0.567567567568 0.616216216216\n",
      "time: 25 ms\n"
     ]
    }
   ],
   "source": [
    "logreg = LogisticRegression(C=lr_dict['C'], penalty=lr_dict['penalty'], solver=lr_dict['solver'])\n",
    "logreg.fit(X_train_dtm, y_train)\n",
    "print accuracy_score(y_test, logreg.predict(X_test_dtm)), df.iloc[0,-1]"
   ]
  },
  {
   "cell_type": "code",
   "execution_count": 36,
   "metadata": {},
   "outputs": [
    {
     "name": "stdout",
     "output_type": "stream",
     "text": [
      "0.540540540541\n",
      "Due to randomness, results show values from 0.55 to 0.62, which would be nearly the best model\n",
      "time: 259 ms\n"
     ]
    }
   ],
   "source": [
    "# Trying to do PCA on these word vectors to achieve better score:\n",
    "from sklearn.decomposition import TruncatedSVD\n",
    "\n",
    "svd = TruncatedSVD(n_components=50)\n",
    "svd_words = svd.fit_transform(X_train_dtm)\n",
    "\n",
    "logreg.fit(svd_words, y_train)\n",
    "svd_pred_df = pd.DataFrame(logreg.predict(svd.transform(X_test_dtm)))\n",
    "\n",
    "print accuracy_score(y_test, svd_pred_df.iloc[:,:6])\n",
    "print 'Due to randomness, results show values from 0.55 to 0.62, which would be nearly the best model'"
   ]
  },
  {
   "cell_type": "markdown",
   "metadata": {},
   "source": [
    "## Part 5 - Clustering"
   ]
  },
  {
   "cell_type": "code",
   "execution_count": 37,
   "metadata": {},
   "outputs": [
    {
     "name": "stdout",
     "output_type": "stream",
     "text": [
      "time: 51 ms\n"
     ]
    }
   ],
   "source": [
    "cv_color = CountVectorizer(max_features=20, stop_words=['core'], ngram_range=(1,2))\n",
    "all_colors = cv_color.fit_transform(tops.colorway_token)\n",
    "color_df = pd.DataFrame(all_colors.todense(), columns=cv_color.get_feature_names())"
   ]
  },
  {
   "cell_type": "code",
   "execution_count": 38,
   "metadata": {},
   "outputs": [
    {
     "name": "stdout",
     "output_type": "stream",
     "text": [
      "time: 88 ms\n"
     ]
    }
   ],
   "source": [
    "#### Dummy variables ####\n",
    "# Change brand to 0, 1, 2\n",
    "# Change category based on words [Yeezy, NMD, Air Jordan, Ultra Boost, Adidas/Nike Other, \n",
    "# Air Max, Iniki, Air Force, Foamposite, LeBron, KD, Nike SB, Kobe, Nike Basketball/Other]\n",
    "# Change colorway based on color spectrum colors (color_df.columns)\n",
    "\n",
    "tops.brand = tops.brand.astype('category').cat.codes\n",
    "\n",
    "category_list = ['Yeezy', 'NMD', 'Air Jordan', 'Ultra Boost', 'adidas Other', 'Nike Other', 'Air Max',\n",
    "                'Iniki', 'Air Force', 'Foamposite', 'LeBron', 'KD', 'Nike SB', 'Kobe', 'Nike Basketball']\n",
    "for cat in category_list:\n",
    "    tops[cat] = tops.category.map(lambda x: 1 if cat.lower() in x.lower() else 0)\n",
    "    \n",
    "color_list = list(color_df.columns)    \n",
    "for color in color_list:\n",
    "    tops[color] = tops.colorway_token.map(lambda x: 1 if color.lower() in x.lower() else 0)\n",
    "    \n",
    "# Change all spaces to _ in column names\n",
    "tops.columns = tops.columns.str.replace(' ','_')"
   ]
  },
  {
   "cell_type": "markdown",
   "metadata": {},
   "source": [
    "---\n",
    "\n",
    "# Do clustering with colors/category/colors&category\n",
    "\n",
    "---"
   ]
  },
  {
   "cell_type": "code",
   "execution_count": 39,
   "metadata": {},
   "outputs": [
    {
     "data": {
      "text/plain": [
       "u'Yeezy + NMD + Air_Jordan + Ultra_Boost + adidas_Other + Nike_Other + Air_Max + Iniki + Air_Force + Foamposite + LeBron + KD + Nike_SB + Kobe + Nike_Basketball + black + black_black + black_white + blue + dark + gold + green + grey + light + metal + metal_gold + metal_silver + navi + red + silver + univers + varsiti + varsiti_red + white + white_black'"
      ]
     },
     "execution_count": 39,
     "metadata": {},
     "output_type": "execute_result"
    },
    {
     "name": "stdout",
     "output_type": "stream",
     "text": [
      "time: 12 ms\n"
     ]
    }
   ],
   "source": [
    "col_list = tops.loc[:,'Yeezy':].columns\n",
    "mat_string = ' + '.join(col_list)\n",
    "mat_string"
   ]
  },
  {
   "cell_type": "code",
   "execution_count": 40,
   "metadata": {},
   "outputs": [
    {
     "name": "stdout",
     "output_type": "stream",
     "text": [
      "time: 307 ms\n"
     ]
    }
   ],
   "source": [
    "import patsy\n",
    "other_var = '''retailPrice + absChangePercentage + annualHigh + annualLow + averageDeadstockPrice + \n",
    "deadstockRangeHigh + deadstockRangeLow + brand + deadstockSold + highestBid + lastSale + lowestAsk + \n",
    "salesLast72Hours + volatility + rarity'''\n",
    "matrix_string = 'category ~ ' + other_var + ' + ' + mat_string\n",
    "\n",
    "y_cluster, X_cluster = patsy.dmatrices(matrix_string, tops)"
   ]
  },
  {
   "cell_type": "code",
   "execution_count": 61,
   "metadata": {},
   "outputs": [
    {
     "name": "stdout",
     "output_type": "stream",
     "text": [
      "[-1  0  1  2  3  6  4  5  9  7  8]\n",
      "Not in a class %: 24.4864864865\n",
      "In first class %: 55.1351351351\n",
      "In remaining classes %: 20.3783783784\n",
      "------------------------\n",
      "Last label count: 41\n",
      "time: 693 ms\n"
     ]
    }
   ],
   "source": [
    "from sklearn.cluster import DBSCAN, KMeans\n",
    "ss = StandardScaler()\n",
    "Xs = ss.fit_transform(X_cluster)\n",
    "\n",
    "db = DBSCAN(eps=5, min_samples=20)\n",
    "db.fit(Xs)\n",
    "\n",
    "print pd.Series(db.labels_).unique()\n",
    "print 'Not in a class %:', list(db.labels_).count(-1)/float(len(tops)) * 100\n",
    "print 'In first class %:', list(db.labels_).count(0)/float(len(tops)) * 100\n",
    "print 'In remaining classes %:', 100 - (list(db.labels_).count(-1)/float(len(tops)) * 100 + list(db.labels_).count(0)/float(len(tops)) * 100)\n",
    "print '------------------------'\n",
    "print 'Last label count:', list(db.labels_).count(pd.Series(db.labels_).unique()[-1])\n",
    "\n",
    "tops['cluster_label'] = pd.Series(db.labels_)"
   ]
  },
  {
   "cell_type": "code",
   "execution_count": 58,
   "metadata": {},
   "outputs": [
    {
     "name": "stdout",
     "output_type": "stream",
     "text": [
      "5    597\n",
      "4    593\n",
      "0    440\n",
      "2    117\n",
      "3     55\n",
      "1     48\n",
      "dtype: int64\n",
      "time: 144 ms\n"
     ]
    }
   ],
   "source": [
    "# KMeans\n",
    "km = KMeans(n_clusters=6, random_state=42)\n",
    "km.fit(Xs)\n",
    "pd.Series(km.labels_).unique()\n",
    "\n",
    "print pd.Series(km.labels_).value_counts()\n",
    "\n",
    "tops['cluster_label'] = pd.Series(km.labels_)"
   ]
  },
  {
   "cell_type": "code",
   "execution_count": 60,
   "metadata": {},
   "outputs": [
    {
     "data": {
      "text/html": [
       "<div>\n",
       "<style>\n",
       "    .dataframe thead tr:only-child th {\n",
       "        text-align: right;\n",
       "    }\n",
       "\n",
       "    .dataframe thead th {\n",
       "        text-align: left;\n",
       "    }\n",
       "\n",
       "    .dataframe tbody tr th {\n",
       "        vertical-align: top;\n",
       "    }\n",
       "</style>\n",
       "<table border=\"1\" class=\"dataframe\">\n",
       "  <thead>\n",
       "    <tr style=\"text-align: right;\">\n",
       "      <th></th>\n",
       "      <th>brand</th>\n",
       "      <th>retailPrice</th>\n",
       "      <th>year</th>\n",
       "      <th>absChangePercentage</th>\n",
       "      <th>annualHigh</th>\n",
       "      <th>annualLow</th>\n",
       "      <th>averageDeadstockPrice</th>\n",
       "      <th>changePercentage</th>\n",
       "      <th>changeValue</th>\n",
       "      <th>deadstockRangeHigh</th>\n",
       "      <th>...</th>\n",
       "      <th>metal_silver</th>\n",
       "      <th>navi</th>\n",
       "      <th>red</th>\n",
       "      <th>silver</th>\n",
       "      <th>univers</th>\n",
       "      <th>varsiti</th>\n",
       "      <th>varsiti_red</th>\n",
       "      <th>white</th>\n",
       "      <th>white_black</th>\n",
       "      <th>cluster_label</th>\n",
       "    </tr>\n",
       "  </thead>\n",
       "  <tbody>\n",
       "    <tr>\n",
       "      <th>count</th>\n",
       "      <td>48.000000</td>\n",
       "      <td>48.000000</td>\n",
       "      <td>48.000000</td>\n",
       "      <td>48.000000</td>\n",
       "      <td>48.000000</td>\n",
       "      <td>48.000000</td>\n",
       "      <td>48.000000</td>\n",
       "      <td>48.000000</td>\n",
       "      <td>48.000000</td>\n",
       "      <td>48.000000</td>\n",
       "      <td>...</td>\n",
       "      <td>48.000000</td>\n",
       "      <td>48.000000</td>\n",
       "      <td>48.000000</td>\n",
       "      <td>48.000000</td>\n",
       "      <td>48.000000</td>\n",
       "      <td>48.000000</td>\n",
       "      <td>48.000000</td>\n",
       "      <td>48.000000</td>\n",
       "      <td>48.000000</td>\n",
       "      <td>48.0</td>\n",
       "    </tr>\n",
       "    <tr>\n",
       "      <th>mean</th>\n",
       "      <td>0.916667</td>\n",
       "      <td>197.562500</td>\n",
       "      <td>2014.208333</td>\n",
       "      <td>0.226785</td>\n",
       "      <td>2462.062500</td>\n",
       "      <td>821.041667</td>\n",
       "      <td>1377.354167</td>\n",
       "      <td>-0.026884</td>\n",
       "      <td>-122.895833</td>\n",
       "      <td>1557.062500</td>\n",
       "      <td>...</td>\n",
       "      <td>0.020833</td>\n",
       "      <td>0.020833</td>\n",
       "      <td>0.187500</td>\n",
       "      <td>0.020833</td>\n",
       "      <td>0.020833</td>\n",
       "      <td>0.083333</td>\n",
       "      <td>0.062500</td>\n",
       "      <td>0.395833</td>\n",
       "      <td>0.020833</td>\n",
       "      <td>1.0</td>\n",
       "    </tr>\n",
       "    <tr>\n",
       "      <th>std</th>\n",
       "      <td>0.871129</td>\n",
       "      <td>102.407593</td>\n",
       "      <td>3.730030</td>\n",
       "      <td>0.192112</td>\n",
       "      <td>1484.801246</td>\n",
       "      <td>256.522568</td>\n",
       "      <td>457.559181</td>\n",
       "      <td>0.297817</td>\n",
       "      <td>442.931446</td>\n",
       "      <td>635.053906</td>\n",
       "      <td>...</td>\n",
       "      <td>0.144338</td>\n",
       "      <td>0.144338</td>\n",
       "      <td>0.394443</td>\n",
       "      <td>0.144338</td>\n",
       "      <td>0.144338</td>\n",
       "      <td>0.279310</td>\n",
       "      <td>0.244623</td>\n",
       "      <td>0.494204</td>\n",
       "      <td>0.144338</td>\n",
       "      <td>0.0</td>\n",
       "    </tr>\n",
       "    <tr>\n",
       "      <th>min</th>\n",
       "      <td>0.000000</td>\n",
       "      <td>65.000000</td>\n",
       "      <td>2001.000000</td>\n",
       "      <td>0.000000</td>\n",
       "      <td>1060.000000</td>\n",
       "      <td>375.000000</td>\n",
       "      <td>748.000000</td>\n",
       "      <td>-0.529000</td>\n",
       "      <td>-1058.000000</td>\n",
       "      <td>764.000000</td>\n",
       "      <td>...</td>\n",
       "      <td>0.000000</td>\n",
       "      <td>0.000000</td>\n",
       "      <td>0.000000</td>\n",
       "      <td>0.000000</td>\n",
       "      <td>0.000000</td>\n",
       "      <td>0.000000</td>\n",
       "      <td>0.000000</td>\n",
       "      <td>0.000000</td>\n",
       "      <td>0.000000</td>\n",
       "      <td>1.0</td>\n",
       "    </tr>\n",
       "    <tr>\n",
       "      <th>25%</th>\n",
       "      <td>0.000000</td>\n",
       "      <td>147.500000</td>\n",
       "      <td>2013.750000</td>\n",
       "      <td>0.052821</td>\n",
       "      <td>1548.000000</td>\n",
       "      <td>650.000000</td>\n",
       "      <td>972.000000</td>\n",
       "      <td>-0.283181</td>\n",
       "      <td>-445.250000</td>\n",
       "      <td>1188.000000</td>\n",
       "      <td>...</td>\n",
       "      <td>0.000000</td>\n",
       "      <td>0.000000</td>\n",
       "      <td>0.000000</td>\n",
       "      <td>0.000000</td>\n",
       "      <td>0.000000</td>\n",
       "      <td>0.000000</td>\n",
       "      <td>0.000000</td>\n",
       "      <td>0.000000</td>\n",
       "      <td>0.000000</td>\n",
       "      <td>1.0</td>\n",
       "    </tr>\n",
       "    <tr>\n",
       "      <th>50%</th>\n",
       "      <td>1.000000</td>\n",
       "      <td>177.500000</td>\n",
       "      <td>2016.000000</td>\n",
       "      <td>0.166667</td>\n",
       "      <td>2000.000000</td>\n",
       "      <td>838.000000</td>\n",
       "      <td>1388.000000</td>\n",
       "      <td>0.012658</td>\n",
       "      <td>10.000000</td>\n",
       "      <td>1298.000000</td>\n",
       "      <td>...</td>\n",
       "      <td>0.000000</td>\n",
       "      <td>0.000000</td>\n",
       "      <td>0.000000</td>\n",
       "      <td>0.000000</td>\n",
       "      <td>0.000000</td>\n",
       "      <td>0.000000</td>\n",
       "      <td>0.000000</td>\n",
       "      <td>0.000000</td>\n",
       "      <td>0.000000</td>\n",
       "      <td>1.0</td>\n",
       "    </tr>\n",
       "    <tr>\n",
       "      <th>75%</th>\n",
       "      <td>2.000000</td>\n",
       "      <td>205.000000</td>\n",
       "      <td>2016.000000</td>\n",
       "      <td>0.376167</td>\n",
       "      <td>2700.000000</td>\n",
       "      <td>950.000000</td>\n",
       "      <td>1675.750000</td>\n",
       "      <td>0.125000</td>\n",
       "      <td>210.000000</td>\n",
       "      <td>1792.750000</td>\n",
       "      <td>...</td>\n",
       "      <td>0.000000</td>\n",
       "      <td>0.000000</td>\n",
       "      <td>0.000000</td>\n",
       "      <td>0.000000</td>\n",
       "      <td>0.000000</td>\n",
       "      <td>0.000000</td>\n",
       "      <td>0.000000</td>\n",
       "      <td>1.000000</td>\n",
       "      <td>0.000000</td>\n",
       "      <td>1.0</td>\n",
       "    </tr>\n",
       "    <tr>\n",
       "      <th>max</th>\n",
       "      <td>2.000000</td>\n",
       "      <td>720.000000</td>\n",
       "      <td>2017.000000</td>\n",
       "      <td>0.548452</td>\n",
       "      <td>8550.000000</td>\n",
       "      <td>1715.000000</td>\n",
       "      <td>3059.000000</td>\n",
       "      <td>0.548452</td>\n",
       "      <td>549.000000</td>\n",
       "      <td>3693.000000</td>\n",
       "      <td>...</td>\n",
       "      <td>1.000000</td>\n",
       "      <td>1.000000</td>\n",
       "      <td>1.000000</td>\n",
       "      <td>1.000000</td>\n",
       "      <td>1.000000</td>\n",
       "      <td>1.000000</td>\n",
       "      <td>1.000000</td>\n",
       "      <td>1.000000</td>\n",
       "      <td>1.000000</td>\n",
       "      <td>1.0</td>\n",
       "    </tr>\n",
       "  </tbody>\n",
       "</table>\n",
       "<p>8 rows × 55 columns</p>\n",
       "</div>"
      ],
      "text/plain": [
       "           brand  retailPrice         year  absChangePercentage   annualHigh  \\\n",
       "count  48.000000    48.000000    48.000000            48.000000    48.000000   \n",
       "mean    0.916667   197.562500  2014.208333             0.226785  2462.062500   \n",
       "std     0.871129   102.407593     3.730030             0.192112  1484.801246   \n",
       "min     0.000000    65.000000  2001.000000             0.000000  1060.000000   \n",
       "25%     0.000000   147.500000  2013.750000             0.052821  1548.000000   \n",
       "50%     1.000000   177.500000  2016.000000             0.166667  2000.000000   \n",
       "75%     2.000000   205.000000  2016.000000             0.376167  2700.000000   \n",
       "max     2.000000   720.000000  2017.000000             0.548452  8550.000000   \n",
       "\n",
       "         annualLow  averageDeadstockPrice  changePercentage  changeValue  \\\n",
       "count    48.000000              48.000000         48.000000    48.000000   \n",
       "mean    821.041667            1377.354167         -0.026884  -122.895833   \n",
       "std     256.522568             457.559181          0.297817   442.931446   \n",
       "min     375.000000             748.000000         -0.529000 -1058.000000   \n",
       "25%     650.000000             972.000000         -0.283181  -445.250000   \n",
       "50%     838.000000            1388.000000          0.012658    10.000000   \n",
       "75%     950.000000            1675.750000          0.125000   210.000000   \n",
       "max    1715.000000            3059.000000          0.548452   549.000000   \n",
       "\n",
       "       deadstockRangeHigh      ...        metal_silver       navi        red  \\\n",
       "count           48.000000      ...           48.000000  48.000000  48.000000   \n",
       "mean          1557.062500      ...            0.020833   0.020833   0.187500   \n",
       "std            635.053906      ...            0.144338   0.144338   0.394443   \n",
       "min            764.000000      ...            0.000000   0.000000   0.000000   \n",
       "25%           1188.000000      ...            0.000000   0.000000   0.000000   \n",
       "50%           1298.000000      ...            0.000000   0.000000   0.000000   \n",
       "75%           1792.750000      ...            0.000000   0.000000   0.000000   \n",
       "max           3693.000000      ...            1.000000   1.000000   1.000000   \n",
       "\n",
       "          silver    univers    varsiti  varsiti_red      white  white_black  \\\n",
       "count  48.000000  48.000000  48.000000    48.000000  48.000000    48.000000   \n",
       "mean    0.020833   0.020833   0.083333     0.062500   0.395833     0.020833   \n",
       "std     0.144338   0.144338   0.279310     0.244623   0.494204     0.144338   \n",
       "min     0.000000   0.000000   0.000000     0.000000   0.000000     0.000000   \n",
       "25%     0.000000   0.000000   0.000000     0.000000   0.000000     0.000000   \n",
       "50%     0.000000   0.000000   0.000000     0.000000   0.000000     0.000000   \n",
       "75%     0.000000   0.000000   0.000000     0.000000   1.000000     0.000000   \n",
       "max     1.000000   1.000000   1.000000     1.000000   1.000000     1.000000   \n",
       "\n",
       "       cluster_label  \n",
       "count           48.0  \n",
       "mean             1.0  \n",
       "std              0.0  \n",
       "min              1.0  \n",
       "25%              1.0  \n",
       "50%              1.0  \n",
       "75%              1.0  \n",
       "max              1.0  \n",
       "\n",
       "[8 rows x 55 columns]"
      ]
     },
     "execution_count": 60,
     "metadata": {},
     "output_type": "execute_result"
    },
    {
     "name": "stdout",
     "output_type": "stream",
     "text": [
      "time: 125 ms\n"
     ]
    }
   ],
   "source": [
    "tops[tops.cluster_label == 1].describe()"
   ]
  },
  {
   "cell_type": "markdown",
   "metadata": {},
   "source": [
    "## Part 6 - Predicting Rarity (regression and classification)"
   ]
  },
  {
   "cell_type": "code",
   "execution_count": 44,
   "metadata": {},
   "outputs": [
    {
     "name": "stdout",
     "output_type": "stream",
     "text": [
      "time: 7 ms\n"
     ]
    }
   ],
   "source": [
    "# Now have a bunch more variables. Would be a good idea to do PCA on the features to avoid multicollinearity.\n",
    "num_df = tops.drop(['cluster_label','retailPrice', 'averageDeadstockPrice', 'releaseDate', 'category', 'colorway', \n",
    "                    'name', 'shoe', 'title', 'thumbUrl', 'colorway_token', 'deadstockRangeHigh', 'deadstockRangeLow'], \n",
    "                    axis=1).copy()\n",
    "\n",
    "# Make another dataframe that doesn't include any colors or names to see if all those dummy variable creation mattered.\n",
    "no_extra_df = num_df.loc[:,:'rarity_bool'].copy()"
   ]
  },
  {
   "cell_type": "code",
   "execution_count": 45,
   "metadata": {},
   "outputs": [
    {
     "name": "stdout",
     "output_type": "stream",
     "text": [
      "time: 32 ms\n"
     ]
    }
   ],
   "source": [
    "def model_maker(X, y, N_components, model):\n",
    "    '''Prints out cross-val score of training data and R^2 score of test data.\n",
    "    Can use PCA dependent on N_components and choose either linear or logistic regression.'''\n",
    "    # Model input set up\n",
    "    X_train, X_test, y_train, y_test = train_test_split(X, y, train_size = .8, random_state=42)\n",
    "    Xs = ss.fit_transform(X_train)\n",
    "    Xst = ss.transform(X_test)\n",
    "    \n",
    "    # Using PCA\n",
    "    if N_components > 0:\n",
    "        pca = PCA(n_components=N_components)\n",
    "        pca_train = pca.fit_transform(Xs)\n",
    "        # For linear or logistic regression (two labels only)\n",
    "        if len(y.unique()) >= 2:\n",
    "            train_score = np.mean(cross_val_score(model, pca_train, y_train, cv=5))\n",
    "            print 'Cross-val score on training:', train_score\n",
    "            model.fit(pca_train, y_train)\n",
    "            pca_test = pd.DataFrame(pca.transform(Xst))\n",
    "            test_score = model.score(pca_test,y_test)\n",
    "            print 'R^2 (RSS) on test:', test_score\n",
    "        else:\n",
    "            print 'Choose a target that is either boolean or for linear regression'\n",
    "    # Not using PCA\n",
    "    elif N_components == 0 or N_components == None:\n",
    "        if len(y.unique()) >= 2:\n",
    "            train_score = np.mean(cross_val_score(model, Xs, y_train, cv=5))\n",
    "            print 'Cross-val score on training:', train_score\n",
    "            model.fit(Xs, y_train)\n",
    "            test_score = model.score(Xst, y_test)\n",
    "            print 'R^2 (RSS) on test:', test_score\n",
    "        else:\n",
    "            print 'Choose a target that is either boolean or for linear regression'\n",
    "    # Catch for weird inputs for N_components\n",
    "    else:\n",
    "        print 'Choose a correct N_components'\n",
    "\n",
    "    return train_score, test_score"
   ]
  },
  {
   "cell_type": "code",
   "execution_count": 90,
   "metadata": {},
   "outputs": [
    {
     "name": "stdout",
     "output_type": "stream",
     "text": [
      "Cross-val score on training: 0.701815268249\n",
      "R^2 (RSS) on test: 0.81106055938\n",
      "time: 32 ms\n"
     ]
    }
   ],
   "source": [
    "# PCA for linear regression\n",
    "X = no_extra_df.drop(['rarity', 'rarity_bool'], axis=1)\n",
    "y = num_df.rarity\n",
    "\n",
    "linreg = LinearRegression()\n",
    "model_maker(X,y,6, linreg);"
   ]
  },
  {
   "cell_type": "code",
   "execution_count": 47,
   "metadata": {},
   "outputs": [
    {
     "name": "stdout",
     "output_type": "stream",
     "text": [
      "Cross-val score on training: 0.789222527612\n",
      "R^2 (RSS) on test: 0.818918918919\n",
      "time: 48 ms\n"
     ]
    }
   ],
   "source": [
    "# PCA for classification\n",
    "X = no_extra_df.drop(['rarity', 'rarity_bool'], axis=1)\n",
    "y = num_df.rarity_bool\n",
    "logreg = LogisticRegression()\n",
    "model_maker(X,y,2,logreg);"
   ]
  },
  {
   "cell_type": "code",
   "execution_count": 48,
   "metadata": {},
   "outputs": [
    {
     "name": "stdout",
     "output_type": "stream",
     "text": [
      "Cross-val score on training: 0.798682033343\n",
      "R^2 (RSS) on test: 0.813513513514\n",
      "time: 59 ms\n"
     ]
    }
   ],
   "source": [
    "# Non-PCA logistic regression\n",
    "X = no_extra_df.drop(['rarity', 'rarity_bool'], axis=1)\n",
    "y = num_df.rarity_bool\n",
    "logr = LogisticRegression()\n",
    "model_maker(X,y,0,logr);"
   ]
  },
  {
   "cell_type": "code",
   "execution_count": 49,
   "metadata": {},
   "outputs": [
    {
     "data": {
      "text/html": [
       "<div>\n",
       "<style>\n",
       "    .dataframe thead tr:only-child th {\n",
       "        text-align: right;\n",
       "    }\n",
       "\n",
       "    .dataframe thead th {\n",
       "        text-align: left;\n",
       "    }\n",
       "\n",
       "    .dataframe tbody tr th {\n",
       "        vertical-align: top;\n",
       "    }\n",
       "</style>\n",
       "<table border=\"1\" class=\"dataframe\">\n",
       "  <thead>\n",
       "    <tr style=\"text-align: right;\">\n",
       "      <th></th>\n",
       "      <th>Feature</th>\n",
       "      <th>Coefficients</th>\n",
       "      <th>abs</th>\n",
       "    </tr>\n",
       "  </thead>\n",
       "  <tbody>\n",
       "    <tr>\n",
       "      <th>0</th>\n",
       "      <td>lastSale</td>\n",
       "      <td>2.175187</td>\n",
       "      <td>2.175187</td>\n",
       "    </tr>\n",
       "    <tr>\n",
       "      <th>1</th>\n",
       "      <td>annualLow</td>\n",
       "      <td>0.984844</td>\n",
       "      <td>0.984844</td>\n",
       "    </tr>\n",
       "    <tr>\n",
       "      <th>2</th>\n",
       "      <td>changeValue</td>\n",
       "      <td>-0.760705</td>\n",
       "      <td>0.760705</td>\n",
       "    </tr>\n",
       "    <tr>\n",
       "      <th>3</th>\n",
       "      <td>lowestAsk</td>\n",
       "      <td>0.615702</td>\n",
       "      <td>0.615702</td>\n",
       "    </tr>\n",
       "    <tr>\n",
       "      <th>4</th>\n",
       "      <td>year</td>\n",
       "      <td>-0.412625</td>\n",
       "      <td>0.412625</td>\n",
       "    </tr>\n",
       "    <tr>\n",
       "      <th>5</th>\n",
       "      <td>annualHigh</td>\n",
       "      <td>0.354867</td>\n",
       "      <td>0.354867</td>\n",
       "    </tr>\n",
       "    <tr>\n",
       "      <th>6</th>\n",
       "      <td>changePercentage</td>\n",
       "      <td>0.267374</td>\n",
       "      <td>0.267374</td>\n",
       "    </tr>\n",
       "    <tr>\n",
       "      <th>7</th>\n",
       "      <td>deadstockSold</td>\n",
       "      <td>0.245926</td>\n",
       "      <td>0.245926</td>\n",
       "    </tr>\n",
       "    <tr>\n",
       "      <th>8</th>\n",
       "      <td>volatility</td>\n",
       "      <td>0.216577</td>\n",
       "      <td>0.216577</td>\n",
       "    </tr>\n",
       "    <tr>\n",
       "      <th>9</th>\n",
       "      <td>highestBid</td>\n",
       "      <td>0.157315</td>\n",
       "      <td>0.157315</td>\n",
       "    </tr>\n",
       "    <tr>\n",
       "      <th>10</th>\n",
       "      <td>brand</td>\n",
       "      <td>-0.026876</td>\n",
       "      <td>0.026876</td>\n",
       "    </tr>\n",
       "    <tr>\n",
       "      <th>11</th>\n",
       "      <td>absChangePercentage</td>\n",
       "      <td>0.016913</td>\n",
       "      <td>0.016913</td>\n",
       "    </tr>\n",
       "    <tr>\n",
       "      <th>12</th>\n",
       "      <td>salesLast72Hours</td>\n",
       "      <td>-0.016618</td>\n",
       "      <td>0.016618</td>\n",
       "    </tr>\n",
       "  </tbody>\n",
       "</table>\n",
       "</div>"
      ],
      "text/plain": [
       "                Feature  Coefficients       abs\n",
       "0              lastSale      2.175187  2.175187\n",
       "1             annualLow      0.984844  0.984844\n",
       "2           changeValue     -0.760705  0.760705\n",
       "3             lowestAsk      0.615702  0.615702\n",
       "4                  year     -0.412625  0.412625\n",
       "5            annualHigh      0.354867  0.354867\n",
       "6      changePercentage      0.267374  0.267374\n",
       "7         deadstockSold      0.245926  0.245926\n",
       "8            volatility      0.216577  0.216577\n",
       "9            highestBid      0.157315  0.157315\n",
       "10                brand     -0.026876  0.026876\n",
       "11  absChangePercentage      0.016913  0.016913\n",
       "12     salesLast72Hours     -0.016618  0.016618"
      ]
     },
     "execution_count": 49,
     "metadata": {},
     "output_type": "execute_result"
    },
    {
     "name": "stdout",
     "output_type": "stream",
     "text": [
      "time: 33 ms\n"
     ]
    }
   ],
   "source": [
    "# Getting only the top coefficients from the logistic regression\n",
    "coef_df = pd.DataFrame(zip(no_extra_df.drop(['rarity','rarity_bool'],axis=1).columns, logr.coef_[0]), columns=['Feature', 'Coefficients'])\n",
    "coef_df['abs'] = abs(coef_df.Coefficients).copy()\n",
    "coef_df = coef_df.sort_values('abs', ascending=False).reset_index(drop=True)\n",
    "coef_df"
   ]
  },
  {
   "cell_type": "code",
   "execution_count": 109,
   "metadata": {},
   "outputs": [
    {
     "name": "stdout",
     "output_type": "stream",
     "text": [
      "Cross-val score on training: 0.804071957419\n",
      "R^2 (RSS) on test: 0.882649785588\n",
      "time: 31 ms\n"
     ]
    }
   ],
   "source": [
    "# Using only the top few coefficients as features\n",
    "X = no_extra_df.drop(['rarity', 'rarity_bool', 'lastSale', 'lowestAsk', 'highestBid'], axis=1)\n",
    "y = no_extra_df.lastSale\n",
    "lr = LinearRegression()\n",
    "model_maker(X,y,0, lr)\n",
    "lr_coef_df = pd.DataFrame(zip(num_df.drop(['rarity', 'rarity_bool','lastSale', 'lowestAsk', 'highestBid'], axis=1).columns, lr.coef_), columns=['Feature', 'Coefficients'])"
   ]
  },
  {
   "cell_type": "code",
   "execution_count": 51,
   "metadata": {},
   "outputs": [
    {
     "data": {
      "text/html": [
       "<div>\n",
       "<style>\n",
       "    .dataframe thead tr:only-child th {\n",
       "        text-align: right;\n",
       "    }\n",
       "\n",
       "    .dataframe thead th {\n",
       "        text-align: left;\n",
       "    }\n",
       "\n",
       "    .dataframe tbody tr th {\n",
       "        vertical-align: top;\n",
       "    }\n",
       "</style>\n",
       "<table border=\"1\" class=\"dataframe\">\n",
       "  <thead>\n",
       "    <tr style=\"text-align: right;\">\n",
       "      <th></th>\n",
       "      <th>Feature</th>\n",
       "      <th>Coefficients</th>\n",
       "      <th>abs</th>\n",
       "    </tr>\n",
       "  </thead>\n",
       "  <tbody>\n",
       "    <tr>\n",
       "      <th>0</th>\n",
       "      <td>annualLow</td>\n",
       "      <td>168.183712</td>\n",
       "      <td>168.183712</td>\n",
       "    </tr>\n",
       "    <tr>\n",
       "      <th>1</th>\n",
       "      <td>changeValue</td>\n",
       "      <td>52.397891</td>\n",
       "      <td>52.397891</td>\n",
       "    </tr>\n",
       "    <tr>\n",
       "      <th>2</th>\n",
       "      <td>annualHigh</td>\n",
       "      <td>30.377456</td>\n",
       "      <td>30.377456</td>\n",
       "    </tr>\n",
       "    <tr>\n",
       "      <th>3</th>\n",
       "      <td>absChangePercentage</td>\n",
       "      <td>9.731906</td>\n",
       "      <td>9.731906</td>\n",
       "    </tr>\n",
       "    <tr>\n",
       "      <th>4</th>\n",
       "      <td>salesLast72Hours</td>\n",
       "      <td>-7.163524</td>\n",
       "      <td>7.163524</td>\n",
       "    </tr>\n",
       "    <tr>\n",
       "      <th>5</th>\n",
       "      <td>changePercentage</td>\n",
       "      <td>-6.854725</td>\n",
       "      <td>6.854725</td>\n",
       "    </tr>\n",
       "    <tr>\n",
       "      <th>6</th>\n",
       "      <td>deadstockSold</td>\n",
       "      <td>4.956333</td>\n",
       "      <td>4.956333</td>\n",
       "    </tr>\n",
       "    <tr>\n",
       "      <th>7</th>\n",
       "      <td>volatility</td>\n",
       "      <td>-4.787054</td>\n",
       "      <td>4.787054</td>\n",
       "    </tr>\n",
       "    <tr>\n",
       "      <th>8</th>\n",
       "      <td>brand</td>\n",
       "      <td>-3.985527</td>\n",
       "      <td>3.985527</td>\n",
       "    </tr>\n",
       "    <tr>\n",
       "      <th>9</th>\n",
       "      <td>year</td>\n",
       "      <td>-1.898242</td>\n",
       "      <td>1.898242</td>\n",
       "    </tr>\n",
       "  </tbody>\n",
       "</table>\n",
       "</div>"
      ],
      "text/plain": [
       "               Feature  Coefficients         abs\n",
       "0            annualLow    168.183712  168.183712\n",
       "1          changeValue     52.397891   52.397891\n",
       "2           annualHigh     30.377456   30.377456\n",
       "3  absChangePercentage      9.731906    9.731906\n",
       "4     salesLast72Hours     -7.163524    7.163524\n",
       "5     changePercentage     -6.854725    6.854725\n",
       "6        deadstockSold      4.956333    4.956333\n",
       "7           volatility     -4.787054    4.787054\n",
       "8                brand     -3.985527    3.985527\n",
       "9                 year     -1.898242    1.898242"
      ]
     },
     "execution_count": 51,
     "metadata": {},
     "output_type": "execute_result"
    },
    {
     "name": "stdout",
     "output_type": "stream",
     "text": [
      "time: 28 ms\n"
     ]
    }
   ],
   "source": [
    "lr_coef_df['abs'] = abs(lr_coef_df.Coefficients).copy()\n",
    "lr_coef_df.sort_values('abs', ascending=False, inplace=True)\n",
    "lr_coef_df.reset_index(drop=True)"
   ]
  },
  {
   "cell_type": "markdown",
   "metadata": {},
   "source": [
    "## Part 7 - Image Processing"
   ]
  },
  {
   "cell_type": "markdown",
   "metadata": {},
   "source": [
    "The code below is for image processing using Keras and Tensorflow. Unfortunately, these libraries don't play nicely with Windows. As a result, a virtual machine was used in another notebook. The forked repository is an extension of the deep learning repository by github user *[nirmalyaghosh](https://github.com/nirmalyaghosh/deep-learning-vm)*.\n",
    "\n",
    "Imaging code adapted from *[source1](https://pythonprogramming.net/automated-image-thresholding-python/?completed=/thresholding-python-function/)* and *[source2](http://pillow.readthedocs.io/en/3.4.x/reference/Image.html)*. Finally, pickling code was sourced from *[stackoverflow](https://stackoverflow.com/questions/11218477/how-can-i-use-pickle-to-save-a-dict)*.\n",
    "\n",
    "The code to transfer data is below in markdown mode for reading convenience. The rest of the code can be found at *[my github](https://github.com/chrisk447/deep-learning-vm/blob/master/notebooks/Capstone%20Image%20Processing.ipynb)*."
   ]
  },
  {
   "cell_type": "markdown",
   "metadata": {},
   "source": [
    "    # only gathering images for those that have images. (As of 7/7/2017)\n",
    "    import urllib3\n",
    "    from PIL import Image\n",
    "    import io\n",
    "\n",
    "    tops_with_pics = tops[tops.thumbUrl != '']\n",
    "    tops_with_pics.reset_index(drop=True, inplace=True)\n",
    "\n",
    "    # Interpreting the image as data and preparing it to be pickled.\n",
    "    pickled_array = []\n",
    "    counter = 0\n",
    "    for shoe_num in range(len(tops_with_pics)):\n",
    "        fd = urllib.urlopen(tops_with_pics.thumbUrl[shoe_num])\n",
    "        image_file = io.BytesIO(fd.read())\n",
    "        i = Image.open(image_file).convert('RGB')\n",
    "        iar = np.asarray(i)\n",
    "        iar.setflags(write=1)\n",
    "\n",
    "        pickled_array.append(iar)\n",
    "        sleep(0.5)\n",
    "        image_file.close()\n",
    "        fd.close()\n",
    "\n",
    "    # Pickling the feature data into the deep learning repository\n",
    "    with open('../../../keras/deep-learning-vm/notebooks/shoenumbers.pickle', 'wb') as handle:\n",
    "        pickle.dump(pickled_array, handle, protocol=2)\n",
    "\n",
    "    # Pickling the target data into the deep learning repository\n",
    "    with open('../../../keras/deep-learning-vm/notebooks/targetvars.pickle', 'wb') as handle2:\n",
    "        pickle.dump(tops_with_pics.rarity_bool.values, handle2, protocol=2)"
   ]
  },
  {
   "cell_type": "markdown",
   "metadata": {},
   "source": [
    "--- \n",
    "# Conclusion\n",
    "The most important features that can be found at release date for determining if a shoe is going to be rare is the year, lowestAsk, highestBid, and lastSale. The most important of those features is lastSale, the last price the shoe was sold for on all portals. Used PCA because some features are closely related (annualLow and annualHigh, etc.)\n",
    "\n",
    "Performing a linear regression for lastSale, it's determined mostly by annualLow, changeValue, and annualHigh. What's interesting is that brand does not determine last sale price nor rarity. All 3 brands have just as much chance to be rare, signifying Adidas' rise in sneakerhead culture.\n",
    "\n",
    "# changeValue is how much last sale changed by\n",
    "\n",
    "**Next step is, now that I have PC for rarity on a continuous scale, what can I do with it?**\n",
    "\n",
    "---"
   ]
  },
  {
   "cell_type": "code",
   "execution_count": null,
   "metadata": {
    "collapsed": true
   },
   "outputs": [],
   "source": []
  }
 ],
 "metadata": {
  "kernelspec": {
   "display_name": "Python 2",
   "language": "python",
   "name": "python2"
  },
  "language_info": {
   "codemirror_mode": {
    "name": "ipython",
    "version": 2
   },
   "file_extension": ".py",
   "mimetype": "text/x-python",
   "name": "python",
   "nbconvert_exporter": "python",
   "pygments_lexer": "ipython2",
   "version": "2.7.13"
  }
 },
 "nbformat": 4,
 "nbformat_minor": 2
}
