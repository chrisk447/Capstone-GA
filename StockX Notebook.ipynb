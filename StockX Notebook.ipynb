{
 "cells": [
  {
   "cell_type": "markdown",
   "metadata": {},
   "source": [
    "# Capstone Project - Which Shoe is the Best for You?\n",
    "\n",
    "General Assembly passion project. Scrape or obtain data from resources online to develop a dataset to perform cleaning, EDA, and analysis on. Try to predict a model on common themes like: \n",
    "\n",
    "- Price\n",
    "- If item is in category A or B\n",
    "- Cluster and create groups\n",
    "- Recommender"
   ]
  },
  {
   "cell_type": "code",
   "execution_count": 126,
   "metadata": {
    "collapsed": true
   },
   "outputs": [],
   "source": [
    "# Import libraries\n",
    "import pandas as pd\n",
    "import numpy as np\n",
    "import urllib\n",
    "from bs4 import BeautifulSoup\n",
    "import requests\n",
    "from time import sleep, strftime"
   ]
  },
  {
   "cell_type": "markdown",
   "metadata": {},
   "source": [
    "**Testing one website and finding appropriate keys**\n",
    "\n",
    "Then run again on page 2."
   ]
  },
  {
   "cell_type": "code",
   "execution_count": 121,
   "metadata": {},
   "outputs": [
    {
     "name": "stdout",
     "output_type": "stream",
     "text": [
      "Adidas-Yeezy-Powerphase-Calabasas-Core-White\n",
      "120\n"
     ]
    }
   ],
   "source": [
    "result = requests.get('https://stockx.com/api/browse?page=1&category=152')\n",
    "json_res = result.json()\n",
    "\n",
    "print json_res['Products'][0]['shortDescription']\n",
    "print json_res['Products'][0]['retailPrice']"
   ]
  },
  {
   "cell_type": "code",
   "execution_count": 122,
   "metadata": {},
   "outputs": [
    {
     "name": "stdout",
     "output_type": "stream",
     "text": [
      "Adidas-EQT-Support-Future-Overkill-Coat-Of-Arms\n",
      "150\n"
     ]
    }
   ],
   "source": [
    "result = requests.get('https://stockx.com/api/browse?page=2&category=152')\n",
    "json_res = result.json()\n",
    "\n",
    "print json_res['Products'][0]['shortDescription']\n",
    "print json_res['Products'][0]['retailPrice']"
   ]
  },
  {
   "cell_type": "markdown",
   "metadata": {},
   "source": [
    "### Functions to run for loop to scrape website\n",
    "\n",
    "First function scrapes the web for an amount of pages (default 50). It will save the raw data as a csv as well. The second function will then clean the dataframe by taking out the unused columns."
   ]
  },
  {
   "cell_type": "code",
   "execution_count": 148,
   "metadata": {
    "collapsed": true
   },
   "outputs": [],
   "source": [
    "def shoe_scraper(pages=50):\n",
    "    '''Returns one dataframe of all results. \n",
    "    And will save into a new file.'''\n",
    "    \n",
    "    # Have to run requests first to get appropriate column names\n",
    "    req = requests.get('https://stockx.com/api/browse?page=1&category=152')\n",
    "    json_req = req.json()\n",
    "    df = pd.DataFrame([], columns=json_req['Products'][0].keys())\n",
    "\n",
    "    for i in range(1,pages):\n",
    "        try:\n",
    "            html = 'https://stockx.com/api/browse?page=' + str(int(i)) + '&category=152'\n",
    "            result = requests.get(html)\n",
    "            json_res = result.json()\n",
    "            df = pd.concat([df, pd.DataFrame(json_res['Products'])])\n",
    "            sleep(0.5)\n",
    "        except:\n",
    "            break\n",
    "    \n",
    "    # Drop row duplicates\n",
    "    df.drop_duplicates(['shortDescription', 'urlKey'], inplace=True) \n",
    "    \n",
    "    # Function to save as csv file under today's day as raw (before dropping)\n",
    "    def csv_maker(df):\n",
    "        filename = 'StockX_' + strftime(\"%m%d\")\n",
    "        df.to_csv(filename, encoding='utf-8')\n",
    "    \n",
    "    csv_maker(df)\n",
    "    \n",
    "    return df"
   ]
  },
  {
   "cell_type": "code",
   "execution_count": 149,
   "metadata": {},
   "outputs": [],
   "source": [
    "def clean_df(busy_dataframe):\n",
    "    '''Dropping columns that hold little to no information.\n",
    "    Then reset the index since we are getting repeated indices'''\n",
    "    \n",
    "    busy_dataframe.drop(['breadcrumbs', 'childId', 'countryOfManufacture', 'type', 'uuid', 'dataType', \n",
    "             'doppelgangers', 'condition', 'description', 'hidden', 'ipoDate', 'productCategory', \n",
    "             'shoeSize', 'urlKey', 'charityCondition', 'releaseTime', 'shortDescription',\n",
    "             'media', '_highlightResult', 'market'], axis=1, inplace=True)\n",
    "\n",
    "    # Reset the index, since we are getting repeated indices\n",
    "    busy_dataframe.reset_index(drop=True, inplace=True)\n",
    "    return busy_dataframe"
   ]
  },
  {
   "cell_type": "code",
   "execution_count": 146,
   "metadata": {},
   "outputs": [],
   "source": [
    "scraped_shoe = shoe_scraper()\n",
    "shoe_df = clean_df(scraped_shoe)"
   ]
  },
  {
   "cell_type": "code",
   "execution_count": null,
   "metadata": {
    "collapsed": true
   },
   "outputs": [],
   "source": []
  }
 ],
 "metadata": {
  "kernelspec": {
   "display_name": "Python 2",
   "language": "python",
   "name": "python2"
  },
  "language_info": {
   "codemirror_mode": {
    "name": "ipython",
    "version": 2
   },
   "file_extension": ".py",
   "mimetype": "text/x-python",
   "name": "python",
   "nbconvert_exporter": "python",
   "pygments_lexer": "ipython2",
   "version": "2.7.13"
  }
 },
 "nbformat": 4,
 "nbformat_minor": 2
}
