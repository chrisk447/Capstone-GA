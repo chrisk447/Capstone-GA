{
 "cells": [
  {
   "cell_type": "code",
   "execution_count": 1,
   "metadata": {
    "collapsed": true
   },
   "outputs": [],
   "source": [
    "import pandas as pd"
   ]
  },
  {
   "cell_type": "code",
   "execution_count": 9,
   "metadata": {},
   "outputs": [],
   "source": [
    "wmn_shoe = pd.read_csv('7210_1.csv', sep=',', header=None, error_bad_lines=False)"
   ]
  },
  {
   "cell_type": "code",
   "execution_count": 8,
   "metadata": {},
   "outputs": [],
   "source": [
    "men_shoe = pd.read_csv('7004_2.csv', sep=',', header=None, error_bad_lines=False)"
   ]
  },
  {
   "cell_type": "code",
   "execution_count": 24,
   "metadata": {
    "collapsed": true
   },
   "outputs": [],
   "source": [
    "shoe = pd.concat([wmn_shoe, men_shoe])"
   ]
  },
  {
   "cell_type": "code",
   "execution_count": 25,
   "metadata": {
    "collapsed": true
   },
   "outputs": [],
   "source": [
    "shoe.columns = shoe.iloc[0,:]"
   ]
  },
  {
   "cell_type": "code",
   "execution_count": 26,
   "metadata": {
    "collapsed": true
   },
   "outputs": [],
   "source": [
    "shoe.drop(0, inplace=True)"
   ]
  },
  {
   "cell_type": "code",
   "execution_count": 27,
   "metadata": {},
   "outputs": [],
   "source": [
    "shoe = shoe.loc[:,:'weight']"
   ]
  },
  {
   "cell_type": "code",
   "execution_count": 28,
   "metadata": {},
   "outputs": [
    {
     "data": {
      "text/plain": [
       "(48787, 48)"
      ]
     },
     "execution_count": 28,
     "metadata": {},
     "output_type": "execute_result"
    }
   ],
   "source": [
    "shoe.shape"
   ]
  },
  {
   "cell_type": "code",
   "execution_count": 29,
   "metadata": {},
   "outputs": [
    {
     "data": {
      "text/html": [
       "<div>\n",
       "<table border=\"1\" class=\"dataframe\">\n",
       "  <thead>\n",
       "    <tr style=\"text-align: right;\">\n",
       "      <th></th>\n",
       "      <th>id</th>\n",
       "      <th>asins</th>\n",
       "      <th>brand</th>\n",
       "      <th>categories</th>\n",
       "      <th>colors</th>\n",
       "      <th>count</th>\n",
       "      <th>dateAdded</th>\n",
       "      <th>dateUpdated</th>\n",
       "      <th>descriptions</th>\n",
       "      <th>dimension</th>\n",
       "      <th>...</th>\n",
       "      <th>prices.warranty</th>\n",
       "      <th>quantities</th>\n",
       "      <th>reviews</th>\n",
       "      <th>sizes</th>\n",
       "      <th>skus</th>\n",
       "      <th>sourceURLs</th>\n",
       "      <th>upc</th>\n",
       "      <th>vin</th>\n",
       "      <th>websiteIDs</th>\n",
       "      <th>weight</th>\n",
       "    </tr>\n",
       "  </thead>\n",
       "  <tbody>\n",
       "    <tr>\n",
       "      <th>1</th>\n",
       "      <td>AVpe__eOilAPnD_xSt-H</td>\n",
       "      <td>NaN</td>\n",
       "      <td>Novica</td>\n",
       "      <td>Access.,Clothing,Shoes,Women's Clothing</td>\n",
       "      <td>Purple</td>\n",
       "      <td>NaN</td>\n",
       "      <td>2017-02-03T22:06:24Z</td>\n",
       "      <td>2017-03-28T11:53:51Z</td>\n",
       "      <td>[{\"dateSeen\":[\"2017-03-26T05:04:46.539Z\",\"2017...</td>\n",
       "      <td>NaN</td>\n",
       "      <td>...</td>\n",
       "      <td>NaN</td>\n",
       "      <td>[{\"dateSeen\":[\"2017-03-26T05:04:46.539Z\",\"2017...</td>\n",
       "      <td>[{\"date\":\"2017-01-10T00:00:00.000Z\",\"dateAdded...</td>\n",
       "      <td>NaN</td>\n",
       "      <td>[{\"sourceURLs\":[\"https://www.overstock.com/Wor...</td>\n",
       "      <td>https://www.overstock.com/Worldstock-Fair-Trad...</td>\n",
       "      <td>NaN</td>\n",
       "      <td>NaN</td>\n",
       "      <td>NaN</td>\n",
       "      <td>NaN</td>\n",
       "    </tr>\n",
       "    <tr>\n",
       "      <th>2</th>\n",
       "      <td>AVpe__eOilAPnD_xSt-H</td>\n",
       "      <td>NaN</td>\n",
       "      <td>Novica</td>\n",
       "      <td>Access.,Clothing,Shoes,Women's Clothing</td>\n",
       "      <td>Purple</td>\n",
       "      <td>NaN</td>\n",
       "      <td>2017-02-03T22:06:24Z</td>\n",
       "      <td>2017-03-28T11:53:51Z</td>\n",
       "      <td>[{\"dateSeen\":[\"2017-03-26T05:04:46.539Z\",\"2017...</td>\n",
       "      <td>NaN</td>\n",
       "      <td>...</td>\n",
       "      <td>NaN</td>\n",
       "      <td>[{\"dateSeen\":[\"2017-03-26T05:04:46.539Z\",\"2017...</td>\n",
       "      <td>[{\"date\":\"2017-01-10T00:00:00.000Z\",\"dateAdded...</td>\n",
       "      <td>NaN</td>\n",
       "      <td>[{\"sourceURLs\":[\"https://www.overstock.com/Wor...</td>\n",
       "      <td>https://www.overstock.com/Worldstock-Fair-Trad...</td>\n",
       "      <td>NaN</td>\n",
       "      <td>NaN</td>\n",
       "      <td>NaN</td>\n",
       "      <td>NaN</td>\n",
       "    </tr>\n",
       "    <tr>\n",
       "      <th>3</th>\n",
       "      <td>AVpe__eOilAPnD_xSt-H</td>\n",
       "      <td>NaN</td>\n",
       "      <td>Novica</td>\n",
       "      <td>Access.,Clothing,Shoes,Women's Clothing</td>\n",
       "      <td>Purple</td>\n",
       "      <td>NaN</td>\n",
       "      <td>2017-02-03T22:06:24Z</td>\n",
       "      <td>2017-03-28T11:53:51Z</td>\n",
       "      <td>[{\"dateSeen\":[\"2017-03-26T05:04:46.539Z\",\"2017...</td>\n",
       "      <td>NaN</td>\n",
       "      <td>...</td>\n",
       "      <td>NaN</td>\n",
       "      <td>[{\"dateSeen\":[\"2017-03-26T05:04:46.539Z\",\"2017...</td>\n",
       "      <td>[{\"date\":\"2017-01-10T00:00:00.000Z\",\"dateAdded...</td>\n",
       "      <td>NaN</td>\n",
       "      <td>[{\"sourceURLs\":[\"https://www.overstock.com/Wor...</td>\n",
       "      <td>https://www.overstock.com/Worldstock-Fair-Trad...</td>\n",
       "      <td>NaN</td>\n",
       "      <td>NaN</td>\n",
       "      <td>NaN</td>\n",
       "      <td>NaN</td>\n",
       "    </tr>\n",
       "    <tr>\n",
       "      <th>4</th>\n",
       "      <td>AVpe__eOilAPnD_xSt-H</td>\n",
       "      <td>NaN</td>\n",
       "      <td>Novica</td>\n",
       "      <td>Access.,Clothing,Shoes,Women's Clothing</td>\n",
       "      <td>Purple</td>\n",
       "      <td>NaN</td>\n",
       "      <td>2017-02-03T22:06:24Z</td>\n",
       "      <td>2017-03-28T11:53:51Z</td>\n",
       "      <td>[{\"dateSeen\":[\"2017-03-26T05:04:46.539Z\",\"2017...</td>\n",
       "      <td>NaN</td>\n",
       "      <td>...</td>\n",
       "      <td>NaN</td>\n",
       "      <td>[{\"dateSeen\":[\"2017-03-26T05:04:46.539Z\",\"2017...</td>\n",
       "      <td>[{\"date\":\"2017-01-10T00:00:00.000Z\",\"dateAdded...</td>\n",
       "      <td>NaN</td>\n",
       "      <td>[{\"sourceURLs\":[\"https://www.overstock.com/Wor...</td>\n",
       "      <td>https://www.overstock.com/Worldstock-Fair-Trad...</td>\n",
       "      <td>NaN</td>\n",
       "      <td>NaN</td>\n",
       "      <td>NaN</td>\n",
       "      <td>NaN</td>\n",
       "    </tr>\n",
       "    <tr>\n",
       "      <th>5</th>\n",
       "      <td>AVpe__eOilAPnD_xSt-H</td>\n",
       "      <td>NaN</td>\n",
       "      <td>Novica</td>\n",
       "      <td>Access.,Clothing,Shoes,Women's Clothing</td>\n",
       "      <td>Purple</td>\n",
       "      <td>NaN</td>\n",
       "      <td>2017-02-03T22:06:24Z</td>\n",
       "      <td>2017-03-28T11:53:51Z</td>\n",
       "      <td>[{\"dateSeen\":[\"2017-03-26T05:04:46.539Z\",\"2017...</td>\n",
       "      <td>NaN</td>\n",
       "      <td>...</td>\n",
       "      <td>NaN</td>\n",
       "      <td>[{\"dateSeen\":[\"2017-03-26T05:04:46.539Z\",\"2017...</td>\n",
       "      <td>[{\"date\":\"2017-01-10T00:00:00.000Z\",\"dateAdded...</td>\n",
       "      <td>NaN</td>\n",
       "      <td>[{\"sourceURLs\":[\"https://www.overstock.com/Wor...</td>\n",
       "      <td>https://www.overstock.com/Worldstock-Fair-Trad...</td>\n",
       "      <td>NaN</td>\n",
       "      <td>NaN</td>\n",
       "      <td>NaN</td>\n",
       "      <td>NaN</td>\n",
       "    </tr>\n",
       "  </tbody>\n",
       "</table>\n",
       "<p>5 rows × 48 columns</p>\n",
       "</div>"
      ],
      "text/plain": [
       "0                    id asins   brand  \\\n",
       "1  AVpe__eOilAPnD_xSt-H   NaN  Novica   \n",
       "2  AVpe__eOilAPnD_xSt-H   NaN  Novica   \n",
       "3  AVpe__eOilAPnD_xSt-H   NaN  Novica   \n",
       "4  AVpe__eOilAPnD_xSt-H   NaN  Novica   \n",
       "5  AVpe__eOilAPnD_xSt-H   NaN  Novica   \n",
       "\n",
       "0                               categories  colors count  \\\n",
       "1  Access.,Clothing,Shoes,Women's Clothing  Purple   NaN   \n",
       "2  Access.,Clothing,Shoes,Women's Clothing  Purple   NaN   \n",
       "3  Access.,Clothing,Shoes,Women's Clothing  Purple   NaN   \n",
       "4  Access.,Clothing,Shoes,Women's Clothing  Purple   NaN   \n",
       "5  Access.,Clothing,Shoes,Women's Clothing  Purple   NaN   \n",
       "\n",
       "0             dateAdded           dateUpdated  \\\n",
       "1  2017-02-03T22:06:24Z  2017-03-28T11:53:51Z   \n",
       "2  2017-02-03T22:06:24Z  2017-03-28T11:53:51Z   \n",
       "3  2017-02-03T22:06:24Z  2017-03-28T11:53:51Z   \n",
       "4  2017-02-03T22:06:24Z  2017-03-28T11:53:51Z   \n",
       "5  2017-02-03T22:06:24Z  2017-03-28T11:53:51Z   \n",
       "\n",
       "0                                       descriptions dimension  ...    \\\n",
       "1  [{\"dateSeen\":[\"2017-03-26T05:04:46.539Z\",\"2017...       NaN  ...     \n",
       "2  [{\"dateSeen\":[\"2017-03-26T05:04:46.539Z\",\"2017...       NaN  ...     \n",
       "3  [{\"dateSeen\":[\"2017-03-26T05:04:46.539Z\",\"2017...       NaN  ...     \n",
       "4  [{\"dateSeen\":[\"2017-03-26T05:04:46.539Z\",\"2017...       NaN  ...     \n",
       "5  [{\"dateSeen\":[\"2017-03-26T05:04:46.539Z\",\"2017...       NaN  ...     \n",
       "\n",
       "0 prices.warranty                                         quantities  \\\n",
       "1             NaN  [{\"dateSeen\":[\"2017-03-26T05:04:46.539Z\",\"2017...   \n",
       "2             NaN  [{\"dateSeen\":[\"2017-03-26T05:04:46.539Z\",\"2017...   \n",
       "3             NaN  [{\"dateSeen\":[\"2017-03-26T05:04:46.539Z\",\"2017...   \n",
       "4             NaN  [{\"dateSeen\":[\"2017-03-26T05:04:46.539Z\",\"2017...   \n",
       "5             NaN  [{\"dateSeen\":[\"2017-03-26T05:04:46.539Z\",\"2017...   \n",
       "\n",
       "0                                            reviews sizes  \\\n",
       "1  [{\"date\":\"2017-01-10T00:00:00.000Z\",\"dateAdded...   NaN   \n",
       "2  [{\"date\":\"2017-01-10T00:00:00.000Z\",\"dateAdded...   NaN   \n",
       "3  [{\"date\":\"2017-01-10T00:00:00.000Z\",\"dateAdded...   NaN   \n",
       "4  [{\"date\":\"2017-01-10T00:00:00.000Z\",\"dateAdded...   NaN   \n",
       "5  [{\"date\":\"2017-01-10T00:00:00.000Z\",\"dateAdded...   NaN   \n",
       "\n",
       "0                                               skus  \\\n",
       "1  [{\"sourceURLs\":[\"https://www.overstock.com/Wor...   \n",
       "2  [{\"sourceURLs\":[\"https://www.overstock.com/Wor...   \n",
       "3  [{\"sourceURLs\":[\"https://www.overstock.com/Wor...   \n",
       "4  [{\"sourceURLs\":[\"https://www.overstock.com/Wor...   \n",
       "5  [{\"sourceURLs\":[\"https://www.overstock.com/Wor...   \n",
       "\n",
       "0                                         sourceURLs  upc  vin websiteIDs  \\\n",
       "1  https://www.overstock.com/Worldstock-Fair-Trad...  NaN  NaN        NaN   \n",
       "2  https://www.overstock.com/Worldstock-Fair-Trad...  NaN  NaN        NaN   \n",
       "3  https://www.overstock.com/Worldstock-Fair-Trad...  NaN  NaN        NaN   \n",
       "4  https://www.overstock.com/Worldstock-Fair-Trad...  NaN  NaN        NaN   \n",
       "5  https://www.overstock.com/Worldstock-Fair-Trad...  NaN  NaN        NaN   \n",
       "\n",
       "0 weight  \n",
       "1    NaN  \n",
       "2    NaN  \n",
       "3    NaN  \n",
       "4    NaN  \n",
       "5    NaN  \n",
       "\n",
       "[5 rows x 48 columns]"
      ]
     },
     "execution_count": 29,
     "metadata": {},
     "output_type": "execute_result"
    }
   ],
   "source": [
    "shoe.head()"
   ]
  },
  {
   "cell_type": "code",
   "execution_count": 30,
   "metadata": {},
   "outputs": [
    {
     "data": {
      "text/plain": [
       "Index([u'id', u'asins', u'brand', u'categories', u'colors', u'count',\n",
       "       u'dateAdded', u'dateUpdated', u'descriptions', u'dimension', u'ean',\n",
       "       u'features', u'flavors', u'imageURLs', u'isbn', u'keys',\n",
       "       u'manufacturer', u'manufacturerNumber', u'merchants', u'name',\n",
       "       u'prices.amountMin', u'prices.amountMax', u'prices.availability',\n",
       "       u'prices.color', u'prices.condition', u'prices.count',\n",
       "       u'prices.currency', u'prices.dateAdded', u'prices.dateSeen',\n",
       "       u'prices.flavor', u'prices.isSale', u'prices.merchant', u'prices.offer',\n",
       "       u'prices.returnPolicy', u'prices.shipping', u'prices.size',\n",
       "       u'prices.source', u'prices.sourceURLs', u'prices.warranty',\n",
       "       u'quantities', u'reviews', u'sizes', u'skus', u'sourceURLs', u'upc',\n",
       "       u'vin', u'websiteIDs', u'weight'],\n",
       "      dtype='object', name=0)"
      ]
     },
     "execution_count": 30,
     "metadata": {},
     "output_type": "execute_result"
    }
   ],
   "source": [
    "shoe.columns"
   ]
  },
  {
   "cell_type": "code",
   "execution_count": 31,
   "metadata": {},
   "outputs": [
    {
     "data": {
      "text/plain": [
       "Nike                              1952\n",
       "Ralph Lauren                      1507\n",
       "Journee Collection                1401\n",
       "Propet                             861\n",
       "Skechers                           810\n",
       "Novica                             574\n",
       "VANS                               506\n",
       "New Balance                        502\n",
       "TOMS                               491\n",
       "Easy Spirit                        487\n",
       "PUMA                               469\n",
       "Drew                               407\n",
       "Soft Style                         365\n",
       "Rose Petals by Walking Cradles     359\n",
       "Aerosoles                          356\n",
       "Naturalizer                        354\n",
       "In-Sattva                          332\n",
       "David Tate                         330\n",
       "Nine West                          328\n",
       "SoftWalk                           320\n",
       "Reebok                             303\n",
       "Dyeables                           301\n",
       "Nature Breeze                      301\n",
       "Lugz                               283\n",
       "Trotters                           277\n",
       "Name: brand, dtype: int64"
      ]
     },
     "execution_count": 31,
     "metadata": {},
     "output_type": "execute_result"
    }
   ],
   "source": [
    "shoe.brand.value_counts()[:25]"
   ]
  },
  {
   "cell_type": "code",
   "execution_count": 32,
   "metadata": {
    "collapsed": true
   },
   "outputs": [],
   "source": [
    "sneak = shoe[(shoe.brand == 'Nike') | (shoe.brand == 'PUMA') |(shoe.brand == 'New Balance') |(shoe.brand == 'Reebok') |(shoe.brand == 'adidas') |(shoe.brand == 'Jordan') |(shoe.brand == 'ASICS') |(shoe.brand == 'Under Armour') | (shoe.brand == 'Converse')]"
   ]
  },
  {
   "cell_type": "code",
   "execution_count": 33,
   "metadata": {
    "collapsed": true
   },
   "outputs": [],
   "source": [
    "sneak.reset_index(drop = True, inplace=True)"
   ]
  },
  {
   "cell_type": "code",
   "execution_count": 34,
   "metadata": {},
   "outputs": [
    {
     "name": "stderr",
     "output_type": "stream",
     "text": [
      "C:\\Users\\Chris\\Anaconda3\\envs\\python2\\lib\\site-packages\\ipykernel_launcher.py:5: SettingWithCopyWarning: \n",
      "A value is trying to be set on a copy of a slice from a DataFrame\n",
      "\n",
      "See the caveats in the documentation: http://pandas.pydata.org/pandas-docs/stable/indexing.html#indexing-view-versus-copy\n",
      "  \"\"\"\n"
     ]
    }
   ],
   "source": [
    "sneak.drop(['id', 'asins', 'descriptions', 'reviews', 'skus', 'upc', 'categories', 'dimension', 'ean', \n",
    "            'imageURLs', 'isbn', 'keys', 'sourceURLs', 'vin', 'features', 'websiteIDs', 'weight',\n",
    "           'prices.availability', 'prices.flavor', 'prices.size', 'prices.source', 'prices.warranty',\n",
    "           'quantities', 'websiteIDs', 'count', 'flavors', 'prices.count',\n",
    "           'manufacturerNumber'], axis=1, inplace=True)"
   ]
  },
  {
   "cell_type": "code",
   "execution_count": 35,
   "metadata": {},
   "outputs": [
    {
     "data": {
      "text/html": [
       "<div>\n",
       "<table border=\"1\" class=\"dataframe\">\n",
       "  <thead>\n",
       "    <tr style=\"text-align: right;\">\n",
       "      <th></th>\n",
       "      <th>brand</th>\n",
       "      <th>colors</th>\n",
       "      <th>dateAdded</th>\n",
       "      <th>dateUpdated</th>\n",
       "      <th>manufacturer</th>\n",
       "      <th>merchants</th>\n",
       "      <th>name</th>\n",
       "      <th>prices.amountMin</th>\n",
       "      <th>prices.amountMax</th>\n",
       "      <th>prices.color</th>\n",
       "      <th>...</th>\n",
       "      <th>prices.currency</th>\n",
       "      <th>prices.dateAdded</th>\n",
       "      <th>prices.dateSeen</th>\n",
       "      <th>prices.isSale</th>\n",
       "      <th>prices.merchant</th>\n",
       "      <th>prices.offer</th>\n",
       "      <th>prices.returnPolicy</th>\n",
       "      <th>prices.shipping</th>\n",
       "      <th>prices.sourceURLs</th>\n",
       "      <th>sizes</th>\n",
       "    </tr>\n",
       "  </thead>\n",
       "  <tbody>\n",
       "    <tr>\n",
       "      <th>0</th>\n",
       "      <td>Nike</td>\n",
       "      <td>NaN</td>\n",
       "      <td>2016-01-20T22:10:29Z</td>\n",
       "      <td>2016-01-26T23:33:37Z</td>\n",
       "      <td>NaN</td>\n",
       "      <td>NaN</td>\n",
       "      <td>Nike Women's Kaishi Running Shoes</td>\n",
       "      <td>59.98</td>\n",
       "      <td>70</td>\n",
       "      <td>NaN</td>\n",
       "      <td>...</td>\n",
       "      <td>USD</td>\n",
       "      <td>2016-01-20T22:10:29Z</td>\n",
       "      <td>2016-01-21T00:00:00Z</td>\n",
       "      <td>FALSE</td>\n",
       "      <td>NaN</td>\n",
       "      <td>NaN</td>\n",
       "      <td>NaN</td>\n",
       "      <td>NaN</td>\n",
       "      <td>http://www.sportsauthority.com/Nike-Womens-Kai...</td>\n",
       "      <td>NaN</td>\n",
       "    </tr>\n",
       "    <tr>\n",
       "      <th>1</th>\n",
       "      <td>ASICS</td>\n",
       "      <td>NaN</td>\n",
       "      <td>2016-01-23T19:07:15Z</td>\n",
       "      <td>2016-07-19T23:27:37Z</td>\n",
       "      <td>NaN</td>\n",
       "      <td>NaN</td>\n",
       "      <td>Asics Women's Gel-190 Tr Cross-training Shoes ...</td>\n",
       "      <td>79.99</td>\n",
       "      <td>79.99</td>\n",
       "      <td>NaN</td>\n",
       "      <td>...</td>\n",
       "      <td>USD</td>\n",
       "      <td>2016-01-23T19:07:15Z</td>\n",
       "      <td>2016-01-23T19:07:15Z</td>\n",
       "      <td>FALSE</td>\n",
       "      <td>NaN</td>\n",
       "      <td>NaN</td>\n",
       "      <td>NaN</td>\n",
       "      <td>NaN</td>\n",
       "      <td>http://www.sportsauthority.com/ASICS-Womens-GE...</td>\n",
       "      <td>NaN</td>\n",
       "    </tr>\n",
       "    <tr>\n",
       "      <th>2</th>\n",
       "      <td>ASICS</td>\n",
       "      <td>IRIDESCENTPINKCAPRI BLUE</td>\n",
       "      <td>2016-03-12T21:04:11Z</td>\n",
       "      <td>2016-05-06T12:32:31Z</td>\n",
       "      <td>NaN</td>\n",
       "      <td>[{\"dateSeen\":[\"2016-05-04T00:00:00Z\"],\"name\":\"...</td>\n",
       "      <td>Asics Gel-nimbus 16 Women's Us Sz 7 Iridescent...</td>\n",
       "      <td>159.99</td>\n",
       "      <td>159.99</td>\n",
       "      <td>NaN</td>\n",
       "      <td>...</td>\n",
       "      <td>USD</td>\n",
       "      <td>2016-03-12T21:04:11Z</td>\n",
       "      <td>2016-03-30T00:00:00Z</td>\n",
       "      <td>FALSE</td>\n",
       "      <td>NaN</td>\n",
       "      <td>winning bid</td>\n",
       "      <td>NaN</td>\n",
       "      <td>FREE</td>\n",
       "      <td>http://www.ebay.com/itm/ASICS-GEL-NIMBUS-16-WO...</td>\n",
       "      <td>7</td>\n",
       "    </tr>\n",
       "    <tr>\n",
       "      <th>3</th>\n",
       "      <td>ASICS</td>\n",
       "      <td>IRIDESCENTPINKCAPRI BLUE</td>\n",
       "      <td>2016-03-12T21:04:11Z</td>\n",
       "      <td>2016-05-06T12:32:31Z</td>\n",
       "      <td>NaN</td>\n",
       "      <td>[{\"dateSeen\":[\"2016-05-04T00:00:00Z\"],\"name\":\"...</td>\n",
       "      <td>Asics Gel-nimbus 16 Women's Us Sz 7 Iridescent...</td>\n",
       "      <td>99.99</td>\n",
       "      <td>99.99</td>\n",
       "      <td>NaN</td>\n",
       "      <td>...</td>\n",
       "      <td>USD</td>\n",
       "      <td>2016-03-12T21:04:11Z</td>\n",
       "      <td>2016-05-04T00:00:00Z</td>\n",
       "      <td>TRUE</td>\n",
       "      <td>brooklynajaysbrooklynajays - Ebay.com</td>\n",
       "      <td>winning bid</td>\n",
       "      <td>NaN</td>\n",
       "      <td>FREE</td>\n",
       "      <td>http://www.ebay.com/itm/ASICS-GEL-NIMBUS-16-WO...</td>\n",
       "      <td>7</td>\n",
       "    </tr>\n",
       "    <tr>\n",
       "      <th>4</th>\n",
       "      <td>PUMA</td>\n",
       "      <td>LimestoneSilverFluro Pink</td>\n",
       "      <td>2016-11-07T18:57:16Z</td>\n",
       "      <td>2016-11-07T18:57:16Z</td>\n",
       "      <td>NaN</td>\n",
       "      <td>[{\"dateSeen\":[\"2016-11-07T18:57:16Z\"],\"name\":\"...</td>\n",
       "      <td>Puma Axel Ballet Metallic Women's Shoes Size</td>\n",
       "      <td>59.9</td>\n",
       "      <td>59.9</td>\n",
       "      <td>NaN</td>\n",
       "      <td>...</td>\n",
       "      <td>USD</td>\n",
       "      <td>2016-11-07T18:57:16Z</td>\n",
       "      <td>2016-11-07T00:00:00Z</td>\n",
       "      <td>FALSE</td>\n",
       "      <td>Shoenerds - Walmart.com</td>\n",
       "      <td>NaN</td>\n",
       "      <td>NaN</td>\n",
       "      <td>NaN</td>\n",
       "      <td>https://www.walmart.com/ip/Puma-Axel-Ballet-Me...</td>\n",
       "      <td>7.5</td>\n",
       "    </tr>\n",
       "  </tbody>\n",
       "</table>\n",
       "<p>5 rows × 21 columns</p>\n",
       "</div>"
      ],
      "text/plain": [
       "0  brand                     colors             dateAdded  \\\n",
       "0   Nike                        NaN  2016-01-20T22:10:29Z   \n",
       "1  ASICS                        NaN  2016-01-23T19:07:15Z   \n",
       "2  ASICS   IRIDESCENTPINKCAPRI BLUE  2016-03-12T21:04:11Z   \n",
       "3  ASICS   IRIDESCENTPINKCAPRI BLUE  2016-03-12T21:04:11Z   \n",
       "4   PUMA  LimestoneSilverFluro Pink  2016-11-07T18:57:16Z   \n",
       "\n",
       "0           dateUpdated manufacturer  \\\n",
       "0  2016-01-26T23:33:37Z          NaN   \n",
       "1  2016-07-19T23:27:37Z          NaN   \n",
       "2  2016-05-06T12:32:31Z          NaN   \n",
       "3  2016-05-06T12:32:31Z          NaN   \n",
       "4  2016-11-07T18:57:16Z          NaN   \n",
       "\n",
       "0                                          merchants  \\\n",
       "0                                                NaN   \n",
       "1                                                NaN   \n",
       "2  [{\"dateSeen\":[\"2016-05-04T00:00:00Z\"],\"name\":\"...   \n",
       "3  [{\"dateSeen\":[\"2016-05-04T00:00:00Z\"],\"name\":\"...   \n",
       "4  [{\"dateSeen\":[\"2016-11-07T18:57:16Z\"],\"name\":\"...   \n",
       "\n",
       "0                                               name prices.amountMin  \\\n",
       "0                  Nike Women's Kaishi Running Shoes            59.98   \n",
       "1  Asics Women's Gel-190 Tr Cross-training Shoes ...            79.99   \n",
       "2  Asics Gel-nimbus 16 Women's Us Sz 7 Iridescent...           159.99   \n",
       "3  Asics Gel-nimbus 16 Women's Us Sz 7 Iridescent...            99.99   \n",
       "4       Puma Axel Ballet Metallic Women's Shoes Size             59.9   \n",
       "\n",
       "0 prices.amountMax prices.color  ...  prices.currency      prices.dateAdded  \\\n",
       "0               70          NaN  ...              USD  2016-01-20T22:10:29Z   \n",
       "1            79.99          NaN  ...              USD  2016-01-23T19:07:15Z   \n",
       "2           159.99          NaN  ...              USD  2016-03-12T21:04:11Z   \n",
       "3            99.99          NaN  ...              USD  2016-03-12T21:04:11Z   \n",
       "4             59.9          NaN  ...              USD  2016-11-07T18:57:16Z   \n",
       "\n",
       "0       prices.dateSeen prices.isSale                        prices.merchant  \\\n",
       "0  2016-01-21T00:00:00Z         FALSE                                    NaN   \n",
       "1  2016-01-23T19:07:15Z         FALSE                                    NaN   \n",
       "2  2016-03-30T00:00:00Z         FALSE                                    NaN   \n",
       "3  2016-05-04T00:00:00Z          TRUE  brooklynajaysbrooklynajays - Ebay.com   \n",
       "4  2016-11-07T00:00:00Z         FALSE                Shoenerds - Walmart.com   \n",
       "\n",
       "0 prices.offer prices.returnPolicy prices.shipping  \\\n",
       "0          NaN                 NaN             NaN   \n",
       "1          NaN                 NaN             NaN   \n",
       "2  winning bid                 NaN            FREE   \n",
       "3  winning bid                 NaN            FREE   \n",
       "4          NaN                 NaN             NaN   \n",
       "\n",
       "0                                  prices.sourceURLs sizes  \n",
       "0  http://www.sportsauthority.com/Nike-Womens-Kai...   NaN  \n",
       "1  http://www.sportsauthority.com/ASICS-Womens-GE...   NaN  \n",
       "2  http://www.ebay.com/itm/ASICS-GEL-NIMBUS-16-WO...     7  \n",
       "3  http://www.ebay.com/itm/ASICS-GEL-NIMBUS-16-WO...     7  \n",
       "4  https://www.walmart.com/ip/Puma-Axel-Ballet-Me...   7.5  \n",
       "\n",
       "[5 rows x 21 columns]"
      ]
     },
     "execution_count": 35,
     "metadata": {},
     "output_type": "execute_result"
    }
   ],
   "source": [
    "sneak.head()"
   ]
  },
  {
   "cell_type": "code",
   "execution_count": 36,
   "metadata": {},
   "outputs": [
    {
     "data": {
      "text/plain": [
       "(4063, 21)"
      ]
     },
     "execution_count": 36,
     "metadata": {},
     "output_type": "execute_result"
    }
   ],
   "source": [
    "sneak.shape"
   ]
  },
  {
   "cell_type": "code",
   "execution_count": 37,
   "metadata": {
    "collapsed": true
   },
   "outputs": [],
   "source": [
    "val_count = {}\n",
    "for i in sneak.columns:\n",
    "    val_count[i] = sneak[i].value_counts().max()"
   ]
  },
  {
   "cell_type": "code",
   "execution_count": 38,
   "metadata": {},
   "outputs": [
    {
     "data": {
      "text/plain": [
       "{'brand': 1952,\n",
       " 'colors': 432,\n",
       " 'dateAdded': 24,\n",
       " 'dateUpdated': 140,\n",
       " 'manufacturer': 699,\n",
       " 'merchants': 20,\n",
       " 'name': 24,\n",
       " 'prices.amountMax': 92,\n",
       " 'prices.amountMin': 99,\n",
       " 'prices.color': 123,\n",
       " 'prices.condition': 2006,\n",
       " 'prices.currency': 4025,\n",
       " 'prices.dateAdded': 95,\n",
       " 'prices.dateSeen': 341,\n",
       " 'prices.isSale': 2750,\n",
       " 'prices.merchant': 784,\n",
       " 'prices.offer': 383,\n",
       " 'prices.returnPolicy': 59,\n",
       " 'prices.shipping': 444,\n",
       " 'prices.sourceURLs': 19,\n",
       " 'sizes': 145}"
      ]
     },
     "execution_count": 38,
     "metadata": {},
     "output_type": "execute_result"
    }
   ],
   "source": [
    "val_count"
   ]
  }
 ],
 "metadata": {
  "kernelspec": {
   "display_name": "Python 2",
   "language": "python",
   "name": "python2"
  },
  "language_info": {
   "codemirror_mode": {
    "name": "ipython",
    "version": 2
   },
   "file_extension": ".py",
   "mimetype": "text/x-python",
   "name": "python",
   "nbconvert_exporter": "python",
   "pygments_lexer": "ipython2",
   "version": "2.7.13"
  }
 },
 "nbformat": 4,
 "nbformat_minor": 2
}
