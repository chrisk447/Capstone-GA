{
 "cells": [
  {
   "cell_type": "code",
   "execution_count": 116,
   "metadata": {
    "collapsed": true
   },
   "outputs": [],
   "source": [
    "import pandas as pd"
   ]
  },
  {
   "cell_type": "code",
   "execution_count": 117,
   "metadata": {},
   "outputs": [],
   "source": [
    "shoe = pd.read_csv('7004_2.csv', sep=',', header=None, error_bad_lines=False)"
   ]
  },
  {
   "cell_type": "code",
   "execution_count": 118,
   "metadata": {},
   "outputs": [],
   "source": [
    "shoe.columns = shoe.iloc[0,:]"
   ]
  },
  {
   "cell_type": "code",
   "execution_count": 119,
   "metadata": {},
   "outputs": [],
   "source": [
    "shoe.drop(0, inplace=True)"
   ]
  },
  {
   "cell_type": "code",
   "execution_count": 120,
   "metadata": {},
   "outputs": [
    {
     "data": {
      "text/plain": [
       "(19387, 48)"
      ]
     },
     "execution_count": 120,
     "metadata": {},
     "output_type": "execute_result"
    }
   ],
   "source": [
    "shoe.shape"
   ]
  },
  {
   "cell_type": "code",
   "execution_count": 121,
   "metadata": {},
   "outputs": [
    {
     "data": {
      "text/plain": [
       "Index([u'id', u'asins', u'brand', u'categories', u'colors', u'count',\n",
       "       u'dateAdded', u'dateUpdated', u'descriptions', u'dimension', u'ean',\n",
       "       u'features', u'flavors', u'imageURLs', u'isbn', u'keys',\n",
       "       u'manufacturer', u'manufacturerNumber', u'merchants', u'name',\n",
       "       u'prices.amountMin', u'prices.amountMax', u'prices.availability',\n",
       "       u'prices.color', u'prices.condition', u'prices.count',\n",
       "       u'prices.currency', u'prices.dateAdded', u'prices.dateSeen',\n",
       "       u'prices.flavor', u'prices.isSale', u'prices.merchant', u'prices.offer',\n",
       "       u'prices.returnPolicy', u'prices.shipping', u'prices.size',\n",
       "       u'prices.source', u'prices.sourceURLs', u'prices.warranty',\n",
       "       u'quantities', u'reviews', u'sizes', u'skus', u'sourceURLs', u'upc',\n",
       "       u'vin', u'websiteIDs', u'weight'],\n",
       "      dtype='object', name=0)"
      ]
     },
     "execution_count": 121,
     "metadata": {},
     "output_type": "execute_result"
    }
   ],
   "source": [
    "shoe.columns"
   ]
  },
  {
   "cell_type": "code",
   "execution_count": 122,
   "metadata": {},
   "outputs": [
    {
     "data": {
      "text/plain": [
       "Nike                           1710\n",
       "Ralph Lauren                    697\n",
       "PUMA                            574\n",
       "New Balance                     361\n",
       "VANS                            356\n",
       "Reebok                          275\n",
       "adidas                          205\n",
       "Jordan                          197\n",
       "Superior Glove Works            187\n",
       "Fossa Apparel                   174\n",
       "Fuse Lenses                     174\n",
       "Converse                        152\n",
       "SKECHERS                        149\n",
       "Dickies                         144\n",
       "Unique Bargains                 142\n",
       "Unbranded                       135\n",
       "Crocs                           120\n",
       "Berne Apparel                   116\n",
       "TOMS                            115\n",
       "Kinco                           110\n",
       "National Safety Apparel Inc     107\n",
       "Gameday Boots                   103\n",
       "ASICS                           102\n",
       "Under Armour                    100\n",
       "Stacy Adams                      98\n",
       "Name: brand, dtype: int64"
      ]
     },
     "execution_count": 122,
     "metadata": {},
     "output_type": "execute_result"
    }
   ],
   "source": [
    "shoe.brand.value_counts()[:25]"
   ]
  },
  {
   "cell_type": "code",
   "execution_count": 123,
   "metadata": {},
   "outputs": [],
   "source": [
    "sneak = shoe[(shoe.brand == 'Nike') | (shoe.brand == 'PUMA') |(shoe.brand == 'New Balance') |(shoe.brand == 'Reebok') |(shoe.brand == 'adidas') |(shoe.brand == 'Jordan') |(shoe.brand == 'ASICS') |(shoe.brand == 'Under Armour') | (shoe.brand == 'Converse')]"
   ]
  },
  {
   "cell_type": "code",
   "execution_count": 124,
   "metadata": {},
   "outputs": [],
   "source": [
    "sneak.reset_index(drop = True, inplace=True)"
   ]
  },
  {
   "cell_type": "code",
   "execution_count": 131,
   "metadata": {},
   "outputs": [
    {
     "ename": "ValueError",
     "evalue": "labels ['id' 'asins' 'descriptions' 'reviews' 'skus' 'upc' 'categories'\n 'dimension' 'ean' 'imageURLs' 'isbn' 'keys' 'sourceURLs' 'vin' 'features'\n 'websiteIDs' 'weight' 'prices.availability' 'prices.flavor' 'prices.size'\n 'prices.source' 'prices.warranty' 'quantities' 'websiteIDs' 'count'\n 'flavors' 'prices.count'] not contained in axis",
     "output_type": "error",
     "traceback": [
      "\u001b[1;31m---------------------------------------------------------------------------\u001b[0m",
      "\u001b[1;31mValueError\u001b[0m                                Traceback (most recent call last)",
      "\u001b[1;32m<ipython-input-131-6587f1118f09>\u001b[0m in \u001b[0;36m<module>\u001b[1;34m()\u001b[0m\n\u001b[0;32m      3\u001b[0m            \u001b[1;34m'prices.availability'\u001b[0m\u001b[1;33m,\u001b[0m \u001b[1;34m'prices.flavor'\u001b[0m\u001b[1;33m,\u001b[0m \u001b[1;34m'prices.size'\u001b[0m\u001b[1;33m,\u001b[0m \u001b[1;34m'prices.source'\u001b[0m\u001b[1;33m,\u001b[0m \u001b[1;34m'prices.warranty'\u001b[0m\u001b[1;33m,\u001b[0m\u001b[1;33m\u001b[0m\u001b[0m\n\u001b[0;32m      4\u001b[0m            \u001b[1;34m'quantities'\u001b[0m\u001b[1;33m,\u001b[0m \u001b[1;34m'websiteIDs'\u001b[0m\u001b[1;33m,\u001b[0m \u001b[1;34m'count'\u001b[0m\u001b[1;33m,\u001b[0m \u001b[1;34m'flavors'\u001b[0m\u001b[1;33m,\u001b[0m \u001b[1;34m'prices.count'\u001b[0m\u001b[1;33m,\u001b[0m\u001b[1;33m\u001b[0m\u001b[0m\n\u001b[1;32m----> 5\u001b[1;33m            'manufacturerNumber'], axis=1, inplace=True)\n\u001b[0m",
      "\u001b[1;32mC:\\Users\\Chris\\Anaconda3\\envs\\python2\\lib\\site-packages\\pandas\\core\\generic.pyc\u001b[0m in \u001b[0;36mdrop\u001b[1;34m(self, labels, axis, level, inplace, errors)\u001b[0m\n\u001b[0;32m   1905\u001b[0m                 \u001b[0mnew_axis\u001b[0m \u001b[1;33m=\u001b[0m \u001b[0maxis\u001b[0m\u001b[1;33m.\u001b[0m\u001b[0mdrop\u001b[0m\u001b[1;33m(\u001b[0m\u001b[0mlabels\u001b[0m\u001b[1;33m,\u001b[0m \u001b[0mlevel\u001b[0m\u001b[1;33m=\u001b[0m\u001b[0mlevel\u001b[0m\u001b[1;33m,\u001b[0m \u001b[0merrors\u001b[0m\u001b[1;33m=\u001b[0m\u001b[0merrors\u001b[0m\u001b[1;33m)\u001b[0m\u001b[1;33m\u001b[0m\u001b[0m\n\u001b[0;32m   1906\u001b[0m             \u001b[1;32melse\u001b[0m\u001b[1;33m:\u001b[0m\u001b[1;33m\u001b[0m\u001b[0m\n\u001b[1;32m-> 1907\u001b[1;33m                 \u001b[0mnew_axis\u001b[0m \u001b[1;33m=\u001b[0m \u001b[0maxis\u001b[0m\u001b[1;33m.\u001b[0m\u001b[0mdrop\u001b[0m\u001b[1;33m(\u001b[0m\u001b[0mlabels\u001b[0m\u001b[1;33m,\u001b[0m \u001b[0merrors\u001b[0m\u001b[1;33m=\u001b[0m\u001b[0merrors\u001b[0m\u001b[1;33m)\u001b[0m\u001b[1;33m\u001b[0m\u001b[0m\n\u001b[0m\u001b[0;32m   1908\u001b[0m             \u001b[0mdropped\u001b[0m \u001b[1;33m=\u001b[0m \u001b[0mself\u001b[0m\u001b[1;33m.\u001b[0m\u001b[0mreindex\u001b[0m\u001b[1;33m(\u001b[0m\u001b[1;33m**\u001b[0m\u001b[1;33m{\u001b[0m\u001b[0maxis_name\u001b[0m\u001b[1;33m:\u001b[0m \u001b[0mnew_axis\u001b[0m\u001b[1;33m}\u001b[0m\u001b[1;33m)\u001b[0m\u001b[1;33m\u001b[0m\u001b[0m\n\u001b[0;32m   1909\u001b[0m             \u001b[1;32mtry\u001b[0m\u001b[1;33m:\u001b[0m\u001b[1;33m\u001b[0m\u001b[0m\n",
      "\u001b[1;32mC:\\Users\\Chris\\Anaconda3\\envs\\python2\\lib\\site-packages\\pandas\\indexes\\base.pyc\u001b[0m in \u001b[0;36mdrop\u001b[1;34m(self, labels, errors)\u001b[0m\n\u001b[0;32m   3260\u001b[0m             \u001b[1;32mif\u001b[0m \u001b[0merrors\u001b[0m \u001b[1;33m!=\u001b[0m \u001b[1;34m'ignore'\u001b[0m\u001b[1;33m:\u001b[0m\u001b[1;33m\u001b[0m\u001b[0m\n\u001b[0;32m   3261\u001b[0m                 raise ValueError('labels %s not contained in axis' %\n\u001b[1;32m-> 3262\u001b[1;33m                                  labels[mask])\n\u001b[0m\u001b[0;32m   3263\u001b[0m             \u001b[0mindexer\u001b[0m \u001b[1;33m=\u001b[0m \u001b[0mindexer\u001b[0m\u001b[1;33m[\u001b[0m\u001b[1;33m~\u001b[0m\u001b[0mmask\u001b[0m\u001b[1;33m]\u001b[0m\u001b[1;33m\u001b[0m\u001b[0m\n\u001b[0;32m   3264\u001b[0m         \u001b[1;32mreturn\u001b[0m \u001b[0mself\u001b[0m\u001b[1;33m.\u001b[0m\u001b[0mdelete\u001b[0m\u001b[1;33m(\u001b[0m\u001b[0mindexer\u001b[0m\u001b[1;33m)\u001b[0m\u001b[1;33m\u001b[0m\u001b[0m\n",
      "\u001b[1;31mValueError\u001b[0m: labels ['id' 'asins' 'descriptions' 'reviews' 'skus' 'upc' 'categories'\n 'dimension' 'ean' 'imageURLs' 'isbn' 'keys' 'sourceURLs' 'vin' 'features'\n 'websiteIDs' 'weight' 'prices.availability' 'prices.flavor' 'prices.size'\n 'prices.source' 'prices.warranty' 'quantities' 'websiteIDs' 'count'\n 'flavors' 'prices.count'] not contained in axis"
     ]
    }
   ],
   "source": [
    "sneak.drop(['id', 'asins', 'descriptions', 'reviews', 'skus', 'upc', 'categories', 'dimension', 'ean', \n",
    "            'imageURLs', 'isbn', 'keys', 'sourceURLs', 'vin', 'features', 'websiteIDs', 'weight',\n",
    "           'prices.availability', 'prices.flavor', 'prices.size', 'prices.source', 'prices.warranty',\n",
    "           'quantities', 'websiteIDs', 'count', 'flavors', 'prices.count',\n",
    "           'manufacturerNumber'], axis=1, inplace=True)"
   ]
  },
  {
   "cell_type": "code",
   "execution_count": 129,
   "metadata": {},
   "outputs": [
    {
     "data": {
      "text/html": [
       "<div>\n",
       "<table border=\"1\" class=\"dataframe\">\n",
       "  <thead>\n",
       "    <tr style=\"text-align: right;\">\n",
       "      <th></th>\n",
       "      <th>brand</th>\n",
       "      <th>colors</th>\n",
       "      <th>dateAdded</th>\n",
       "      <th>dateUpdated</th>\n",
       "      <th>manufacturer</th>\n",
       "      <th>manufacturerNumber</th>\n",
       "      <th>merchants</th>\n",
       "      <th>name</th>\n",
       "      <th>prices.amountMin</th>\n",
       "      <th>prices.amountMax</th>\n",
       "      <th>...</th>\n",
       "      <th>prices.currency</th>\n",
       "      <th>prices.dateAdded</th>\n",
       "      <th>prices.dateSeen</th>\n",
       "      <th>prices.isSale</th>\n",
       "      <th>prices.merchant</th>\n",
       "      <th>prices.offer</th>\n",
       "      <th>prices.returnPolicy</th>\n",
       "      <th>prices.shipping</th>\n",
       "      <th>prices.sourceURLs</th>\n",
       "      <th>sizes</th>\n",
       "    </tr>\n",
       "  </thead>\n",
       "  <tbody>\n",
       "    <tr>\n",
       "      <th>0</th>\n",
       "      <td>PUMA</td>\n",
       "      <td>NaN</td>\n",
       "      <td>2016-11-11T09:50:34Z</td>\n",
       "      <td>2016-11-11T09:50:34Z</td>\n",
       "      <td>Puma</td>\n",
       "      <td>360999 01</td>\n",
       "      <td>[{\"dateSeen\":[\"2016-11-11T09:50:34Z\"],\"name\":\"...</td>\n",
       "      <td>Puma X Rise Blaze of Glory   Round Toe Leather...</td>\n",
       "      <td>86.98</td>\n",
       "      <td>86.98</td>\n",
       "      <td>...</td>\n",
       "      <td>USD</td>\n",
       "      <td>2016-11-11T09:50:34Z</td>\n",
       "      <td>2016-11-09T00:00:00Z</td>\n",
       "      <td>TRUE</td>\n",
       "      <td>NaN</td>\n",
       "      <td>REDUCED USD 62.02</td>\n",
       "      <td>NaN</td>\n",
       "      <td>NaN</td>\n",
       "      <td>https://www.walmart.com/ip/Puma-x-Rise-Blaze-o...</td>\n",
       "      <td>10,10.5,11,11.5,12,13,8,8.5,9,9.5</td>\n",
       "    </tr>\n",
       "    <tr>\n",
       "      <th>1</th>\n",
       "      <td>PUMA</td>\n",
       "      <td>NaN</td>\n",
       "      <td>2016-11-11T09:50:34Z</td>\n",
       "      <td>2016-11-11T09:50:34Z</td>\n",
       "      <td>Puma</td>\n",
       "      <td>360999 01</td>\n",
       "      <td>[{\"dateSeen\":[\"2016-11-11T09:50:34Z\"],\"name\":\"...</td>\n",
       "      <td>Puma X Rise Blaze of Glory   Round Toe Leather...</td>\n",
       "      <td>149</td>\n",
       "      <td>149</td>\n",
       "      <td>...</td>\n",
       "      <td>USD</td>\n",
       "      <td>2016-11-11T09:50:34Z</td>\n",
       "      <td>2016-11-09T00:00:00Z</td>\n",
       "      <td>FALSE</td>\n",
       "      <td>ApparelSave - Walmart.com</td>\n",
       "      <td>REDUCED USD 62.02</td>\n",
       "      <td>NaN</td>\n",
       "      <td>NaN</td>\n",
       "      <td>https://www.walmart.com/ip/Puma-x-Rise-Blaze-o...</td>\n",
       "      <td>10,10.5,11,11.5,12,13,8,8.5,9,9.5</td>\n",
       "    </tr>\n",
       "    <tr>\n",
       "      <th>2</th>\n",
       "      <td>adidas</td>\n",
       "      <td>Black</td>\n",
       "      <td>2016-03-04T05:29:39Z</td>\n",
       "      <td>2016-03-04T05:29:39Z</td>\n",
       "      <td>NaN</td>\n",
       "      <td>NaN</td>\n",
       "      <td>[{\"dateSeen\":[\"2016-02-27T00:00:00Z\"],\"name\":\"...</td>\n",
       "      <td>New Mens Adidas Ts Bounce Commander Black Bask...</td>\n",
       "      <td>14.99</td>\n",
       "      <td>14.99</td>\n",
       "      <td>...</td>\n",
       "      <td>USD</td>\n",
       "      <td>2016-03-04T05:29:39Z</td>\n",
       "      <td>2016-02-27T00:00:00Z</td>\n",
       "      <td>FALSE</td>\n",
       "      <td>NaN</td>\n",
       "      <td>winning bid</td>\n",
       "      <td>NaN</td>\n",
       "      <td>NaN</td>\n",
       "      <td>http://www.ebay.com/itm/NEW-MENS-ADIDAS-TS-BOU...</td>\n",
       "      <td>11.5</td>\n",
       "    </tr>\n",
       "    <tr>\n",
       "      <th>3</th>\n",
       "      <td>PUMA</td>\n",
       "      <td>White</td>\n",
       "      <td>2017-01-07T20:51:20Z</td>\n",
       "      <td>2017-01-07T20:51:20Z</td>\n",
       "      <td>Puma</td>\n",
       "      <td>353572 45</td>\n",
       "      <td>[{\"dateSeen\":[\"2017-01-07T20:51:20Z\"],\"name\":\"...</td>\n",
       "      <td>Puma Roma Basic Men  Round Toe Canvas White Ru...</td>\n",
       "      <td>56.99</td>\n",
       "      <td>56.99</td>\n",
       "      <td>...</td>\n",
       "      <td>USD</td>\n",
       "      <td>2017-01-07T20:51:20Z</td>\n",
       "      <td>2017-01-05T00:00:00Z</td>\n",
       "      <td>TRUE</td>\n",
       "      <td>NaN</td>\n",
       "      <td>REDUCED USD 8.01</td>\n",
       "      <td>NaN</td>\n",
       "      <td>NaN</td>\n",
       "      <td>https://www.walmart.com/ip/Puma-Roma-Ripstop-M...</td>\n",
       "      <td>10.5,11.5</td>\n",
       "    </tr>\n",
       "    <tr>\n",
       "      <th>4</th>\n",
       "      <td>PUMA</td>\n",
       "      <td>White</td>\n",
       "      <td>2017-01-07T20:51:20Z</td>\n",
       "      <td>2017-01-07T20:51:20Z</td>\n",
       "      <td>Puma</td>\n",
       "      <td>353572 45</td>\n",
       "      <td>[{\"dateSeen\":[\"2017-01-07T20:51:20Z\"],\"name\":\"...</td>\n",
       "      <td>Puma Roma Basic Men  Round Toe Canvas White Ru...</td>\n",
       "      <td>51.99</td>\n",
       "      <td>51.99</td>\n",
       "      <td>...</td>\n",
       "      <td>USD</td>\n",
       "      <td>2017-01-07T20:51:20Z</td>\n",
       "      <td>2016-11-06T00:00:00Z</td>\n",
       "      <td>TRUE</td>\n",
       "      <td>NaN</td>\n",
       "      <td>REDUCED USD 13.01</td>\n",
       "      <td>NaN</td>\n",
       "      <td>NaN</td>\n",
       "      <td>https://www.walmart.com/ip/Puma-Roma-Ripstop-M...</td>\n",
       "      <td>10.5,11.5</td>\n",
       "    </tr>\n",
       "  </tbody>\n",
       "</table>\n",
       "<p>5 rows × 22 columns</p>\n",
       "</div>"
      ],
      "text/plain": [
       "0   brand colors             dateAdded           dateUpdated manufacturer  \\\n",
       "0    PUMA    NaN  2016-11-11T09:50:34Z  2016-11-11T09:50:34Z         Puma   \n",
       "1    PUMA    NaN  2016-11-11T09:50:34Z  2016-11-11T09:50:34Z         Puma   \n",
       "2  adidas  Black  2016-03-04T05:29:39Z  2016-03-04T05:29:39Z          NaN   \n",
       "3    PUMA  White  2017-01-07T20:51:20Z  2017-01-07T20:51:20Z         Puma   \n",
       "4    PUMA  White  2017-01-07T20:51:20Z  2017-01-07T20:51:20Z         Puma   \n",
       "\n",
       "0 manufacturerNumber                                          merchants  \\\n",
       "0          360999 01  [{\"dateSeen\":[\"2016-11-11T09:50:34Z\"],\"name\":\"...   \n",
       "1          360999 01  [{\"dateSeen\":[\"2016-11-11T09:50:34Z\"],\"name\":\"...   \n",
       "2                NaN  [{\"dateSeen\":[\"2016-02-27T00:00:00Z\"],\"name\":\"...   \n",
       "3          353572 45  [{\"dateSeen\":[\"2017-01-07T20:51:20Z\"],\"name\":\"...   \n",
       "4          353572 45  [{\"dateSeen\":[\"2017-01-07T20:51:20Z\"],\"name\":\"...   \n",
       "\n",
       "0                                               name prices.amountMin  \\\n",
       "0  Puma X Rise Blaze of Glory   Round Toe Leather...            86.98   \n",
       "1  Puma X Rise Blaze of Glory   Round Toe Leather...              149   \n",
       "2  New Mens Adidas Ts Bounce Commander Black Bask...            14.99   \n",
       "3  Puma Roma Basic Men  Round Toe Canvas White Ru...            56.99   \n",
       "4  Puma Roma Basic Men  Round Toe Canvas White Ru...            51.99   \n",
       "\n",
       "0 prices.amountMax                ...                 prices.currency  \\\n",
       "0            86.98                ...                             USD   \n",
       "1              149                ...                             USD   \n",
       "2            14.99                ...                             USD   \n",
       "3            56.99                ...                             USD   \n",
       "4            51.99                ...                             USD   \n",
       "\n",
       "0      prices.dateAdded       prices.dateSeen prices.isSale  \\\n",
       "0  2016-11-11T09:50:34Z  2016-11-09T00:00:00Z          TRUE   \n",
       "1  2016-11-11T09:50:34Z  2016-11-09T00:00:00Z         FALSE   \n",
       "2  2016-03-04T05:29:39Z  2016-02-27T00:00:00Z         FALSE   \n",
       "3  2017-01-07T20:51:20Z  2017-01-05T00:00:00Z          TRUE   \n",
       "4  2017-01-07T20:51:20Z  2016-11-06T00:00:00Z          TRUE   \n",
       "\n",
       "0            prices.merchant       prices.offer prices.returnPolicy  \\\n",
       "0                        NaN  REDUCED USD 62.02                 NaN   \n",
       "1  ApparelSave - Walmart.com  REDUCED USD 62.02                 NaN   \n",
       "2                        NaN        winning bid                 NaN   \n",
       "3                        NaN   REDUCED USD 8.01                 NaN   \n",
       "4                        NaN  REDUCED USD 13.01                 NaN   \n",
       "\n",
       "0 prices.shipping                                  prices.sourceURLs  \\\n",
       "0             NaN  https://www.walmart.com/ip/Puma-x-Rise-Blaze-o...   \n",
       "1             NaN  https://www.walmart.com/ip/Puma-x-Rise-Blaze-o...   \n",
       "2             NaN  http://www.ebay.com/itm/NEW-MENS-ADIDAS-TS-BOU...   \n",
       "3             NaN  https://www.walmart.com/ip/Puma-Roma-Ripstop-M...   \n",
       "4             NaN  https://www.walmart.com/ip/Puma-Roma-Ripstop-M...   \n",
       "\n",
       "0                              sizes  \n",
       "0  10,10.5,11,11.5,12,13,8,8.5,9,9.5  \n",
       "1  10,10.5,11,11.5,12,13,8,8.5,9,9.5  \n",
       "2                               11.5  \n",
       "3                          10.5,11.5  \n",
       "4                          10.5,11.5  \n",
       "\n",
       "[5 rows x 22 columns]"
      ]
     },
     "execution_count": 129,
     "metadata": {},
     "output_type": "execute_result"
    }
   ],
   "source": [
    "sneak.head()"
   ]
  },
  {
   "cell_type": "code",
   "execution_count": 130,
   "metadata": {},
   "outputs": [
    {
     "data": {
      "text/plain": [
       "(3676, 22)"
      ]
     },
     "execution_count": 130,
     "metadata": {},
     "output_type": "execute_result"
    }
   ],
   "source": [
    "sneak.shape"
   ]
  },
  {
   "cell_type": "code",
   "execution_count": 127,
   "metadata": {},
   "outputs": [],
   "source": [
    "val_count = {}\n",
    "for i in sneak.columns:\n",
    "    val_count[i] = sneak[i].value_counts().max()"
   ]
  },
  {
   "cell_type": "code",
   "execution_count": 128,
   "metadata": {},
   "outputs": [
    {
     "data": {
      "text/plain": [
       "{'brand': 1710,\n",
       " 'colors': 383,\n",
       " 'dateAdded': 24,\n",
       " 'dateUpdated': 24,\n",
       " 'manufacturer': 476,\n",
       " 'manufacturerNumber': 24,\n",
       " 'merchants': 22,\n",
       " 'name': 24,\n",
       " 'prices.amountMax': 98,\n",
       " 'prices.amountMin': 99,\n",
       " 'prices.color': 6,\n",
       " 'prices.condition': 1787,\n",
       " 'prices.currency': 3668,\n",
       " 'prices.dateAdded': 21,\n",
       " 'prices.dateSeen': 400,\n",
       " 'prices.isSale': 2806,\n",
       " 'prices.merchant': 582,\n",
       " 'prices.offer': 362,\n",
       " 'prices.returnPolicy': 15,\n",
       " 'prices.shipping': 514,\n",
       " 'prices.sourceURLs': 19,\n",
       " 'sizes': 152}"
      ]
     },
     "execution_count": 128,
     "metadata": {},
     "output_type": "execute_result"
    }
   ],
   "source": [
    "val_count"
   ]
  }
 ],
 "metadata": {
  "kernelspec": {
   "display_name": "Python 2",
   "language": "python",
   "name": "python2"
  },
  "language_info": {
   "codemirror_mode": {
    "name": "ipython",
    "version": 2
   },
   "file_extension": ".py",
   "mimetype": "text/x-python",
   "name": "python",
   "nbconvert_exporter": "python",
   "pygments_lexer": "ipython2",
   "version": "2.7.13"
  }
 },
 "nbformat": 4,
 "nbformat_minor": 2
}
