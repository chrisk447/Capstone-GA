{
 "cells": [
  {
   "cell_type": "markdown",
   "metadata": {},
   "source": [
    "# Capstone Project - Which Shoe is the Best for You?\n",
    "\n",
    "General Assembly passion project. Scrape or obtain data from resources online to develop a dataset to perform cleaning, EDA, and analysis on. Try to predict a model on common themes like: \n",
    "\n",
    "- Price\n",
    "- If item is in category A or B\n",
    "- Cluster and create groups\n",
    "- Recommender"
   ]
  },
  {
   "cell_type": "code",
   "execution_count": 255,
   "metadata": {
    "collapsed": true
   },
   "outputs": [],
   "source": [
    "# Import libraries\n",
    "import pandas as pd\n",
    "import numpy as np\n",
    "import urllib\n",
    "import seaborn as sns\n",
    "import matplotlib.pyplot as plt\n",
    "from bs4 import BeautifulSoup\n",
    "import requests\n",
    "from time import sleep, strftime\n",
    "import ast\n",
    "\n",
    "% matplotlib inline"
   ]
  },
  {
   "cell_type": "markdown",
   "metadata": {},
   "source": [
    "**Testing one website and finding appropriate keys**\n",
    "\n",
    "Then run again on page 2."
   ]
  },
  {
   "cell_type": "code",
   "execution_count": 2,
   "metadata": {
    "collapsed": true
   },
   "outputs": [],
   "source": [
    "result = requests.get('https://stockx.com/api/browse?page=1&category=152')\n",
    "json_res = result.json()\n",
    "\n",
    "# print json_res['Products'][0]['shortDescription']\n",
    "# print json_res['Products'][0]['retailPrice']"
   ]
  },
  {
   "cell_type": "code",
   "execution_count": 3,
   "metadata": {},
   "outputs": [
    {
     "name": "stdout",
     "output_type": "stream",
     "text": [
      "Air-Jordan-11-Retro-Low-Closing-Ceremony\n",
      "170\n"
     ]
    }
   ],
   "source": [
    "result = requests.get('https://stockx.com/api/browse?page=2&category=152')\n",
    "json_res = result.json()\n",
    "\n",
    "print json_res['Products'][0]['shortDescription']\n",
    "print json_res['Products'][0]['retailPrice']"
   ]
  },
  {
   "cell_type": "code",
   "execution_count": 4,
   "metadata": {},
   "outputs": [
    {
     "data": {
      "text/plain": [
       "{u'absChangePercentage': 0.076923,\n",
       " u'annualHigh': 350,\n",
       " u'annualLow': 125,\n",
       " u'averageDeadstockPrice': 248,\n",
       " u'averageDeadstockPriceRank': 39,\n",
       " u'changePercentage': 0.076923,\n",
       " u'changeValue': 15,\n",
       " u'createdAt': u'2016-07-25T20:32:38+00:00',\n",
       " u'deadstockRangeHigh': 249,\n",
       " u'deadstockRangeLow': 171,\n",
       " u'deadstockSold': 3653,\n",
       " u'deadstockSoldRank': 51,\n",
       " u'highestBid': 250,\n",
       " u'lastHighestBidTime': 1498241252,\n",
       " u'lastLowestAskTime': 1497887849,\n",
       " u'lastSale': 210,\n",
       " u'lastSaleDate': u'2017-06-23T17:51:36+00:00',\n",
       " u'lowestAsk': 180,\n",
       " u'pricePremium': 0.235,\n",
       " u'pricePremiumRank': 53,\n",
       " u'productId': 0,\n",
       " u'productUuid': u'960a5342-951c-4a89-be33-7d72749e92f8',\n",
       " u'salesLast72Hours': 36,\n",
       " u'salesLastPeriod': 0,\n",
       " u'salesThisPeriod': 36,\n",
       " u'skuUuid': None,\n",
       " u'updatedAt': 1498240991,\n",
       " u'volatility': 0.184852}"
      ]
     },
     "execution_count": 4,
     "metadata": {},
     "output_type": "execute_result"
    }
   ],
   "source": [
    "json_res['Products'][0]['market']"
   ]
  },
  {
   "cell_type": "markdown",
   "metadata": {},
   "source": [
    "### Functions to run for loop to scrape website\n",
    "\n",
    "First function scrapes the web for an amount of pages (default 50). It will save the raw data as a csv as well. The second function will then clean the dataframe by taking out the unused columns."
   ]
  },
  {
   "cell_type": "code",
   "execution_count": 159,
   "metadata": {
    "collapsed": true
   },
   "outputs": [],
   "source": [
    "def shoe_scraper(pages=50):\n",
    "    '''Returns one dataframe of all results. \n",
    "    And will save into a new file.'''\n",
    "    \n",
    "    # Have to run requests first to get appropriate column names\n",
    "    req = requests.get('https://stockx.com/api/browse?page=1&category=152')\n",
    "    json_req = req.json()\n",
    "    df = pd.DataFrame([], columns=json_req['Products'][0].keys())\n",
    "\n",
    "    for i in range(1,pages):\n",
    "        try:\n",
    "            html = 'https://stockx.com/api/browse?page=' + str(int(i)) + '&category=152'\n",
    "            result = requests.get(html)\n",
    "            json_res = result.json()\n",
    "            df = pd.concat([df, pd.DataFrame(json_res['Products'])])\n",
    "            sleep(0.5)\n",
    "        except:\n",
    "            break\n",
    "    \n",
    "    # Drop row duplicates\n",
    "    df.drop_duplicates(['shortDescription', 'urlKey'], inplace=True) \n",
    "    \n",
    "    # Function to save as csv file under today's day as raw (before dropping)\n",
    "    def csv_maker(df):\n",
    "        filename = 'StockX_' + strftime(\"%m%d%H\")\n",
    "        df.to_csv(path_or_buf='C:\\\\Users\\\\Chris\\\\Desktop\\\\dsi-atl-3\\\\project\\\\Capstone\\\\datasets\\\\' + filename, encoding='utf-8')\n",
    "    \n",
    "    csv_maker(df)\n",
    "    \n",
    "    return df"
   ]
  },
  {
   "cell_type": "code",
   "execution_count": 329,
   "metadata": {},
   "outputs": [],
   "source": [
    "def clean_df(busy_dataframe):\n",
    "    '''Dropping columns that hold little to no information.\n",
    "    Then reset the index since we are getting repeated indices'''\n",
    "    \n",
    "    # Market DataFrame. If scraping, comes in ready form\n",
    "    # If pulling from old data, dictionary comes in string form\n",
    "    if isinstance(busy_dataframe.market.reset_index(drop=True)[0], str):\n",
    "        market_df = pd.DataFrame([ast.literal_eval(row) for row in busy_dataframe['market']])\n",
    "    else:\n",
    "        market_df = pd.DataFrame([row for row in busy_dataframe['market']])\n",
    "    \n",
    "    # Drop unnecessary columns\n",
    "    cleaner_dataframe = busy_dataframe.join(market_df)\n",
    "    \n",
    "    cleanest_dataframe = cleaner_dataframe.drop(['breadcrumbs', 'childId', 'countryOfManufacture', 'type', \n",
    "        'uuid', 'dataType', 'doppelgangers', 'condition', 'description', 'hidden', 'ipoDate', 'productCategory', \n",
    "        'shoeSize', 'urlKey', 'charityCondition', 'releaseTime', 'shortDescription', 'media', '_highlightResult', \n",
    "        'market', '_tags', 'id', 'objectID', 'lastHighestBidTime', 'lastLowestAskTime', 'styleId', 'productId',\n",
    "        'productUuid', 'skuUuid', 'updatedAt', 'traits', 'tickerSymbol', 'salesLastPeriod',\n",
    "        'minimumBid', 'averageDeadstockPriceRank', 'deadstockSoldRank', 'pricePremium', 'pricePremiumRank'], axis=1)\n",
    "    \n",
    "    # Remember title = shoe + name\n",
    "\n",
    "    # Reset the index, since we are getting repeated indices\n",
    "    \n",
    "    cleanest_dataframe.reset_index(drop=True, inplace=True)\n",
    "    return cleanest_dataframe"
   ]
  },
  {
   "cell_type": "code",
   "execution_count": null,
   "metadata": {
    "collapsed": true
   },
   "outputs": [],
   "source": [
    "scraped_shoe = shoe_scraper()"
   ]
  },
  {
   "cell_type": "code",
   "execution_count": 327,
   "metadata": {},
   "outputs": [],
   "source": [
    "def read_and_clean(path):\n",
    "    '''Read a file path where datasets are stored. Cleans the dataframe by\n",
    "    removing duplicates, removing first column (Unnamed: 0) to be ready for\n",
    "    clean_df function.'''\n",
    "    file_list = listdir(path)\n",
    "    file_list.remove('dataio')\n",
    "    \n",
    "    # Make a list of all the dataframes\n",
    "    parts_df = [pd.read_csv('../datasets/' + files) for files in file_list]\n",
    "    \n",
    "    # Make one dataframe, take out first column and drop duplicates based on 'urlkey'\n",
    "    df = pd.concat(parts_df)\n",
    "    df = df.iloc[:,1:]\n",
    "    df.drop_duplicates(['uuid'], inplace=True)\n",
    "    \n",
    "    # Clean Brand names\n",
    "    df.brand = df.brand.map(lambda x: x.title())\n",
    "    return df"
   ]
  },
  {
   "cell_type": "code",
   "execution_count": 330,
   "metadata": {},
   "outputs": [],
   "source": [
    "path = '../datasets/'\n",
    "\n",
    "shoe = clean_df(read_and_clean(filepath))"
   ]
  },
  {
   "cell_type": "code",
   "execution_count": 331,
   "metadata": {},
   "outputs": [
    {
     "data": {
      "text/plain": [
       "(1491, 26)"
      ]
     },
     "execution_count": 331,
     "metadata": {},
     "output_type": "execute_result"
    }
   ],
   "source": [
    "shoe.shape"
   ]
  },
  {
   "cell_type": "code",
   "execution_count": 300,
   "metadata": {},
   "outputs": [
    {
     "data": {
      "text/plain": [
       "<matplotlib.axes._subplots.AxesSubplot at 0x4192def0>"
      ]
     },
     "execution_count": 300,
     "metadata": {},
     "output_type": "execute_result"
    },
    {
     "data": {
      "image/png": "[encoded data removed]",
      "text/plain": [
       "<matplotlib.figure.Figure at 0x4192db00>"
      ]
     },
     "metadata": {},
     "output_type": "display_data"
    }
   ],
   "source": [
    "shoe.retailPrice.plot(kind='hist')"
   ]
  },
  {
   "cell_type": "code",
   "execution_count": 301,
   "metadata": {},
   "outputs": [
    {
     "data": {
      "text/html": [
       "<div>\n",
       "<table border=\"1\" class=\"dataframe\">\n",
       "  <thead>\n",
       "    <tr style=\"text-align: right;\">\n",
       "      <th></th>\n",
       "      <th>shoe</th>\n",
       "      <th>colorway</th>\n",
       "      <th>name</th>\n",
       "      <th>highestBid</th>\n",
       "      <th>year</th>\n",
       "    </tr>\n",
       "  </thead>\n",
       "  <tbody>\n",
       "    <tr>\n",
       "      <th>1274</th>\n",
       "      <td>Adidas Ultra Boost</td>\n",
       "      <td>Adidas-Ultra-Boost-Miami-Hurricanes</td>\n",
       "      <td>Miami Hurricanes</td>\n",
       "      <td>3037</td>\n",
       "      <td>2016.0</td>\n",
       "    </tr>\n",
       "    <tr>\n",
       "      <th>1275</th>\n",
       "      <td>Nike Air Max 90</td>\n",
       "      <td>White/White</td>\n",
       "      <td>Laser NYC</td>\n",
       "      <td>3037</td>\n",
       "      <td>2016.0</td>\n",
       "    </tr>\n",
       "  </tbody>\n",
       "</table>\n",
       "</div>"
      ],
      "text/plain": [
       "                    shoe                             colorway  \\\n",
       "1274  Adidas Ultra Boost  Adidas-Ultra-Boost-Miami-Hurricanes   \n",
       "1275     Nike Air Max 90                          White/White   \n",
       "\n",
       "                  name  highestBid    year  \n",
       "1274  Miami Hurricanes        3037  2016.0  \n",
       "1275         Laser NYC        3037  2016.0  "
      ]
     },
     "execution_count": 301,
     "metadata": {},
     "output_type": "execute_result"
    }
   ],
   "source": [
    "shoe[shoe.highestBid == shoe.highestBid.max()][['shoe', 'colorway', 'name', 'highestBid', 'year']]"
   ]
  },
  {
   "cell_type": "code",
   "execution_count": 320,
   "metadata": {},
   "outputs": [
    {
     "data": {
      "text/html": [
       "<div>\n",
       "<table border=\"1\" class=\"dataframe\">\n",
       "  <thead>\n",
       "    <tr style=\"text-align: right;\">\n",
       "      <th></th>\n",
       "      <th>shoe</th>\n",
       "      <th>colorway</th>\n",
       "      <th>name</th>\n",
       "      <th>retailPrice</th>\n",
       "      <th>year</th>\n",
       "    </tr>\n",
       "  </thead>\n",
       "  <tbody>\n",
       "    <tr>\n",
       "      <th>388</th>\n",
       "      <td>Nike HyperAdapt 1.0</td>\n",
       "      <td>Black/White-Blue Lagoon</td>\n",
       "      <td>Black</td>\n",
       "      <td>720.0</td>\n",
       "      <td>2016.0</td>\n",
       "    </tr>\n",
       "    <tr>\n",
       "      <th>758</th>\n",
       "      <td>Nike HyperAdapt 1.0</td>\n",
       "      <td>Metallic Silver/White-Black</td>\n",
       "      <td>Metallic Silver</td>\n",
       "      <td>720.0</td>\n",
       "      <td>2016.0</td>\n",
       "    </tr>\n",
       "  </tbody>\n",
       "</table>\n",
       "</div>"
      ],
      "text/plain": [
       "                    shoe                     colorway             name  \\\n",
       "388  Nike HyperAdapt 1.0      Black/White-Blue Lagoon            Black   \n",
       "758  Nike HyperAdapt 1.0  Metallic Silver/White-Black  Metallic Silver   \n",
       "\n",
       "     retailPrice    year  \n",
       "388        720.0  2016.0  \n",
       "758        720.0  2016.0  "
      ]
     },
     "execution_count": 320,
     "metadata": {},
     "output_type": "execute_result"
    }
   ],
   "source": [
    "shoe[shoe.retailPrice == shoe.retailPrice.max()][['shoe', 'colorway', 'name', 'retailPrice', 'year']]"
   ]
  },
  {
   "cell_type": "code",
   "execution_count": 333,
   "metadata": {},
   "outputs": [
    {
     "data": {
      "text/html": [
       "<div>\n",
       "<table border=\"1\" class=\"dataframe\">\n",
       "  <thead>\n",
       "    <tr style=\"text-align: right;\">\n",
       "      <th></th>\n",
       "      <th>brand</th>\n",
       "      <th>category</th>\n",
       "      <th>colorway</th>\n",
       "      <th>name</th>\n",
       "      <th>releaseDate</th>\n",
       "      <th>retailPrice</th>\n",
       "      <th>shoe</th>\n",
       "      <th>title</th>\n",
       "      <th>year</th>\n",
       "      <th>absChangePercentage</th>\n",
       "      <th>...</th>\n",
       "      <th>deadstockRangeHigh</th>\n",
       "      <th>deadstockRangeLow</th>\n",
       "      <th>deadstockSold</th>\n",
       "      <th>highestBid</th>\n",
       "      <th>lastSale</th>\n",
       "      <th>lastSaleDate</th>\n",
       "      <th>lowestAsk</th>\n",
       "      <th>salesLast72Hours</th>\n",
       "      <th>salesThisPeriod</th>\n",
       "      <th>volatility</th>\n",
       "    </tr>\n",
       "  </thead>\n",
       "  <tbody>\n",
       "    <tr>\n",
       "      <th>0</th>\n",
       "      <td>Adidas</td>\n",
       "      <td>adidas Yeezy</td>\n",
       "      <td>Core White/Core White/Core White</td>\n",
       "      <td>Calabasas Core White</td>\n",
       "      <td>2017-03-28 23:59:59</td>\n",
       "      <td>120.0</td>\n",
       "      <td>Adidas Yeezy Powerphase</td>\n",
       "      <td>Adidas Yeezy Powerphase Calabasas Core White</td>\n",
       "      <td>2017.0</td>\n",
       "      <td>0.093750</td>\n",
       "      <td>...</td>\n",
       "      <td>185</td>\n",
       "      <td>165</td>\n",
       "      <td>2749</td>\n",
       "      <td>229</td>\n",
       "      <td>175</td>\n",
       "      <td>2017-06-18T19:45:58+00:00</td>\n",
       "      <td>149</td>\n",
       "      <td>916</td>\n",
       "      <td>916</td>\n",
       "      <td>0.059055</td>\n",
       "    </tr>\n",
       "    <tr>\n",
       "      <th>1</th>\n",
       "      <td>Adidas</td>\n",
       "      <td>adidas NMD</td>\n",
       "      <td>Core Black/Core Black/Footwear White</td>\n",
       "      <td>OG Black</td>\n",
       "      <td>2017-05-20 23:59:59</td>\n",
       "      <td>150.0</td>\n",
       "      <td>Adidas NMD XR1</td>\n",
       "      <td>Adidas NMD XR1 OG Black</td>\n",
       "      <td>2017.0</td>\n",
       "      <td>0.086957</td>\n",
       "      <td>...</td>\n",
       "      <td>183</td>\n",
       "      <td>117</td>\n",
       "      <td>793</td>\n",
       "      <td>180</td>\n",
       "      <td>150</td>\n",
       "      <td>2017-06-18T16:03:09+00:00</td>\n",
       "      <td>149</td>\n",
       "      <td>133</td>\n",
       "      <td>133</td>\n",
       "      <td>0.217655</td>\n",
       "    </tr>\n",
       "  </tbody>\n",
       "</table>\n",
       "<p>2 rows × 26 columns</p>\n",
       "</div>"
      ],
      "text/plain": [
       "    brand      category                              colorway  \\\n",
       "0  Adidas  adidas Yeezy      Core White/Core White/Core White   \n",
       "1  Adidas    adidas NMD  Core Black/Core Black/Footwear White   \n",
       "\n",
       "                   name          releaseDate  retailPrice  \\\n",
       "0  Calabasas Core White  2017-03-28 23:59:59        120.0   \n",
       "1              OG Black  2017-05-20 23:59:59        150.0   \n",
       "\n",
       "                      shoe                                         title  \\\n",
       "0  Adidas Yeezy Powerphase  Adidas Yeezy Powerphase Calabasas Core White   \n",
       "1           Adidas NMD XR1                       Adidas NMD XR1 OG Black   \n",
       "\n",
       "     year  absChangePercentage     ...      deadstockRangeHigh  \\\n",
       "0  2017.0             0.093750     ...                     185   \n",
       "1  2017.0             0.086957     ...                     183   \n",
       "\n",
       "   deadstockRangeLow  deadstockSold  highestBid  lastSale  \\\n",
       "0                165           2749         229       175   \n",
       "1                117            793         180       150   \n",
       "\n",
       "                lastSaleDate  lowestAsk  salesLast72Hours  salesThisPeriod  \\\n",
       "0  2017-06-18T19:45:58+00:00        149               916              916   \n",
       "1  2017-06-18T16:03:09+00:00        149               133              133   \n",
       "\n",
       "   volatility  \n",
       "0    0.059055  \n",
       "1    0.217655  \n",
       "\n",
       "[2 rows x 26 columns]"
      ]
     },
     "execution_count": 333,
     "metadata": {},
     "output_type": "execute_result"
    }
   ],
   "source": [
    "shoe.head(2)"
   ]
  },
  {
   "cell_type": "code",
   "execution_count": 313,
   "metadata": {},
   "outputs": [],
   "source": [
    "tops = shoe[(shoe.brand=='Adidas')|(shoe.brand=='Nike')|(shoe.brand=='Jordan')]"
   ]
  },
  {
   "cell_type": "code",
   "execution_count": 318,
   "metadata": {},
   "outputs": [
    {
     "data": {
      "image/png": "[encoded data removed]",
      "text/plain": [
       "<matplotlib.figure.Figure at 0x423f45f8>"
      ]
     },
     "metadata": {},
     "output_type": "display_data"
    }
   ],
   "source": [
    "sns.set(font_scale=1.5)\n",
    "sns.lmplot(x='retailPrice', y ='lastSale', data=tops, hue='brand', fit_reg=False, size=9)\n",
    "plt.plot(np.linspace(0,700,700), np.linspace(0,700,700), linestyle='--')\n",
    "plt.show()"
   ]
  }
 ],
 "metadata": {
  "kernelspec": {
   "display_name": "Python 2",
   "language": "python",
   "name": "python2"
  },
  "language_info": {
   "codemirror_mode": {
    "name": "ipython",
    "version": 2
   },
   "file_extension": ".py",
   "mimetype": "text/x-python",
   "name": "python",
   "nbconvert_exporter": "python",
   "pygments_lexer": "ipython2",
   "version": "2.7.13"
  }
 },
 "nbformat": 4,
 "nbformat_minor": 2
}
