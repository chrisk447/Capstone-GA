{
 "cells": [
  {
   "cell_type": "markdown",
   "metadata": {},
   "source": [
    "# Capstone Project - Which Shoe is the Best for You?\n",
    "\n",
    "General Assembly passion project. Scrape or obtain data from resources online to develop a dataset to perform cleaning, EDA, and analysis on. Try to predict a model on common themes like: \n",
    "\n",
    "- Price\n",
    "- If item is in category A or B\n",
    "- Cluster and create groups\n",
    "- Recommender"
   ]
  },
  {
   "cell_type": "code",
   "execution_count": 1,
   "metadata": {
    "collapsed": true
   },
   "outputs": [],
   "source": [
    "# Import libraries\n",
    "import pandas as pd\n",
    "import numpy as np\n",
    "import urllib\n",
    "from bs4 import BeautifulSoup\n",
    "import requests\n",
    "from time import sleep, strftime"
   ]
  },
  {
   "cell_type": "markdown",
   "metadata": {},
   "source": [
    "**Testing one website and finding appropriate keys**\n",
    "\n",
    "Then run again on page 2."
   ]
  },
  {
   "cell_type": "code",
   "execution_count": 2,
   "metadata": {
    "collapsed": true
   },
   "outputs": [],
   "source": [
    "result = requests.get('https://stockx.com/api/browse?page=1&category=152')\n",
    "json_res = result.json()\n",
    "\n",
    "# print json_res['Products'][0]['shortDescription']\n",
    "# print json_res['Products'][0]['retailPrice']"
   ]
  },
  {
   "cell_type": "code",
   "execution_count": 3,
   "metadata": {},
   "outputs": [
    {
     "name": "stdout",
     "output_type": "stream",
     "text": [
      "Air-Jordan-1-Retro-Black-Blue-2017\n",
      "160\n"
     ]
    }
   ],
   "source": [
    "result = requests.get('https://stockx.com/api/browse?page=2&category=152')\n",
    "json_res = result.json()\n",
    "\n",
    "print json_res['Products'][0]['shortDescription']\n",
    "print json_res['Products'][0]['retailPrice']"
   ]
  },
  {
   "cell_type": "code",
   "execution_count": 4,
   "metadata": {},
   "outputs": [
    {
     "data": {
      "text/plain": [
       "{u'absChangePercentage': 0.023166,\n",
       " u'annualHigh': 500,\n",
       " u'annualLow': 229,\n",
       " u'averageDeadstockPrice': 297,\n",
       " u'averageDeadstockPriceRank': 32,\n",
       " u'changePercentage': 0.023166,\n",
       " u'changeValue': 6,\n",
       " u'createdAt': u'2017-01-17T00:28:26+00:00',\n",
       " u'deadstockRangeHigh': 275,\n",
       " u'deadstockRangeLow': 255,\n",
       " u'deadstockSold': 1336,\n",
       " u'deadstockSoldRank': 42,\n",
       " u'highestBid': 260,\n",
       " u'lastHighestBidTime': 1498157136,\n",
       " u'lastLowestAskTime': 1498152067,\n",
       " u'lastSale': 265,\n",
       " u'lastSaleDate': u'2017-06-22T22:33:22+00:00',\n",
       " u'lowestAsk': 259,\n",
       " u'pricePremium': 0.656,\n",
       " u'pricePremiumRank': 55,\n",
       " u'productId': 0,\n",
       " u'productUuid': u'a51561a1-ec03-47b2-9cdc-82b5b12f6771',\n",
       " u'salesLast72Hours': 36,\n",
       " u'salesLastPeriod': 0,\n",
       " u'salesThisPeriod': 36,\n",
       " u'skuUuid': None,\n",
       " u'updatedAt': 1498185118,\n",
       " u'volatility': 0.037959}"
      ]
     },
     "execution_count": 4,
     "metadata": {},
     "output_type": "execute_result"
    }
   ],
   "source": [
    "json_res['Products'][0]['market']"
   ]
  },
  {
   "cell_type": "markdown",
   "metadata": {},
   "source": [
    "### Functions to run for loop to scrape website\n",
    "\n",
    "First function scrapes the web for an amount of pages (default 50). It will save the raw data as a csv as well. The second function will then clean the dataframe by taking out the unused columns."
   ]
  },
  {
   "cell_type": "code",
   "execution_count": 5,
   "metadata": {
    "collapsed": true
   },
   "outputs": [],
   "source": [
    "def shoe_scraper(pages=50):\n",
    "    '''Returns one dataframe of all results. \n",
    "    And will save into a new file.'''\n",
    "    \n",
    "    # Have to run requests first to get appropriate column names\n",
    "    req = requests.get('https://stockx.com/api/browse?page=1&category=152')\n",
    "    json_req = req.json()\n",
    "    df = pd.DataFrame([], columns=json_req['Products'][0].keys())\n",
    "\n",
    "    for i in range(1,pages):\n",
    "        try:\n",
    "            html = 'https://stockx.com/api/browse?page=' + str(int(i)) + '&category=152'\n",
    "            result = requests.get(html)\n",
    "            json_res = result.json()\n",
    "            df = pd.concat([df, pd.DataFrame(json_res['Products'])])\n",
    "            sleep(0.5)\n",
    "        except:\n",
    "            break\n",
    "    \n",
    "    # Drop row duplicates\n",
    "    df.drop_duplicates(['shortDescription', 'urlKey'], inplace=True) \n",
    "    \n",
    "    # Function to save as csv file under today's day as raw (before dropping)\n",
    "    def csv_maker(df):\n",
    "        filename = 'StockX_' + strftime(\"%m%d%H\")\n",
    "        df.to_csv(path_or_buf='C:\\\\Users\\\\Chris\\\\Desktop\\\\dsi-atl-3\\\\project\\\\Capstone\\\\datasets\\\\' + filename, encoding='utf-8')\n",
    "    \n",
    "    csv_maker(df)\n",
    "    \n",
    "    return df"
   ]
  },
  {
   "cell_type": "code",
   "execution_count": 6,
   "metadata": {
    "collapsed": true
   },
   "outputs": [],
   "source": [
    "def clean_df(busy_dataframe):\n",
    "    '''Dropping columns that hold little to no information.\n",
    "    Then reset the index since we are getting repeated indices'''\n",
    "    \n",
    "    # Market DataFrame\n",
    "    market_df = pd.DataFrame([row for row in busy_dataframe['market']])\n",
    "    \n",
    "    \n",
    "    # Drop unnecessary columns\n",
    "    cleaner_dataframe = busy_dataframe.join(market_df)\n",
    "    \n",
    "    cleanest_dataframe = cleaner_dataframe.drop(['breadcrumbs', 'childId', 'countryOfManufacture', 'type', \n",
    "        'uuid', 'dataType', 'doppelgangers', 'condition', 'description', 'hidden', 'ipoDate', 'productCategory', \n",
    "        'shoeSize', 'urlKey', 'charityCondition', 'releaseTime', 'shortDescription', 'media', '_highlightResult', \n",
    "        'market', '_tags', 'id', 'objectID', 'lastHighestBidTime', 'lastLowestAskTime', 'styleId', 'productId',\n",
    "        'productUuid', 'skuUuid', 'updatedAt', 'title', 'traits', 'tickerSymbol', 'salesLastPeriod'], axis=1)\n",
    "    \n",
    "    # Remember title = shoe + name\n",
    "\n",
    "    # Reset the index, since we are getting repeated indices\n",
    "    cleanest_dataframe.reset_index(drop=True, inplace=True)\n",
    "    return cleanest_dataframe"
   ]
  },
  {
   "cell_type": "code",
   "execution_count": 7,
   "metadata": {
    "collapsed": true
   },
   "outputs": [],
   "source": [
    "scraped_shoe = shoe_scraper()"
   ]
  }
 ],
 "metadata": {
  "kernelspec": {
   "display_name": "Python 2",
   "language": "python",
   "name": "python2"
  },
  "language_info": {
   "codemirror_mode": {
    "name": "ipython",
    "version": 2
   },
   "file_extension": ".py",
   "mimetype": "text/x-python",
   "name": "python",
   "nbconvert_exporter": "python",
   "pygments_lexer": "ipython2",
   "version": "2.7.13"
  }
 },
 "nbformat": 4,
 "nbformat_minor": 2
}
